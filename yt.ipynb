{
 "cells": [
  {
   "cell_type": "markdown",
   "metadata": {},
   "source": [
    "### Installing dependencies"
   ]
  },
  {
   "cell_type": "code",
   "execution_count": 4,
   "metadata": {},
   "outputs": [
    {
     "name": "stdout",
     "output_type": "stream",
     "text": [
      "Requirement already satisfied: pandas in d:\\anaconda\\lib\\site-packages (0.24.2)\n",
      "Requirement already satisfied: python-dateutil>=2.5.0 in d:\\anaconda\\lib\\site-packages (from pandas) (2.8.0)\n",
      "Requirement already satisfied: pytz>=2011k in d:\\anaconda\\lib\\site-packages (from pandas) (2018.9)\n",
      "Requirement already satisfied: numpy>=1.12.0 in d:\\anaconda\\lib\\site-packages (from pandas) (1.16.2)\n",
      "Requirement already satisfied: six>=1.5 in d:\\anaconda\\lib\\site-packages (from python-dateutil>=2.5.0->pandas) (1.12.0)\n",
      "Requirement already satisfied: numpy in d:\\anaconda\\lib\\site-packages (1.16.2)\n",
      "Collecting bs4\n",
      "  Using cached https://files.pythonhosted.org/packages/10/ed/7e8b97591f6f456174139ec089c769f89a94a1a4025fe967691de971f314/bs4-0.0.1.tar.gz\n",
      "Requirement already satisfied: beautifulsoup4 in d:\\anaconda\\lib\\site-packages (from bs4) (4.7.1)\n",
      "Requirement already satisfied: soupsieve>=1.2 in d:\\anaconda\\lib\\site-packages (from beautifulsoup4->bs4) (1.8)\n",
      "Building wheels for collected packages: bs4\n",
      "  Building wheel for bs4 (setup.py): started\n",
      "  Building wheel for bs4 (setup.py): finished with status 'done'\n",
      "  Stored in directory: C:\\Users\\Viraj\\AppData\\Local\\pip\\Cache\\wheels\\a0\\b0\\b2\\4f80b9456b87abedbc0bf2d52235414c3467d8889be38dd472\n",
      "Successfully built bs4\n",
      "Installing collected packages: bs4\n",
      "Successfully installed bs4-0.0.1\n",
      "Collecting datetime\n",
      "  Downloading https://files.pythonhosted.org/packages/73/22/a5297f3a1f92468cc737f8ce7ba6e5f245fcfafeae810ba37bd1039ea01c/DateTime-4.3-py2.py3-none-any.whl (60kB)\n",
      "Requirement already satisfied: pytz in d:\\anaconda\\lib\\site-packages (from datetime) (2018.9)\n",
      "Collecting zope.interface (from datetime)\n",
      "  Downloading https://files.pythonhosted.org/packages/3f/f9/af181babed312b9e21271dbfd7ec0815f822a12aaa2fe472d98e62e5bac3/zope.interface-5.1.0-cp37-cp37m-win_amd64.whl (194kB)\n",
      "Requirement already satisfied: setuptools in d:\\anaconda\\lib\\site-packages (from zope.interface->datetime) (40.8.0)\n",
      "Installing collected packages: zope.interface, datetime\n",
      "Successfully installed datetime-4.3 zope.interface-5.1.0\n",
      "Requirement already satisfied: selenium in d:\\anaconda\\lib\\site-packages (3.141.0)\n",
      "Requirement already satisfied: urllib3 in d:\\anaconda\\lib\\site-packages (from selenium) (1.24.1)\n",
      "Requirement already satisfied: nltk in d:\\anaconda\\lib\\site-packages (3.4)\n",
      "Requirement already satisfied: six in d:\\anaconda\\lib\\site-packages (from nltk) (1.12.0)\n",
      "Requirement already satisfied: singledispatch in d:\\anaconda\\lib\\site-packages (from nltk) (3.4.0.3)\n",
      "Requirement already satisfied: textblob in d:\\anaconda\\lib\\site-packages (0.15.3)\n",
      "Requirement already satisfied: nltk>=3.1 in d:\\anaconda\\lib\\site-packages (from textblob) (3.4)\n",
      "Requirement already satisfied: six in d:\\anaconda\\lib\\site-packages (from nltk>=3.1->textblob) (1.12.0)\n",
      "Requirement already satisfied: singledispatch in d:\\anaconda\\lib\\site-packages (from nltk>=3.1->textblob) (3.4.0.3)\n",
      "Requirement already satisfied: lxml in d:\\anaconda\\lib\\site-packages (4.3.2)\n",
      "Collecting plotly\n",
      "  Downloading https://files.pythonhosted.org/packages/15/90/918bccb0ca60dc6d126d921e2c67126d75949f5da777e6b18c51fb12603d/plotly-4.6.0-py2.py3-none-any.whl (7.1MB)\n",
      "Collecting retrying>=1.3.3 (from plotly)\n",
      "  Downloading https://files.pythonhosted.org/packages/44/ef/beae4b4ef80902f22e3af073397f079c96969c69b2c7d52a57ea9ae61c9d/retrying-1.3.3.tar.gz\n",
      "Requirement already satisfied: six in d:\\anaconda\\lib\\site-packages (from plotly) (1.12.0)\n",
      "Building wheels for collected packages: retrying\n",
      "  Building wheel for retrying (setup.py): started\n",
      "  Building wheel for retrying (setup.py): finished with status 'done'\n",
      "  Stored in directory: C:\\Users\\Viraj\\AppData\\Local\\pip\\Cache\\wheels\\d7\\a9\\33\\acc7b709e2a35caa7d4cae442f6fe6fbf2c43f80823d46460c\n",
      "Successfully built retrying\n",
      "Installing collected packages: retrying, plotly\n",
      "Successfully installed plotly-4.6.0 retrying-1.3.3\n"
     ]
    }
   ],
   "source": [
    "import sys\n",
    "!{sys.executable} -m pip install pandas\n",
    "!{sys.executable} -m pip install numpy\n",
    "!{sys.executable} -m pip install bs4\n",
    "!{sys.executable} -m pip install datetime\n",
    "!{sys.executable} -m pip install selenium\n",
    "!{sys.executable} -m pip install nltk\n",
    "!{sys.executable} -m pip install textblob\n",
    "!{sys.executable} -m pip install lxml\n",
    "!{sys.executable} -m pip install plotly"
   ]
  },
  {
   "cell_type": "markdown",
   "metadata": {},
   "source": [
    "# ---------------------------------------------------------------"
   ]
  },
  {
   "cell_type": "markdown",
   "metadata": {},
   "source": [
    "# Main Code \n",
    "Will take atleast 10 mins"
   ]
  },
  {
   "cell_type": "code",
   "execution_count": 1,
   "metadata": {
    "scrolled": true
   },
   "outputs": [
    {
     "name": "stdout",
     "output_type": "stream",
     "text": [
      "How many Links would you like to print? 10\n",
      "Enter title: Python\n",
      "Enter description: Numpy\n",
      "python numpy \n",
      "['python', 'numpy', '']\n",
      "Scraping search results for the keyword: python numpy  \n",
      "https://www.youtube.com/watch?v=8JfDAm9y_7s:  5.99\n",
      "1\n",
      "https://www.youtube.com/watch?v=QUT1VHiLmmI:  5.76\n",
      "2\n",
      "https://www.youtube.com/watch?v=xECXZ3tyONo:  5.24\n",
      "3\n",
      "https://www.youtube.com/watch?v=GB9ByFAIAH4:  6.26\n",
      "4\n",
      "https://www.youtube.com/watch?v=8LlXhtfNZEQ:  5.89\n",
      "5\n",
      "https://www.youtube.com/watch?v=Rbh1rieb3zc:  5.16\n",
      "6\n",
      "https://www.youtube.com/watch?v=ZB7BZMhfPgk:  5.35\n",
      "7\n",
      "https://www.youtube.com/watch?v=8Mpc9ukltVA:  5.52\n",
      "8\n",
      "https://www.youtube.com/watch?v=DI8wg3SRV90:  4.81\n",
      "9\n",
      "https://www.youtube.com/watch?v=pP5dQG0foTs:  4.83\n",
      "10\n",
      "https://www.youtube.com/watch?v=NYPKbmE0H6E:  5.78\n",
      "11\n",
      "https://www.youtube.com/watch?v=mOZ0UCeuRX4:  5.24\n",
      "12\n",
      "https://www.youtube.com/watch?v=jPEUXkW-DRE:  5.11\n",
      "13\n",
      "https://www.youtube.com/watch?v=oE4KeuVNqcQ:  5.36\n",
      "14\n",
      "https://www.youtube.com/watch?v=_d_Ka-ks2a0:  5.43\n",
      "15\n",
      "https://www.youtube.com/watch?v=a8aDcLk4vRc:  5.44\n",
      "16\n",
      "https://www.youtube.com/watch?v=0t6FRh0Pmtw:  5.03\n",
      "17\n",
      "https://www.youtube.com/watch?v=poD8ud4MxOY:  4.99\n",
      "18\n",
      "https://www.youtube.com/watch?v=maNB_H2TnsY:  4.68\n",
      "19\n",
      "https://www.youtube.com/watch?v=vfBRleigfR8:  5.21\n",
      "20\n",
      "https://www.youtube.com/watch?v=2Y6aMjBYPww:  4.85\n",
      "21\n",
      "https://www.youtube.com/watch?v=XI6PHo_gP4E:  5.19\n",
      "22\n",
      "https://www.youtube.com/watch?v=jbIQxQjlIWg:  5.05\n",
      "23\n",
      "https://www.youtube.com/watch?v=vRRifcvGCkA:  5.14\n",
      "24\n",
      "https://www.youtube.com/watch?v=S3srAo52rZI:  0.03\n",
      "25\n",
      "https://www.youtube.com/watch?v=YFW4EoVBYhM:  4.91\n",
      "26\n",
      "https://www.youtube.com/watch?v=x06nL__ECpg:  4.75\n",
      "27\n",
      "https://www.youtube.com/watch?v=0u9OzBSRZec:  5.13\n",
      "28\n",
      "https://www.youtube.com/watch?v=qx70kifeRC8:  4.96\n",
      "29\n",
      "https://www.youtube.com/watch?v=6znKTzhZ3FA:  5.17\n",
      "30\n",
      "https://www.youtube.com/watch?v=rnw1qixAv1s:  5.14\n",
      "31\n",
      "https://www.youtube.com/watch?v=r-uOLxNrNk8:  6.98\n",
      "32\n",
      "https://www.youtube.com/watch?v=rNMFtbWmbhE:  5.03\n",
      "33\n",
      "https://www.youtube.com/watch?v=6Z98UzGc-Us:  5.00\n",
      "34\n",
      "https://www.youtube.com/watch?v=cYugp9IN1-Q:  5.06\n",
      "35\n",
      "https://www.youtube.com/watch?v=Vk7foZ_hdZQ:  4.97\n",
      "36\n",
      "https://www.youtube.com/watch?v=NpG8980kYEM:  5.06\n",
      "37\n",
      "https://www.youtube.com/watch?v=2WTDrSkQBng:  5.04\n",
      "38\n",
      "https://www.youtube.com/watch?v=9bHtS2tTLjI:  4.89\n",
      "39\n",
      "https://www.youtube.com/watch?v=rpmp_-Xq0kU:  4.93\n",
      "40\n",
      "https://www.youtube.com/watch?v=lzmCGZ_BF_4:  5.18\n",
      "41\n",
      "https://www.youtube.com/watch?v=NzDQTrqsxas:  5.25\n",
      "42\n",
      "https://www.youtube.com/watch?v=MOM6MxcROjw:  0.03\n",
      "43\n",
      "https://www.youtube.com/watch?v=RwFiNlL4Q8g:  5.25\n",
      "44\n",
      "https://www.youtube.com/watch?v=mshyx9uVvEE:  4.98\n",
      "45\n",
      "https://www.youtube.com/watch?v=CC4aco6zWic:  5.18\n",
      "46\n",
      "https://www.youtube.com/watch?v=cAmkgMnKx34:  4.84\n",
      "47\n",
      "https://www.youtube.com/watch?v=5vT553CSxas:  5.18\n",
      "48\n",
      "https://www.youtube.com/watch?v=VJBY2eVtf7o:  5.22\n",
      "49\n",
      "https://www.youtube.com/watch?v=yOTPfKPuZ8U:  5.18\n",
      "50\n",
      "https://www.youtube.com/watch?v=WxJr143Os-A:  5.28\n",
      "51\n",
      "https://www.youtube.com/watch?v=cg8P0NSe8Ew:  5.13\n",
      "52\n",
      "https://www.youtube.com/watch?v=Ti-uDPHG6OM:  4.25\n",
      "53\n",
      "https://www.youtube.com/watch?v=alvNcKgMuA8:  5.05\n",
      "54\n",
      "https://www.youtube.com/watch?v=kbBi1liIrFg:  5.37\n",
      "55\n",
      "https://www.youtube.com/watch?v=bFv66_RXLb4:  5.09\n",
      "56\n",
      "https://www.youtube.com/watch?v=zvkNBeoCwA0:  5.06\n",
      "57\n",
      "https://www.youtube.com/watch?v=97o5ckUHDmo:  5.06\n",
      "58\n",
      "https://www.youtube.com/watch?v=vIz6X87uCnM:  4.76\n",
      "59\n",
      "                                           Link  \\\n",
      "31  https://www.youtube.com/watch?v=r-uOLxNrNk8   \n",
      "3   https://www.youtube.com/watch?v=GB9ByFAIAH4   \n",
      "0   https://www.youtube.com/watch?v=8JfDAm9y_7s   \n",
      "4   https://www.youtube.com/watch?v=8LlXhtfNZEQ   \n",
      "10  https://www.youtube.com/watch?v=NYPKbmE0H6E   \n",
      "1   https://www.youtube.com/watch?v=QUT1VHiLmmI   \n",
      "7   https://www.youtube.com/watch?v=8Mpc9ukltVA   \n",
      "15  https://www.youtube.com/watch?v=a8aDcLk4vRc   \n",
      "14  https://www.youtube.com/watch?v=_d_Ka-ks2a0   \n",
      "54  https://www.youtube.com/watch?v=kbBi1liIrFg   \n",
      "\n",
      "                                                Title  \\\n",
      "31  Data Analysis with Python - Full Course for Be...   \n",
      "3   Complete Python NumPy Tutorial (Creating Array...   \n",
      "0   Python NumPy Tutorial | NumPy Array | Python T...   \n",
      "4   #28 Python Tutorial for Beginners | Why Numpy?...   \n",
      "10  #29 Python Tutorial for Beginners | Ways of Cr...   \n",
      "1                 Python NumPy Tutorial for Beginners   \n",
      "7    Python: NUMPY | Numerical Python Arrays Tutorial   \n",
      "15            numpy tutorial - basic array operations   \n",
      "14  numpy tutorial - slicing/stacking arrays, inde...   \n",
      "54             NumPy Linear Algebra - Dr. Ahmad Bazzi   \n",
      "\n",
      "                                                  URL   Views   Likes  \\\n",
      "31  https://i.ytimg.com/vi_webp/r-uOLxNrNk8/maxres...   96780  3600.0   \n",
      "3   https://i.ytimg.com/vi_webp/IBiWRWJJE1E/maxres...  189730  6000.0   \n",
      "0   https://i.ytimg.com/vi_webp/8JfDAm9y_7s/maxres...  354670  3800.0   \n",
      "4   https://i.ytimg.com/vi_webp/IBiWRWJJE1E/maxres...  230952  2700.0   \n",
      "10  https://i.ytimg.com/vi_webp/NYPKbmE0H6E/maxres...  184272  1900.0   \n",
      "1   https://i.ytimg.com/vi_webp/QUT1VHiLmmI/maxres...  102161  2900.0   \n",
      "7   https://i.ytimg.com/vi_webp/8Mpc9ukltVA/maxres...   89764  1700.0   \n",
      "15  https://i.ytimg.com/vi_webp/a8aDcLk4vRc/maxres...  102579  1100.0   \n",
      "14  https://i.ytimg.com/vi_webp/_d_Ka-ks2a0/maxres...   68889  1400.0   \n",
      "54  https://i.ytimg.com/vi_webp/kbBi1liIrFg/maxres...   19588  1700.0   \n",
      "\n",
      "   Dislikes   Subcount         Date  Days     Score  \n",
      "31       36  1910000.0  Apr 15 2020    20  6.981660  \n",
      "3        68    45400.0  Jul 10 2019   300  6.260659  \n",
      "0       219  1660000.0  Apr 11 2017  1120  5.994252  \n",
      "4        81   927000.0  Jul 20 2018   655  5.891865  \n",
      "10       40   927000.0  Jul 22 2018   653  5.778688  \n",
      "1        19  1910000.0   Aug 7 2019   272  5.756283  \n",
      "7        20    47900.0  Jun 10 2018   695  5.523309  \n",
      "15       25   107000.0  Dec 26 2016  1226  5.436728  \n",
      "14       16   107000.0  Dec 27 2016  1225  5.426186  \n",
      "54        4    28800.0  Sep 13 2018   600  5.366389  \n"
     ]
    }
   ],
   "source": [
    "\"\"\"\n",
    "This code was written by Viraj Shetty and Arjun Praveen!\n",
    "\"\"\"\n",
    "import pandas as pd\n",
    "import time\n",
    "import operator\n",
    "import bs4 as bs\n",
    "import datetime\n",
    "from bs4 import BeautifulSoup\n",
    "import urllib.request\n",
    "from urllib.request import urlopen\n",
    "from selenium import webdriver\n",
    "from selenium.webdriver.common.by import By\n",
    "from selenium.webdriver.support import expected_conditions as EC\n",
    "from selenium.webdriver.support.ui import WebDriverWait\n",
    "from selenium.webdriver.common.keys import Keys\n",
    "from selenium.webdriver.firefox.options import Options\n",
    "from datetime import date\n",
    "from textblob import TextBlob\n",
    "\n",
    "\"\"\"\n",
    "This little piece of code is added to make the webdriver run silently\n",
    "Generally when you use WebDriver in Selenium it opens a new window\n",
    "If you have automated some functions you can also see those functions happening live\n",
    "To avoid it use this option called \"headless\" which does all this in the background\n",
    "\n",
    "Web Driver object creation\n",
    "Note: Before importing Selenium Webdriver\n",
    "    Make sure you have a webdriver application installed in the same directory\n",
    "    \n",
    "    For Mozzilla\n",
    "    >https://github.com/mozilla/geckodriver/releases\n",
    "    \n",
    "    For Chrome\n",
    "    >https://chromedriver.chromium.org/downloads\n",
    "\"\"\"\n",
    "options = Options()\n",
    "options.headless = True\n",
    "browser = webdriver.Firefox(options = options)\n",
    "\n",
    "\n",
    "# This function tokenizes the entered keywords\n",
    "\n",
    "def tokenizer(l_t, l_d):\n",
    "    v = TextBlob(l_t)\n",
    "    w = TextBlob(l_d)\n",
    "    a = v.noun_phrases\n",
    "    b = w.noun_phrases\n",
    "    c = a + b\n",
    "    d = \"\"\n",
    "    for i in c:\n",
    "        d = d + i + \" \"\n",
    "    print(d)\n",
    "    return d\n",
    "\n",
    "# Function for extracting number of days since the video has been uploaded\n",
    "\n",
    "def number_of_days(v_date):\n",
    "    today = date.today()\n",
    "    month = {\n",
    "             \"Jan\" : 1,\n",
    "             \"Feb\" : 2,\n",
    "             \"Mar\" : 3,\n",
    "             \"Apr\" : 4,\n",
    "             \"May\" : 5,\n",
    "             \"Jun\" : 6,\n",
    "             \"Jul\" : 7,\n",
    "             \"Aug\" : 8,\n",
    "             \"Sep\" : 9,\n",
    "             \"Oct\" : 10,\n",
    "             \"Nov\" : 11,\n",
    "             \"Dec\" : 12\n",
    "            }\n",
    "    v=v_date.split(\" \")\n",
    "    v_year = int(v[2])\n",
    "    v_month = int(month[v[0]])\n",
    "    v_day = int(v[1])\n",
    "    v_date = date(v_year,v_month,v_day)\n",
    "    time = abs(today - v_date)\n",
    "    return time.days\n",
    "\n",
    "def search():\n",
    "    \n",
    "    keyword = input(\"Enter title: \")\n",
    "    \n",
    "    description = input(\"Enter description: \")  \n",
    "    \n",
    "    keysearch = tokenizer(keyword, description)\n",
    "    keysearch_list = keysearch.split(\" \")\n",
    "    key = []\n",
    "    for j in keysearch_list:\n",
    "        if j not in key:\n",
    "            key.append(j)\n",
    "    print(key)\n",
    "    keysearch = \"\"\n",
    "    for k in key:\n",
    "        keysearch = keysearch + k + \" \"\n",
    "    print(\"Scraping search results for the keyword: \" + keysearch)\n",
    "    \n",
    "    tag_list = keysearch.split(\" \")\n",
    "    browser = webdriver.Firefox()\n",
    "    browser.get(f'https://www.youtube.com/results?search_query={keysearch}&sp=EgIQAQ%253D%253D')\n",
    "    browser.maximize_window()\n",
    "\n",
    "    \"\"\"\n",
    "    Please note here you need to use an Adblock to avoid advertisement videos to be a part of your list\n",
    "    Add the filepath to your .xpi file\n",
    "    \"\"\"\n",
    "    extension = \"{your }\" \n",
    "    #browser.install_addon(extension, temporary = True)\n",
    "\n",
    "    # Change value of While Loop to scroll more pages\n",
    "    i=0\n",
    "    while i<=1:\n",
    "        html = browser.find_element_by_tag_name('html')\n",
    "        '''\n",
    "        The code in the next line takes the page to end. Since in YouTube if you want more\n",
    "        videos to load, you have to scroll down to the end of the page\n",
    "        '''\n",
    "        html.send_keys(Keys.END)\n",
    "        time.sleep(3)\n",
    "        i+=1\n",
    "        \n",
    "    v_l = browser.find_elements_by_xpath('//*[@id=\"video-title\"]')\n",
    "    link = []\n",
    "    for i in v_l:\n",
    "        link.append(i.get_attribute('href'))\n",
    "        \n",
    "    #print(link) \n",
    "    wait = WebDriverWait(browser,15)\n",
    "    df = pd.DataFrame(columns = ['Link','Title','URL','Views','Likes','Dislikes','Subcount','Date','Days','Score'])\n",
    "    k=0\n",
    "    for x in link:\n",
    "        try:\n",
    "            i = 0\n",
    "            browser.get(x)\n",
    "            time.sleep(3)\n",
    "            v_link = x\n",
    "            v_title = wait.until(EC.presence_of_element_located((By.XPATH,'//h1[@class=\"title style-scope ytd-video-primary-info-renderer\"]'))).text\n",
    "            v_views = wait.until(EC.presence_of_element_located((By.XPATH,'/html/body/ytd-app/div/ytd-page-manager/ytd-watch-flexy/div[4]/div[1]/div/div[5]/div[2]/ytd-video-primary-info-renderer/div/div/div[1]/div[1]/yt-view-count-renderer/span[1]'))).text\n",
    "            try:    \n",
    "                v_views = int(v_views.strip(' views').replace(',', '', 2))\n",
    "            except:\n",
    "                v_views = 1\n",
    "            v_likes = wait.until(EC.presence_of_element_located((By.CSS_SELECTOR,'ytd-toggle-button-renderer.ytd-menu-renderer:nth-child(1) > a:nth-child(1) > yt-formatted-string:nth-child(2)'))).text\n",
    "            v_dislikes = wait.until(EC.presence_of_element_located((By.CSS_SELECTOR,'ytd-toggle-button-renderer.style-scope:nth-child(2) > a:nth-child(1) > yt-formatted-string:nth-child(2)'))).text\n",
    "            \n",
    "            #if (v_likes == 0 & v_dislikes == 0):\n",
    "                #v_like_dislike = 0\n",
    "            \n",
    "            #Likes\n",
    "            try:\n",
    "                if (operator.contains(v_likes,'K')):\n",
    "                    if(operator.contains(v_likes,'.')):\n",
    "                        pos = len(v_likes)-v_likes.find('.')-1 #length from the end\n",
    "                        a1 = v_likes.replace('.', '', 1)\n",
    "                        num = (int(a1[:len(a1)-1])*1000)/(10**(pos-1))\n",
    "                        v_likes = num\n",
    "                    else:\n",
    "                        v_likes=int(v_likes[ :len(v_likes)-1])*(1000)\n",
    "                elif operator.contains(v_likes,'M'):\n",
    "                    if(operator.contains(v_likes,'.')):\n",
    "                        pos = len(v_likes)-v_likes.find('.')-1 #length from the end\n",
    "                        a1 = v_likes.replace('.', '', 1)\n",
    "                        num = (int(a1[:len(a1)-1])*1000000)/(10**(pos-1))\n",
    "                        v_likes = num\n",
    "                    else:\n",
    "                        v_likes=int(v_likes[ :len(v_likes)-1])*(1000000)\n",
    "                else:\n",
    "                    v_likes = int(v_likes)\n",
    "            except:\n",
    "                v_likes = 1\n",
    "\n",
    "            #Dislikes\n",
    "            try:\n",
    "                if (operator.contains(v_dislikes,'K')):\n",
    "                    if(operator.contains(v_dislikes,'.')):\n",
    "                        pos = len(v_dislikes)-v_dislikes.find('.')-1 #length from the end\n",
    "                        a1 = v_dislikes.replace('.', '', 1)\n",
    "                        num = (int(a1[:len(a1)-1])*1000)/(10**(pos-1))\n",
    "                        v_dislikes = num\n",
    "                    else:\n",
    "                        v_dislikes=int(v_dislikes[ :len(v_dislikes)-1])*(1000)\n",
    "                elif operator.contains(v_dislikes,'M'):\n",
    "                    if(operator.contains(v_dislikes,'.')):\n",
    "                        pos = len(v_dislikes)-v_dislikes.find('.')-1 #length from the end\n",
    "                        a1 = v_dislikes.replace('.', '', 1)\n",
    "                        num = (int(a1[:len(a1)-1])*1000000)/(10**(pos-1))\n",
    "                        v_dislikes = num\n",
    "                    else:\n",
    "                        v_dislikes=int(v_dislikes[ :len(v_dislikes)-1])*(1000000)\n",
    "                else:\n",
    "                    v_dislikes = int(v_dislikes)\n",
    "            except:\n",
    "                v_dislikes = 1\n",
    "            \n",
    "            v_like_dislike = ((v_likes-v_dislikes)/v_likes)\n",
    "            \n",
    "            v_subcount = wait.until(EC.presence_of_element_located((By.XPATH,'//*[@id=\"owner-sub-count\"]'))).text\n",
    "            v_subcount = v_subcount.strip(\" subscribers\")\n",
    "            try:\n",
    "                if operator.contains(v_subcount,'M'):\n",
    "                    if(operator.contains(v_subcount,'.')):\n",
    "                        pos = len(v_subcount)-v_subcount.find('.')-1 #length from the end\n",
    "                        a1 = v_subcount.replace('.', '', 1)\n",
    "                        num = (int(a1[:len(a1)-1])*1000000)/(10**(pos-1))\n",
    "                        v_subcount = num\n",
    "                    else:\n",
    "                        v_subcount=int(v_subcount[ :len(v_subcount)-1])*(1000000)\n",
    "                elif operator.contains(v_subcount,'K'):\n",
    "                    if(operator.contains(v_subcount,'.')):\n",
    "                        pos = len(v_subcount)-v_subcount.find('.')-1 #length from the end\n",
    "                        a1 = v_subcount.replace('.', '', 1)\n",
    "                        num = (int(a1[:len(a1)-1])*1000)/(10**(pos-1))\n",
    "                        v_subcount = num\n",
    "                    else:\n",
    "                        v_subcount = int(v_subcount[ :len(v_subcount)-1])*(1000)\n",
    "                else:\n",
    "                    v_subcount = int(float(v_subcount))\n",
    "            except:\n",
    "                v_subcount = 1\n",
    "            v_urls = browser.find_elements_by_xpath('//div[@class=\"ytp-cued-thumbnail-overlay-image\"]')\n",
    "            for i in v_urls:\n",
    "                v_url=i.get_attribute('style')[23:-3]\n",
    "                break\n",
    "            v_date = browser.find_element_by_xpath(\"//div[@id='date']\").text\n",
    "            if(operator.contains(v_date,'Premiered')):\n",
    "                v_date = v_date[10:]\n",
    "            elif(operator.contains(v_date,'Streamed live on')):\n",
    "                v_date = v_date[17:]\n",
    "\n",
    "            v_date = v_date[1:].replace(\",\",\"\",1)\n",
    "            v_days = number_of_days(v_date)\n",
    "            url = x\n",
    "            co =0\n",
    "\n",
    "            \n",
    "            # Score formula\n",
    "            try:\n",
    "                v_score = (((70*v_views)/700000) + (50*(v_likes/19000)) - (20*(v_dislikes/370)) + (160*v_like_dislike) +(20*(v_views/v_days)/7000)+(30*(v_likes/v_days)/200))/31\n",
    "            except:\n",
    "                v_days = 1\n",
    "                v_likes = 1\n",
    "                v_score = (((70*v_views)/700000) + (50*(v_likes/19000)) - (20*(v_dislikes/370)) + (160*v_like_dislike)+(20*(v_views/v_days)/7000)+(30*(v_likes/v_days)/200) )/31\n",
    "            \n",
    "            \n",
    "            print('{}:  {:.2f}'.format(url, v_score))\n",
    "\n",
    "            \n",
    "            df.loc[len(df)] = [v_link,v_title,v_url,v_views,v_likes,v_dislikes,v_subcount,v_date,v_days,v_score]\n",
    "            k\n",
    "            k+=1\n",
    "            print(k)\n",
    "        #Exception added since some YouTube ads bypass the adblock\n",
    "        except Exception as e:\n",
    "            #print(e)\n",
    "            continue\n",
    "    #df = df.sort_values(by='Score', ascending = 0)\n",
    "    return df\n",
    "    browser.close()\n",
    "\n",
    "n = int(input(\"How many Links would you like to print? \"))\n",
    "df1 = search()\n",
    "df = df1.nlargest(n,'Score')\n",
    "print(df)"
   ]
  },
  {
   "cell_type": "markdown",
   "metadata": {},
   "source": [
    "# ---------------------------------------------------------------"
   ]
  },
  {
   "cell_type": "markdown",
   "metadata": {},
   "source": [
    "## Final Output"
   ]
  },
  {
   "cell_type": "code",
   "execution_count": 54,
   "metadata": {},
   "outputs": [
    {
     "name": "stdout",
     "output_type": "stream",
     "text": [
      "Top 10 links: \n",
      "------------------\n",
      "                                           Link  \\\n",
      "31  https://www.youtube.com/watch?v=r-uOLxNrNk8   \n",
      "3   https://www.youtube.com/watch?v=GB9ByFAIAH4   \n",
      "0   https://www.youtube.com/watch?v=8JfDAm9y_7s   \n",
      "4   https://www.youtube.com/watch?v=8LlXhtfNZEQ   \n",
      "10  https://www.youtube.com/watch?v=NYPKbmE0H6E   \n",
      "1   https://www.youtube.com/watch?v=QUT1VHiLmmI   \n",
      "7   https://www.youtube.com/watch?v=8Mpc9ukltVA   \n",
      "15  https://www.youtube.com/watch?v=a8aDcLk4vRc   \n",
      "14  https://www.youtube.com/watch?v=_d_Ka-ks2a0   \n",
      "54  https://www.youtube.com/watch?v=kbBi1liIrFg   \n",
      "\n",
      "                                                Title  \n",
      "31  Data Analysis with Python - Full Course for Be...  \n",
      "3   Complete Python NumPy Tutorial (Creating Array...  \n",
      "0   Python NumPy Tutorial | NumPy Array | Python T...  \n",
      "4   #28 Python Tutorial for Beginners | Why Numpy?...  \n",
      "10  #29 Python Tutorial for Beginners | Ways of Cr...  \n",
      "1                 Python NumPy Tutorial for Beginners  \n",
      "7    Python: NUMPY | Numerical Python Arrays Tutorial  \n",
      "15            numpy tutorial - basic array operations  \n",
      "14  numpy tutorial - slicing/stacking arrays, inde...  \n",
      "54             NumPy Linear Algebra - Dr. Ahmad Bazzi  \n"
     ]
    },
    {
     "data": {
      "text/html": [
       "<div>\n",
       "<style scoped>\n",
       "    .dataframe tbody tr th:only-of-type {\n",
       "        vertical-align: middle;\n",
       "    }\n",
       "\n",
       "    .dataframe tbody tr th {\n",
       "        vertical-align: top;\n",
       "    }\n",
       "\n",
       "    .dataframe thead th {\n",
       "        text-align: right;\n",
       "    }\n",
       "</style>\n",
       "<table border=\"1\" class=\"dataframe\">\n",
       "  <thead>\n",
       "    <tr style=\"text-align: right;\">\n",
       "      <th></th>\n",
       "      <th>Link</th>\n",
       "      <th>Title</th>\n",
       "    </tr>\n",
       "  </thead>\n",
       "  <tbody>\n",
       "    <tr>\n",
       "      <th>31</th>\n",
       "      <td>https://www.youtube.com/watch?v=r-uOLxNrNk8</td>\n",
       "      <td>Data Analysis with Python - Full Course for Be...</td>\n",
       "    </tr>\n",
       "    <tr>\n",
       "      <th>3</th>\n",
       "      <td>https://www.youtube.com/watch?v=GB9ByFAIAH4</td>\n",
       "      <td>Complete Python NumPy Tutorial (Creating Array...</td>\n",
       "    </tr>\n",
       "    <tr>\n",
       "      <th>0</th>\n",
       "      <td>https://www.youtube.com/watch?v=8JfDAm9y_7s</td>\n",
       "      <td>Python NumPy Tutorial | NumPy Array | Python T...</td>\n",
       "    </tr>\n",
       "    <tr>\n",
       "      <th>4</th>\n",
       "      <td>https://www.youtube.com/watch?v=8LlXhtfNZEQ</td>\n",
       "      <td>#28 Python Tutorial for Beginners | Why Numpy?...</td>\n",
       "    </tr>\n",
       "    <tr>\n",
       "      <th>10</th>\n",
       "      <td>https://www.youtube.com/watch?v=NYPKbmE0H6E</td>\n",
       "      <td>#29 Python Tutorial for Beginners | Ways of Cr...</td>\n",
       "    </tr>\n",
       "    <tr>\n",
       "      <th>1</th>\n",
       "      <td>https://www.youtube.com/watch?v=QUT1VHiLmmI</td>\n",
       "      <td>Python NumPy Tutorial for Beginners</td>\n",
       "    </tr>\n",
       "    <tr>\n",
       "      <th>7</th>\n",
       "      <td>https://www.youtube.com/watch?v=8Mpc9ukltVA</td>\n",
       "      <td>Python: NUMPY | Numerical Python Arrays Tutorial</td>\n",
       "    </tr>\n",
       "    <tr>\n",
       "      <th>15</th>\n",
       "      <td>https://www.youtube.com/watch?v=a8aDcLk4vRc</td>\n",
       "      <td>numpy tutorial - basic array operations</td>\n",
       "    </tr>\n",
       "    <tr>\n",
       "      <th>14</th>\n",
       "      <td>https://www.youtube.com/watch?v=_d_Ka-ks2a0</td>\n",
       "      <td>numpy tutorial - slicing/stacking arrays, inde...</td>\n",
       "    </tr>\n",
       "    <tr>\n",
       "      <th>54</th>\n",
       "      <td>https://www.youtube.com/watch?v=kbBi1liIrFg</td>\n",
       "      <td>NumPy Linear Algebra - Dr. Ahmad Bazzi</td>\n",
       "    </tr>\n",
       "  </tbody>\n",
       "</table>\n",
       "</div>"
      ],
      "text/plain": [
       "                                           Link  \\\n",
       "31  https://www.youtube.com/watch?v=r-uOLxNrNk8   \n",
       "3   https://www.youtube.com/watch?v=GB9ByFAIAH4   \n",
       "0   https://www.youtube.com/watch?v=8JfDAm9y_7s   \n",
       "4   https://www.youtube.com/watch?v=8LlXhtfNZEQ   \n",
       "10  https://www.youtube.com/watch?v=NYPKbmE0H6E   \n",
       "1   https://www.youtube.com/watch?v=QUT1VHiLmmI   \n",
       "7   https://www.youtube.com/watch?v=8Mpc9ukltVA   \n",
       "15  https://www.youtube.com/watch?v=a8aDcLk4vRc   \n",
       "14  https://www.youtube.com/watch?v=_d_Ka-ks2a0   \n",
       "54  https://www.youtube.com/watch?v=kbBi1liIrFg   \n",
       "\n",
       "                                                Title  \n",
       "31  Data Analysis with Python - Full Course for Be...  \n",
       "3   Complete Python NumPy Tutorial (Creating Array...  \n",
       "0   Python NumPy Tutorial | NumPy Array | Python T...  \n",
       "4   #28 Python Tutorial for Beginners | Why Numpy?...  \n",
       "10  #29 Python Tutorial for Beginners | Ways of Cr...  \n",
       "1                 Python NumPy Tutorial for Beginners  \n",
       "7    Python: NUMPY | Numerical Python Arrays Tutorial  \n",
       "15            numpy tutorial - basic array operations  \n",
       "14  numpy tutorial - slicing/stacking arrays, inde...  \n",
       "54             NumPy Linear Algebra - Dr. Ahmad Bazzi  "
      ]
     },
     "execution_count": 54,
     "metadata": {},
     "output_type": "execute_result"
    }
   ],
   "source": [
    "print(\"Top\", n, \"links: \")\n",
    "print(\"------------------\")\n",
    "print(df[['Link', 'Title']])\n",
    "df[['Link', 'Title']]"
   ]
  },
  {
   "cell_type": "markdown",
   "metadata": {},
   "source": [
    "# ---------------------------------------------------------------"
   ]
  },
  {
   "cell_type": "markdown",
   "metadata": {},
   "source": [
    "# Plotting helper function"
   ]
  },
  {
   "cell_type": "code",
   "execution_count": 67,
   "metadata": {},
   "outputs": [],
   "source": [
    "import plotly.graph_objects as go\n",
    "def plotGraph(param, heading):\n",
    "    df_new = df1.sort_values(by=param,ascending=0)\n",
    "    df_l = df_new.head()\n",
    "    list1 = []\n",
    "    #This part\n",
    "    for row in df_l.index: \n",
    "        list1.append(row)\n",
    "    \n",
    "    colors = ['lightslategray'] * len(df1)\n",
    "    #This part\n",
    "    for i in df1.index:\n",
    "        if i in list1:\n",
    "            colors[i] = 'green'\n",
    "        else:\n",
    "            colors[i] = 'grey'\n",
    "\n",
    "    fig = go.Figure(data=[go.Bar(\n",
    "        x=[i for i in range(len(df1))],\n",
    "        y=[i for i in df1[param]],\n",
    "        marker_color=colors # marker color can be a single color value or an iterable\n",
    "    )])\n",
    "    fig.update_layout(title_text=heading)\n",
    "    fig.show()\n",
    "# params = \"Likes\"\n",
    "# df[params]\n"
   ]
  },
  {
   "cell_type": "code",
   "execution_count": 4,
   "metadata": {},
   "outputs": [
    {
     "data": {
      "text/html": [
       "<div>\n",
       "<style scoped>\n",
       "    .dataframe tbody tr th:only-of-type {\n",
       "        vertical-align: middle;\n",
       "    }\n",
       "\n",
       "    .dataframe tbody tr th {\n",
       "        vertical-align: top;\n",
       "    }\n",
       "\n",
       "    .dataframe thead th {\n",
       "        text-align: right;\n",
       "    }\n",
       "</style>\n",
       "<table border=\"1\" class=\"dataframe\">\n",
       "  <thead>\n",
       "    <tr style=\"text-align: right;\">\n",
       "      <th></th>\n",
       "      <th>Link</th>\n",
       "      <th>Title</th>\n",
       "      <th>URL</th>\n",
       "      <th>Views</th>\n",
       "      <th>Likes</th>\n",
       "      <th>Dislikes</th>\n",
       "      <th>Subcount</th>\n",
       "      <th>Date</th>\n",
       "      <th>Days</th>\n",
       "      <th>Score</th>\n",
       "    </tr>\n",
       "  </thead>\n",
       "  <tbody>\n",
       "    <tr>\n",
       "      <th>31</th>\n",
       "      <td>https://www.youtube.com/watch?v=r-uOLxNrNk8</td>\n",
       "      <td>Data Analysis with Python - Full Course for Be...</td>\n",
       "      <td>https://i.ytimg.com/vi_webp/r-uOLxNrNk8/maxres...</td>\n",
       "      <td>96780</td>\n",
       "      <td>3600.0</td>\n",
       "      <td>36</td>\n",
       "      <td>1910000.0</td>\n",
       "      <td>Apr 15 2020</td>\n",
       "      <td>20</td>\n",
       "      <td>6.981660</td>\n",
       "    </tr>\n",
       "    <tr>\n",
       "      <th>3</th>\n",
       "      <td>https://www.youtube.com/watch?v=GB9ByFAIAH4</td>\n",
       "      <td>Complete Python NumPy Tutorial (Creating Array...</td>\n",
       "      <td>https://i.ytimg.com/vi_webp/IBiWRWJJE1E/maxres...</td>\n",
       "      <td>189730</td>\n",
       "      <td>6000.0</td>\n",
       "      <td>68</td>\n",
       "      <td>45400.0</td>\n",
       "      <td>Jul 10 2019</td>\n",
       "      <td>300</td>\n",
       "      <td>6.260659</td>\n",
       "    </tr>\n",
       "    <tr>\n",
       "      <th>0</th>\n",
       "      <td>https://www.youtube.com/watch?v=8JfDAm9y_7s</td>\n",
       "      <td>Python NumPy Tutorial | NumPy Array | Python T...</td>\n",
       "      <td>https://i.ytimg.com/vi_webp/8JfDAm9y_7s/maxres...</td>\n",
       "      <td>354670</td>\n",
       "      <td>3800.0</td>\n",
       "      <td>219</td>\n",
       "      <td>1660000.0</td>\n",
       "      <td>Apr 11 2017</td>\n",
       "      <td>1120</td>\n",
       "      <td>5.994252</td>\n",
       "    </tr>\n",
       "    <tr>\n",
       "      <th>4</th>\n",
       "      <td>https://www.youtube.com/watch?v=8LlXhtfNZEQ</td>\n",
       "      <td>#28 Python Tutorial for Beginners | Why Numpy?...</td>\n",
       "      <td>https://i.ytimg.com/vi_webp/IBiWRWJJE1E/maxres...</td>\n",
       "      <td>230952</td>\n",
       "      <td>2700.0</td>\n",
       "      <td>81</td>\n",
       "      <td>927000.0</td>\n",
       "      <td>Jul 20 2018</td>\n",
       "      <td>655</td>\n",
       "      <td>5.891865</td>\n",
       "    </tr>\n",
       "    <tr>\n",
       "      <th>10</th>\n",
       "      <td>https://www.youtube.com/watch?v=NYPKbmE0H6E</td>\n",
       "      <td>#29 Python Tutorial for Beginners | Ways of Cr...</td>\n",
       "      <td>https://i.ytimg.com/vi_webp/NYPKbmE0H6E/maxres...</td>\n",
       "      <td>184272</td>\n",
       "      <td>1900.0</td>\n",
       "      <td>40</td>\n",
       "      <td>927000.0</td>\n",
       "      <td>Jul 22 2018</td>\n",
       "      <td>653</td>\n",
       "      <td>5.778688</td>\n",
       "    </tr>\n",
       "    <tr>\n",
       "      <th>1</th>\n",
       "      <td>https://www.youtube.com/watch?v=QUT1VHiLmmI</td>\n",
       "      <td>Python NumPy Tutorial for Beginners</td>\n",
       "      <td>https://i.ytimg.com/vi_webp/QUT1VHiLmmI/maxres...</td>\n",
       "      <td>102161</td>\n",
       "      <td>2900.0</td>\n",
       "      <td>19</td>\n",
       "      <td>1910000.0</td>\n",
       "      <td>Aug 7 2019</td>\n",
       "      <td>272</td>\n",
       "      <td>5.756283</td>\n",
       "    </tr>\n",
       "    <tr>\n",
       "      <th>7</th>\n",
       "      <td>https://www.youtube.com/watch?v=8Mpc9ukltVA</td>\n",
       "      <td>Python: NUMPY | Numerical Python Arrays Tutorial</td>\n",
       "      <td>https://i.ytimg.com/vi_webp/8Mpc9ukltVA/maxres...</td>\n",
       "      <td>89764</td>\n",
       "      <td>1700.0</td>\n",
       "      <td>20</td>\n",
       "      <td>47900.0</td>\n",
       "      <td>Jun 10 2018</td>\n",
       "      <td>695</td>\n",
       "      <td>5.523309</td>\n",
       "    </tr>\n",
       "    <tr>\n",
       "      <th>15</th>\n",
       "      <td>https://www.youtube.com/watch?v=a8aDcLk4vRc</td>\n",
       "      <td>numpy tutorial - basic array operations</td>\n",
       "      <td>https://i.ytimg.com/vi_webp/a8aDcLk4vRc/maxres...</td>\n",
       "      <td>102579</td>\n",
       "      <td>1100.0</td>\n",
       "      <td>25</td>\n",
       "      <td>107000.0</td>\n",
       "      <td>Dec 26 2016</td>\n",
       "      <td>1226</td>\n",
       "      <td>5.436728</td>\n",
       "    </tr>\n",
       "    <tr>\n",
       "      <th>14</th>\n",
       "      <td>https://www.youtube.com/watch?v=_d_Ka-ks2a0</td>\n",
       "      <td>numpy tutorial - slicing/stacking arrays, inde...</td>\n",
       "      <td>https://i.ytimg.com/vi_webp/_d_Ka-ks2a0/maxres...</td>\n",
       "      <td>68889</td>\n",
       "      <td>1400.0</td>\n",
       "      <td>16</td>\n",
       "      <td>107000.0</td>\n",
       "      <td>Dec 27 2016</td>\n",
       "      <td>1225</td>\n",
       "      <td>5.426186</td>\n",
       "    </tr>\n",
       "    <tr>\n",
       "      <th>54</th>\n",
       "      <td>https://www.youtube.com/watch?v=kbBi1liIrFg</td>\n",
       "      <td>NumPy Linear Algebra - Dr. Ahmad Bazzi</td>\n",
       "      <td>https://i.ytimg.com/vi_webp/kbBi1liIrFg/maxres...</td>\n",
       "      <td>19588</td>\n",
       "      <td>1700.0</td>\n",
       "      <td>4</td>\n",
       "      <td>28800.0</td>\n",
       "      <td>Sep 13 2018</td>\n",
       "      <td>600</td>\n",
       "      <td>5.366389</td>\n",
       "    </tr>\n",
       "    <tr>\n",
       "      <th>13</th>\n",
       "      <td>https://www.youtube.com/watch?v=oE4KeuVNqcQ</td>\n",
       "      <td>How to install numpy, scipy and matplotlib - p...</td>\n",
       "      <td>https://i.ytimg.com/vi_webp/oE4KeuVNqcQ/maxres...</td>\n",
       "      <td>200252</td>\n",
       "      <td>998.0</td>\n",
       "      <td>80</td>\n",
       "      <td>912.0</td>\n",
       "      <td>May 9 2017</td>\n",
       "      <td>1092</td>\n",
       "      <td>5.360083</td>\n",
       "    </tr>\n",
       "    <tr>\n",
       "      <th>6</th>\n",
       "      <td>https://www.youtube.com/watch?v=ZB7BZMhfPgk</td>\n",
       "      <td>Introduction to Numerical Computing with NumPy...</td>\n",
       "      <td>https://i.ytimg.com/vi_webp/ZB7BZMhfPgk/maxres...</td>\n",
       "      <td>41766</td>\n",
       "      <td>848.0</td>\n",
       "      <td>6</td>\n",
       "      <td>44000.0</td>\n",
       "      <td>Jul 11 2019</td>\n",
       "      <td>299</td>\n",
       "      <td>5.347623</td>\n",
       "    </tr>\n",
       "    <tr>\n",
       "      <th>50</th>\n",
       "      <td>https://www.youtube.com/watch?v=WxJr143Os-A</td>\n",
       "      <td>INTRODUCCIÓN A LA LIBRERÍA NUMPY DE PYTHON - P...</td>\n",
       "      <td>https://i.ytimg.com/vi_webp/WxJr143Os-A/maxres...</td>\n",
       "      <td>34207</td>\n",
       "      <td>841.0</td>\n",
       "      <td>10</td>\n",
       "      <td>19200.0</td>\n",
       "      <td>Sep 21 2018</td>\n",
       "      <td>592</td>\n",
       "      <td>5.276419</td>\n",
       "    </tr>\n",
       "    <tr>\n",
       "      <th>43</th>\n",
       "      <td>https://www.youtube.com/watch?v=RwFiNlL4Q8g</td>\n",
       "      <td>PYTHON NUMPY STATISTIQUES et MATHÉMATIQUES (12...</td>\n",
       "      <td>https://i.ytimg.com/vi_webp/RwFiNlL4Q8g/maxres...</td>\n",
       "      <td>14073</td>\n",
       "      <td>367.0</td>\n",
       "      <td>0</td>\n",
       "      <td>14200.0</td>\n",
       "      <td>Sep 17 2019</td>\n",
       "      <td>231</td>\n",
       "      <td>5.251144</td>\n",
       "    </tr>\n",
       "    <tr>\n",
       "      <th>41</th>\n",
       "      <td>https://www.youtube.com/watch?v=NzDQTrqsxas</td>\n",
       "      <td>PYTHON NUMPY machine learning (10/30)</td>\n",
       "      <td>https://i.ytimg.com/vi_webp/NzDQTrqsxas/maxres...</td>\n",
       "      <td>19238</td>\n",
       "      <td>574.0</td>\n",
       "      <td>4</td>\n",
       "      <td>14200.0</td>\n",
       "      <td>Sep 12 2019</td>\n",
       "      <td>236</td>\n",
       "      <td>5.248415</td>\n",
       "    </tr>\n",
       "    <tr>\n",
       "      <th>2</th>\n",
       "      <td>https://www.youtube.com/watch?v=xECXZ3tyONo</td>\n",
       "      <td>Learn NUMPY in 5 minutes - BEST Python Library!</td>\n",
       "      <td>https://i.ytimg.com/vi_webp/IBiWRWJJE1E/maxres...</td>\n",
       "      <td>273767</td>\n",
       "      <td>8600.0</td>\n",
       "      <td>715</td>\n",
       "      <td>161000.0</td>\n",
       "      <td>Jan 17 2019</td>\n",
       "      <td>474</td>\n",
       "      <td>5.239646</td>\n",
       "    </tr>\n",
       "    <tr>\n",
       "      <th>11</th>\n",
       "      <td>https://www.youtube.com/watch?v=mOZ0UCeuRX4</td>\n",
       "      <td>Arrays in Python / Numpy</td>\n",
       "      <td>https://i.ytimg.com/vi_webp/mOZ0UCeuRX4/maxres...</td>\n",
       "      <td>165545</td>\n",
       "      <td>819.0</td>\n",
       "      <td>67</td>\n",
       "      <td>41800.0</td>\n",
       "      <td>Oct 6 2015</td>\n",
       "      <td>1673</td>\n",
       "      <td>5.237263</td>\n",
       "    </tr>\n",
       "    <tr>\n",
       "      <th>48</th>\n",
       "      <td>https://www.youtube.com/watch?v=VJBY2eVtf7o</td>\n",
       "      <td>Generating Mock Data with Python! (NumPy, Pand...</td>\n",
       "      <td>https://i.ytimg.com/vi/VJBY2eVtf7o/maxresdefau...</td>\n",
       "      <td>5135</td>\n",
       "      <td>244.0</td>\n",
       "      <td>0</td>\n",
       "      <td>45400.0</td>\n",
       "      <td>Jan 31 2020</td>\n",
       "      <td>95</td>\n",
       "      <td>5.215978</td>\n",
       "    </tr>\n",
       "    <tr>\n",
       "      <th>19</th>\n",
       "      <td>https://www.youtube.com/watch?v=vfBRleigfR8</td>\n",
       "      <td>Importing data in python Read Flat File numpy ...</td>\n",
       "      <td>https://i.ytimg.com/vi_webp/vfBRleigfR8/maxres...</td>\n",
       "      <td>11752</td>\n",
       "      <td>80.0</td>\n",
       "      <td>0</td>\n",
       "      <td>7440.0</td>\n",
       "      <td>Jul 3 2017</td>\n",
       "      <td>1037</td>\n",
       "      <td>5.207409</td>\n",
       "    </tr>\n",
       "    <tr>\n",
       "      <th>21</th>\n",
       "      <td>https://www.youtube.com/watch?v=XI6PHo_gP4E</td>\n",
       "      <td>NumPy Tutorials - List vs NumPy Array | Python...</td>\n",
       "      <td>https://i.ytimg.com/vi_webp/XI6PHo_gP4E/maxres...</td>\n",
       "      <td>10148</td>\n",
       "      <td>223.0</td>\n",
       "      <td>1</td>\n",
       "      <td>69100.0</td>\n",
       "      <td>Jul 15 2019</td>\n",
       "      <td>295</td>\n",
       "      <td>5.194896</td>\n",
       "    </tr>\n",
       "    <tr>\n",
       "      <th>40</th>\n",
       "      <td>https://www.youtube.com/watch?v=lzmCGZ_BF_4</td>\n",
       "      <td>Loading an image in python as a numpy array</td>\n",
       "      <td>https://i.ytimg.com/vi/lzmCGZ_BF_4/maxresdefau...</td>\n",
       "      <td>4137</td>\n",
       "      <td>73.0</td>\n",
       "      <td>0</td>\n",
       "      <td>519.0</td>\n",
       "      <td>Sep 6 2019</td>\n",
       "      <td>242</td>\n",
       "      <td>5.183868</td>\n",
       "    </tr>\n",
       "    <tr>\n",
       "      <th>45</th>\n",
       "      <td>https://www.youtube.com/watch?v=CC4aco6zWic</td>\n",
       "      <td>Aprenda como usar o Numpy (Python para machine...</td>\n",
       "      <td>https://i.ytimg.com/vi_webp/CC4aco6zWic/maxres...</td>\n",
       "      <td>6800</td>\n",
       "      <td>332.0</td>\n",
       "      <td>2</td>\n",
       "      <td>13800.0</td>\n",
       "      <td>May 24 2019</td>\n",
       "      <td>347</td>\n",
       "      <td>5.183265</td>\n",
       "    </tr>\n",
       "    <tr>\n",
       "      <th>47</th>\n",
       "      <td>https://www.youtube.com/watch?v=5vT553CSxas</td>\n",
       "      <td>Array Manipulation | transpose and swapaxes | ...</td>\n",
       "      <td>https://i.ytimg.com/vi_webp/5vT553CSxas/maxres...</td>\n",
       "      <td>3141</td>\n",
       "      <td>63.0</td>\n",
       "      <td>0</td>\n",
       "      <td>69100.0</td>\n",
       "      <td>Sep 20 2019</td>\n",
       "      <td>228</td>\n",
       "      <td>5.179377</td>\n",
       "    </tr>\n",
       "    <tr>\n",
       "      <th>49</th>\n",
       "      <td>https://www.youtube.com/watch?v=yOTPfKPuZ8U</td>\n",
       "      <td>Numpy Ones Function | Creating NumPy Arrays | ...</td>\n",
       "      <td>https://i.ytimg.com/vi_webp/yOTPfKPuZ8U/maxres...</td>\n",
       "      <td>3638</td>\n",
       "      <td>50.0</td>\n",
       "      <td>0</td>\n",
       "      <td>69100.0</td>\n",
       "      <td>Jul 24 2019</td>\n",
       "      <td>286</td>\n",
       "      <td>5.179289</td>\n",
       "    </tr>\n",
       "    <tr>\n",
       "      <th>29</th>\n",
       "      <td>https://www.youtube.com/watch?v=6znKTzhZ3FA</td>\n",
       "      <td>Learn Python NumPy - #1 Arrays &amp; Data Types</td>\n",
       "      <td>https://i.ytimg.com/vi_webp/6znKTzhZ3FA/maxres...</td>\n",
       "      <td>1166</td>\n",
       "      <td>43.0</td>\n",
       "      <td>0</td>\n",
       "      <td>15100.0</td>\n",
       "      <td>May 12 2019</td>\n",
       "      <td>359</td>\n",
       "      <td>5.169581</td>\n",
       "    </tr>\n",
       "    <tr>\n",
       "      <th>5</th>\n",
       "      <td>https://www.youtube.com/watch?v=Rbh1rieb3zc</td>\n",
       "      <td>Numpy Tutorial in Hindi</td>\n",
       "      <td>https://i.ytimg.com/vi_webp/IBiWRWJJE1E/maxres...</td>\n",
       "      <td>27873</td>\n",
       "      <td>901.0</td>\n",
       "      <td>25</td>\n",
       "      <td>288000.0</td>\n",
       "      <td>Jul 2 2019</td>\n",
       "      <td>308</td>\n",
       "      <td>5.163382</td>\n",
       "    </tr>\n",
       "    <tr>\n",
       "      <th>23</th>\n",
       "      <td>https://www.youtube.com/watch?v=vRRifcvGCkA</td>\n",
       "      <td>Numpy Arange Function | Creating NumPy Arrays ...</td>\n",
       "      <td>https://i.ytimg.com/vi_webp/vRRifcvGCkA/maxres...</td>\n",
       "      <td>6716</td>\n",
       "      <td>98.0</td>\n",
       "      <td>1</td>\n",
       "      <td>69100.0</td>\n",
       "      <td>Jul 20 2019</td>\n",
       "      <td>290</td>\n",
       "      <td>5.140634</td>\n",
       "    </tr>\n",
       "    <tr>\n",
       "      <th>30</th>\n",
       "      <td>https://www.youtube.com/watch?v=rnw1qixAv1s</td>\n",
       "      <td>How to use Numpy Arrays in Python</td>\n",
       "      <td>https://i1.ytimg.com/vi/rnw1qixAv1s/hqdefault.jpg</td>\n",
       "      <td>49167</td>\n",
       "      <td>191.0</td>\n",
       "      <td>7</td>\n",
       "      <td>93000.0</td>\n",
       "      <td>Nov 8 2016</td>\n",
       "      <td>1274</td>\n",
       "      <td>5.139027</td>\n",
       "    </tr>\n",
       "    <tr>\n",
       "      <th>51</th>\n",
       "      <td>https://www.youtube.com/watch?v=cg8P0NSe8Ew</td>\n",
       "      <td>[Hindi] Python Numpy Array Functions and Slici...</td>\n",
       "      <td>https://i.ytimg.com/vi_webp/cg8P0NSe8Ew/maxres...</td>\n",
       "      <td>11414</td>\n",
       "      <td>440.0</td>\n",
       "      <td>8</td>\n",
       "      <td>288000.0</td>\n",
       "      <td>Aug 21 2018</td>\n",
       "      <td>623</td>\n",
       "      <td>5.132776</td>\n",
       "    </tr>\n",
       "    <tr>\n",
       "      <th>27</th>\n",
       "      <td>https://www.youtube.com/watch?v=0u9OzBSRZec</td>\n",
       "      <td>Broadcasting | NumPy Tutorials | Python Progra...</td>\n",
       "      <td>https://i.ytimg.com/vi_webp/0u9OzBSRZec/maxres...</td>\n",
       "      <td>4250</td>\n",
       "      <td>88.0</td>\n",
       "      <td>1</td>\n",
       "      <td>69100.0</td>\n",
       "      <td>Aug 23 2019</td>\n",
       "      <td>256</td>\n",
       "      <td>5.125269</td>\n",
       "    </tr>\n",
       "    <tr>\n",
       "      <th>12</th>\n",
       "      <td>https://www.youtube.com/watch?v=jPEUXkW-DRE</td>\n",
       "      <td>Working with Numpy | Full Chapter | Class 12th...</td>\n",
       "      <td>https://i1.ytimg.com/vi/jPEUXkW-DRE/hqdefault.jpg</td>\n",
       "      <td>24720</td>\n",
       "      <td>627.0</td>\n",
       "      <td>21</td>\n",
       "      <td>16600.0</td>\n",
       "      <td>Oct 5 2019</td>\n",
       "      <td>213</td>\n",
       "      <td>5.109715</td>\n",
       "    </tr>\n",
       "    <tr>\n",
       "      <th>55</th>\n",
       "      <td>https://www.youtube.com/watch?v=bFv66_RXLb4</td>\n",
       "      <td>Indexing Operation in NumPy Arrays | Python Tu...</td>\n",
       "      <td>https://i.ytimg.com/vi_webp/bFv66_RXLb4/maxres...</td>\n",
       "      <td>3328</td>\n",
       "      <td>62.0</td>\n",
       "      <td>1</td>\n",
       "      <td>69100.0</td>\n",
       "      <td>Aug 9 2019</td>\n",
       "      <td>270</td>\n",
       "      <td>5.094546</td>\n",
       "    </tr>\n",
       "    <tr>\n",
       "      <th>34</th>\n",
       "      <td>https://www.youtube.com/watch?v=cYugp9IN1-Q</td>\n",
       "      <td>Advanced NumPy | SciPy Japan 2019 Tutorial | J...</td>\n",
       "      <td>https://i.ytimg.com/vi_webp/cYugp9IN1-Q/maxres...</td>\n",
       "      <td>10102</td>\n",
       "      <td>180.0</td>\n",
       "      <td>5</td>\n",
       "      <td>44000.0</td>\n",
       "      <td>May 17 2019</td>\n",
       "      <td>354</td>\n",
       "      <td>5.062160</td>\n",
       "    </tr>\n",
       "    <tr>\n",
       "      <th>36</th>\n",
       "      <td>https://www.youtube.com/watch?v=NpG8980kYEM</td>\n",
       "      <td>How to install numpy in Python (Hindi)</td>\n",
       "      <td>https://i.ytimg.com/vi_webp/NpG8980kYEM/maxres...</td>\n",
       "      <td>3836</td>\n",
       "      <td>86.0</td>\n",
       "      <td>2</td>\n",
       "      <td>266000.0</td>\n",
       "      <td>Sep 19 2019</td>\n",
       "      <td>229</td>\n",
       "      <td>5.060809</td>\n",
       "    </tr>\n",
       "    <tr>\n",
       "      <th>56</th>\n",
       "      <td>https://www.youtube.com/watch?v=zvkNBeoCwA0</td>\n",
       "      <td>Numpy and Matplotlib Tutorial</td>\n",
       "      <td>https://i.ytimg.com/vi_webp/zvkNBeoCwA0/maxres...</td>\n",
       "      <td>11318</td>\n",
       "      <td>209.0</td>\n",
       "      <td>6</td>\n",
       "      <td>18700.0</td>\n",
       "      <td>Apr 3 2017</td>\n",
       "      <td>1128</td>\n",
       "      <td>5.058730</td>\n",
       "    </tr>\n",
       "    <tr>\n",
       "      <th>57</th>\n",
       "      <td>https://www.youtube.com/watch?v=97o5ckUHDmo</td>\n",
       "      <td>Arreglos en Python: Introducción al uso de vec...</td>\n",
       "      <td>https://i1.ytimg.com/vi/97o5ckUHDmo/hqdefault.jpg</td>\n",
       "      <td>73135</td>\n",
       "      <td>639.0</td>\n",
       "      <td>41</td>\n",
       "      <td>33100.0</td>\n",
       "      <td>Jul 23 2016</td>\n",
       "      <td>1382</td>\n",
       "      <td>5.055915</td>\n",
       "    </tr>\n",
       "    <tr>\n",
       "      <th>53</th>\n",
       "      <td>https://www.youtube.com/watch?v=alvNcKgMuA8</td>\n",
       "      <td>2. Библиотека Numpy. Курс \"ВВЕДЕНИЕ В АНАЛИЗ Д...</td>\n",
       "      <td>https://i1.ytimg.com/vi/alvNcKgMuA8/hqdefault.jpg</td>\n",
       "      <td>10640</td>\n",
       "      <td>197.0</td>\n",
       "      <td>6</td>\n",
       "      <td>149000.0</td>\n",
       "      <td>Oct 21 2019</td>\n",
       "      <td>197</td>\n",
       "      <td>5.054494</td>\n",
       "    </tr>\n",
       "    <tr>\n",
       "      <th>22</th>\n",
       "      <td>https://www.youtube.com/watch?v=jbIQxQjlIWg</td>\n",
       "      <td>Install and Configure python 3.8.0 for Numpy, ...</td>\n",
       "      <td>https://i1.ytimg.com/vi/jbIQxQjlIWg/hqdefault.jpg</td>\n",
       "      <td>8134</td>\n",
       "      <td>103.0</td>\n",
       "      <td>3</td>\n",
       "      <td>250.0</td>\n",
       "      <td>Nov 18 2019</td>\n",
       "      <td>169</td>\n",
       "      <td>5.048098</td>\n",
       "    </tr>\n",
       "    <tr>\n",
       "      <th>37</th>\n",
       "      <td>https://www.youtube.com/watch?v=2WTDrSkQBng</td>\n",
       "      <td>Advanced Indexing Operation in NumPy Arrays | ...</td>\n",
       "      <td>https://i.ytimg.com/vi_webp/2WTDrSkQBng/maxres...</td>\n",
       "      <td>3882</td>\n",
       "      <td>72.0</td>\n",
       "      <td>2</td>\n",
       "      <td>69100.0</td>\n",
       "      <td>Aug 15 2019</td>\n",
       "      <td>264</td>\n",
       "      <td>5.035743</td>\n",
       "    </tr>\n",
       "    <tr>\n",
       "      <th>32</th>\n",
       "      <td>https://www.youtube.com/watch?v=rNMFtbWmbhE</td>\n",
       "      <td>Numpy Array Function | Creating NumPy Arrays |...</td>\n",
       "      <td>https://i.ytimg.com/vi_webp/rNMFtbWmbhE/maxres...</td>\n",
       "      <td>8728</td>\n",
       "      <td>126.0</td>\n",
       "      <td>4</td>\n",
       "      <td>69100.0</td>\n",
       "      <td>Jul 19 2019</td>\n",
       "      <td>291</td>\n",
       "      <td>5.034176</td>\n",
       "    </tr>\n",
       "    <tr>\n",
       "      <th>16</th>\n",
       "      <td>https://www.youtube.com/watch?v=0t6FRh0Pmtw</td>\n",
       "      <td>Python Numpy Where</td>\n",
       "      <td>https://i.ytimg.com/vi_webp/0t6FRh0Pmtw/maxres...</td>\n",
       "      <td>2125</td>\n",
       "      <td>37.0</td>\n",
       "      <td>1</td>\n",
       "      <td>2030.0</td>\n",
       "      <td>Jul 26 2019</td>\n",
       "      <td>284</td>\n",
       "      <td>5.031368</td>\n",
       "    </tr>\n",
       "    <tr>\n",
       "      <th>33</th>\n",
       "      <td>https://www.youtube.com/watch?v=6Z98UzGc-Us</td>\n",
       "      <td>Array Manipulation | Insert and Delete Functio...</td>\n",
       "      <td>https://i.ytimg.com/vi_webp/6Z98UzGc-Us/maxres...</td>\n",
       "      <td>3101</td>\n",
       "      <td>60.0</td>\n",
       "      <td>2</td>\n",
       "      <td>69100.0</td>\n",
       "      <td>Sep 29 2019</td>\n",
       "      <td>219</td>\n",
       "      <td>5.003487</td>\n",
       "    </tr>\n",
       "    <tr>\n",
       "      <th>17</th>\n",
       "      <td>https://www.youtube.com/watch?v=poD8ud4MxOY</td>\n",
       "      <td>Making Computation Easier with Cool Numpy Tric...</td>\n",
       "      <td>https://i.ytimg.com/vi_webp/poD8ud4MxOY/maxres...</td>\n",
       "      <td>7612</td>\n",
       "      <td>151.0</td>\n",
       "      <td>6</td>\n",
       "      <td>93400.0</td>\n",
       "      <td>Nov 29 2018</td>\n",
       "      <td>523</td>\n",
       "      <td>4.985855</td>\n",
       "    </tr>\n",
       "    <tr>\n",
       "      <th>44</th>\n",
       "      <td>https://www.youtube.com/watch?v=mshyx9uVvEE</td>\n",
       "      <td>Python NumPy Tutorial - 3 - How Create Array U...</td>\n",
       "      <td>https://i.ytimg.com/vi_webp/mshyx9uVvEE/maxres...</td>\n",
       "      <td>9270</td>\n",
       "      <td>120.0</td>\n",
       "      <td>5</td>\n",
       "      <td>8450.0</td>\n",
       "      <td>May 22 2018</td>\n",
       "      <td>714</td>\n",
       "      <td>4.979618</td>\n",
       "    </tr>\n",
       "    <tr>\n",
       "      <th>35</th>\n",
       "      <td>https://www.youtube.com/watch?v=Vk7foZ_hdZQ</td>\n",
       "      <td>NumPy | NumPy in Python Tutorial | Mr. Srinivas</td>\n",
       "      <td>https://i.ytimg.com/vi_webp/Vk7foZ_hdZQ/maxres...</td>\n",
       "      <td>11447</td>\n",
       "      <td>172.0</td>\n",
       "      <td>8</td>\n",
       "      <td>596000.0</td>\n",
       "      <td>Oct 18 2019</td>\n",
       "      <td>200</td>\n",
       "      <td>4.968244</td>\n",
       "    </tr>\n",
       "    <tr>\n",
       "      <th>28</th>\n",
       "      <td>https://www.youtube.com/watch?v=qx70kifeRC8</td>\n",
       "      <td>NumPy Zeros Function | Creating NumPy Arrays |...</td>\n",
       "      <td>https://i.ytimg.com/vi_webp/qx70kifeRC8/maxres...</td>\n",
       "      <td>5137</td>\n",
       "      <td>70.0</td>\n",
       "      <td>3</td>\n",
       "      <td>69100.0</td>\n",
       "      <td>Jul 22 2019</td>\n",
       "      <td>288</td>\n",
       "      <td>4.960194</td>\n",
       "    </tr>\n",
       "    <tr>\n",
       "      <th>39</th>\n",
       "      <td>https://www.youtube.com/watch?v=rpmp_-Xq0kU</td>\n",
       "      <td>Array Manipulation | Splitting and Joining Arr...</td>\n",
       "      <td>https://i.ytimg.com/vi_webp/rpmp_-Xq0kU/maxres...</td>\n",
       "      <td>3087</td>\n",
       "      <td>64.0</td>\n",
       "      <td>3</td>\n",
       "      <td>69100.0</td>\n",
       "      <td>Sep 27 2019</td>\n",
       "      <td>221</td>\n",
       "      <td>4.932203</td>\n",
       "    </tr>\n",
       "    <tr>\n",
       "      <th>25</th>\n",
       "      <td>https://www.youtube.com/watch?v=YFW4EoVBYhM</td>\n",
       "      <td>Numpy array in Hindi | Python full course |201...</td>\n",
       "      <td>https://i.ytimg.com/vi_webp/YFW4EoVBYhM/maxres...</td>\n",
       "      <td>2134</td>\n",
       "      <td>79.0</td>\n",
       "      <td>4</td>\n",
       "      <td>1.0</td>\n",
       "      <td>Aug 3 2019</td>\n",
       "      <td>276</td>\n",
       "      <td>4.908672</td>\n",
       "    </tr>\n",
       "    <tr>\n",
       "      <th>38</th>\n",
       "      <td>https://www.youtube.com/watch?v=9bHtS2tTLjI</td>\n",
       "      <td>Python NumPy | Linspace</td>\n",
       "      <td>https://i.ytimg.com/vi_webp/9bHtS2tTLjI/maxres...</td>\n",
       "      <td>1157</td>\n",
       "      <td>37.0</td>\n",
       "      <td>2</td>\n",
       "      <td>1420.0</td>\n",
       "      <td>Jun 13 2019</td>\n",
       "      <td>327</td>\n",
       "      <td>4.886561</td>\n",
       "    </tr>\n",
       "    <tr>\n",
       "      <th>20</th>\n",
       "      <td>https://www.youtube.com/watch?v=2Y6aMjBYPww</td>\n",
       "      <td>Numpy and Loops in Python</td>\n",
       "      <td>https://i.ytimg.com/vi_webp/2Y6aMjBYPww/maxres...</td>\n",
       "      <td>8281</td>\n",
       "      <td>62.0</td>\n",
       "      <td>4</td>\n",
       "      <td>41800.0</td>\n",
       "      <td>May 10 2016</td>\n",
       "      <td>1456</td>\n",
       "      <td>4.854035</td>\n",
       "    </tr>\n",
       "    <tr>\n",
       "      <th>46</th>\n",
       "      <td>https://www.youtube.com/watch?v=cAmkgMnKx34</td>\n",
       "      <td>How NumPy Arrays are faster than Python List?</td>\n",
       "      <td>https://i.ytimg.com/vi_webp/cAmkgMnKx34/maxres...</td>\n",
       "      <td>2602</td>\n",
       "      <td>95.0</td>\n",
       "      <td>6</td>\n",
       "      <td>13500.0</td>\n",
       "      <td>Aug 24 2019</td>\n",
       "      <td>255</td>\n",
       "      <td>4.844053</td>\n",
       "    </tr>\n",
       "    <tr>\n",
       "      <th>9</th>\n",
       "      <td>https://www.youtube.com/watch?v=pP5dQG0foTs</td>\n",
       "      <td>What is Numpy? Python for Data Science tutorial</td>\n",
       "      <td>https://i1.ytimg.com/vi/pP5dQG0foTs/hqdefault.jpg</td>\n",
       "      <td>41994</td>\n",
       "      <td>392.0</td>\n",
       "      <td>34</td>\n",
       "      <td>2750.0</td>\n",
       "      <td>Apr 16 2016</td>\n",
       "      <td>1480</td>\n",
       "      <td>4.826980</td>\n",
       "    </tr>\n",
       "    <tr>\n",
       "      <th>8</th>\n",
       "      <td>https://www.youtube.com/watch?v=DI8wg3SRV90</td>\n",
       "      <td>Numpy Tutorial | Python Numpy Tutorial | Intel...</td>\n",
       "      <td>https://i1.ytimg.com/vi/DI8wg3SRV90/hqdefault.jpg</td>\n",
       "      <td>8527</td>\n",
       "      <td>149.0</td>\n",
       "      <td>11</td>\n",
       "      <td>489000.0</td>\n",
       "      <td>Aug 21 2019</td>\n",
       "      <td>258</td>\n",
       "      <td>4.807071</td>\n",
       "    </tr>\n",
       "    <tr>\n",
       "      <th>58</th>\n",
       "      <td>https://www.youtube.com/watch?v=vIz6X87uCnM</td>\n",
       "      <td>Библиотека Numpy. Python Advanced. Урок 5</td>\n",
       "      <td>https://i.ytimg.com/vi_webp/vIz6X87uCnM/maxres...</td>\n",
       "      <td>6448</td>\n",
       "      <td>123.0</td>\n",
       "      <td>10</td>\n",
       "      <td>178000.0</td>\n",
       "      <td>Jun 10 2019</td>\n",
       "      <td>330</td>\n",
       "      <td>4.759082</td>\n",
       "    </tr>\n",
       "    <tr>\n",
       "      <th>26</th>\n",
       "      <td>https://www.youtube.com/watch?v=x06nL__ECpg</td>\n",
       "      <td>Python NumPy | Dot Product</td>\n",
       "      <td>https://i.ytimg.com/vi_webp/x06nL__ECpg/maxres...</td>\n",
       "      <td>2541</td>\n",
       "      <td>37.0</td>\n",
       "      <td>3</td>\n",
       "      <td>1420.0</td>\n",
       "      <td>Jun 19 2019</td>\n",
       "      <td>321</td>\n",
       "      <td>4.750201</td>\n",
       "    </tr>\n",
       "    <tr>\n",
       "      <th>18</th>\n",
       "      <td>https://www.youtube.com/watch?v=maNB_H2TnsY</td>\n",
       "      <td>Lesson 2 - Numpy Array vs Pandas DataFrame Cle...</td>\n",
       "      <td>https://i1.ytimg.com/vi/maNB_H2TnsY/hqdefault.jpg</td>\n",
       "      <td>3537</td>\n",
       "      <td>63.0</td>\n",
       "      <td>6</td>\n",
       "      <td>2280.0</td>\n",
       "      <td>Sep 8 2019</td>\n",
       "      <td>240</td>\n",
       "      <td>4.678663</td>\n",
       "    </tr>\n",
       "    <tr>\n",
       "      <th>52</th>\n",
       "      <td>https://www.youtube.com/watch?v=Ti-uDPHG6OM</td>\n",
       "      <td>Programmieren in Python 3.6 (23): Numpy</td>\n",
       "      <td>https://i.ytimg.com/vi_webp/Ti-uDPHG6OM/maxres...</td>\n",
       "      <td>3538</td>\n",
       "      <td>34.0</td>\n",
       "      <td>6</td>\n",
       "      <td>25700.0</td>\n",
       "      <td>Nov 18 2017</td>\n",
       "      <td>899</td>\n",
       "      <td>4.254857</td>\n",
       "    </tr>\n",
       "    <tr>\n",
       "      <th>42</th>\n",
       "      <td>https://www.youtube.com/watch?v=MOM6MxcROjw</td>\n",
       "      <td>Install Python with NumPy SciPy Matplotlib on ...</td>\n",
       "      <td>https://i.ytimg.com/vi_webp/MOM6MxcROjw/maxres...</td>\n",
       "      <td>9743</td>\n",
       "      <td>1.0</td>\n",
       "      <td>1</td>\n",
       "      <td>1260.0</td>\n",
       "      <td>Mar 24 2019</td>\n",
       "      <td>408</td>\n",
       "      <td>0.031983</td>\n",
       "    </tr>\n",
       "    <tr>\n",
       "      <th>24</th>\n",
       "      <td>https://www.youtube.com/watch?v=S3srAo52rZI</td>\n",
       "      <td>Install Python with NumPy SciPy Matplotlib on ...</td>\n",
       "      <td>https://i.ytimg.com/vi_webp/S3srAo52rZI/maxres...</td>\n",
       "      <td>8742</td>\n",
       "      <td>1.0</td>\n",
       "      <td>1</td>\n",
       "      <td>1260.0</td>\n",
       "      <td>Oct 16 2019</td>\n",
       "      <td>202</td>\n",
       "      <td>0.030554</td>\n",
       "    </tr>\n",
       "  </tbody>\n",
       "</table>\n",
       "</div>"
      ],
      "text/plain": [
       "                                           Link  \\\n",
       "31  https://www.youtube.com/watch?v=r-uOLxNrNk8   \n",
       "3   https://www.youtube.com/watch?v=GB9ByFAIAH4   \n",
       "0   https://www.youtube.com/watch?v=8JfDAm9y_7s   \n",
       "4   https://www.youtube.com/watch?v=8LlXhtfNZEQ   \n",
       "10  https://www.youtube.com/watch?v=NYPKbmE0H6E   \n",
       "1   https://www.youtube.com/watch?v=QUT1VHiLmmI   \n",
       "7   https://www.youtube.com/watch?v=8Mpc9ukltVA   \n",
       "15  https://www.youtube.com/watch?v=a8aDcLk4vRc   \n",
       "14  https://www.youtube.com/watch?v=_d_Ka-ks2a0   \n",
       "54  https://www.youtube.com/watch?v=kbBi1liIrFg   \n",
       "13  https://www.youtube.com/watch?v=oE4KeuVNqcQ   \n",
       "6   https://www.youtube.com/watch?v=ZB7BZMhfPgk   \n",
       "50  https://www.youtube.com/watch?v=WxJr143Os-A   \n",
       "43  https://www.youtube.com/watch?v=RwFiNlL4Q8g   \n",
       "41  https://www.youtube.com/watch?v=NzDQTrqsxas   \n",
       "2   https://www.youtube.com/watch?v=xECXZ3tyONo   \n",
       "11  https://www.youtube.com/watch?v=mOZ0UCeuRX4   \n",
       "48  https://www.youtube.com/watch?v=VJBY2eVtf7o   \n",
       "19  https://www.youtube.com/watch?v=vfBRleigfR8   \n",
       "21  https://www.youtube.com/watch?v=XI6PHo_gP4E   \n",
       "40  https://www.youtube.com/watch?v=lzmCGZ_BF_4   \n",
       "45  https://www.youtube.com/watch?v=CC4aco6zWic   \n",
       "47  https://www.youtube.com/watch?v=5vT553CSxas   \n",
       "49  https://www.youtube.com/watch?v=yOTPfKPuZ8U   \n",
       "29  https://www.youtube.com/watch?v=6znKTzhZ3FA   \n",
       "5   https://www.youtube.com/watch?v=Rbh1rieb3zc   \n",
       "23  https://www.youtube.com/watch?v=vRRifcvGCkA   \n",
       "30  https://www.youtube.com/watch?v=rnw1qixAv1s   \n",
       "51  https://www.youtube.com/watch?v=cg8P0NSe8Ew   \n",
       "27  https://www.youtube.com/watch?v=0u9OzBSRZec   \n",
       "12  https://www.youtube.com/watch?v=jPEUXkW-DRE   \n",
       "55  https://www.youtube.com/watch?v=bFv66_RXLb4   \n",
       "34  https://www.youtube.com/watch?v=cYugp9IN1-Q   \n",
       "36  https://www.youtube.com/watch?v=NpG8980kYEM   \n",
       "56  https://www.youtube.com/watch?v=zvkNBeoCwA0   \n",
       "57  https://www.youtube.com/watch?v=97o5ckUHDmo   \n",
       "53  https://www.youtube.com/watch?v=alvNcKgMuA8   \n",
       "22  https://www.youtube.com/watch?v=jbIQxQjlIWg   \n",
       "37  https://www.youtube.com/watch?v=2WTDrSkQBng   \n",
       "32  https://www.youtube.com/watch?v=rNMFtbWmbhE   \n",
       "16  https://www.youtube.com/watch?v=0t6FRh0Pmtw   \n",
       "33  https://www.youtube.com/watch?v=6Z98UzGc-Us   \n",
       "17  https://www.youtube.com/watch?v=poD8ud4MxOY   \n",
       "44  https://www.youtube.com/watch?v=mshyx9uVvEE   \n",
       "35  https://www.youtube.com/watch?v=Vk7foZ_hdZQ   \n",
       "28  https://www.youtube.com/watch?v=qx70kifeRC8   \n",
       "39  https://www.youtube.com/watch?v=rpmp_-Xq0kU   \n",
       "25  https://www.youtube.com/watch?v=YFW4EoVBYhM   \n",
       "38  https://www.youtube.com/watch?v=9bHtS2tTLjI   \n",
       "20  https://www.youtube.com/watch?v=2Y6aMjBYPww   \n",
       "46  https://www.youtube.com/watch?v=cAmkgMnKx34   \n",
       "9   https://www.youtube.com/watch?v=pP5dQG0foTs   \n",
       "8   https://www.youtube.com/watch?v=DI8wg3SRV90   \n",
       "58  https://www.youtube.com/watch?v=vIz6X87uCnM   \n",
       "26  https://www.youtube.com/watch?v=x06nL__ECpg   \n",
       "18  https://www.youtube.com/watch?v=maNB_H2TnsY   \n",
       "52  https://www.youtube.com/watch?v=Ti-uDPHG6OM   \n",
       "42  https://www.youtube.com/watch?v=MOM6MxcROjw   \n",
       "24  https://www.youtube.com/watch?v=S3srAo52rZI   \n",
       "\n",
       "                                                Title  \\\n",
       "31  Data Analysis with Python - Full Course for Be...   \n",
       "3   Complete Python NumPy Tutorial (Creating Array...   \n",
       "0   Python NumPy Tutorial | NumPy Array | Python T...   \n",
       "4   #28 Python Tutorial for Beginners | Why Numpy?...   \n",
       "10  #29 Python Tutorial for Beginners | Ways of Cr...   \n",
       "1                 Python NumPy Tutorial for Beginners   \n",
       "7    Python: NUMPY | Numerical Python Arrays Tutorial   \n",
       "15            numpy tutorial - basic array operations   \n",
       "14  numpy tutorial - slicing/stacking arrays, inde...   \n",
       "54             NumPy Linear Algebra - Dr. Ahmad Bazzi   \n",
       "13  How to install numpy, scipy and matplotlib - p...   \n",
       "6   Introduction to Numerical Computing with NumPy...   \n",
       "50  INTRODUCCIÓN A LA LIBRERÍA NUMPY DE PYTHON - P...   \n",
       "43  PYTHON NUMPY STATISTIQUES et MATHÉMATIQUES (12...   \n",
       "41              PYTHON NUMPY machine learning (10/30)   \n",
       "2     Learn NUMPY in 5 minutes - BEST Python Library!   \n",
       "11                           Arrays in Python / Numpy   \n",
       "48  Generating Mock Data with Python! (NumPy, Pand...   \n",
       "19  Importing data in python Read Flat File numpy ...   \n",
       "21  NumPy Tutorials - List vs NumPy Array | Python...   \n",
       "40        Loading an image in python as a numpy array   \n",
       "45  Aprenda como usar o Numpy (Python para machine...   \n",
       "47  Array Manipulation | transpose and swapaxes | ...   \n",
       "49  Numpy Ones Function | Creating NumPy Arrays | ...   \n",
       "29        Learn Python NumPy - #1 Arrays & Data Types   \n",
       "5                             Numpy Tutorial in Hindi   \n",
       "23  Numpy Arange Function | Creating NumPy Arrays ...   \n",
       "30                  How to use Numpy Arrays in Python   \n",
       "51  [Hindi] Python Numpy Array Functions and Slici...   \n",
       "27  Broadcasting | NumPy Tutorials | Python Progra...   \n",
       "12  Working with Numpy | Full Chapter | Class 12th...   \n",
       "55  Indexing Operation in NumPy Arrays | Python Tu...   \n",
       "34  Advanced NumPy | SciPy Japan 2019 Tutorial | J...   \n",
       "36             How to install numpy in Python (Hindi)   \n",
       "56                      Numpy and Matplotlib Tutorial   \n",
       "57  Arreglos en Python: Introducción al uso de vec...   \n",
       "53  2. Библиотека Numpy. Курс \"ВВЕДЕНИЕ В АНАЛИЗ Д...   \n",
       "22  Install and Configure python 3.8.0 for Numpy, ...   \n",
       "37  Advanced Indexing Operation in NumPy Arrays | ...   \n",
       "32  Numpy Array Function | Creating NumPy Arrays |...   \n",
       "16                                 Python Numpy Where   \n",
       "33  Array Manipulation | Insert and Delete Functio...   \n",
       "17  Making Computation Easier with Cool Numpy Tric...   \n",
       "44  Python NumPy Tutorial - 3 - How Create Array U...   \n",
       "35    NumPy | NumPy in Python Tutorial | Mr. Srinivas   \n",
       "28  NumPy Zeros Function | Creating NumPy Arrays |...   \n",
       "39  Array Manipulation | Splitting and Joining Arr...   \n",
       "25  Numpy array in Hindi | Python full course |201...   \n",
       "38                            Python NumPy | Linspace   \n",
       "20                          Numpy and Loops in Python   \n",
       "46      How NumPy Arrays are faster than Python List?   \n",
       "9     What is Numpy? Python for Data Science tutorial   \n",
       "8   Numpy Tutorial | Python Numpy Tutorial | Intel...   \n",
       "58          Библиотека Numpy. Python Advanced. Урок 5   \n",
       "26                         Python NumPy | Dot Product   \n",
       "18  Lesson 2 - Numpy Array vs Pandas DataFrame Cle...   \n",
       "52            Programmieren in Python 3.6 (23): Numpy   \n",
       "42  Install Python with NumPy SciPy Matplotlib on ...   \n",
       "24  Install Python with NumPy SciPy Matplotlib on ...   \n",
       "\n",
       "                                                  URL   Views   Likes  \\\n",
       "31  https://i.ytimg.com/vi_webp/r-uOLxNrNk8/maxres...   96780  3600.0   \n",
       "3   https://i.ytimg.com/vi_webp/IBiWRWJJE1E/maxres...  189730  6000.0   \n",
       "0   https://i.ytimg.com/vi_webp/8JfDAm9y_7s/maxres...  354670  3800.0   \n",
       "4   https://i.ytimg.com/vi_webp/IBiWRWJJE1E/maxres...  230952  2700.0   \n",
       "10  https://i.ytimg.com/vi_webp/NYPKbmE0H6E/maxres...  184272  1900.0   \n",
       "1   https://i.ytimg.com/vi_webp/QUT1VHiLmmI/maxres...  102161  2900.0   \n",
       "7   https://i.ytimg.com/vi_webp/8Mpc9ukltVA/maxres...   89764  1700.0   \n",
       "15  https://i.ytimg.com/vi_webp/a8aDcLk4vRc/maxres...  102579  1100.0   \n",
       "14  https://i.ytimg.com/vi_webp/_d_Ka-ks2a0/maxres...   68889  1400.0   \n",
       "54  https://i.ytimg.com/vi_webp/kbBi1liIrFg/maxres...   19588  1700.0   \n",
       "13  https://i.ytimg.com/vi_webp/oE4KeuVNqcQ/maxres...  200252   998.0   \n",
       "6   https://i.ytimg.com/vi_webp/ZB7BZMhfPgk/maxres...   41766   848.0   \n",
       "50  https://i.ytimg.com/vi_webp/WxJr143Os-A/maxres...   34207   841.0   \n",
       "43  https://i.ytimg.com/vi_webp/RwFiNlL4Q8g/maxres...   14073   367.0   \n",
       "41  https://i.ytimg.com/vi_webp/NzDQTrqsxas/maxres...   19238   574.0   \n",
       "2   https://i.ytimg.com/vi_webp/IBiWRWJJE1E/maxres...  273767  8600.0   \n",
       "11  https://i.ytimg.com/vi_webp/mOZ0UCeuRX4/maxres...  165545   819.0   \n",
       "48  https://i.ytimg.com/vi/VJBY2eVtf7o/maxresdefau...    5135   244.0   \n",
       "19  https://i.ytimg.com/vi_webp/vfBRleigfR8/maxres...   11752    80.0   \n",
       "21  https://i.ytimg.com/vi_webp/XI6PHo_gP4E/maxres...   10148   223.0   \n",
       "40  https://i.ytimg.com/vi/lzmCGZ_BF_4/maxresdefau...    4137    73.0   \n",
       "45  https://i.ytimg.com/vi_webp/CC4aco6zWic/maxres...    6800   332.0   \n",
       "47  https://i.ytimg.com/vi_webp/5vT553CSxas/maxres...    3141    63.0   \n",
       "49  https://i.ytimg.com/vi_webp/yOTPfKPuZ8U/maxres...    3638    50.0   \n",
       "29  https://i.ytimg.com/vi_webp/6znKTzhZ3FA/maxres...    1166    43.0   \n",
       "5   https://i.ytimg.com/vi_webp/IBiWRWJJE1E/maxres...   27873   901.0   \n",
       "23  https://i.ytimg.com/vi_webp/vRRifcvGCkA/maxres...    6716    98.0   \n",
       "30  https://i1.ytimg.com/vi/rnw1qixAv1s/hqdefault.jpg   49167   191.0   \n",
       "51  https://i.ytimg.com/vi_webp/cg8P0NSe8Ew/maxres...   11414   440.0   \n",
       "27  https://i.ytimg.com/vi_webp/0u9OzBSRZec/maxres...    4250    88.0   \n",
       "12  https://i1.ytimg.com/vi/jPEUXkW-DRE/hqdefault.jpg   24720   627.0   \n",
       "55  https://i.ytimg.com/vi_webp/bFv66_RXLb4/maxres...    3328    62.0   \n",
       "34  https://i.ytimg.com/vi_webp/cYugp9IN1-Q/maxres...   10102   180.0   \n",
       "36  https://i.ytimg.com/vi_webp/NpG8980kYEM/maxres...    3836    86.0   \n",
       "56  https://i.ytimg.com/vi_webp/zvkNBeoCwA0/maxres...   11318   209.0   \n",
       "57  https://i1.ytimg.com/vi/97o5ckUHDmo/hqdefault.jpg   73135   639.0   \n",
       "53  https://i1.ytimg.com/vi/alvNcKgMuA8/hqdefault.jpg   10640   197.0   \n",
       "22  https://i1.ytimg.com/vi/jbIQxQjlIWg/hqdefault.jpg    8134   103.0   \n",
       "37  https://i.ytimg.com/vi_webp/2WTDrSkQBng/maxres...    3882    72.0   \n",
       "32  https://i.ytimg.com/vi_webp/rNMFtbWmbhE/maxres...    8728   126.0   \n",
       "16  https://i.ytimg.com/vi_webp/0t6FRh0Pmtw/maxres...    2125    37.0   \n",
       "33  https://i.ytimg.com/vi_webp/6Z98UzGc-Us/maxres...    3101    60.0   \n",
       "17  https://i.ytimg.com/vi_webp/poD8ud4MxOY/maxres...    7612   151.0   \n",
       "44  https://i.ytimg.com/vi_webp/mshyx9uVvEE/maxres...    9270   120.0   \n",
       "35  https://i.ytimg.com/vi_webp/Vk7foZ_hdZQ/maxres...   11447   172.0   \n",
       "28  https://i.ytimg.com/vi_webp/qx70kifeRC8/maxres...    5137    70.0   \n",
       "39  https://i.ytimg.com/vi_webp/rpmp_-Xq0kU/maxres...    3087    64.0   \n",
       "25  https://i.ytimg.com/vi_webp/YFW4EoVBYhM/maxres...    2134    79.0   \n",
       "38  https://i.ytimg.com/vi_webp/9bHtS2tTLjI/maxres...    1157    37.0   \n",
       "20  https://i.ytimg.com/vi_webp/2Y6aMjBYPww/maxres...    8281    62.0   \n",
       "46  https://i.ytimg.com/vi_webp/cAmkgMnKx34/maxres...    2602    95.0   \n",
       "9   https://i1.ytimg.com/vi/pP5dQG0foTs/hqdefault.jpg   41994   392.0   \n",
       "8   https://i1.ytimg.com/vi/DI8wg3SRV90/hqdefault.jpg    8527   149.0   \n",
       "58  https://i.ytimg.com/vi_webp/vIz6X87uCnM/maxres...    6448   123.0   \n",
       "26  https://i.ytimg.com/vi_webp/x06nL__ECpg/maxres...    2541    37.0   \n",
       "18  https://i1.ytimg.com/vi/maNB_H2TnsY/hqdefault.jpg    3537    63.0   \n",
       "52  https://i.ytimg.com/vi_webp/Ti-uDPHG6OM/maxres...    3538    34.0   \n",
       "42  https://i.ytimg.com/vi_webp/MOM6MxcROjw/maxres...    9743     1.0   \n",
       "24  https://i.ytimg.com/vi_webp/S3srAo52rZI/maxres...    8742     1.0   \n",
       "\n",
       "   Dislikes   Subcount         Date  Days     Score  \n",
       "31       36  1910000.0  Apr 15 2020    20  6.981660  \n",
       "3        68    45400.0  Jul 10 2019   300  6.260659  \n",
       "0       219  1660000.0  Apr 11 2017  1120  5.994252  \n",
       "4        81   927000.0  Jul 20 2018   655  5.891865  \n",
       "10       40   927000.0  Jul 22 2018   653  5.778688  \n",
       "1        19  1910000.0   Aug 7 2019   272  5.756283  \n",
       "7        20    47900.0  Jun 10 2018   695  5.523309  \n",
       "15       25   107000.0  Dec 26 2016  1226  5.436728  \n",
       "14       16   107000.0  Dec 27 2016  1225  5.426186  \n",
       "54        4    28800.0  Sep 13 2018   600  5.366389  \n",
       "13       80      912.0   May 9 2017  1092  5.360083  \n",
       "6         6    44000.0  Jul 11 2019   299  5.347623  \n",
       "50       10    19200.0  Sep 21 2018   592  5.276419  \n",
       "43        0    14200.0  Sep 17 2019   231  5.251144  \n",
       "41        4    14200.0  Sep 12 2019   236  5.248415  \n",
       "2       715   161000.0  Jan 17 2019   474  5.239646  \n",
       "11       67    41800.0   Oct 6 2015  1673  5.237263  \n",
       "48        0    45400.0  Jan 31 2020    95  5.215978  \n",
       "19        0     7440.0   Jul 3 2017  1037  5.207409  \n",
       "21        1    69100.0  Jul 15 2019   295  5.194896  \n",
       "40        0      519.0   Sep 6 2019   242  5.183868  \n",
       "45        2    13800.0  May 24 2019   347  5.183265  \n",
       "47        0    69100.0  Sep 20 2019   228  5.179377  \n",
       "49        0    69100.0  Jul 24 2019   286  5.179289  \n",
       "29        0    15100.0  May 12 2019   359  5.169581  \n",
       "5        25   288000.0   Jul 2 2019   308  5.163382  \n",
       "23        1    69100.0  Jul 20 2019   290  5.140634  \n",
       "30        7    93000.0   Nov 8 2016  1274  5.139027  \n",
       "51        8   288000.0  Aug 21 2018   623  5.132776  \n",
       "27        1    69100.0  Aug 23 2019   256  5.125269  \n",
       "12       21    16600.0   Oct 5 2019   213  5.109715  \n",
       "55        1    69100.0   Aug 9 2019   270  5.094546  \n",
       "34        5    44000.0  May 17 2019   354  5.062160  \n",
       "36        2   266000.0  Sep 19 2019   229  5.060809  \n",
       "56        6    18700.0   Apr 3 2017  1128  5.058730  \n",
       "57       41    33100.0  Jul 23 2016  1382  5.055915  \n",
       "53        6   149000.0  Oct 21 2019   197  5.054494  \n",
       "22        3      250.0  Nov 18 2019   169  5.048098  \n",
       "37        2    69100.0  Aug 15 2019   264  5.035743  \n",
       "32        4    69100.0  Jul 19 2019   291  5.034176  \n",
       "16        1     2030.0  Jul 26 2019   284  5.031368  \n",
       "33        2    69100.0  Sep 29 2019   219  5.003487  \n",
       "17        6    93400.0  Nov 29 2018   523  4.985855  \n",
       "44        5     8450.0  May 22 2018   714  4.979618  \n",
       "35        8   596000.0  Oct 18 2019   200  4.968244  \n",
       "28        3    69100.0  Jul 22 2019   288  4.960194  \n",
       "39        3    69100.0  Sep 27 2019   221  4.932203  \n",
       "25        4        1.0   Aug 3 2019   276  4.908672  \n",
       "38        2     1420.0  Jun 13 2019   327  4.886561  \n",
       "20        4    41800.0  May 10 2016  1456  4.854035  \n",
       "46        6    13500.0  Aug 24 2019   255  4.844053  \n",
       "9        34     2750.0  Apr 16 2016  1480  4.826980  \n",
       "8        11   489000.0  Aug 21 2019   258  4.807071  \n",
       "58       10   178000.0  Jun 10 2019   330  4.759082  \n",
       "26        3     1420.0  Jun 19 2019   321  4.750201  \n",
       "18        6     2280.0   Sep 8 2019   240  4.678663  \n",
       "52        6    25700.0  Nov 18 2017   899  4.254857  \n",
       "42        1     1260.0  Mar 24 2019   408  0.031983  \n",
       "24        1     1260.0  Oct 16 2019   202  0.030554  "
      ]
     },
     "execution_count": 4,
     "metadata": {},
     "output_type": "execute_result"
    }
   ],
   "source": [
    "\n",
    "df1.sort_values(by='Score',ascending=0)"
   ]
  },
  {
   "cell_type": "markdown",
   "metadata": {},
   "source": [
    "# ---------------------------------------------------------------"
   ]
  },
  {
   "cell_type": "markdown",
   "metadata": {},
   "source": [
    "# Likes"
   ]
  },
  {
   "cell_type": "code",
   "execution_count": 75,
   "metadata": {
    "scrolled": false
   },
   "outputs": [
    {
     "data": {
      "application/vnd.plotly.v1+json": {
       "config": {
        "plotlyServerURL": "https://plot.ly"
       },
       "data": [
        {
         "marker": {
          "color": [
           "green",
           "green",
           "green",
           "green",
           "grey",
           "grey",
           "grey",
           "grey",
           "grey",
           "grey",
           "grey",
           "grey",
           "grey",
           "grey",
           "grey",
           "grey",
           "grey",
           "grey",
           "grey",
           "grey",
           "grey",
           "grey",
           "grey",
           "grey",
           "grey",
           "grey",
           "grey",
           "grey",
           "grey",
           "grey",
           "grey",
           "green",
           "grey",
           "grey",
           "grey",
           "grey",
           "grey",
           "grey",
           "grey",
           "grey",
           "grey",
           "grey",
           "grey",
           "grey",
           "grey",
           "grey",
           "grey",
           "grey",
           "grey",
           "grey",
           "grey",
           "grey",
           "grey",
           "grey",
           "grey",
           "grey",
           "grey",
           "grey",
           "grey"
          ]
         },
         "type": "bar",
         "x": [
          0,
          1,
          2,
          3,
          4,
          5,
          6,
          7,
          8,
          9,
          10,
          11,
          12,
          13,
          14,
          15,
          16,
          17,
          18,
          19,
          20,
          21,
          22,
          23,
          24,
          25,
          26,
          27,
          28,
          29,
          30,
          31,
          32,
          33,
          34,
          35,
          36,
          37,
          38,
          39,
          40,
          41,
          42,
          43,
          44,
          45,
          46,
          47,
          48,
          49,
          50,
          51,
          52,
          53,
          54,
          55,
          56,
          57,
          58
         ],
         "y": [
          3800,
          2900,
          8600,
          6000,
          2700,
          901,
          848,
          1700,
          149,
          392,
          1900,
          819,
          627,
          998,
          1400,
          1100,
          37,
          151,
          63,
          80,
          62,
          223,
          103,
          98,
          1,
          79,
          37,
          88,
          70,
          43,
          191,
          3600,
          126,
          60,
          180,
          172,
          86,
          72,
          37,
          64,
          73,
          574,
          1,
          367,
          120,
          332,
          95,
          63,
          244,
          50,
          841,
          440,
          34,
          197,
          1700,
          62,
          209,
          639,
          123
         ]
        }
       ],
       "layout": {
        "template": {
         "data": {
          "bar": [
           {
            "error_x": {
             "color": "#2a3f5f"
            },
            "error_y": {
             "color": "#2a3f5f"
            },
            "marker": {
             "line": {
              "color": "#E5ECF6",
              "width": 0.5
             }
            },
            "type": "bar"
           }
          ],
          "barpolar": [
           {
            "marker": {
             "line": {
              "color": "#E5ECF6",
              "width": 0.5
             }
            },
            "type": "barpolar"
           }
          ],
          "carpet": [
           {
            "aaxis": {
             "endlinecolor": "#2a3f5f",
             "gridcolor": "white",
             "linecolor": "white",
             "minorgridcolor": "white",
             "startlinecolor": "#2a3f5f"
            },
            "baxis": {
             "endlinecolor": "#2a3f5f",
             "gridcolor": "white",
             "linecolor": "white",
             "minorgridcolor": "white",
             "startlinecolor": "#2a3f5f"
            },
            "type": "carpet"
           }
          ],
          "choropleth": [
           {
            "colorbar": {
             "outlinewidth": 0,
             "ticks": ""
            },
            "type": "choropleth"
           }
          ],
          "contour": [
           {
            "colorbar": {
             "outlinewidth": 0,
             "ticks": ""
            },
            "colorscale": [
             [
              0,
              "#0d0887"
             ],
             [
              0.1111111111111111,
              "#46039f"
             ],
             [
              0.2222222222222222,
              "#7201a8"
             ],
             [
              0.3333333333333333,
              "#9c179e"
             ],
             [
              0.4444444444444444,
              "#bd3786"
             ],
             [
              0.5555555555555556,
              "#d8576b"
             ],
             [
              0.6666666666666666,
              "#ed7953"
             ],
             [
              0.7777777777777778,
              "#fb9f3a"
             ],
             [
              0.8888888888888888,
              "#fdca26"
             ],
             [
              1,
              "#f0f921"
             ]
            ],
            "type": "contour"
           }
          ],
          "contourcarpet": [
           {
            "colorbar": {
             "outlinewidth": 0,
             "ticks": ""
            },
            "type": "contourcarpet"
           }
          ],
          "heatmap": [
           {
            "colorbar": {
             "outlinewidth": 0,
             "ticks": ""
            },
            "colorscale": [
             [
              0,
              "#0d0887"
             ],
             [
              0.1111111111111111,
              "#46039f"
             ],
             [
              0.2222222222222222,
              "#7201a8"
             ],
             [
              0.3333333333333333,
              "#9c179e"
             ],
             [
              0.4444444444444444,
              "#bd3786"
             ],
             [
              0.5555555555555556,
              "#d8576b"
             ],
             [
              0.6666666666666666,
              "#ed7953"
             ],
             [
              0.7777777777777778,
              "#fb9f3a"
             ],
             [
              0.8888888888888888,
              "#fdca26"
             ],
             [
              1,
              "#f0f921"
             ]
            ],
            "type": "heatmap"
           }
          ],
          "heatmapgl": [
           {
            "colorbar": {
             "outlinewidth": 0,
             "ticks": ""
            },
            "colorscale": [
             [
              0,
              "#0d0887"
             ],
             [
              0.1111111111111111,
              "#46039f"
             ],
             [
              0.2222222222222222,
              "#7201a8"
             ],
             [
              0.3333333333333333,
              "#9c179e"
             ],
             [
              0.4444444444444444,
              "#bd3786"
             ],
             [
              0.5555555555555556,
              "#d8576b"
             ],
             [
              0.6666666666666666,
              "#ed7953"
             ],
             [
              0.7777777777777778,
              "#fb9f3a"
             ],
             [
              0.8888888888888888,
              "#fdca26"
             ],
             [
              1,
              "#f0f921"
             ]
            ],
            "type": "heatmapgl"
           }
          ],
          "histogram": [
           {
            "marker": {
             "colorbar": {
              "outlinewidth": 0,
              "ticks": ""
             }
            },
            "type": "histogram"
           }
          ],
          "histogram2d": [
           {
            "colorbar": {
             "outlinewidth": 0,
             "ticks": ""
            },
            "colorscale": [
             [
              0,
              "#0d0887"
             ],
             [
              0.1111111111111111,
              "#46039f"
             ],
             [
              0.2222222222222222,
              "#7201a8"
             ],
             [
              0.3333333333333333,
              "#9c179e"
             ],
             [
              0.4444444444444444,
              "#bd3786"
             ],
             [
              0.5555555555555556,
              "#d8576b"
             ],
             [
              0.6666666666666666,
              "#ed7953"
             ],
             [
              0.7777777777777778,
              "#fb9f3a"
             ],
             [
              0.8888888888888888,
              "#fdca26"
             ],
             [
              1,
              "#f0f921"
             ]
            ],
            "type": "histogram2d"
           }
          ],
          "histogram2dcontour": [
           {
            "colorbar": {
             "outlinewidth": 0,
             "ticks": ""
            },
            "colorscale": [
             [
              0,
              "#0d0887"
             ],
             [
              0.1111111111111111,
              "#46039f"
             ],
             [
              0.2222222222222222,
              "#7201a8"
             ],
             [
              0.3333333333333333,
              "#9c179e"
             ],
             [
              0.4444444444444444,
              "#bd3786"
             ],
             [
              0.5555555555555556,
              "#d8576b"
             ],
             [
              0.6666666666666666,
              "#ed7953"
             ],
             [
              0.7777777777777778,
              "#fb9f3a"
             ],
             [
              0.8888888888888888,
              "#fdca26"
             ],
             [
              1,
              "#f0f921"
             ]
            ],
            "type": "histogram2dcontour"
           }
          ],
          "mesh3d": [
           {
            "colorbar": {
             "outlinewidth": 0,
             "ticks": ""
            },
            "type": "mesh3d"
           }
          ],
          "parcoords": [
           {
            "line": {
             "colorbar": {
              "outlinewidth": 0,
              "ticks": ""
             }
            },
            "type": "parcoords"
           }
          ],
          "pie": [
           {
            "automargin": true,
            "type": "pie"
           }
          ],
          "scatter": [
           {
            "marker": {
             "colorbar": {
              "outlinewidth": 0,
              "ticks": ""
             }
            },
            "type": "scatter"
           }
          ],
          "scatter3d": [
           {
            "line": {
             "colorbar": {
              "outlinewidth": 0,
              "ticks": ""
             }
            },
            "marker": {
             "colorbar": {
              "outlinewidth": 0,
              "ticks": ""
             }
            },
            "type": "scatter3d"
           }
          ],
          "scattercarpet": [
           {
            "marker": {
             "colorbar": {
              "outlinewidth": 0,
              "ticks": ""
             }
            },
            "type": "scattercarpet"
           }
          ],
          "scattergeo": [
           {
            "marker": {
             "colorbar": {
              "outlinewidth": 0,
              "ticks": ""
             }
            },
            "type": "scattergeo"
           }
          ],
          "scattergl": [
           {
            "marker": {
             "colorbar": {
              "outlinewidth": 0,
              "ticks": ""
             }
            },
            "type": "scattergl"
           }
          ],
          "scattermapbox": [
           {
            "marker": {
             "colorbar": {
              "outlinewidth": 0,
              "ticks": ""
             }
            },
            "type": "scattermapbox"
           }
          ],
          "scatterpolar": [
           {
            "marker": {
             "colorbar": {
              "outlinewidth": 0,
              "ticks": ""
             }
            },
            "type": "scatterpolar"
           }
          ],
          "scatterpolargl": [
           {
            "marker": {
             "colorbar": {
              "outlinewidth": 0,
              "ticks": ""
             }
            },
            "type": "scatterpolargl"
           }
          ],
          "scatterternary": [
           {
            "marker": {
             "colorbar": {
              "outlinewidth": 0,
              "ticks": ""
             }
            },
            "type": "scatterternary"
           }
          ],
          "surface": [
           {
            "colorbar": {
             "outlinewidth": 0,
             "ticks": ""
            },
            "colorscale": [
             [
              0,
              "#0d0887"
             ],
             [
              0.1111111111111111,
              "#46039f"
             ],
             [
              0.2222222222222222,
              "#7201a8"
             ],
             [
              0.3333333333333333,
              "#9c179e"
             ],
             [
              0.4444444444444444,
              "#bd3786"
             ],
             [
              0.5555555555555556,
              "#d8576b"
             ],
             [
              0.6666666666666666,
              "#ed7953"
             ],
             [
              0.7777777777777778,
              "#fb9f3a"
             ],
             [
              0.8888888888888888,
              "#fdca26"
             ],
             [
              1,
              "#f0f921"
             ]
            ],
            "type": "surface"
           }
          ],
          "table": [
           {
            "cells": {
             "fill": {
              "color": "#EBF0F8"
             },
             "line": {
              "color": "white"
             }
            },
            "header": {
             "fill": {
              "color": "#C8D4E3"
             },
             "line": {
              "color": "white"
             }
            },
            "type": "table"
           }
          ]
         },
         "layout": {
          "annotationdefaults": {
           "arrowcolor": "#2a3f5f",
           "arrowhead": 0,
           "arrowwidth": 1
          },
          "coloraxis": {
           "colorbar": {
            "outlinewidth": 0,
            "ticks": ""
           }
          },
          "colorscale": {
           "diverging": [
            [
             0,
             "#8e0152"
            ],
            [
             0.1,
             "#c51b7d"
            ],
            [
             0.2,
             "#de77ae"
            ],
            [
             0.3,
             "#f1b6da"
            ],
            [
             0.4,
             "#fde0ef"
            ],
            [
             0.5,
             "#f7f7f7"
            ],
            [
             0.6,
             "#e6f5d0"
            ],
            [
             0.7,
             "#b8e186"
            ],
            [
             0.8,
             "#7fbc41"
            ],
            [
             0.9,
             "#4d9221"
            ],
            [
             1,
             "#276419"
            ]
           ],
           "sequential": [
            [
             0,
             "#0d0887"
            ],
            [
             0.1111111111111111,
             "#46039f"
            ],
            [
             0.2222222222222222,
             "#7201a8"
            ],
            [
             0.3333333333333333,
             "#9c179e"
            ],
            [
             0.4444444444444444,
             "#bd3786"
            ],
            [
             0.5555555555555556,
             "#d8576b"
            ],
            [
             0.6666666666666666,
             "#ed7953"
            ],
            [
             0.7777777777777778,
             "#fb9f3a"
            ],
            [
             0.8888888888888888,
             "#fdca26"
            ],
            [
             1,
             "#f0f921"
            ]
           ],
           "sequentialminus": [
            [
             0,
             "#0d0887"
            ],
            [
             0.1111111111111111,
             "#46039f"
            ],
            [
             0.2222222222222222,
             "#7201a8"
            ],
            [
             0.3333333333333333,
             "#9c179e"
            ],
            [
             0.4444444444444444,
             "#bd3786"
            ],
            [
             0.5555555555555556,
             "#d8576b"
            ],
            [
             0.6666666666666666,
             "#ed7953"
            ],
            [
             0.7777777777777778,
             "#fb9f3a"
            ],
            [
             0.8888888888888888,
             "#fdca26"
            ],
            [
             1,
             "#f0f921"
            ]
           ]
          },
          "colorway": [
           "#636efa",
           "#EF553B",
           "#00cc96",
           "#ab63fa",
           "#FFA15A",
           "#19d3f3",
           "#FF6692",
           "#B6E880",
           "#FF97FF",
           "#FECB52"
          ],
          "font": {
           "color": "#2a3f5f"
          },
          "geo": {
           "bgcolor": "white",
           "lakecolor": "white",
           "landcolor": "#E5ECF6",
           "showlakes": true,
           "showland": true,
           "subunitcolor": "white"
          },
          "hoverlabel": {
           "align": "left"
          },
          "hovermode": "closest",
          "mapbox": {
           "style": "light"
          },
          "paper_bgcolor": "white",
          "plot_bgcolor": "#E5ECF6",
          "polar": {
           "angularaxis": {
            "gridcolor": "white",
            "linecolor": "white",
            "ticks": ""
           },
           "bgcolor": "#E5ECF6",
           "radialaxis": {
            "gridcolor": "white",
            "linecolor": "white",
            "ticks": ""
           }
          },
          "scene": {
           "xaxis": {
            "backgroundcolor": "#E5ECF6",
            "gridcolor": "white",
            "gridwidth": 2,
            "linecolor": "white",
            "showbackground": true,
            "ticks": "",
            "zerolinecolor": "white"
           },
           "yaxis": {
            "backgroundcolor": "#E5ECF6",
            "gridcolor": "white",
            "gridwidth": 2,
            "linecolor": "white",
            "showbackground": true,
            "ticks": "",
            "zerolinecolor": "white"
           },
           "zaxis": {
            "backgroundcolor": "#E5ECF6",
            "gridcolor": "white",
            "gridwidth": 2,
            "linecolor": "white",
            "showbackground": true,
            "ticks": "",
            "zerolinecolor": "white"
           }
          },
          "shapedefaults": {
           "line": {
            "color": "#2a3f5f"
           }
          },
          "ternary": {
           "aaxis": {
            "gridcolor": "white",
            "linecolor": "white",
            "ticks": ""
           },
           "baxis": {
            "gridcolor": "white",
            "linecolor": "white",
            "ticks": ""
           },
           "bgcolor": "#E5ECF6",
           "caxis": {
            "gridcolor": "white",
            "linecolor": "white",
            "ticks": ""
           }
          },
          "title": {
           "x": 0.05
          },
          "xaxis": {
           "automargin": true,
           "gridcolor": "white",
           "linecolor": "white",
           "ticks": "",
           "title": {
            "standoff": 15
           },
           "zerolinecolor": "white",
           "zerolinewidth": 2
          },
          "yaxis": {
           "automargin": true,
           "gridcolor": "white",
           "linecolor": "white",
           "ticks": "",
           "title": {
            "standoff": 15
           },
           "zerolinecolor": "white",
           "zerolinewidth": 2
          }
         }
        },
        "title": {
         "text": "Likes per video"
        }
       }
      },
      "text/html": [
       "<div>\n",
       "        \n",
       "        \n",
       "            <div id=\"9b1442b7-e906-453b-99f4-9db2fef271bf\" class=\"plotly-graph-div\" style=\"height:525px; width:100%;\"></div>\n",
       "            <script type=\"text/javascript\">\n",
       "                require([\"plotly\"], function(Plotly) {\n",
       "                    window.PLOTLYENV=window.PLOTLYENV || {};\n",
       "                    \n",
       "                if (document.getElementById(\"9b1442b7-e906-453b-99f4-9db2fef271bf\")) {\n",
       "                    Plotly.newPlot(\n",
       "                        '9b1442b7-e906-453b-99f4-9db2fef271bf',\n",
       "                        [{\"marker\": {\"color\": [\"green\", \"green\", \"green\", \"green\", \"grey\", \"grey\", \"grey\", \"grey\", \"grey\", \"grey\", \"grey\", \"grey\", \"grey\", \"grey\", \"grey\", \"grey\", \"grey\", \"grey\", \"grey\", \"grey\", \"grey\", \"grey\", \"grey\", \"grey\", \"grey\", \"grey\", \"grey\", \"grey\", \"grey\", \"grey\", \"grey\", \"green\", \"grey\", \"grey\", \"grey\", \"grey\", \"grey\", \"grey\", \"grey\", \"grey\", \"grey\", \"grey\", \"grey\", \"grey\", \"grey\", \"grey\", \"grey\", \"grey\", \"grey\", \"grey\", \"grey\", \"grey\", \"grey\", \"grey\", \"grey\", \"grey\", \"grey\", \"grey\", \"grey\"]}, \"type\": \"bar\", \"x\": [0, 1, 2, 3, 4, 5, 6, 7, 8, 9, 10, 11, 12, 13, 14, 15, 16, 17, 18, 19, 20, 21, 22, 23, 24, 25, 26, 27, 28, 29, 30, 31, 32, 33, 34, 35, 36, 37, 38, 39, 40, 41, 42, 43, 44, 45, 46, 47, 48, 49, 50, 51, 52, 53, 54, 55, 56, 57, 58], \"y\": [3800.0, 2900.0, 8600.0, 6000.0, 2700.0, 901.0, 848.0, 1700.0, 149.0, 392.0, 1900.0, 819.0, 627.0, 998.0, 1400.0, 1100.0, 37.0, 151.0, 63.0, 80.0, 62.0, 223.0, 103.0, 98.0, 1.0, 79.0, 37.0, 88.0, 70.0, 43.0, 191.0, 3600.0, 126.0, 60.0, 180.0, 172.0, 86.0, 72.0, 37.0, 64.0, 73.0, 574.0, 1.0, 367.0, 120.0, 332.0, 95.0, 63.0, 244.0, 50.0, 841.0, 440.0, 34.0, 197.0, 1700.0, 62.0, 209.0, 639.0, 123.0]}],\n",
       "                        {\"template\": {\"data\": {\"bar\": [{\"error_x\": {\"color\": \"#2a3f5f\"}, \"error_y\": {\"color\": \"#2a3f5f\"}, \"marker\": {\"line\": {\"color\": \"#E5ECF6\", \"width\": 0.5}}, \"type\": \"bar\"}], \"barpolar\": [{\"marker\": {\"line\": {\"color\": \"#E5ECF6\", \"width\": 0.5}}, \"type\": \"barpolar\"}], \"carpet\": [{\"aaxis\": {\"endlinecolor\": \"#2a3f5f\", \"gridcolor\": \"white\", \"linecolor\": \"white\", \"minorgridcolor\": \"white\", \"startlinecolor\": \"#2a3f5f\"}, \"baxis\": {\"endlinecolor\": \"#2a3f5f\", \"gridcolor\": \"white\", \"linecolor\": \"white\", \"minorgridcolor\": \"white\", \"startlinecolor\": \"#2a3f5f\"}, \"type\": \"carpet\"}], \"choropleth\": [{\"colorbar\": {\"outlinewidth\": 0, \"ticks\": \"\"}, \"type\": \"choropleth\"}], \"contour\": [{\"colorbar\": {\"outlinewidth\": 0, \"ticks\": \"\"}, \"colorscale\": [[0.0, \"#0d0887\"], [0.1111111111111111, \"#46039f\"], [0.2222222222222222, \"#7201a8\"], [0.3333333333333333, \"#9c179e\"], [0.4444444444444444, \"#bd3786\"], [0.5555555555555556, \"#d8576b\"], [0.6666666666666666, \"#ed7953\"], [0.7777777777777778, \"#fb9f3a\"], [0.8888888888888888, \"#fdca26\"], [1.0, \"#f0f921\"]], \"type\": \"contour\"}], \"contourcarpet\": [{\"colorbar\": {\"outlinewidth\": 0, \"ticks\": \"\"}, \"type\": \"contourcarpet\"}], \"heatmap\": [{\"colorbar\": {\"outlinewidth\": 0, \"ticks\": \"\"}, \"colorscale\": [[0.0, \"#0d0887\"], [0.1111111111111111, \"#46039f\"], [0.2222222222222222, \"#7201a8\"], [0.3333333333333333, \"#9c179e\"], [0.4444444444444444, \"#bd3786\"], [0.5555555555555556, \"#d8576b\"], [0.6666666666666666, \"#ed7953\"], [0.7777777777777778, \"#fb9f3a\"], [0.8888888888888888, \"#fdca26\"], [1.0, \"#f0f921\"]], \"type\": \"heatmap\"}], \"heatmapgl\": [{\"colorbar\": {\"outlinewidth\": 0, \"ticks\": \"\"}, \"colorscale\": [[0.0, \"#0d0887\"], [0.1111111111111111, \"#46039f\"], [0.2222222222222222, \"#7201a8\"], [0.3333333333333333, \"#9c179e\"], [0.4444444444444444, \"#bd3786\"], [0.5555555555555556, \"#d8576b\"], [0.6666666666666666, \"#ed7953\"], [0.7777777777777778, \"#fb9f3a\"], [0.8888888888888888, \"#fdca26\"], [1.0, \"#f0f921\"]], \"type\": \"heatmapgl\"}], \"histogram\": [{\"marker\": {\"colorbar\": {\"outlinewidth\": 0, \"ticks\": \"\"}}, \"type\": \"histogram\"}], \"histogram2d\": [{\"colorbar\": {\"outlinewidth\": 0, \"ticks\": \"\"}, \"colorscale\": [[0.0, \"#0d0887\"], [0.1111111111111111, \"#46039f\"], [0.2222222222222222, \"#7201a8\"], [0.3333333333333333, \"#9c179e\"], [0.4444444444444444, \"#bd3786\"], [0.5555555555555556, \"#d8576b\"], [0.6666666666666666, \"#ed7953\"], [0.7777777777777778, \"#fb9f3a\"], [0.8888888888888888, \"#fdca26\"], [1.0, \"#f0f921\"]], \"type\": \"histogram2d\"}], \"histogram2dcontour\": [{\"colorbar\": {\"outlinewidth\": 0, \"ticks\": \"\"}, \"colorscale\": [[0.0, \"#0d0887\"], [0.1111111111111111, \"#46039f\"], [0.2222222222222222, \"#7201a8\"], [0.3333333333333333, \"#9c179e\"], [0.4444444444444444, \"#bd3786\"], [0.5555555555555556, \"#d8576b\"], [0.6666666666666666, \"#ed7953\"], [0.7777777777777778, \"#fb9f3a\"], [0.8888888888888888, \"#fdca26\"], [1.0, \"#f0f921\"]], \"type\": \"histogram2dcontour\"}], \"mesh3d\": [{\"colorbar\": {\"outlinewidth\": 0, \"ticks\": \"\"}, \"type\": \"mesh3d\"}], \"parcoords\": [{\"line\": {\"colorbar\": {\"outlinewidth\": 0, \"ticks\": \"\"}}, \"type\": \"parcoords\"}], \"pie\": [{\"automargin\": true, \"type\": \"pie\"}], \"scatter\": [{\"marker\": {\"colorbar\": {\"outlinewidth\": 0, \"ticks\": \"\"}}, \"type\": \"scatter\"}], \"scatter3d\": [{\"line\": {\"colorbar\": {\"outlinewidth\": 0, \"ticks\": \"\"}}, \"marker\": {\"colorbar\": {\"outlinewidth\": 0, \"ticks\": \"\"}}, \"type\": \"scatter3d\"}], \"scattercarpet\": [{\"marker\": {\"colorbar\": {\"outlinewidth\": 0, \"ticks\": \"\"}}, \"type\": \"scattercarpet\"}], \"scattergeo\": [{\"marker\": {\"colorbar\": {\"outlinewidth\": 0, \"ticks\": \"\"}}, \"type\": \"scattergeo\"}], \"scattergl\": [{\"marker\": {\"colorbar\": {\"outlinewidth\": 0, \"ticks\": \"\"}}, \"type\": \"scattergl\"}], \"scattermapbox\": [{\"marker\": {\"colorbar\": {\"outlinewidth\": 0, \"ticks\": \"\"}}, \"type\": \"scattermapbox\"}], \"scatterpolar\": [{\"marker\": {\"colorbar\": {\"outlinewidth\": 0, \"ticks\": \"\"}}, \"type\": \"scatterpolar\"}], \"scatterpolargl\": [{\"marker\": {\"colorbar\": {\"outlinewidth\": 0, \"ticks\": \"\"}}, \"type\": \"scatterpolargl\"}], \"scatterternary\": [{\"marker\": {\"colorbar\": {\"outlinewidth\": 0, \"ticks\": \"\"}}, \"type\": \"scatterternary\"}], \"surface\": [{\"colorbar\": {\"outlinewidth\": 0, \"ticks\": \"\"}, \"colorscale\": [[0.0, \"#0d0887\"], [0.1111111111111111, \"#46039f\"], [0.2222222222222222, \"#7201a8\"], [0.3333333333333333, \"#9c179e\"], [0.4444444444444444, \"#bd3786\"], [0.5555555555555556, \"#d8576b\"], [0.6666666666666666, \"#ed7953\"], [0.7777777777777778, \"#fb9f3a\"], [0.8888888888888888, \"#fdca26\"], [1.0, \"#f0f921\"]], \"type\": \"surface\"}], \"table\": [{\"cells\": {\"fill\": {\"color\": \"#EBF0F8\"}, \"line\": {\"color\": \"white\"}}, \"header\": {\"fill\": {\"color\": \"#C8D4E3\"}, \"line\": {\"color\": \"white\"}}, \"type\": \"table\"}]}, \"layout\": {\"annotationdefaults\": {\"arrowcolor\": \"#2a3f5f\", \"arrowhead\": 0, \"arrowwidth\": 1}, \"coloraxis\": {\"colorbar\": {\"outlinewidth\": 0, \"ticks\": \"\"}}, \"colorscale\": {\"diverging\": [[0, \"#8e0152\"], [0.1, \"#c51b7d\"], [0.2, \"#de77ae\"], [0.3, \"#f1b6da\"], [0.4, \"#fde0ef\"], [0.5, \"#f7f7f7\"], [0.6, \"#e6f5d0\"], [0.7, \"#b8e186\"], [0.8, \"#7fbc41\"], [0.9, \"#4d9221\"], [1, \"#276419\"]], \"sequential\": [[0.0, \"#0d0887\"], [0.1111111111111111, \"#46039f\"], [0.2222222222222222, \"#7201a8\"], [0.3333333333333333, \"#9c179e\"], [0.4444444444444444, \"#bd3786\"], [0.5555555555555556, \"#d8576b\"], [0.6666666666666666, \"#ed7953\"], [0.7777777777777778, \"#fb9f3a\"], [0.8888888888888888, \"#fdca26\"], [1.0, \"#f0f921\"]], \"sequentialminus\": [[0.0, \"#0d0887\"], [0.1111111111111111, \"#46039f\"], [0.2222222222222222, \"#7201a8\"], [0.3333333333333333, \"#9c179e\"], [0.4444444444444444, \"#bd3786\"], [0.5555555555555556, \"#d8576b\"], [0.6666666666666666, \"#ed7953\"], [0.7777777777777778, \"#fb9f3a\"], [0.8888888888888888, \"#fdca26\"], [1.0, \"#f0f921\"]]}, \"colorway\": [\"#636efa\", \"#EF553B\", \"#00cc96\", \"#ab63fa\", \"#FFA15A\", \"#19d3f3\", \"#FF6692\", \"#B6E880\", \"#FF97FF\", \"#FECB52\"], \"font\": {\"color\": \"#2a3f5f\"}, \"geo\": {\"bgcolor\": \"white\", \"lakecolor\": \"white\", \"landcolor\": \"#E5ECF6\", \"showlakes\": true, \"showland\": true, \"subunitcolor\": \"white\"}, \"hoverlabel\": {\"align\": \"left\"}, \"hovermode\": \"closest\", \"mapbox\": {\"style\": \"light\"}, \"paper_bgcolor\": \"white\", \"plot_bgcolor\": \"#E5ECF6\", \"polar\": {\"angularaxis\": {\"gridcolor\": \"white\", \"linecolor\": \"white\", \"ticks\": \"\"}, \"bgcolor\": \"#E5ECF6\", \"radialaxis\": {\"gridcolor\": \"white\", \"linecolor\": \"white\", \"ticks\": \"\"}}, \"scene\": {\"xaxis\": {\"backgroundcolor\": \"#E5ECF6\", \"gridcolor\": \"white\", \"gridwidth\": 2, \"linecolor\": \"white\", \"showbackground\": true, \"ticks\": \"\", \"zerolinecolor\": \"white\"}, \"yaxis\": {\"backgroundcolor\": \"#E5ECF6\", \"gridcolor\": \"white\", \"gridwidth\": 2, \"linecolor\": \"white\", \"showbackground\": true, \"ticks\": \"\", \"zerolinecolor\": \"white\"}, \"zaxis\": {\"backgroundcolor\": \"#E5ECF6\", \"gridcolor\": \"white\", \"gridwidth\": 2, \"linecolor\": \"white\", \"showbackground\": true, \"ticks\": \"\", \"zerolinecolor\": \"white\"}}, \"shapedefaults\": {\"line\": {\"color\": \"#2a3f5f\"}}, \"ternary\": {\"aaxis\": {\"gridcolor\": \"white\", \"linecolor\": \"white\", \"ticks\": \"\"}, \"baxis\": {\"gridcolor\": \"white\", \"linecolor\": \"white\", \"ticks\": \"\"}, \"bgcolor\": \"#E5ECF6\", \"caxis\": {\"gridcolor\": \"white\", \"linecolor\": \"white\", \"ticks\": \"\"}}, \"title\": {\"x\": 0.05}, \"xaxis\": {\"automargin\": true, \"gridcolor\": \"white\", \"linecolor\": \"white\", \"ticks\": \"\", \"title\": {\"standoff\": 15}, \"zerolinecolor\": \"white\", \"zerolinewidth\": 2}, \"yaxis\": {\"automargin\": true, \"gridcolor\": \"white\", \"linecolor\": \"white\", \"ticks\": \"\", \"title\": {\"standoff\": 15}, \"zerolinecolor\": \"white\", \"zerolinewidth\": 2}}}, \"title\": {\"text\": \"Likes per video\"}},\n",
       "                        {\"responsive\": true}\n",
       "                    ).then(function(){\n",
       "                            \n",
       "var gd = document.getElementById('9b1442b7-e906-453b-99f4-9db2fef271bf');\n",
       "var x = new MutationObserver(function (mutations, observer) {{\n",
       "        var display = window.getComputedStyle(gd).display;\n",
       "        if (!display || display === 'none') {{\n",
       "            console.log([gd, 'removed!']);\n",
       "            Plotly.purge(gd);\n",
       "            observer.disconnect();\n",
       "        }}\n",
       "}});\n",
       "\n",
       "// Listen for the removal of the full notebook cells\n",
       "var notebookContainer = gd.closest('#notebook-container');\n",
       "if (notebookContainer) {{\n",
       "    x.observe(notebookContainer, {childList: true});\n",
       "}}\n",
       "\n",
       "// Listen for the clearing of the current output cell\n",
       "var outputEl = gd.closest('.output');\n",
       "if (outputEl) {{\n",
       "    x.observe(outputEl, {childList: true});\n",
       "}}\n",
       "\n",
       "                        })\n",
       "                };\n",
       "                });\n",
       "            </script>\n",
       "        </div>"
      ]
     },
     "metadata": {},
     "output_type": "display_data"
    }
   ],
   "source": [
    "plotGraph('Likes', 'Likes per video')"
   ]
  },
  {
   "cell_type": "markdown",
   "metadata": {},
   "source": [
    "# ---------------------------------------------------------------"
   ]
  },
  {
   "cell_type": "markdown",
   "metadata": {},
   "source": [
    "# Likes vs Dislikes\n"
   ]
  },
  {
   "cell_type": "code",
   "execution_count": 42,
   "metadata": {},
   "outputs": [
    {
     "data": {
      "application/vnd.plotly.v1+json": {
       "config": {
        "plotlyServerURL": "https://plot.ly"
       },
       "data": [
        {
         "marker": {
          "color": "green"
         },
         "name": "Likes",
         "offsetgroup": "1",
         "type": "bar",
         "x": [
          0,
          1,
          2,
          3,
          4,
          5,
          6,
          7,
          8,
          9,
          10,
          11,
          12,
          13,
          14,
          15,
          16,
          17,
          18,
          19,
          20,
          21,
          22,
          23,
          24
         ],
         "y": [
          3800,
          2900,
          8600,
          6000,
          2700,
          901,
          848,
          1700,
          149,
          392,
          1900,
          819,
          627,
          998,
          1400,
          1100,
          37,
          151,
          63,
          80,
          62,
          223,
          103,
          98,
          1
         ],
         "yaxis": "y"
        },
        {
         "marker": {
          "color": "red"
         },
         "name": "Dislikes",
         "offsetgroup": "2",
         "type": "bar",
         "x": [
          0,
          1,
          2,
          3,
          4,
          5,
          6,
          7,
          8,
          9,
          10,
          11,
          12,
          13,
          14,
          15,
          16,
          17,
          18,
          19,
          20,
          21,
          22,
          23,
          24
         ],
         "y": [
          219,
          19,
          715,
          68,
          81,
          25,
          6,
          20,
          11,
          34,
          40,
          67,
          21,
          80,
          16,
          25,
          1,
          6,
          6,
          0,
          4,
          1,
          3,
          1,
          1
         ],
         "yaxis": "y2"
        }
       ],
       "layout": {
        "barmode": "group",
        "template": {
         "data": {
          "bar": [
           {
            "error_x": {
             "color": "#2a3f5f"
            },
            "error_y": {
             "color": "#2a3f5f"
            },
            "marker": {
             "line": {
              "color": "#E5ECF6",
              "width": 0.5
             }
            },
            "type": "bar"
           }
          ],
          "barpolar": [
           {
            "marker": {
             "line": {
              "color": "#E5ECF6",
              "width": 0.5
             }
            },
            "type": "barpolar"
           }
          ],
          "carpet": [
           {
            "aaxis": {
             "endlinecolor": "#2a3f5f",
             "gridcolor": "white",
             "linecolor": "white",
             "minorgridcolor": "white",
             "startlinecolor": "#2a3f5f"
            },
            "baxis": {
             "endlinecolor": "#2a3f5f",
             "gridcolor": "white",
             "linecolor": "white",
             "minorgridcolor": "white",
             "startlinecolor": "#2a3f5f"
            },
            "type": "carpet"
           }
          ],
          "choropleth": [
           {
            "colorbar": {
             "outlinewidth": 0,
             "ticks": ""
            },
            "type": "choropleth"
           }
          ],
          "contour": [
           {
            "colorbar": {
             "outlinewidth": 0,
             "ticks": ""
            },
            "colorscale": [
             [
              0,
              "#0d0887"
             ],
             [
              0.1111111111111111,
              "#46039f"
             ],
             [
              0.2222222222222222,
              "#7201a8"
             ],
             [
              0.3333333333333333,
              "#9c179e"
             ],
             [
              0.4444444444444444,
              "#bd3786"
             ],
             [
              0.5555555555555556,
              "#d8576b"
             ],
             [
              0.6666666666666666,
              "#ed7953"
             ],
             [
              0.7777777777777778,
              "#fb9f3a"
             ],
             [
              0.8888888888888888,
              "#fdca26"
             ],
             [
              1,
              "#f0f921"
             ]
            ],
            "type": "contour"
           }
          ],
          "contourcarpet": [
           {
            "colorbar": {
             "outlinewidth": 0,
             "ticks": ""
            },
            "type": "contourcarpet"
           }
          ],
          "heatmap": [
           {
            "colorbar": {
             "outlinewidth": 0,
             "ticks": ""
            },
            "colorscale": [
             [
              0,
              "#0d0887"
             ],
             [
              0.1111111111111111,
              "#46039f"
             ],
             [
              0.2222222222222222,
              "#7201a8"
             ],
             [
              0.3333333333333333,
              "#9c179e"
             ],
             [
              0.4444444444444444,
              "#bd3786"
             ],
             [
              0.5555555555555556,
              "#d8576b"
             ],
             [
              0.6666666666666666,
              "#ed7953"
             ],
             [
              0.7777777777777778,
              "#fb9f3a"
             ],
             [
              0.8888888888888888,
              "#fdca26"
             ],
             [
              1,
              "#f0f921"
             ]
            ],
            "type": "heatmap"
           }
          ],
          "heatmapgl": [
           {
            "colorbar": {
             "outlinewidth": 0,
             "ticks": ""
            },
            "colorscale": [
             [
              0,
              "#0d0887"
             ],
             [
              0.1111111111111111,
              "#46039f"
             ],
             [
              0.2222222222222222,
              "#7201a8"
             ],
             [
              0.3333333333333333,
              "#9c179e"
             ],
             [
              0.4444444444444444,
              "#bd3786"
             ],
             [
              0.5555555555555556,
              "#d8576b"
             ],
             [
              0.6666666666666666,
              "#ed7953"
             ],
             [
              0.7777777777777778,
              "#fb9f3a"
             ],
             [
              0.8888888888888888,
              "#fdca26"
             ],
             [
              1,
              "#f0f921"
             ]
            ],
            "type": "heatmapgl"
           }
          ],
          "histogram": [
           {
            "marker": {
             "colorbar": {
              "outlinewidth": 0,
              "ticks": ""
             }
            },
            "type": "histogram"
           }
          ],
          "histogram2d": [
           {
            "colorbar": {
             "outlinewidth": 0,
             "ticks": ""
            },
            "colorscale": [
             [
              0,
              "#0d0887"
             ],
             [
              0.1111111111111111,
              "#46039f"
             ],
             [
              0.2222222222222222,
              "#7201a8"
             ],
             [
              0.3333333333333333,
              "#9c179e"
             ],
             [
              0.4444444444444444,
              "#bd3786"
             ],
             [
              0.5555555555555556,
              "#d8576b"
             ],
             [
              0.6666666666666666,
              "#ed7953"
             ],
             [
              0.7777777777777778,
              "#fb9f3a"
             ],
             [
              0.8888888888888888,
              "#fdca26"
             ],
             [
              1,
              "#f0f921"
             ]
            ],
            "type": "histogram2d"
           }
          ],
          "histogram2dcontour": [
           {
            "colorbar": {
             "outlinewidth": 0,
             "ticks": ""
            },
            "colorscale": [
             [
              0,
              "#0d0887"
             ],
             [
              0.1111111111111111,
              "#46039f"
             ],
             [
              0.2222222222222222,
              "#7201a8"
             ],
             [
              0.3333333333333333,
              "#9c179e"
             ],
             [
              0.4444444444444444,
              "#bd3786"
             ],
             [
              0.5555555555555556,
              "#d8576b"
             ],
             [
              0.6666666666666666,
              "#ed7953"
             ],
             [
              0.7777777777777778,
              "#fb9f3a"
             ],
             [
              0.8888888888888888,
              "#fdca26"
             ],
             [
              1,
              "#f0f921"
             ]
            ],
            "type": "histogram2dcontour"
           }
          ],
          "mesh3d": [
           {
            "colorbar": {
             "outlinewidth": 0,
             "ticks": ""
            },
            "type": "mesh3d"
           }
          ],
          "parcoords": [
           {
            "line": {
             "colorbar": {
              "outlinewidth": 0,
              "ticks": ""
             }
            },
            "type": "parcoords"
           }
          ],
          "pie": [
           {
            "automargin": true,
            "type": "pie"
           }
          ],
          "scatter": [
           {
            "marker": {
             "colorbar": {
              "outlinewidth": 0,
              "ticks": ""
             }
            },
            "type": "scatter"
           }
          ],
          "scatter3d": [
           {
            "line": {
             "colorbar": {
              "outlinewidth": 0,
              "ticks": ""
             }
            },
            "marker": {
             "colorbar": {
              "outlinewidth": 0,
              "ticks": ""
             }
            },
            "type": "scatter3d"
           }
          ],
          "scattercarpet": [
           {
            "marker": {
             "colorbar": {
              "outlinewidth": 0,
              "ticks": ""
             }
            },
            "type": "scattercarpet"
           }
          ],
          "scattergeo": [
           {
            "marker": {
             "colorbar": {
              "outlinewidth": 0,
              "ticks": ""
             }
            },
            "type": "scattergeo"
           }
          ],
          "scattergl": [
           {
            "marker": {
             "colorbar": {
              "outlinewidth": 0,
              "ticks": ""
             }
            },
            "type": "scattergl"
           }
          ],
          "scattermapbox": [
           {
            "marker": {
             "colorbar": {
              "outlinewidth": 0,
              "ticks": ""
             }
            },
            "type": "scattermapbox"
           }
          ],
          "scatterpolar": [
           {
            "marker": {
             "colorbar": {
              "outlinewidth": 0,
              "ticks": ""
             }
            },
            "type": "scatterpolar"
           }
          ],
          "scatterpolargl": [
           {
            "marker": {
             "colorbar": {
              "outlinewidth": 0,
              "ticks": ""
             }
            },
            "type": "scatterpolargl"
           }
          ],
          "scatterternary": [
           {
            "marker": {
             "colorbar": {
              "outlinewidth": 0,
              "ticks": ""
             }
            },
            "type": "scatterternary"
           }
          ],
          "surface": [
           {
            "colorbar": {
             "outlinewidth": 0,
             "ticks": ""
            },
            "colorscale": [
             [
              0,
              "#0d0887"
             ],
             [
              0.1111111111111111,
              "#46039f"
             ],
             [
              0.2222222222222222,
              "#7201a8"
             ],
             [
              0.3333333333333333,
              "#9c179e"
             ],
             [
              0.4444444444444444,
              "#bd3786"
             ],
             [
              0.5555555555555556,
              "#d8576b"
             ],
             [
              0.6666666666666666,
              "#ed7953"
             ],
             [
              0.7777777777777778,
              "#fb9f3a"
             ],
             [
              0.8888888888888888,
              "#fdca26"
             ],
             [
              1,
              "#f0f921"
             ]
            ],
            "type": "surface"
           }
          ],
          "table": [
           {
            "cells": {
             "fill": {
              "color": "#EBF0F8"
             },
             "line": {
              "color": "white"
             }
            },
            "header": {
             "fill": {
              "color": "#C8D4E3"
             },
             "line": {
              "color": "white"
             }
            },
            "type": "table"
           }
          ]
         },
         "layout": {
          "annotationdefaults": {
           "arrowcolor": "#2a3f5f",
           "arrowhead": 0,
           "arrowwidth": 1
          },
          "coloraxis": {
           "colorbar": {
            "outlinewidth": 0,
            "ticks": ""
           }
          },
          "colorscale": {
           "diverging": [
            [
             0,
             "#8e0152"
            ],
            [
             0.1,
             "#c51b7d"
            ],
            [
             0.2,
             "#de77ae"
            ],
            [
             0.3,
             "#f1b6da"
            ],
            [
             0.4,
             "#fde0ef"
            ],
            [
             0.5,
             "#f7f7f7"
            ],
            [
             0.6,
             "#e6f5d0"
            ],
            [
             0.7,
             "#b8e186"
            ],
            [
             0.8,
             "#7fbc41"
            ],
            [
             0.9,
             "#4d9221"
            ],
            [
             1,
             "#276419"
            ]
           ],
           "sequential": [
            [
             0,
             "#0d0887"
            ],
            [
             0.1111111111111111,
             "#46039f"
            ],
            [
             0.2222222222222222,
             "#7201a8"
            ],
            [
             0.3333333333333333,
             "#9c179e"
            ],
            [
             0.4444444444444444,
             "#bd3786"
            ],
            [
             0.5555555555555556,
             "#d8576b"
            ],
            [
             0.6666666666666666,
             "#ed7953"
            ],
            [
             0.7777777777777778,
             "#fb9f3a"
            ],
            [
             0.8888888888888888,
             "#fdca26"
            ],
            [
             1,
             "#f0f921"
            ]
           ],
           "sequentialminus": [
            [
             0,
             "#0d0887"
            ],
            [
             0.1111111111111111,
             "#46039f"
            ],
            [
             0.2222222222222222,
             "#7201a8"
            ],
            [
             0.3333333333333333,
             "#9c179e"
            ],
            [
             0.4444444444444444,
             "#bd3786"
            ],
            [
             0.5555555555555556,
             "#d8576b"
            ],
            [
             0.6666666666666666,
             "#ed7953"
            ],
            [
             0.7777777777777778,
             "#fb9f3a"
            ],
            [
             0.8888888888888888,
             "#fdca26"
            ],
            [
             1,
             "#f0f921"
            ]
           ]
          },
          "colorway": [
           "#636efa",
           "#EF553B",
           "#00cc96",
           "#ab63fa",
           "#FFA15A",
           "#19d3f3",
           "#FF6692",
           "#B6E880",
           "#FF97FF",
           "#FECB52"
          ],
          "font": {
           "color": "#2a3f5f"
          },
          "geo": {
           "bgcolor": "white",
           "lakecolor": "white",
           "landcolor": "#E5ECF6",
           "showlakes": true,
           "showland": true,
           "subunitcolor": "white"
          },
          "hoverlabel": {
           "align": "left"
          },
          "hovermode": "closest",
          "mapbox": {
           "style": "light"
          },
          "paper_bgcolor": "white",
          "plot_bgcolor": "#E5ECF6",
          "polar": {
           "angularaxis": {
            "gridcolor": "white",
            "linecolor": "white",
            "ticks": ""
           },
           "bgcolor": "#E5ECF6",
           "radialaxis": {
            "gridcolor": "white",
            "linecolor": "white",
            "ticks": ""
           }
          },
          "scene": {
           "xaxis": {
            "backgroundcolor": "#E5ECF6",
            "gridcolor": "white",
            "gridwidth": 2,
            "linecolor": "white",
            "showbackground": true,
            "ticks": "",
            "zerolinecolor": "white"
           },
           "yaxis": {
            "backgroundcolor": "#E5ECF6",
            "gridcolor": "white",
            "gridwidth": 2,
            "linecolor": "white",
            "showbackground": true,
            "ticks": "",
            "zerolinecolor": "white"
           },
           "zaxis": {
            "backgroundcolor": "#E5ECF6",
            "gridcolor": "white",
            "gridwidth": 2,
            "linecolor": "white",
            "showbackground": true,
            "ticks": "",
            "zerolinecolor": "white"
           }
          },
          "shapedefaults": {
           "line": {
            "color": "#2a3f5f"
           }
          },
          "ternary": {
           "aaxis": {
            "gridcolor": "white",
            "linecolor": "white",
            "ticks": ""
           },
           "baxis": {
            "gridcolor": "white",
            "linecolor": "white",
            "ticks": ""
           },
           "bgcolor": "#E5ECF6",
           "caxis": {
            "gridcolor": "white",
            "linecolor": "white",
            "ticks": ""
           }
          },
          "title": {
           "x": 0.05
          },
          "xaxis": {
           "automargin": true,
           "gridcolor": "white",
           "linecolor": "white",
           "ticks": "",
           "title": {
            "standoff": 15
           },
           "zerolinecolor": "white",
           "zerolinewidth": 2
          },
          "yaxis": {
           "automargin": true,
           "gridcolor": "white",
           "linecolor": "white",
           "ticks": "",
           "title": {
            "standoff": 15
           },
           "zerolinecolor": "white",
           "zerolinewidth": 2
          }
         }
        },
        "yaxis": {
         "title": {
          "text": "Likes"
         }
        },
        "yaxis2": {
         "overlaying": "y",
         "side": "right",
         "title": {
          "text": "Dislikes"
         }
        }
       }
      },
      "text/html": [
       "<div>\n",
       "        \n",
       "        \n",
       "            <div id=\"7da7394d-634b-49ac-b56a-cd6e445e102a\" class=\"plotly-graph-div\" style=\"height:525px; width:100%;\"></div>\n",
       "            <script type=\"text/javascript\">\n",
       "                require([\"plotly\"], function(Plotly) {\n",
       "                    window.PLOTLYENV=window.PLOTLYENV || {};\n",
       "                    \n",
       "                if (document.getElementById(\"7da7394d-634b-49ac-b56a-cd6e445e102a\")) {\n",
       "                    Plotly.newPlot(\n",
       "                        '7da7394d-634b-49ac-b56a-cd6e445e102a',\n",
       "                        [{\"marker\": {\"color\": \"green\"}, \"name\": \"Likes\", \"offsetgroup\": \"1\", \"type\": \"bar\", \"x\": [0, 1, 2, 3, 4, 5, 6, 7, 8, 9, 10, 11, 12, 13, 14, 15, 16, 17, 18, 19, 20, 21, 22, 23, 24], \"y\": [3800.0, 2900.0, 8600.0, 6000.0, 2700.0, 901.0, 848.0, 1700.0, 149.0, 392.0, 1900.0, 819.0, 627.0, 998.0, 1400.0, 1100.0, 37.0, 151.0, 63.0, 80.0, 62.0, 223.0, 103.0, 98.0, 1.0], \"yaxis\": \"y\"}, {\"marker\": {\"color\": \"red\"}, \"name\": \"Dislikes\", \"offsetgroup\": \"2\", \"type\": \"bar\", \"x\": [0, 1, 2, 3, 4, 5, 6, 7, 8, 9, 10, 11, 12, 13, 14, 15, 16, 17, 18, 19, 20, 21, 22, 23, 24], \"y\": [219, 19, 715, 68, 81, 25, 6, 20, 11, 34, 40, 67, 21, 80, 16, 25, 1, 6, 6, 0, 4, 1, 3, 1, 1], \"yaxis\": \"y2\"}],\n",
       "                        {\"barmode\": \"group\", \"template\": {\"data\": {\"bar\": [{\"error_x\": {\"color\": \"#2a3f5f\"}, \"error_y\": {\"color\": \"#2a3f5f\"}, \"marker\": {\"line\": {\"color\": \"#E5ECF6\", \"width\": 0.5}}, \"type\": \"bar\"}], \"barpolar\": [{\"marker\": {\"line\": {\"color\": \"#E5ECF6\", \"width\": 0.5}}, \"type\": \"barpolar\"}], \"carpet\": [{\"aaxis\": {\"endlinecolor\": \"#2a3f5f\", \"gridcolor\": \"white\", \"linecolor\": \"white\", \"minorgridcolor\": \"white\", \"startlinecolor\": \"#2a3f5f\"}, \"baxis\": {\"endlinecolor\": \"#2a3f5f\", \"gridcolor\": \"white\", \"linecolor\": \"white\", \"minorgridcolor\": \"white\", \"startlinecolor\": \"#2a3f5f\"}, \"type\": \"carpet\"}], \"choropleth\": [{\"colorbar\": {\"outlinewidth\": 0, \"ticks\": \"\"}, \"type\": \"choropleth\"}], \"contour\": [{\"colorbar\": {\"outlinewidth\": 0, \"ticks\": \"\"}, \"colorscale\": [[0.0, \"#0d0887\"], [0.1111111111111111, \"#46039f\"], [0.2222222222222222, \"#7201a8\"], [0.3333333333333333, \"#9c179e\"], [0.4444444444444444, \"#bd3786\"], [0.5555555555555556, \"#d8576b\"], [0.6666666666666666, \"#ed7953\"], [0.7777777777777778, \"#fb9f3a\"], [0.8888888888888888, \"#fdca26\"], [1.0, \"#f0f921\"]], \"type\": \"contour\"}], \"contourcarpet\": [{\"colorbar\": {\"outlinewidth\": 0, \"ticks\": \"\"}, \"type\": \"contourcarpet\"}], \"heatmap\": [{\"colorbar\": {\"outlinewidth\": 0, \"ticks\": \"\"}, \"colorscale\": [[0.0, \"#0d0887\"], [0.1111111111111111, \"#46039f\"], [0.2222222222222222, \"#7201a8\"], [0.3333333333333333, \"#9c179e\"], [0.4444444444444444, \"#bd3786\"], [0.5555555555555556, \"#d8576b\"], [0.6666666666666666, \"#ed7953\"], [0.7777777777777778, \"#fb9f3a\"], [0.8888888888888888, \"#fdca26\"], [1.0, \"#f0f921\"]], \"type\": \"heatmap\"}], \"heatmapgl\": [{\"colorbar\": {\"outlinewidth\": 0, \"ticks\": \"\"}, \"colorscale\": [[0.0, \"#0d0887\"], [0.1111111111111111, \"#46039f\"], [0.2222222222222222, \"#7201a8\"], [0.3333333333333333, \"#9c179e\"], [0.4444444444444444, \"#bd3786\"], [0.5555555555555556, \"#d8576b\"], [0.6666666666666666, \"#ed7953\"], [0.7777777777777778, \"#fb9f3a\"], [0.8888888888888888, \"#fdca26\"], [1.0, \"#f0f921\"]], \"type\": \"heatmapgl\"}], \"histogram\": [{\"marker\": {\"colorbar\": {\"outlinewidth\": 0, \"ticks\": \"\"}}, \"type\": \"histogram\"}], \"histogram2d\": [{\"colorbar\": {\"outlinewidth\": 0, \"ticks\": \"\"}, \"colorscale\": [[0.0, \"#0d0887\"], [0.1111111111111111, \"#46039f\"], [0.2222222222222222, \"#7201a8\"], [0.3333333333333333, \"#9c179e\"], [0.4444444444444444, \"#bd3786\"], [0.5555555555555556, \"#d8576b\"], [0.6666666666666666, \"#ed7953\"], [0.7777777777777778, \"#fb9f3a\"], [0.8888888888888888, \"#fdca26\"], [1.0, \"#f0f921\"]], \"type\": \"histogram2d\"}], \"histogram2dcontour\": [{\"colorbar\": {\"outlinewidth\": 0, \"ticks\": \"\"}, \"colorscale\": [[0.0, \"#0d0887\"], [0.1111111111111111, \"#46039f\"], [0.2222222222222222, \"#7201a8\"], [0.3333333333333333, \"#9c179e\"], [0.4444444444444444, \"#bd3786\"], [0.5555555555555556, \"#d8576b\"], [0.6666666666666666, \"#ed7953\"], [0.7777777777777778, \"#fb9f3a\"], [0.8888888888888888, \"#fdca26\"], [1.0, \"#f0f921\"]], \"type\": \"histogram2dcontour\"}], \"mesh3d\": [{\"colorbar\": {\"outlinewidth\": 0, \"ticks\": \"\"}, \"type\": \"mesh3d\"}], \"parcoords\": [{\"line\": {\"colorbar\": {\"outlinewidth\": 0, \"ticks\": \"\"}}, \"type\": \"parcoords\"}], \"pie\": [{\"automargin\": true, \"type\": \"pie\"}], \"scatter\": [{\"marker\": {\"colorbar\": {\"outlinewidth\": 0, \"ticks\": \"\"}}, \"type\": \"scatter\"}], \"scatter3d\": [{\"line\": {\"colorbar\": {\"outlinewidth\": 0, \"ticks\": \"\"}}, \"marker\": {\"colorbar\": {\"outlinewidth\": 0, \"ticks\": \"\"}}, \"type\": \"scatter3d\"}], \"scattercarpet\": [{\"marker\": {\"colorbar\": {\"outlinewidth\": 0, \"ticks\": \"\"}}, \"type\": \"scattercarpet\"}], \"scattergeo\": [{\"marker\": {\"colorbar\": {\"outlinewidth\": 0, \"ticks\": \"\"}}, \"type\": \"scattergeo\"}], \"scattergl\": [{\"marker\": {\"colorbar\": {\"outlinewidth\": 0, \"ticks\": \"\"}}, \"type\": \"scattergl\"}], \"scattermapbox\": [{\"marker\": {\"colorbar\": {\"outlinewidth\": 0, \"ticks\": \"\"}}, \"type\": \"scattermapbox\"}], \"scatterpolar\": [{\"marker\": {\"colorbar\": {\"outlinewidth\": 0, \"ticks\": \"\"}}, \"type\": \"scatterpolar\"}], \"scatterpolargl\": [{\"marker\": {\"colorbar\": {\"outlinewidth\": 0, \"ticks\": \"\"}}, \"type\": \"scatterpolargl\"}], \"scatterternary\": [{\"marker\": {\"colorbar\": {\"outlinewidth\": 0, \"ticks\": \"\"}}, \"type\": \"scatterternary\"}], \"surface\": [{\"colorbar\": {\"outlinewidth\": 0, \"ticks\": \"\"}, \"colorscale\": [[0.0, \"#0d0887\"], [0.1111111111111111, \"#46039f\"], [0.2222222222222222, \"#7201a8\"], [0.3333333333333333, \"#9c179e\"], [0.4444444444444444, \"#bd3786\"], [0.5555555555555556, \"#d8576b\"], [0.6666666666666666, \"#ed7953\"], [0.7777777777777778, \"#fb9f3a\"], [0.8888888888888888, \"#fdca26\"], [1.0, \"#f0f921\"]], \"type\": \"surface\"}], \"table\": [{\"cells\": {\"fill\": {\"color\": \"#EBF0F8\"}, \"line\": {\"color\": \"white\"}}, \"header\": {\"fill\": {\"color\": \"#C8D4E3\"}, \"line\": {\"color\": \"white\"}}, \"type\": \"table\"}]}, \"layout\": {\"annotationdefaults\": {\"arrowcolor\": \"#2a3f5f\", \"arrowhead\": 0, \"arrowwidth\": 1}, \"coloraxis\": {\"colorbar\": {\"outlinewidth\": 0, \"ticks\": \"\"}}, \"colorscale\": {\"diverging\": [[0, \"#8e0152\"], [0.1, \"#c51b7d\"], [0.2, \"#de77ae\"], [0.3, \"#f1b6da\"], [0.4, \"#fde0ef\"], [0.5, \"#f7f7f7\"], [0.6, \"#e6f5d0\"], [0.7, \"#b8e186\"], [0.8, \"#7fbc41\"], [0.9, \"#4d9221\"], [1, \"#276419\"]], \"sequential\": [[0.0, \"#0d0887\"], [0.1111111111111111, \"#46039f\"], [0.2222222222222222, \"#7201a8\"], [0.3333333333333333, \"#9c179e\"], [0.4444444444444444, \"#bd3786\"], [0.5555555555555556, \"#d8576b\"], [0.6666666666666666, \"#ed7953\"], [0.7777777777777778, \"#fb9f3a\"], [0.8888888888888888, \"#fdca26\"], [1.0, \"#f0f921\"]], \"sequentialminus\": [[0.0, \"#0d0887\"], [0.1111111111111111, \"#46039f\"], [0.2222222222222222, \"#7201a8\"], [0.3333333333333333, \"#9c179e\"], [0.4444444444444444, \"#bd3786\"], [0.5555555555555556, \"#d8576b\"], [0.6666666666666666, \"#ed7953\"], [0.7777777777777778, \"#fb9f3a\"], [0.8888888888888888, \"#fdca26\"], [1.0, \"#f0f921\"]]}, \"colorway\": [\"#636efa\", \"#EF553B\", \"#00cc96\", \"#ab63fa\", \"#FFA15A\", \"#19d3f3\", \"#FF6692\", \"#B6E880\", \"#FF97FF\", \"#FECB52\"], \"font\": {\"color\": \"#2a3f5f\"}, \"geo\": {\"bgcolor\": \"white\", \"lakecolor\": \"white\", \"landcolor\": \"#E5ECF6\", \"showlakes\": true, \"showland\": true, \"subunitcolor\": \"white\"}, \"hoverlabel\": {\"align\": \"left\"}, \"hovermode\": \"closest\", \"mapbox\": {\"style\": \"light\"}, \"paper_bgcolor\": \"white\", \"plot_bgcolor\": \"#E5ECF6\", \"polar\": {\"angularaxis\": {\"gridcolor\": \"white\", \"linecolor\": \"white\", \"ticks\": \"\"}, \"bgcolor\": \"#E5ECF6\", \"radialaxis\": {\"gridcolor\": \"white\", \"linecolor\": \"white\", \"ticks\": \"\"}}, \"scene\": {\"xaxis\": {\"backgroundcolor\": \"#E5ECF6\", \"gridcolor\": \"white\", \"gridwidth\": 2, \"linecolor\": \"white\", \"showbackground\": true, \"ticks\": \"\", \"zerolinecolor\": \"white\"}, \"yaxis\": {\"backgroundcolor\": \"#E5ECF6\", \"gridcolor\": \"white\", \"gridwidth\": 2, \"linecolor\": \"white\", \"showbackground\": true, \"ticks\": \"\", \"zerolinecolor\": \"white\"}, \"zaxis\": {\"backgroundcolor\": \"#E5ECF6\", \"gridcolor\": \"white\", \"gridwidth\": 2, \"linecolor\": \"white\", \"showbackground\": true, \"ticks\": \"\", \"zerolinecolor\": \"white\"}}, \"shapedefaults\": {\"line\": {\"color\": \"#2a3f5f\"}}, \"ternary\": {\"aaxis\": {\"gridcolor\": \"white\", \"linecolor\": \"white\", \"ticks\": \"\"}, \"baxis\": {\"gridcolor\": \"white\", \"linecolor\": \"white\", \"ticks\": \"\"}, \"bgcolor\": \"#E5ECF6\", \"caxis\": {\"gridcolor\": \"white\", \"linecolor\": \"white\", \"ticks\": \"\"}}, \"title\": {\"x\": 0.05}, \"xaxis\": {\"automargin\": true, \"gridcolor\": \"white\", \"linecolor\": \"white\", \"ticks\": \"\", \"title\": {\"standoff\": 15}, \"zerolinecolor\": \"white\", \"zerolinewidth\": 2}, \"yaxis\": {\"automargin\": true, \"gridcolor\": \"white\", \"linecolor\": \"white\", \"ticks\": \"\", \"title\": {\"standoff\": 15}, \"zerolinecolor\": \"white\", \"zerolinewidth\": 2}}}, \"yaxis\": {\"title\": {\"text\": \"Likes\"}}, \"yaxis2\": {\"overlaying\": \"y\", \"side\": \"right\", \"title\": {\"text\": \"Dislikes\"}}},\n",
       "                        {\"responsive\": true}\n",
       "                    ).then(function(){\n",
       "                            \n",
       "var gd = document.getElementById('7da7394d-634b-49ac-b56a-cd6e445e102a');\n",
       "var x = new MutationObserver(function (mutations, observer) {{\n",
       "        var display = window.getComputedStyle(gd).display;\n",
       "        if (!display || display === 'none') {{\n",
       "            console.log([gd, 'removed!']);\n",
       "            Plotly.purge(gd);\n",
       "            observer.disconnect();\n",
       "        }}\n",
       "}});\n",
       "\n",
       "// Listen for the removal of the full notebook cells\n",
       "var notebookContainer = gd.closest('#notebook-container');\n",
       "if (notebookContainer) {{\n",
       "    x.observe(notebookContainer, {childList: true});\n",
       "}}\n",
       "\n",
       "// Listen for the clearing of the current output cell\n",
       "var outputEl = gd.closest('.output');\n",
       "if (outputEl) {{\n",
       "    x.observe(outputEl, {childList: true});\n",
       "}}\n",
       "\n",
       "                        })\n",
       "                };\n",
       "                });\n",
       "            </script>\n",
       "        </div>"
      ]
     },
     "metadata": {},
     "output_type": "display_data"
    }
   ],
   "source": [
    "import plotly.graph_objects as go\n",
    "vids = [x for x in range(25)]\n",
    "\n",
    "\n",
    "fig = go.Figure(\n",
    "    data=[\n",
    "        go.Bar(name='Likes', x=vids, y=[df1.Likes[y] for y in range(25)], yaxis='y', marker_color='green', offsetgroup=1),\n",
    "        go.Bar(name='Dislikes', x=vids, y=[df1.Dislikes[y] for y in range(25)], yaxis='y2', marker_color='red', offsetgroup=2)\n",
    "    ],\n",
    "    layout={\n",
    "        'yaxis': {'title': 'Likes'},\n",
    "        'yaxis2': {'title': 'Dislikes', 'overlaying': 'y', 'side': 'right'}\n",
    "    }\n",
    ")\n",
    "\n",
    "# Change the bar mode\n",
    "fig.update_layout(barmode='group')\n",
    "fig.show()\n"
   ]
  },
  {
   "cell_type": "markdown",
   "metadata": {},
   "source": [
    "##### Note: Click Likes/ Dislikes in the legend to isolate corresponding bar graphs\n",
    "##### Note: Scale of both Y axis are different \n"
   ]
  },
  {
   "cell_type": "markdown",
   "metadata": {},
   "source": [
    "# ---------------------------------------------------------------"
   ]
  },
  {
   "cell_type": "markdown",
   "metadata": {},
   "source": [
    "# Dislikes"
   ]
  },
  {
   "cell_type": "code",
   "execution_count": 72,
   "metadata": {},
   "outputs": [
    {
     "data": {
      "application/vnd.plotly.v1+json": {
       "config": {
        "plotlyServerURL": "https://plot.ly"
       },
       "data": [
        {
         "marker": {
          "color": [
           "green",
           "grey",
           "green",
           "green",
           "green",
           "grey",
           "grey",
           "grey",
           "grey",
           "grey",
           "grey",
           "grey",
           "grey",
           "green",
           "grey",
           "grey",
           "grey",
           "grey",
           "grey",
           "grey",
           "grey",
           "grey",
           "grey",
           "grey",
           "grey",
           "grey",
           "grey",
           "grey",
           "grey",
           "grey",
           "grey",
           "grey",
           "grey",
           "grey",
           "grey",
           "grey",
           "grey",
           "grey",
           "grey",
           "grey",
           "grey",
           "grey",
           "grey",
           "grey",
           "grey",
           "grey",
           "grey",
           "grey",
           "grey",
           "grey",
           "grey",
           "grey",
           "grey",
           "grey",
           "grey",
           "grey",
           "grey",
           "grey",
           "grey"
          ]
         },
         "type": "bar",
         "x": [
          0,
          1,
          2,
          3,
          4,
          5,
          6,
          7,
          8,
          9,
          10,
          11,
          12,
          13,
          14,
          15,
          16,
          17,
          18,
          19,
          20,
          21,
          22,
          23,
          24,
          25,
          26,
          27,
          28,
          29,
          30,
          31,
          32,
          33,
          34,
          35,
          36,
          37,
          38,
          39,
          40,
          41,
          42,
          43,
          44,
          45,
          46,
          47,
          48,
          49,
          50,
          51,
          52,
          53,
          54,
          55,
          56,
          57,
          58
         ],
         "y": [
          219,
          19,
          715,
          68,
          81,
          25,
          6,
          20,
          11,
          34,
          40,
          67,
          21,
          80,
          16,
          25,
          1,
          6,
          6,
          0,
          4,
          1,
          3,
          1,
          1,
          4,
          3,
          1,
          3,
          0,
          7,
          36,
          4,
          2,
          5,
          8,
          2,
          2,
          2,
          3,
          0,
          4,
          1,
          0,
          5,
          2,
          6,
          0,
          0,
          0,
          10,
          8,
          6,
          6,
          4,
          1,
          6,
          41,
          10
         ]
        }
       ],
       "layout": {
        "template": {
         "data": {
          "bar": [
           {
            "error_x": {
             "color": "#2a3f5f"
            },
            "error_y": {
             "color": "#2a3f5f"
            },
            "marker": {
             "line": {
              "color": "#E5ECF6",
              "width": 0.5
             }
            },
            "type": "bar"
           }
          ],
          "barpolar": [
           {
            "marker": {
             "line": {
              "color": "#E5ECF6",
              "width": 0.5
             }
            },
            "type": "barpolar"
           }
          ],
          "carpet": [
           {
            "aaxis": {
             "endlinecolor": "#2a3f5f",
             "gridcolor": "white",
             "linecolor": "white",
             "minorgridcolor": "white",
             "startlinecolor": "#2a3f5f"
            },
            "baxis": {
             "endlinecolor": "#2a3f5f",
             "gridcolor": "white",
             "linecolor": "white",
             "minorgridcolor": "white",
             "startlinecolor": "#2a3f5f"
            },
            "type": "carpet"
           }
          ],
          "choropleth": [
           {
            "colorbar": {
             "outlinewidth": 0,
             "ticks": ""
            },
            "type": "choropleth"
           }
          ],
          "contour": [
           {
            "colorbar": {
             "outlinewidth": 0,
             "ticks": ""
            },
            "colorscale": [
             [
              0,
              "#0d0887"
             ],
             [
              0.1111111111111111,
              "#46039f"
             ],
             [
              0.2222222222222222,
              "#7201a8"
             ],
             [
              0.3333333333333333,
              "#9c179e"
             ],
             [
              0.4444444444444444,
              "#bd3786"
             ],
             [
              0.5555555555555556,
              "#d8576b"
             ],
             [
              0.6666666666666666,
              "#ed7953"
             ],
             [
              0.7777777777777778,
              "#fb9f3a"
             ],
             [
              0.8888888888888888,
              "#fdca26"
             ],
             [
              1,
              "#f0f921"
             ]
            ],
            "type": "contour"
           }
          ],
          "contourcarpet": [
           {
            "colorbar": {
             "outlinewidth": 0,
             "ticks": ""
            },
            "type": "contourcarpet"
           }
          ],
          "heatmap": [
           {
            "colorbar": {
             "outlinewidth": 0,
             "ticks": ""
            },
            "colorscale": [
             [
              0,
              "#0d0887"
             ],
             [
              0.1111111111111111,
              "#46039f"
             ],
             [
              0.2222222222222222,
              "#7201a8"
             ],
             [
              0.3333333333333333,
              "#9c179e"
             ],
             [
              0.4444444444444444,
              "#bd3786"
             ],
             [
              0.5555555555555556,
              "#d8576b"
             ],
             [
              0.6666666666666666,
              "#ed7953"
             ],
             [
              0.7777777777777778,
              "#fb9f3a"
             ],
             [
              0.8888888888888888,
              "#fdca26"
             ],
             [
              1,
              "#f0f921"
             ]
            ],
            "type": "heatmap"
           }
          ],
          "heatmapgl": [
           {
            "colorbar": {
             "outlinewidth": 0,
             "ticks": ""
            },
            "colorscale": [
             [
              0,
              "#0d0887"
             ],
             [
              0.1111111111111111,
              "#46039f"
             ],
             [
              0.2222222222222222,
              "#7201a8"
             ],
             [
              0.3333333333333333,
              "#9c179e"
             ],
             [
              0.4444444444444444,
              "#bd3786"
             ],
             [
              0.5555555555555556,
              "#d8576b"
             ],
             [
              0.6666666666666666,
              "#ed7953"
             ],
             [
              0.7777777777777778,
              "#fb9f3a"
             ],
             [
              0.8888888888888888,
              "#fdca26"
             ],
             [
              1,
              "#f0f921"
             ]
            ],
            "type": "heatmapgl"
           }
          ],
          "histogram": [
           {
            "marker": {
             "colorbar": {
              "outlinewidth": 0,
              "ticks": ""
             }
            },
            "type": "histogram"
           }
          ],
          "histogram2d": [
           {
            "colorbar": {
             "outlinewidth": 0,
             "ticks": ""
            },
            "colorscale": [
             [
              0,
              "#0d0887"
             ],
             [
              0.1111111111111111,
              "#46039f"
             ],
             [
              0.2222222222222222,
              "#7201a8"
             ],
             [
              0.3333333333333333,
              "#9c179e"
             ],
             [
              0.4444444444444444,
              "#bd3786"
             ],
             [
              0.5555555555555556,
              "#d8576b"
             ],
             [
              0.6666666666666666,
              "#ed7953"
             ],
             [
              0.7777777777777778,
              "#fb9f3a"
             ],
             [
              0.8888888888888888,
              "#fdca26"
             ],
             [
              1,
              "#f0f921"
             ]
            ],
            "type": "histogram2d"
           }
          ],
          "histogram2dcontour": [
           {
            "colorbar": {
             "outlinewidth": 0,
             "ticks": ""
            },
            "colorscale": [
             [
              0,
              "#0d0887"
             ],
             [
              0.1111111111111111,
              "#46039f"
             ],
             [
              0.2222222222222222,
              "#7201a8"
             ],
             [
              0.3333333333333333,
              "#9c179e"
             ],
             [
              0.4444444444444444,
              "#bd3786"
             ],
             [
              0.5555555555555556,
              "#d8576b"
             ],
             [
              0.6666666666666666,
              "#ed7953"
             ],
             [
              0.7777777777777778,
              "#fb9f3a"
             ],
             [
              0.8888888888888888,
              "#fdca26"
             ],
             [
              1,
              "#f0f921"
             ]
            ],
            "type": "histogram2dcontour"
           }
          ],
          "mesh3d": [
           {
            "colorbar": {
             "outlinewidth": 0,
             "ticks": ""
            },
            "type": "mesh3d"
           }
          ],
          "parcoords": [
           {
            "line": {
             "colorbar": {
              "outlinewidth": 0,
              "ticks": ""
             }
            },
            "type": "parcoords"
           }
          ],
          "pie": [
           {
            "automargin": true,
            "type": "pie"
           }
          ],
          "scatter": [
           {
            "marker": {
             "colorbar": {
              "outlinewidth": 0,
              "ticks": ""
             }
            },
            "type": "scatter"
           }
          ],
          "scatter3d": [
           {
            "line": {
             "colorbar": {
              "outlinewidth": 0,
              "ticks": ""
             }
            },
            "marker": {
             "colorbar": {
              "outlinewidth": 0,
              "ticks": ""
             }
            },
            "type": "scatter3d"
           }
          ],
          "scattercarpet": [
           {
            "marker": {
             "colorbar": {
              "outlinewidth": 0,
              "ticks": ""
             }
            },
            "type": "scattercarpet"
           }
          ],
          "scattergeo": [
           {
            "marker": {
             "colorbar": {
              "outlinewidth": 0,
              "ticks": ""
             }
            },
            "type": "scattergeo"
           }
          ],
          "scattergl": [
           {
            "marker": {
             "colorbar": {
              "outlinewidth": 0,
              "ticks": ""
             }
            },
            "type": "scattergl"
           }
          ],
          "scattermapbox": [
           {
            "marker": {
             "colorbar": {
              "outlinewidth": 0,
              "ticks": ""
             }
            },
            "type": "scattermapbox"
           }
          ],
          "scatterpolar": [
           {
            "marker": {
             "colorbar": {
              "outlinewidth": 0,
              "ticks": ""
             }
            },
            "type": "scatterpolar"
           }
          ],
          "scatterpolargl": [
           {
            "marker": {
             "colorbar": {
              "outlinewidth": 0,
              "ticks": ""
             }
            },
            "type": "scatterpolargl"
           }
          ],
          "scatterternary": [
           {
            "marker": {
             "colorbar": {
              "outlinewidth": 0,
              "ticks": ""
             }
            },
            "type": "scatterternary"
           }
          ],
          "surface": [
           {
            "colorbar": {
             "outlinewidth": 0,
             "ticks": ""
            },
            "colorscale": [
             [
              0,
              "#0d0887"
             ],
             [
              0.1111111111111111,
              "#46039f"
             ],
             [
              0.2222222222222222,
              "#7201a8"
             ],
             [
              0.3333333333333333,
              "#9c179e"
             ],
             [
              0.4444444444444444,
              "#bd3786"
             ],
             [
              0.5555555555555556,
              "#d8576b"
             ],
             [
              0.6666666666666666,
              "#ed7953"
             ],
             [
              0.7777777777777778,
              "#fb9f3a"
             ],
             [
              0.8888888888888888,
              "#fdca26"
             ],
             [
              1,
              "#f0f921"
             ]
            ],
            "type": "surface"
           }
          ],
          "table": [
           {
            "cells": {
             "fill": {
              "color": "#EBF0F8"
             },
             "line": {
              "color": "white"
             }
            },
            "header": {
             "fill": {
              "color": "#C8D4E3"
             },
             "line": {
              "color": "white"
             }
            },
            "type": "table"
           }
          ]
         },
         "layout": {
          "annotationdefaults": {
           "arrowcolor": "#2a3f5f",
           "arrowhead": 0,
           "arrowwidth": 1
          },
          "coloraxis": {
           "colorbar": {
            "outlinewidth": 0,
            "ticks": ""
           }
          },
          "colorscale": {
           "diverging": [
            [
             0,
             "#8e0152"
            ],
            [
             0.1,
             "#c51b7d"
            ],
            [
             0.2,
             "#de77ae"
            ],
            [
             0.3,
             "#f1b6da"
            ],
            [
             0.4,
             "#fde0ef"
            ],
            [
             0.5,
             "#f7f7f7"
            ],
            [
             0.6,
             "#e6f5d0"
            ],
            [
             0.7,
             "#b8e186"
            ],
            [
             0.8,
             "#7fbc41"
            ],
            [
             0.9,
             "#4d9221"
            ],
            [
             1,
             "#276419"
            ]
           ],
           "sequential": [
            [
             0,
             "#0d0887"
            ],
            [
             0.1111111111111111,
             "#46039f"
            ],
            [
             0.2222222222222222,
             "#7201a8"
            ],
            [
             0.3333333333333333,
             "#9c179e"
            ],
            [
             0.4444444444444444,
             "#bd3786"
            ],
            [
             0.5555555555555556,
             "#d8576b"
            ],
            [
             0.6666666666666666,
             "#ed7953"
            ],
            [
             0.7777777777777778,
             "#fb9f3a"
            ],
            [
             0.8888888888888888,
             "#fdca26"
            ],
            [
             1,
             "#f0f921"
            ]
           ],
           "sequentialminus": [
            [
             0,
             "#0d0887"
            ],
            [
             0.1111111111111111,
             "#46039f"
            ],
            [
             0.2222222222222222,
             "#7201a8"
            ],
            [
             0.3333333333333333,
             "#9c179e"
            ],
            [
             0.4444444444444444,
             "#bd3786"
            ],
            [
             0.5555555555555556,
             "#d8576b"
            ],
            [
             0.6666666666666666,
             "#ed7953"
            ],
            [
             0.7777777777777778,
             "#fb9f3a"
            ],
            [
             0.8888888888888888,
             "#fdca26"
            ],
            [
             1,
             "#f0f921"
            ]
           ]
          },
          "colorway": [
           "#636efa",
           "#EF553B",
           "#00cc96",
           "#ab63fa",
           "#FFA15A",
           "#19d3f3",
           "#FF6692",
           "#B6E880",
           "#FF97FF",
           "#FECB52"
          ],
          "font": {
           "color": "#2a3f5f"
          },
          "geo": {
           "bgcolor": "white",
           "lakecolor": "white",
           "landcolor": "#E5ECF6",
           "showlakes": true,
           "showland": true,
           "subunitcolor": "white"
          },
          "hoverlabel": {
           "align": "left"
          },
          "hovermode": "closest",
          "mapbox": {
           "style": "light"
          },
          "paper_bgcolor": "white",
          "plot_bgcolor": "#E5ECF6",
          "polar": {
           "angularaxis": {
            "gridcolor": "white",
            "linecolor": "white",
            "ticks": ""
           },
           "bgcolor": "#E5ECF6",
           "radialaxis": {
            "gridcolor": "white",
            "linecolor": "white",
            "ticks": ""
           }
          },
          "scene": {
           "xaxis": {
            "backgroundcolor": "#E5ECF6",
            "gridcolor": "white",
            "gridwidth": 2,
            "linecolor": "white",
            "showbackground": true,
            "ticks": "",
            "zerolinecolor": "white"
           },
           "yaxis": {
            "backgroundcolor": "#E5ECF6",
            "gridcolor": "white",
            "gridwidth": 2,
            "linecolor": "white",
            "showbackground": true,
            "ticks": "",
            "zerolinecolor": "white"
           },
           "zaxis": {
            "backgroundcolor": "#E5ECF6",
            "gridcolor": "white",
            "gridwidth": 2,
            "linecolor": "white",
            "showbackground": true,
            "ticks": "",
            "zerolinecolor": "white"
           }
          },
          "shapedefaults": {
           "line": {
            "color": "#2a3f5f"
           }
          },
          "ternary": {
           "aaxis": {
            "gridcolor": "white",
            "linecolor": "white",
            "ticks": ""
           },
           "baxis": {
            "gridcolor": "white",
            "linecolor": "white",
            "ticks": ""
           },
           "bgcolor": "#E5ECF6",
           "caxis": {
            "gridcolor": "white",
            "linecolor": "white",
            "ticks": ""
           }
          },
          "title": {
           "x": 0.05
          },
          "xaxis": {
           "automargin": true,
           "gridcolor": "white",
           "linecolor": "white",
           "ticks": "",
           "title": {
            "standoff": 15
           },
           "zerolinecolor": "white",
           "zerolinewidth": 2
          },
          "yaxis": {
           "automargin": true,
           "gridcolor": "white",
           "linecolor": "white",
           "ticks": "",
           "title": {
            "standoff": 15
           },
           "zerolinecolor": "white",
           "zerolinewidth": 2
          }
         }
        },
        "title": {
         "text": "Dislikes per video"
        }
       }
      },
      "text/html": [
       "<div>\n",
       "        \n",
       "        \n",
       "            <div id=\"de9079f6-f393-4e77-a263-2e891ac14ba8\" class=\"plotly-graph-div\" style=\"height:525px; width:100%;\"></div>\n",
       "            <script type=\"text/javascript\">\n",
       "                require([\"plotly\"], function(Plotly) {\n",
       "                    window.PLOTLYENV=window.PLOTLYENV || {};\n",
       "                    \n",
       "                if (document.getElementById(\"de9079f6-f393-4e77-a263-2e891ac14ba8\")) {\n",
       "                    Plotly.newPlot(\n",
       "                        'de9079f6-f393-4e77-a263-2e891ac14ba8',\n",
       "                        [{\"marker\": {\"color\": [\"green\", \"grey\", \"green\", \"green\", \"green\", \"grey\", \"grey\", \"grey\", \"grey\", \"grey\", \"grey\", \"grey\", \"grey\", \"green\", \"grey\", \"grey\", \"grey\", \"grey\", \"grey\", \"grey\", \"grey\", \"grey\", \"grey\", \"grey\", \"grey\", \"grey\", \"grey\", \"grey\", \"grey\", \"grey\", \"grey\", \"grey\", \"grey\", \"grey\", \"grey\", \"grey\", \"grey\", \"grey\", \"grey\", \"grey\", \"grey\", \"grey\", \"grey\", \"grey\", \"grey\", \"grey\", \"grey\", \"grey\", \"grey\", \"grey\", \"grey\", \"grey\", \"grey\", \"grey\", \"grey\", \"grey\", \"grey\", \"grey\", \"grey\"]}, \"type\": \"bar\", \"x\": [0, 1, 2, 3, 4, 5, 6, 7, 8, 9, 10, 11, 12, 13, 14, 15, 16, 17, 18, 19, 20, 21, 22, 23, 24, 25, 26, 27, 28, 29, 30, 31, 32, 33, 34, 35, 36, 37, 38, 39, 40, 41, 42, 43, 44, 45, 46, 47, 48, 49, 50, 51, 52, 53, 54, 55, 56, 57, 58], \"y\": [219, 19, 715, 68, 81, 25, 6, 20, 11, 34, 40, 67, 21, 80, 16, 25, 1, 6, 6, 0, 4, 1, 3, 1, 1, 4, 3, 1, 3, 0, 7, 36, 4, 2, 5, 8, 2, 2, 2, 3, 0, 4, 1, 0, 5, 2, 6, 0, 0, 0, 10, 8, 6, 6, 4, 1, 6, 41, 10]}],\n",
       "                        {\"template\": {\"data\": {\"bar\": [{\"error_x\": {\"color\": \"#2a3f5f\"}, \"error_y\": {\"color\": \"#2a3f5f\"}, \"marker\": {\"line\": {\"color\": \"#E5ECF6\", \"width\": 0.5}}, \"type\": \"bar\"}], \"barpolar\": [{\"marker\": {\"line\": {\"color\": \"#E5ECF6\", \"width\": 0.5}}, \"type\": \"barpolar\"}], \"carpet\": [{\"aaxis\": {\"endlinecolor\": \"#2a3f5f\", \"gridcolor\": \"white\", \"linecolor\": \"white\", \"minorgridcolor\": \"white\", \"startlinecolor\": \"#2a3f5f\"}, \"baxis\": {\"endlinecolor\": \"#2a3f5f\", \"gridcolor\": \"white\", \"linecolor\": \"white\", \"minorgridcolor\": \"white\", \"startlinecolor\": \"#2a3f5f\"}, \"type\": \"carpet\"}], \"choropleth\": [{\"colorbar\": {\"outlinewidth\": 0, \"ticks\": \"\"}, \"type\": \"choropleth\"}], \"contour\": [{\"colorbar\": {\"outlinewidth\": 0, \"ticks\": \"\"}, \"colorscale\": [[0.0, \"#0d0887\"], [0.1111111111111111, \"#46039f\"], [0.2222222222222222, \"#7201a8\"], [0.3333333333333333, \"#9c179e\"], [0.4444444444444444, \"#bd3786\"], [0.5555555555555556, \"#d8576b\"], [0.6666666666666666, \"#ed7953\"], [0.7777777777777778, \"#fb9f3a\"], [0.8888888888888888, \"#fdca26\"], [1.0, \"#f0f921\"]], \"type\": \"contour\"}], \"contourcarpet\": [{\"colorbar\": {\"outlinewidth\": 0, \"ticks\": \"\"}, \"type\": \"contourcarpet\"}], \"heatmap\": [{\"colorbar\": {\"outlinewidth\": 0, \"ticks\": \"\"}, \"colorscale\": [[0.0, \"#0d0887\"], [0.1111111111111111, \"#46039f\"], [0.2222222222222222, \"#7201a8\"], [0.3333333333333333, \"#9c179e\"], [0.4444444444444444, \"#bd3786\"], [0.5555555555555556, \"#d8576b\"], [0.6666666666666666, \"#ed7953\"], [0.7777777777777778, \"#fb9f3a\"], [0.8888888888888888, \"#fdca26\"], [1.0, \"#f0f921\"]], \"type\": \"heatmap\"}], \"heatmapgl\": [{\"colorbar\": {\"outlinewidth\": 0, \"ticks\": \"\"}, \"colorscale\": [[0.0, \"#0d0887\"], [0.1111111111111111, \"#46039f\"], [0.2222222222222222, \"#7201a8\"], [0.3333333333333333, \"#9c179e\"], [0.4444444444444444, \"#bd3786\"], [0.5555555555555556, \"#d8576b\"], [0.6666666666666666, \"#ed7953\"], [0.7777777777777778, \"#fb9f3a\"], [0.8888888888888888, \"#fdca26\"], [1.0, \"#f0f921\"]], \"type\": \"heatmapgl\"}], \"histogram\": [{\"marker\": {\"colorbar\": {\"outlinewidth\": 0, \"ticks\": \"\"}}, \"type\": \"histogram\"}], \"histogram2d\": [{\"colorbar\": {\"outlinewidth\": 0, \"ticks\": \"\"}, \"colorscale\": [[0.0, \"#0d0887\"], [0.1111111111111111, \"#46039f\"], [0.2222222222222222, \"#7201a8\"], [0.3333333333333333, \"#9c179e\"], [0.4444444444444444, \"#bd3786\"], [0.5555555555555556, \"#d8576b\"], [0.6666666666666666, \"#ed7953\"], [0.7777777777777778, \"#fb9f3a\"], [0.8888888888888888, \"#fdca26\"], [1.0, \"#f0f921\"]], \"type\": \"histogram2d\"}], \"histogram2dcontour\": [{\"colorbar\": {\"outlinewidth\": 0, \"ticks\": \"\"}, \"colorscale\": [[0.0, \"#0d0887\"], [0.1111111111111111, \"#46039f\"], [0.2222222222222222, \"#7201a8\"], [0.3333333333333333, \"#9c179e\"], [0.4444444444444444, \"#bd3786\"], [0.5555555555555556, \"#d8576b\"], [0.6666666666666666, \"#ed7953\"], [0.7777777777777778, \"#fb9f3a\"], [0.8888888888888888, \"#fdca26\"], [1.0, \"#f0f921\"]], \"type\": \"histogram2dcontour\"}], \"mesh3d\": [{\"colorbar\": {\"outlinewidth\": 0, \"ticks\": \"\"}, \"type\": \"mesh3d\"}], \"parcoords\": [{\"line\": {\"colorbar\": {\"outlinewidth\": 0, \"ticks\": \"\"}}, \"type\": \"parcoords\"}], \"pie\": [{\"automargin\": true, \"type\": \"pie\"}], \"scatter\": [{\"marker\": {\"colorbar\": {\"outlinewidth\": 0, \"ticks\": \"\"}}, \"type\": \"scatter\"}], \"scatter3d\": [{\"line\": {\"colorbar\": {\"outlinewidth\": 0, \"ticks\": \"\"}}, \"marker\": {\"colorbar\": {\"outlinewidth\": 0, \"ticks\": \"\"}}, \"type\": \"scatter3d\"}], \"scattercarpet\": [{\"marker\": {\"colorbar\": {\"outlinewidth\": 0, \"ticks\": \"\"}}, \"type\": \"scattercarpet\"}], \"scattergeo\": [{\"marker\": {\"colorbar\": {\"outlinewidth\": 0, \"ticks\": \"\"}}, \"type\": \"scattergeo\"}], \"scattergl\": [{\"marker\": {\"colorbar\": {\"outlinewidth\": 0, \"ticks\": \"\"}}, \"type\": \"scattergl\"}], \"scattermapbox\": [{\"marker\": {\"colorbar\": {\"outlinewidth\": 0, \"ticks\": \"\"}}, \"type\": \"scattermapbox\"}], \"scatterpolar\": [{\"marker\": {\"colorbar\": {\"outlinewidth\": 0, \"ticks\": \"\"}}, \"type\": \"scatterpolar\"}], \"scatterpolargl\": [{\"marker\": {\"colorbar\": {\"outlinewidth\": 0, \"ticks\": \"\"}}, \"type\": \"scatterpolargl\"}], \"scatterternary\": [{\"marker\": {\"colorbar\": {\"outlinewidth\": 0, \"ticks\": \"\"}}, \"type\": \"scatterternary\"}], \"surface\": [{\"colorbar\": {\"outlinewidth\": 0, \"ticks\": \"\"}, \"colorscale\": [[0.0, \"#0d0887\"], [0.1111111111111111, \"#46039f\"], [0.2222222222222222, \"#7201a8\"], [0.3333333333333333, \"#9c179e\"], [0.4444444444444444, \"#bd3786\"], [0.5555555555555556, \"#d8576b\"], [0.6666666666666666, \"#ed7953\"], [0.7777777777777778, \"#fb9f3a\"], [0.8888888888888888, \"#fdca26\"], [1.0, \"#f0f921\"]], \"type\": \"surface\"}], \"table\": [{\"cells\": {\"fill\": {\"color\": \"#EBF0F8\"}, \"line\": {\"color\": \"white\"}}, \"header\": {\"fill\": {\"color\": \"#C8D4E3\"}, \"line\": {\"color\": \"white\"}}, \"type\": \"table\"}]}, \"layout\": {\"annotationdefaults\": {\"arrowcolor\": \"#2a3f5f\", \"arrowhead\": 0, \"arrowwidth\": 1}, \"coloraxis\": {\"colorbar\": {\"outlinewidth\": 0, \"ticks\": \"\"}}, \"colorscale\": {\"diverging\": [[0, \"#8e0152\"], [0.1, \"#c51b7d\"], [0.2, \"#de77ae\"], [0.3, \"#f1b6da\"], [0.4, \"#fde0ef\"], [0.5, \"#f7f7f7\"], [0.6, \"#e6f5d0\"], [0.7, \"#b8e186\"], [0.8, \"#7fbc41\"], [0.9, \"#4d9221\"], [1, \"#276419\"]], \"sequential\": [[0.0, \"#0d0887\"], [0.1111111111111111, \"#46039f\"], [0.2222222222222222, \"#7201a8\"], [0.3333333333333333, \"#9c179e\"], [0.4444444444444444, \"#bd3786\"], [0.5555555555555556, \"#d8576b\"], [0.6666666666666666, \"#ed7953\"], [0.7777777777777778, \"#fb9f3a\"], [0.8888888888888888, \"#fdca26\"], [1.0, \"#f0f921\"]], \"sequentialminus\": [[0.0, \"#0d0887\"], [0.1111111111111111, \"#46039f\"], [0.2222222222222222, \"#7201a8\"], [0.3333333333333333, \"#9c179e\"], [0.4444444444444444, \"#bd3786\"], [0.5555555555555556, \"#d8576b\"], [0.6666666666666666, \"#ed7953\"], [0.7777777777777778, \"#fb9f3a\"], [0.8888888888888888, \"#fdca26\"], [1.0, \"#f0f921\"]]}, \"colorway\": [\"#636efa\", \"#EF553B\", \"#00cc96\", \"#ab63fa\", \"#FFA15A\", \"#19d3f3\", \"#FF6692\", \"#B6E880\", \"#FF97FF\", \"#FECB52\"], \"font\": {\"color\": \"#2a3f5f\"}, \"geo\": {\"bgcolor\": \"white\", \"lakecolor\": \"white\", \"landcolor\": \"#E5ECF6\", \"showlakes\": true, \"showland\": true, \"subunitcolor\": \"white\"}, \"hoverlabel\": {\"align\": \"left\"}, \"hovermode\": \"closest\", \"mapbox\": {\"style\": \"light\"}, \"paper_bgcolor\": \"white\", \"plot_bgcolor\": \"#E5ECF6\", \"polar\": {\"angularaxis\": {\"gridcolor\": \"white\", \"linecolor\": \"white\", \"ticks\": \"\"}, \"bgcolor\": \"#E5ECF6\", \"radialaxis\": {\"gridcolor\": \"white\", \"linecolor\": \"white\", \"ticks\": \"\"}}, \"scene\": {\"xaxis\": {\"backgroundcolor\": \"#E5ECF6\", \"gridcolor\": \"white\", \"gridwidth\": 2, \"linecolor\": \"white\", \"showbackground\": true, \"ticks\": \"\", \"zerolinecolor\": \"white\"}, \"yaxis\": {\"backgroundcolor\": \"#E5ECF6\", \"gridcolor\": \"white\", \"gridwidth\": 2, \"linecolor\": \"white\", \"showbackground\": true, \"ticks\": \"\", \"zerolinecolor\": \"white\"}, \"zaxis\": {\"backgroundcolor\": \"#E5ECF6\", \"gridcolor\": \"white\", \"gridwidth\": 2, \"linecolor\": \"white\", \"showbackground\": true, \"ticks\": \"\", \"zerolinecolor\": \"white\"}}, \"shapedefaults\": {\"line\": {\"color\": \"#2a3f5f\"}}, \"ternary\": {\"aaxis\": {\"gridcolor\": \"white\", \"linecolor\": \"white\", \"ticks\": \"\"}, \"baxis\": {\"gridcolor\": \"white\", \"linecolor\": \"white\", \"ticks\": \"\"}, \"bgcolor\": \"#E5ECF6\", \"caxis\": {\"gridcolor\": \"white\", \"linecolor\": \"white\", \"ticks\": \"\"}}, \"title\": {\"x\": 0.05}, \"xaxis\": {\"automargin\": true, \"gridcolor\": \"white\", \"linecolor\": \"white\", \"ticks\": \"\", \"title\": {\"standoff\": 15}, \"zerolinecolor\": \"white\", \"zerolinewidth\": 2}, \"yaxis\": {\"automargin\": true, \"gridcolor\": \"white\", \"linecolor\": \"white\", \"ticks\": \"\", \"title\": {\"standoff\": 15}, \"zerolinecolor\": \"white\", \"zerolinewidth\": 2}}}, \"title\": {\"text\": \"Dislikes per video\"}},\n",
       "                        {\"responsive\": true}\n",
       "                    ).then(function(){\n",
       "                            \n",
       "var gd = document.getElementById('de9079f6-f393-4e77-a263-2e891ac14ba8');\n",
       "var x = new MutationObserver(function (mutations, observer) {{\n",
       "        var display = window.getComputedStyle(gd).display;\n",
       "        if (!display || display === 'none') {{\n",
       "            console.log([gd, 'removed!']);\n",
       "            Plotly.purge(gd);\n",
       "            observer.disconnect();\n",
       "        }}\n",
       "}});\n",
       "\n",
       "// Listen for the removal of the full notebook cells\n",
       "var notebookContainer = gd.closest('#notebook-container');\n",
       "if (notebookContainer) {{\n",
       "    x.observe(notebookContainer, {childList: true});\n",
       "}}\n",
       "\n",
       "// Listen for the clearing of the current output cell\n",
       "var outputEl = gd.closest('.output');\n",
       "if (outputEl) {{\n",
       "    x.observe(outputEl, {childList: true});\n",
       "}}\n",
       "\n",
       "                        })\n",
       "                };\n",
       "                });\n",
       "            </script>\n",
       "        </div>"
      ]
     },
     "metadata": {},
     "output_type": "display_data"
    }
   ],
   "source": [
    "plotGraph('Dislikes', 'Dislikes per video')"
   ]
  },
  {
   "cell_type": "markdown",
   "metadata": {},
   "source": [
    "# ---------------------------------------------------------------"
   ]
  },
  {
   "cell_type": "markdown",
   "metadata": {},
   "source": [
    "# Views"
   ]
  },
  {
   "cell_type": "code",
   "execution_count": 73,
   "metadata": {},
   "outputs": [
    {
     "data": {
      "application/vnd.plotly.v1+json": {
       "config": {
        "plotlyServerURL": "https://plot.ly"
       },
       "data": [
        {
         "marker": {
          "color": [
           "green",
           "grey",
           "green",
           "green",
           "green",
           "grey",
           "grey",
           "grey",
           "grey",
           "grey",
           "grey",
           "grey",
           "grey",
           "green",
           "grey",
           "grey",
           "grey",
           "grey",
           "grey",
           "grey",
           "grey",
           "grey",
           "grey",
           "grey",
           "grey",
           "grey",
           "grey",
           "grey",
           "grey",
           "grey",
           "grey",
           "grey",
           "grey",
           "grey",
           "grey",
           "grey",
           "grey",
           "grey",
           "grey",
           "grey",
           "grey",
           "grey",
           "grey",
           "grey",
           "grey",
           "grey",
           "grey",
           "grey",
           "grey",
           "grey",
           "grey",
           "grey",
           "grey",
           "grey",
           "grey",
           "grey",
           "grey",
           "grey",
           "grey"
          ]
         },
         "type": "bar",
         "x": [
          0,
          1,
          2,
          3,
          4,
          5,
          6,
          7,
          8,
          9,
          10,
          11,
          12,
          13,
          14,
          15,
          16,
          17,
          18,
          19,
          20,
          21,
          22,
          23,
          24,
          25,
          26,
          27,
          28,
          29,
          30,
          31,
          32,
          33,
          34,
          35,
          36,
          37,
          38,
          39,
          40,
          41,
          42,
          43,
          44,
          45,
          46,
          47,
          48,
          49,
          50,
          51,
          52,
          53,
          54,
          55,
          56,
          57,
          58
         ],
         "y": [
          354670,
          102161,
          273767,
          189730,
          230952,
          27873,
          41766,
          89764,
          8527,
          41994,
          184272,
          165545,
          24720,
          200252,
          68889,
          102579,
          2125,
          7612,
          3537,
          11752,
          8281,
          10148,
          8134,
          6716,
          8742,
          2134,
          2541,
          4250,
          5137,
          1166,
          49167,
          96780,
          8728,
          3101,
          10102,
          11447,
          3836,
          3882,
          1157,
          3087,
          4137,
          19238,
          9743,
          14073,
          9270,
          6800,
          2602,
          3141,
          5135,
          3638,
          34207,
          11414,
          3538,
          10640,
          19588,
          3328,
          11318,
          73135,
          6448
         ]
        }
       ],
       "layout": {
        "template": {
         "data": {
          "bar": [
           {
            "error_x": {
             "color": "#2a3f5f"
            },
            "error_y": {
             "color": "#2a3f5f"
            },
            "marker": {
             "line": {
              "color": "#E5ECF6",
              "width": 0.5
             }
            },
            "type": "bar"
           }
          ],
          "barpolar": [
           {
            "marker": {
             "line": {
              "color": "#E5ECF6",
              "width": 0.5
             }
            },
            "type": "barpolar"
           }
          ],
          "carpet": [
           {
            "aaxis": {
             "endlinecolor": "#2a3f5f",
             "gridcolor": "white",
             "linecolor": "white",
             "minorgridcolor": "white",
             "startlinecolor": "#2a3f5f"
            },
            "baxis": {
             "endlinecolor": "#2a3f5f",
             "gridcolor": "white",
             "linecolor": "white",
             "minorgridcolor": "white",
             "startlinecolor": "#2a3f5f"
            },
            "type": "carpet"
           }
          ],
          "choropleth": [
           {
            "colorbar": {
             "outlinewidth": 0,
             "ticks": ""
            },
            "type": "choropleth"
           }
          ],
          "contour": [
           {
            "colorbar": {
             "outlinewidth": 0,
             "ticks": ""
            },
            "colorscale": [
             [
              0,
              "#0d0887"
             ],
             [
              0.1111111111111111,
              "#46039f"
             ],
             [
              0.2222222222222222,
              "#7201a8"
             ],
             [
              0.3333333333333333,
              "#9c179e"
             ],
             [
              0.4444444444444444,
              "#bd3786"
             ],
             [
              0.5555555555555556,
              "#d8576b"
             ],
             [
              0.6666666666666666,
              "#ed7953"
             ],
             [
              0.7777777777777778,
              "#fb9f3a"
             ],
             [
              0.8888888888888888,
              "#fdca26"
             ],
             [
              1,
              "#f0f921"
             ]
            ],
            "type": "contour"
           }
          ],
          "contourcarpet": [
           {
            "colorbar": {
             "outlinewidth": 0,
             "ticks": ""
            },
            "type": "contourcarpet"
           }
          ],
          "heatmap": [
           {
            "colorbar": {
             "outlinewidth": 0,
             "ticks": ""
            },
            "colorscale": [
             [
              0,
              "#0d0887"
             ],
             [
              0.1111111111111111,
              "#46039f"
             ],
             [
              0.2222222222222222,
              "#7201a8"
             ],
             [
              0.3333333333333333,
              "#9c179e"
             ],
             [
              0.4444444444444444,
              "#bd3786"
             ],
             [
              0.5555555555555556,
              "#d8576b"
             ],
             [
              0.6666666666666666,
              "#ed7953"
             ],
             [
              0.7777777777777778,
              "#fb9f3a"
             ],
             [
              0.8888888888888888,
              "#fdca26"
             ],
             [
              1,
              "#f0f921"
             ]
            ],
            "type": "heatmap"
           }
          ],
          "heatmapgl": [
           {
            "colorbar": {
             "outlinewidth": 0,
             "ticks": ""
            },
            "colorscale": [
             [
              0,
              "#0d0887"
             ],
             [
              0.1111111111111111,
              "#46039f"
             ],
             [
              0.2222222222222222,
              "#7201a8"
             ],
             [
              0.3333333333333333,
              "#9c179e"
             ],
             [
              0.4444444444444444,
              "#bd3786"
             ],
             [
              0.5555555555555556,
              "#d8576b"
             ],
             [
              0.6666666666666666,
              "#ed7953"
             ],
             [
              0.7777777777777778,
              "#fb9f3a"
             ],
             [
              0.8888888888888888,
              "#fdca26"
             ],
             [
              1,
              "#f0f921"
             ]
            ],
            "type": "heatmapgl"
           }
          ],
          "histogram": [
           {
            "marker": {
             "colorbar": {
              "outlinewidth": 0,
              "ticks": ""
             }
            },
            "type": "histogram"
           }
          ],
          "histogram2d": [
           {
            "colorbar": {
             "outlinewidth": 0,
             "ticks": ""
            },
            "colorscale": [
             [
              0,
              "#0d0887"
             ],
             [
              0.1111111111111111,
              "#46039f"
             ],
             [
              0.2222222222222222,
              "#7201a8"
             ],
             [
              0.3333333333333333,
              "#9c179e"
             ],
             [
              0.4444444444444444,
              "#bd3786"
             ],
             [
              0.5555555555555556,
              "#d8576b"
             ],
             [
              0.6666666666666666,
              "#ed7953"
             ],
             [
              0.7777777777777778,
              "#fb9f3a"
             ],
             [
              0.8888888888888888,
              "#fdca26"
             ],
             [
              1,
              "#f0f921"
             ]
            ],
            "type": "histogram2d"
           }
          ],
          "histogram2dcontour": [
           {
            "colorbar": {
             "outlinewidth": 0,
             "ticks": ""
            },
            "colorscale": [
             [
              0,
              "#0d0887"
             ],
             [
              0.1111111111111111,
              "#46039f"
             ],
             [
              0.2222222222222222,
              "#7201a8"
             ],
             [
              0.3333333333333333,
              "#9c179e"
             ],
             [
              0.4444444444444444,
              "#bd3786"
             ],
             [
              0.5555555555555556,
              "#d8576b"
             ],
             [
              0.6666666666666666,
              "#ed7953"
             ],
             [
              0.7777777777777778,
              "#fb9f3a"
             ],
             [
              0.8888888888888888,
              "#fdca26"
             ],
             [
              1,
              "#f0f921"
             ]
            ],
            "type": "histogram2dcontour"
           }
          ],
          "mesh3d": [
           {
            "colorbar": {
             "outlinewidth": 0,
             "ticks": ""
            },
            "type": "mesh3d"
           }
          ],
          "parcoords": [
           {
            "line": {
             "colorbar": {
              "outlinewidth": 0,
              "ticks": ""
             }
            },
            "type": "parcoords"
           }
          ],
          "pie": [
           {
            "automargin": true,
            "type": "pie"
           }
          ],
          "scatter": [
           {
            "marker": {
             "colorbar": {
              "outlinewidth": 0,
              "ticks": ""
             }
            },
            "type": "scatter"
           }
          ],
          "scatter3d": [
           {
            "line": {
             "colorbar": {
              "outlinewidth": 0,
              "ticks": ""
             }
            },
            "marker": {
             "colorbar": {
              "outlinewidth": 0,
              "ticks": ""
             }
            },
            "type": "scatter3d"
           }
          ],
          "scattercarpet": [
           {
            "marker": {
             "colorbar": {
              "outlinewidth": 0,
              "ticks": ""
             }
            },
            "type": "scattercarpet"
           }
          ],
          "scattergeo": [
           {
            "marker": {
             "colorbar": {
              "outlinewidth": 0,
              "ticks": ""
             }
            },
            "type": "scattergeo"
           }
          ],
          "scattergl": [
           {
            "marker": {
             "colorbar": {
              "outlinewidth": 0,
              "ticks": ""
             }
            },
            "type": "scattergl"
           }
          ],
          "scattermapbox": [
           {
            "marker": {
             "colorbar": {
              "outlinewidth": 0,
              "ticks": ""
             }
            },
            "type": "scattermapbox"
           }
          ],
          "scatterpolar": [
           {
            "marker": {
             "colorbar": {
              "outlinewidth": 0,
              "ticks": ""
             }
            },
            "type": "scatterpolar"
           }
          ],
          "scatterpolargl": [
           {
            "marker": {
             "colorbar": {
              "outlinewidth": 0,
              "ticks": ""
             }
            },
            "type": "scatterpolargl"
           }
          ],
          "scatterternary": [
           {
            "marker": {
             "colorbar": {
              "outlinewidth": 0,
              "ticks": ""
             }
            },
            "type": "scatterternary"
           }
          ],
          "surface": [
           {
            "colorbar": {
             "outlinewidth": 0,
             "ticks": ""
            },
            "colorscale": [
             [
              0,
              "#0d0887"
             ],
             [
              0.1111111111111111,
              "#46039f"
             ],
             [
              0.2222222222222222,
              "#7201a8"
             ],
             [
              0.3333333333333333,
              "#9c179e"
             ],
             [
              0.4444444444444444,
              "#bd3786"
             ],
             [
              0.5555555555555556,
              "#d8576b"
             ],
             [
              0.6666666666666666,
              "#ed7953"
             ],
             [
              0.7777777777777778,
              "#fb9f3a"
             ],
             [
              0.8888888888888888,
              "#fdca26"
             ],
             [
              1,
              "#f0f921"
             ]
            ],
            "type": "surface"
           }
          ],
          "table": [
           {
            "cells": {
             "fill": {
              "color": "#EBF0F8"
             },
             "line": {
              "color": "white"
             }
            },
            "header": {
             "fill": {
              "color": "#C8D4E3"
             },
             "line": {
              "color": "white"
             }
            },
            "type": "table"
           }
          ]
         },
         "layout": {
          "annotationdefaults": {
           "arrowcolor": "#2a3f5f",
           "arrowhead": 0,
           "arrowwidth": 1
          },
          "coloraxis": {
           "colorbar": {
            "outlinewidth": 0,
            "ticks": ""
           }
          },
          "colorscale": {
           "diverging": [
            [
             0,
             "#8e0152"
            ],
            [
             0.1,
             "#c51b7d"
            ],
            [
             0.2,
             "#de77ae"
            ],
            [
             0.3,
             "#f1b6da"
            ],
            [
             0.4,
             "#fde0ef"
            ],
            [
             0.5,
             "#f7f7f7"
            ],
            [
             0.6,
             "#e6f5d0"
            ],
            [
             0.7,
             "#b8e186"
            ],
            [
             0.8,
             "#7fbc41"
            ],
            [
             0.9,
             "#4d9221"
            ],
            [
             1,
             "#276419"
            ]
           ],
           "sequential": [
            [
             0,
             "#0d0887"
            ],
            [
             0.1111111111111111,
             "#46039f"
            ],
            [
             0.2222222222222222,
             "#7201a8"
            ],
            [
             0.3333333333333333,
             "#9c179e"
            ],
            [
             0.4444444444444444,
             "#bd3786"
            ],
            [
             0.5555555555555556,
             "#d8576b"
            ],
            [
             0.6666666666666666,
             "#ed7953"
            ],
            [
             0.7777777777777778,
             "#fb9f3a"
            ],
            [
             0.8888888888888888,
             "#fdca26"
            ],
            [
             1,
             "#f0f921"
            ]
           ],
           "sequentialminus": [
            [
             0,
             "#0d0887"
            ],
            [
             0.1111111111111111,
             "#46039f"
            ],
            [
             0.2222222222222222,
             "#7201a8"
            ],
            [
             0.3333333333333333,
             "#9c179e"
            ],
            [
             0.4444444444444444,
             "#bd3786"
            ],
            [
             0.5555555555555556,
             "#d8576b"
            ],
            [
             0.6666666666666666,
             "#ed7953"
            ],
            [
             0.7777777777777778,
             "#fb9f3a"
            ],
            [
             0.8888888888888888,
             "#fdca26"
            ],
            [
             1,
             "#f0f921"
            ]
           ]
          },
          "colorway": [
           "#636efa",
           "#EF553B",
           "#00cc96",
           "#ab63fa",
           "#FFA15A",
           "#19d3f3",
           "#FF6692",
           "#B6E880",
           "#FF97FF",
           "#FECB52"
          ],
          "font": {
           "color": "#2a3f5f"
          },
          "geo": {
           "bgcolor": "white",
           "lakecolor": "white",
           "landcolor": "#E5ECF6",
           "showlakes": true,
           "showland": true,
           "subunitcolor": "white"
          },
          "hoverlabel": {
           "align": "left"
          },
          "hovermode": "closest",
          "mapbox": {
           "style": "light"
          },
          "paper_bgcolor": "white",
          "plot_bgcolor": "#E5ECF6",
          "polar": {
           "angularaxis": {
            "gridcolor": "white",
            "linecolor": "white",
            "ticks": ""
           },
           "bgcolor": "#E5ECF6",
           "radialaxis": {
            "gridcolor": "white",
            "linecolor": "white",
            "ticks": ""
           }
          },
          "scene": {
           "xaxis": {
            "backgroundcolor": "#E5ECF6",
            "gridcolor": "white",
            "gridwidth": 2,
            "linecolor": "white",
            "showbackground": true,
            "ticks": "",
            "zerolinecolor": "white"
           },
           "yaxis": {
            "backgroundcolor": "#E5ECF6",
            "gridcolor": "white",
            "gridwidth": 2,
            "linecolor": "white",
            "showbackground": true,
            "ticks": "",
            "zerolinecolor": "white"
           },
           "zaxis": {
            "backgroundcolor": "#E5ECF6",
            "gridcolor": "white",
            "gridwidth": 2,
            "linecolor": "white",
            "showbackground": true,
            "ticks": "",
            "zerolinecolor": "white"
           }
          },
          "shapedefaults": {
           "line": {
            "color": "#2a3f5f"
           }
          },
          "ternary": {
           "aaxis": {
            "gridcolor": "white",
            "linecolor": "white",
            "ticks": ""
           },
           "baxis": {
            "gridcolor": "white",
            "linecolor": "white",
            "ticks": ""
           },
           "bgcolor": "#E5ECF6",
           "caxis": {
            "gridcolor": "white",
            "linecolor": "white",
            "ticks": ""
           }
          },
          "title": {
           "x": 0.05
          },
          "xaxis": {
           "automargin": true,
           "gridcolor": "white",
           "linecolor": "white",
           "ticks": "",
           "title": {
            "standoff": 15
           },
           "zerolinecolor": "white",
           "zerolinewidth": 2
          },
          "yaxis": {
           "automargin": true,
           "gridcolor": "white",
           "linecolor": "white",
           "ticks": "",
           "title": {
            "standoff": 15
           },
           "zerolinecolor": "white",
           "zerolinewidth": 2
          }
         }
        },
        "title": {
         "text": "Views per video"
        }
       }
      },
      "text/html": [
       "<div>\n",
       "        \n",
       "        \n",
       "            <div id=\"68bf9f7b-9e1d-4c87-b64a-cb401010f4ed\" class=\"plotly-graph-div\" style=\"height:525px; width:100%;\"></div>\n",
       "            <script type=\"text/javascript\">\n",
       "                require([\"plotly\"], function(Plotly) {\n",
       "                    window.PLOTLYENV=window.PLOTLYENV || {};\n",
       "                    \n",
       "                if (document.getElementById(\"68bf9f7b-9e1d-4c87-b64a-cb401010f4ed\")) {\n",
       "                    Plotly.newPlot(\n",
       "                        '68bf9f7b-9e1d-4c87-b64a-cb401010f4ed',\n",
       "                        [{\"marker\": {\"color\": [\"green\", \"grey\", \"green\", \"green\", \"green\", \"grey\", \"grey\", \"grey\", \"grey\", \"grey\", \"grey\", \"grey\", \"grey\", \"green\", \"grey\", \"grey\", \"grey\", \"grey\", \"grey\", \"grey\", \"grey\", \"grey\", \"grey\", \"grey\", \"grey\", \"grey\", \"grey\", \"grey\", \"grey\", \"grey\", \"grey\", \"grey\", \"grey\", \"grey\", \"grey\", \"grey\", \"grey\", \"grey\", \"grey\", \"grey\", \"grey\", \"grey\", \"grey\", \"grey\", \"grey\", \"grey\", \"grey\", \"grey\", \"grey\", \"grey\", \"grey\", \"grey\", \"grey\", \"grey\", \"grey\", \"grey\", \"grey\", \"grey\", \"grey\"]}, \"type\": \"bar\", \"x\": [0, 1, 2, 3, 4, 5, 6, 7, 8, 9, 10, 11, 12, 13, 14, 15, 16, 17, 18, 19, 20, 21, 22, 23, 24, 25, 26, 27, 28, 29, 30, 31, 32, 33, 34, 35, 36, 37, 38, 39, 40, 41, 42, 43, 44, 45, 46, 47, 48, 49, 50, 51, 52, 53, 54, 55, 56, 57, 58], \"y\": [354670, 102161, 273767, 189730, 230952, 27873, 41766, 89764, 8527, 41994, 184272, 165545, 24720, 200252, 68889, 102579, 2125, 7612, 3537, 11752, 8281, 10148, 8134, 6716, 8742, 2134, 2541, 4250, 5137, 1166, 49167, 96780, 8728, 3101, 10102, 11447, 3836, 3882, 1157, 3087, 4137, 19238, 9743, 14073, 9270, 6800, 2602, 3141, 5135, 3638, 34207, 11414, 3538, 10640, 19588, 3328, 11318, 73135, 6448]}],\n",
       "                        {\"template\": {\"data\": {\"bar\": [{\"error_x\": {\"color\": \"#2a3f5f\"}, \"error_y\": {\"color\": \"#2a3f5f\"}, \"marker\": {\"line\": {\"color\": \"#E5ECF6\", \"width\": 0.5}}, \"type\": \"bar\"}], \"barpolar\": [{\"marker\": {\"line\": {\"color\": \"#E5ECF6\", \"width\": 0.5}}, \"type\": \"barpolar\"}], \"carpet\": [{\"aaxis\": {\"endlinecolor\": \"#2a3f5f\", \"gridcolor\": \"white\", \"linecolor\": \"white\", \"minorgridcolor\": \"white\", \"startlinecolor\": \"#2a3f5f\"}, \"baxis\": {\"endlinecolor\": \"#2a3f5f\", \"gridcolor\": \"white\", \"linecolor\": \"white\", \"minorgridcolor\": \"white\", \"startlinecolor\": \"#2a3f5f\"}, \"type\": \"carpet\"}], \"choropleth\": [{\"colorbar\": {\"outlinewidth\": 0, \"ticks\": \"\"}, \"type\": \"choropleth\"}], \"contour\": [{\"colorbar\": {\"outlinewidth\": 0, \"ticks\": \"\"}, \"colorscale\": [[0.0, \"#0d0887\"], [0.1111111111111111, \"#46039f\"], [0.2222222222222222, \"#7201a8\"], [0.3333333333333333, \"#9c179e\"], [0.4444444444444444, \"#bd3786\"], [0.5555555555555556, \"#d8576b\"], [0.6666666666666666, \"#ed7953\"], [0.7777777777777778, \"#fb9f3a\"], [0.8888888888888888, \"#fdca26\"], [1.0, \"#f0f921\"]], \"type\": \"contour\"}], \"contourcarpet\": [{\"colorbar\": {\"outlinewidth\": 0, \"ticks\": \"\"}, \"type\": \"contourcarpet\"}], \"heatmap\": [{\"colorbar\": {\"outlinewidth\": 0, \"ticks\": \"\"}, \"colorscale\": [[0.0, \"#0d0887\"], [0.1111111111111111, \"#46039f\"], [0.2222222222222222, \"#7201a8\"], [0.3333333333333333, \"#9c179e\"], [0.4444444444444444, \"#bd3786\"], [0.5555555555555556, \"#d8576b\"], [0.6666666666666666, \"#ed7953\"], [0.7777777777777778, \"#fb9f3a\"], [0.8888888888888888, \"#fdca26\"], [1.0, \"#f0f921\"]], \"type\": \"heatmap\"}], \"heatmapgl\": [{\"colorbar\": {\"outlinewidth\": 0, \"ticks\": \"\"}, \"colorscale\": [[0.0, \"#0d0887\"], [0.1111111111111111, \"#46039f\"], [0.2222222222222222, \"#7201a8\"], [0.3333333333333333, \"#9c179e\"], [0.4444444444444444, \"#bd3786\"], [0.5555555555555556, \"#d8576b\"], [0.6666666666666666, \"#ed7953\"], [0.7777777777777778, \"#fb9f3a\"], [0.8888888888888888, \"#fdca26\"], [1.0, \"#f0f921\"]], \"type\": \"heatmapgl\"}], \"histogram\": [{\"marker\": {\"colorbar\": {\"outlinewidth\": 0, \"ticks\": \"\"}}, \"type\": \"histogram\"}], \"histogram2d\": [{\"colorbar\": {\"outlinewidth\": 0, \"ticks\": \"\"}, \"colorscale\": [[0.0, \"#0d0887\"], [0.1111111111111111, \"#46039f\"], [0.2222222222222222, \"#7201a8\"], [0.3333333333333333, \"#9c179e\"], [0.4444444444444444, \"#bd3786\"], [0.5555555555555556, \"#d8576b\"], [0.6666666666666666, \"#ed7953\"], [0.7777777777777778, \"#fb9f3a\"], [0.8888888888888888, \"#fdca26\"], [1.0, \"#f0f921\"]], \"type\": \"histogram2d\"}], \"histogram2dcontour\": [{\"colorbar\": {\"outlinewidth\": 0, \"ticks\": \"\"}, \"colorscale\": [[0.0, \"#0d0887\"], [0.1111111111111111, \"#46039f\"], [0.2222222222222222, \"#7201a8\"], [0.3333333333333333, \"#9c179e\"], [0.4444444444444444, \"#bd3786\"], [0.5555555555555556, \"#d8576b\"], [0.6666666666666666, \"#ed7953\"], [0.7777777777777778, \"#fb9f3a\"], [0.8888888888888888, \"#fdca26\"], [1.0, \"#f0f921\"]], \"type\": \"histogram2dcontour\"}], \"mesh3d\": [{\"colorbar\": {\"outlinewidth\": 0, \"ticks\": \"\"}, \"type\": \"mesh3d\"}], \"parcoords\": [{\"line\": {\"colorbar\": {\"outlinewidth\": 0, \"ticks\": \"\"}}, \"type\": \"parcoords\"}], \"pie\": [{\"automargin\": true, \"type\": \"pie\"}], \"scatter\": [{\"marker\": {\"colorbar\": {\"outlinewidth\": 0, \"ticks\": \"\"}}, \"type\": \"scatter\"}], \"scatter3d\": [{\"line\": {\"colorbar\": {\"outlinewidth\": 0, \"ticks\": \"\"}}, \"marker\": {\"colorbar\": {\"outlinewidth\": 0, \"ticks\": \"\"}}, \"type\": \"scatter3d\"}], \"scattercarpet\": [{\"marker\": {\"colorbar\": {\"outlinewidth\": 0, \"ticks\": \"\"}}, \"type\": \"scattercarpet\"}], \"scattergeo\": [{\"marker\": {\"colorbar\": {\"outlinewidth\": 0, \"ticks\": \"\"}}, \"type\": \"scattergeo\"}], \"scattergl\": [{\"marker\": {\"colorbar\": {\"outlinewidth\": 0, \"ticks\": \"\"}}, \"type\": \"scattergl\"}], \"scattermapbox\": [{\"marker\": {\"colorbar\": {\"outlinewidth\": 0, \"ticks\": \"\"}}, \"type\": \"scattermapbox\"}], \"scatterpolar\": [{\"marker\": {\"colorbar\": {\"outlinewidth\": 0, \"ticks\": \"\"}}, \"type\": \"scatterpolar\"}], \"scatterpolargl\": [{\"marker\": {\"colorbar\": {\"outlinewidth\": 0, \"ticks\": \"\"}}, \"type\": \"scatterpolargl\"}], \"scatterternary\": [{\"marker\": {\"colorbar\": {\"outlinewidth\": 0, \"ticks\": \"\"}}, \"type\": \"scatterternary\"}], \"surface\": [{\"colorbar\": {\"outlinewidth\": 0, \"ticks\": \"\"}, \"colorscale\": [[0.0, \"#0d0887\"], [0.1111111111111111, \"#46039f\"], [0.2222222222222222, \"#7201a8\"], [0.3333333333333333, \"#9c179e\"], [0.4444444444444444, \"#bd3786\"], [0.5555555555555556, \"#d8576b\"], [0.6666666666666666, \"#ed7953\"], [0.7777777777777778, \"#fb9f3a\"], [0.8888888888888888, \"#fdca26\"], [1.0, \"#f0f921\"]], \"type\": \"surface\"}], \"table\": [{\"cells\": {\"fill\": {\"color\": \"#EBF0F8\"}, \"line\": {\"color\": \"white\"}}, \"header\": {\"fill\": {\"color\": \"#C8D4E3\"}, \"line\": {\"color\": \"white\"}}, \"type\": \"table\"}]}, \"layout\": {\"annotationdefaults\": {\"arrowcolor\": \"#2a3f5f\", \"arrowhead\": 0, \"arrowwidth\": 1}, \"coloraxis\": {\"colorbar\": {\"outlinewidth\": 0, \"ticks\": \"\"}}, \"colorscale\": {\"diverging\": [[0, \"#8e0152\"], [0.1, \"#c51b7d\"], [0.2, \"#de77ae\"], [0.3, \"#f1b6da\"], [0.4, \"#fde0ef\"], [0.5, \"#f7f7f7\"], [0.6, \"#e6f5d0\"], [0.7, \"#b8e186\"], [0.8, \"#7fbc41\"], [0.9, \"#4d9221\"], [1, \"#276419\"]], \"sequential\": [[0.0, \"#0d0887\"], [0.1111111111111111, \"#46039f\"], [0.2222222222222222, \"#7201a8\"], [0.3333333333333333, \"#9c179e\"], [0.4444444444444444, \"#bd3786\"], [0.5555555555555556, \"#d8576b\"], [0.6666666666666666, \"#ed7953\"], [0.7777777777777778, \"#fb9f3a\"], [0.8888888888888888, \"#fdca26\"], [1.0, \"#f0f921\"]], \"sequentialminus\": [[0.0, \"#0d0887\"], [0.1111111111111111, \"#46039f\"], [0.2222222222222222, \"#7201a8\"], [0.3333333333333333, \"#9c179e\"], [0.4444444444444444, \"#bd3786\"], [0.5555555555555556, \"#d8576b\"], [0.6666666666666666, \"#ed7953\"], [0.7777777777777778, \"#fb9f3a\"], [0.8888888888888888, \"#fdca26\"], [1.0, \"#f0f921\"]]}, \"colorway\": [\"#636efa\", \"#EF553B\", \"#00cc96\", \"#ab63fa\", \"#FFA15A\", \"#19d3f3\", \"#FF6692\", \"#B6E880\", \"#FF97FF\", \"#FECB52\"], \"font\": {\"color\": \"#2a3f5f\"}, \"geo\": {\"bgcolor\": \"white\", \"lakecolor\": \"white\", \"landcolor\": \"#E5ECF6\", \"showlakes\": true, \"showland\": true, \"subunitcolor\": \"white\"}, \"hoverlabel\": {\"align\": \"left\"}, \"hovermode\": \"closest\", \"mapbox\": {\"style\": \"light\"}, \"paper_bgcolor\": \"white\", \"plot_bgcolor\": \"#E5ECF6\", \"polar\": {\"angularaxis\": {\"gridcolor\": \"white\", \"linecolor\": \"white\", \"ticks\": \"\"}, \"bgcolor\": \"#E5ECF6\", \"radialaxis\": {\"gridcolor\": \"white\", \"linecolor\": \"white\", \"ticks\": \"\"}}, \"scene\": {\"xaxis\": {\"backgroundcolor\": \"#E5ECF6\", \"gridcolor\": \"white\", \"gridwidth\": 2, \"linecolor\": \"white\", \"showbackground\": true, \"ticks\": \"\", \"zerolinecolor\": \"white\"}, \"yaxis\": {\"backgroundcolor\": \"#E5ECF6\", \"gridcolor\": \"white\", \"gridwidth\": 2, \"linecolor\": \"white\", \"showbackground\": true, \"ticks\": \"\", \"zerolinecolor\": \"white\"}, \"zaxis\": {\"backgroundcolor\": \"#E5ECF6\", \"gridcolor\": \"white\", \"gridwidth\": 2, \"linecolor\": \"white\", \"showbackground\": true, \"ticks\": \"\", \"zerolinecolor\": \"white\"}}, \"shapedefaults\": {\"line\": {\"color\": \"#2a3f5f\"}}, \"ternary\": {\"aaxis\": {\"gridcolor\": \"white\", \"linecolor\": \"white\", \"ticks\": \"\"}, \"baxis\": {\"gridcolor\": \"white\", \"linecolor\": \"white\", \"ticks\": \"\"}, \"bgcolor\": \"#E5ECF6\", \"caxis\": {\"gridcolor\": \"white\", \"linecolor\": \"white\", \"ticks\": \"\"}}, \"title\": {\"x\": 0.05}, \"xaxis\": {\"automargin\": true, \"gridcolor\": \"white\", \"linecolor\": \"white\", \"ticks\": \"\", \"title\": {\"standoff\": 15}, \"zerolinecolor\": \"white\", \"zerolinewidth\": 2}, \"yaxis\": {\"automargin\": true, \"gridcolor\": \"white\", \"linecolor\": \"white\", \"ticks\": \"\", \"title\": {\"standoff\": 15}, \"zerolinecolor\": \"white\", \"zerolinewidth\": 2}}}, \"title\": {\"text\": \"Views per video\"}},\n",
       "                        {\"responsive\": true}\n",
       "                    ).then(function(){\n",
       "                            \n",
       "var gd = document.getElementById('68bf9f7b-9e1d-4c87-b64a-cb401010f4ed');\n",
       "var x = new MutationObserver(function (mutations, observer) {{\n",
       "        var display = window.getComputedStyle(gd).display;\n",
       "        if (!display || display === 'none') {{\n",
       "            console.log([gd, 'removed!']);\n",
       "            Plotly.purge(gd);\n",
       "            observer.disconnect();\n",
       "        }}\n",
       "}});\n",
       "\n",
       "// Listen for the removal of the full notebook cells\n",
       "var notebookContainer = gd.closest('#notebook-container');\n",
       "if (notebookContainer) {{\n",
       "    x.observe(notebookContainer, {childList: true});\n",
       "}}\n",
       "\n",
       "// Listen for the clearing of the current output cell\n",
       "var outputEl = gd.closest('.output');\n",
       "if (outputEl) {{\n",
       "    x.observe(outputEl, {childList: true});\n",
       "}}\n",
       "\n",
       "                        })\n",
       "                };\n",
       "                });\n",
       "            </script>\n",
       "        </div>"
      ]
     },
     "metadata": {},
     "output_type": "display_data"
    }
   ],
   "source": [
    "plotGraph('Views', 'Views per video')"
   ]
  },
  {
   "cell_type": "markdown",
   "metadata": {},
   "source": [
    "# ---------------------------------------------------------------"
   ]
  },
  {
   "cell_type": "markdown",
   "metadata": {},
   "source": [
    "# Subcount"
   ]
  },
  {
   "cell_type": "code",
   "execution_count": 74,
   "metadata": {},
   "outputs": [
    {
     "data": {
      "application/vnd.plotly.v1+json": {
       "config": {
        "plotlyServerURL": "https://plot.ly"
       },
       "data": [
        {
         "marker": {
          "color": [
           "green",
           "green",
           "grey",
           "grey",
           "green",
           "grey",
           "grey",
           "grey",
           "grey",
           "grey",
           "green",
           "grey",
           "grey",
           "grey",
           "grey",
           "grey",
           "grey",
           "grey",
           "grey",
           "grey",
           "grey",
           "grey",
           "grey",
           "grey",
           "grey",
           "grey",
           "grey",
           "grey",
           "grey",
           "grey",
           "grey",
           "green",
           "grey",
           "grey",
           "grey",
           "grey",
           "grey",
           "grey",
           "grey",
           "grey",
           "grey",
           "grey",
           "grey",
           "grey",
           "grey",
           "grey",
           "grey",
           "grey",
           "grey",
           "grey",
           "grey",
           "grey",
           "grey",
           "grey",
           "grey",
           "grey",
           "grey",
           "grey",
           "grey"
          ]
         },
         "type": "bar",
         "x": [
          0,
          1,
          2,
          3,
          4,
          5,
          6,
          7,
          8,
          9,
          10,
          11,
          12,
          13,
          14,
          15,
          16,
          17,
          18,
          19,
          20,
          21,
          22,
          23,
          24,
          25,
          26,
          27,
          28,
          29,
          30,
          31,
          32,
          33,
          34,
          35,
          36,
          37,
          38,
          39,
          40,
          41,
          42,
          43,
          44,
          45,
          46,
          47,
          48,
          49,
          50,
          51,
          52,
          53,
          54,
          55,
          56,
          57,
          58
         ],
         "y": [
          1660000,
          1910000,
          161000,
          45400,
          927000,
          288000,
          44000,
          47900,
          489000,
          2750,
          927000,
          41800,
          16600,
          912,
          107000,
          107000,
          2030,
          93400,
          2280,
          7440,
          41800,
          69100,
          250,
          69100,
          1260,
          1,
          1420,
          69100,
          69100,
          15100,
          93000,
          1910000,
          69100,
          69100,
          44000,
          596000,
          266000,
          69100,
          1420,
          69100,
          519,
          14200,
          1260,
          14200,
          8450,
          13800,
          13500,
          69100,
          45400,
          69100,
          19200,
          288000,
          25700,
          149000,
          28800,
          69100,
          18700,
          33100,
          178000
         ]
        }
       ],
       "layout": {
        "template": {
         "data": {
          "bar": [
           {
            "error_x": {
             "color": "#2a3f5f"
            },
            "error_y": {
             "color": "#2a3f5f"
            },
            "marker": {
             "line": {
              "color": "#E5ECF6",
              "width": 0.5
             }
            },
            "type": "bar"
           }
          ],
          "barpolar": [
           {
            "marker": {
             "line": {
              "color": "#E5ECF6",
              "width": 0.5
             }
            },
            "type": "barpolar"
           }
          ],
          "carpet": [
           {
            "aaxis": {
             "endlinecolor": "#2a3f5f",
             "gridcolor": "white",
             "linecolor": "white",
             "minorgridcolor": "white",
             "startlinecolor": "#2a3f5f"
            },
            "baxis": {
             "endlinecolor": "#2a3f5f",
             "gridcolor": "white",
             "linecolor": "white",
             "minorgridcolor": "white",
             "startlinecolor": "#2a3f5f"
            },
            "type": "carpet"
           }
          ],
          "choropleth": [
           {
            "colorbar": {
             "outlinewidth": 0,
             "ticks": ""
            },
            "type": "choropleth"
           }
          ],
          "contour": [
           {
            "colorbar": {
             "outlinewidth": 0,
             "ticks": ""
            },
            "colorscale": [
             [
              0,
              "#0d0887"
             ],
             [
              0.1111111111111111,
              "#46039f"
             ],
             [
              0.2222222222222222,
              "#7201a8"
             ],
             [
              0.3333333333333333,
              "#9c179e"
             ],
             [
              0.4444444444444444,
              "#bd3786"
             ],
             [
              0.5555555555555556,
              "#d8576b"
             ],
             [
              0.6666666666666666,
              "#ed7953"
             ],
             [
              0.7777777777777778,
              "#fb9f3a"
             ],
             [
              0.8888888888888888,
              "#fdca26"
             ],
             [
              1,
              "#f0f921"
             ]
            ],
            "type": "contour"
           }
          ],
          "contourcarpet": [
           {
            "colorbar": {
             "outlinewidth": 0,
             "ticks": ""
            },
            "type": "contourcarpet"
           }
          ],
          "heatmap": [
           {
            "colorbar": {
             "outlinewidth": 0,
             "ticks": ""
            },
            "colorscale": [
             [
              0,
              "#0d0887"
             ],
             [
              0.1111111111111111,
              "#46039f"
             ],
             [
              0.2222222222222222,
              "#7201a8"
             ],
             [
              0.3333333333333333,
              "#9c179e"
             ],
             [
              0.4444444444444444,
              "#bd3786"
             ],
             [
              0.5555555555555556,
              "#d8576b"
             ],
             [
              0.6666666666666666,
              "#ed7953"
             ],
             [
              0.7777777777777778,
              "#fb9f3a"
             ],
             [
              0.8888888888888888,
              "#fdca26"
             ],
             [
              1,
              "#f0f921"
             ]
            ],
            "type": "heatmap"
           }
          ],
          "heatmapgl": [
           {
            "colorbar": {
             "outlinewidth": 0,
             "ticks": ""
            },
            "colorscale": [
             [
              0,
              "#0d0887"
             ],
             [
              0.1111111111111111,
              "#46039f"
             ],
             [
              0.2222222222222222,
              "#7201a8"
             ],
             [
              0.3333333333333333,
              "#9c179e"
             ],
             [
              0.4444444444444444,
              "#bd3786"
             ],
             [
              0.5555555555555556,
              "#d8576b"
             ],
             [
              0.6666666666666666,
              "#ed7953"
             ],
             [
              0.7777777777777778,
              "#fb9f3a"
             ],
             [
              0.8888888888888888,
              "#fdca26"
             ],
             [
              1,
              "#f0f921"
             ]
            ],
            "type": "heatmapgl"
           }
          ],
          "histogram": [
           {
            "marker": {
             "colorbar": {
              "outlinewidth": 0,
              "ticks": ""
             }
            },
            "type": "histogram"
           }
          ],
          "histogram2d": [
           {
            "colorbar": {
             "outlinewidth": 0,
             "ticks": ""
            },
            "colorscale": [
             [
              0,
              "#0d0887"
             ],
             [
              0.1111111111111111,
              "#46039f"
             ],
             [
              0.2222222222222222,
              "#7201a8"
             ],
             [
              0.3333333333333333,
              "#9c179e"
             ],
             [
              0.4444444444444444,
              "#bd3786"
             ],
             [
              0.5555555555555556,
              "#d8576b"
             ],
             [
              0.6666666666666666,
              "#ed7953"
             ],
             [
              0.7777777777777778,
              "#fb9f3a"
             ],
             [
              0.8888888888888888,
              "#fdca26"
             ],
             [
              1,
              "#f0f921"
             ]
            ],
            "type": "histogram2d"
           }
          ],
          "histogram2dcontour": [
           {
            "colorbar": {
             "outlinewidth": 0,
             "ticks": ""
            },
            "colorscale": [
             [
              0,
              "#0d0887"
             ],
             [
              0.1111111111111111,
              "#46039f"
             ],
             [
              0.2222222222222222,
              "#7201a8"
             ],
             [
              0.3333333333333333,
              "#9c179e"
             ],
             [
              0.4444444444444444,
              "#bd3786"
             ],
             [
              0.5555555555555556,
              "#d8576b"
             ],
             [
              0.6666666666666666,
              "#ed7953"
             ],
             [
              0.7777777777777778,
              "#fb9f3a"
             ],
             [
              0.8888888888888888,
              "#fdca26"
             ],
             [
              1,
              "#f0f921"
             ]
            ],
            "type": "histogram2dcontour"
           }
          ],
          "mesh3d": [
           {
            "colorbar": {
             "outlinewidth": 0,
             "ticks": ""
            },
            "type": "mesh3d"
           }
          ],
          "parcoords": [
           {
            "line": {
             "colorbar": {
              "outlinewidth": 0,
              "ticks": ""
             }
            },
            "type": "parcoords"
           }
          ],
          "pie": [
           {
            "automargin": true,
            "type": "pie"
           }
          ],
          "scatter": [
           {
            "marker": {
             "colorbar": {
              "outlinewidth": 0,
              "ticks": ""
             }
            },
            "type": "scatter"
           }
          ],
          "scatter3d": [
           {
            "line": {
             "colorbar": {
              "outlinewidth": 0,
              "ticks": ""
             }
            },
            "marker": {
             "colorbar": {
              "outlinewidth": 0,
              "ticks": ""
             }
            },
            "type": "scatter3d"
           }
          ],
          "scattercarpet": [
           {
            "marker": {
             "colorbar": {
              "outlinewidth": 0,
              "ticks": ""
             }
            },
            "type": "scattercarpet"
           }
          ],
          "scattergeo": [
           {
            "marker": {
             "colorbar": {
              "outlinewidth": 0,
              "ticks": ""
             }
            },
            "type": "scattergeo"
           }
          ],
          "scattergl": [
           {
            "marker": {
             "colorbar": {
              "outlinewidth": 0,
              "ticks": ""
             }
            },
            "type": "scattergl"
           }
          ],
          "scattermapbox": [
           {
            "marker": {
             "colorbar": {
              "outlinewidth": 0,
              "ticks": ""
             }
            },
            "type": "scattermapbox"
           }
          ],
          "scatterpolar": [
           {
            "marker": {
             "colorbar": {
              "outlinewidth": 0,
              "ticks": ""
             }
            },
            "type": "scatterpolar"
           }
          ],
          "scatterpolargl": [
           {
            "marker": {
             "colorbar": {
              "outlinewidth": 0,
              "ticks": ""
             }
            },
            "type": "scatterpolargl"
           }
          ],
          "scatterternary": [
           {
            "marker": {
             "colorbar": {
              "outlinewidth": 0,
              "ticks": ""
             }
            },
            "type": "scatterternary"
           }
          ],
          "surface": [
           {
            "colorbar": {
             "outlinewidth": 0,
             "ticks": ""
            },
            "colorscale": [
             [
              0,
              "#0d0887"
             ],
             [
              0.1111111111111111,
              "#46039f"
             ],
             [
              0.2222222222222222,
              "#7201a8"
             ],
             [
              0.3333333333333333,
              "#9c179e"
             ],
             [
              0.4444444444444444,
              "#bd3786"
             ],
             [
              0.5555555555555556,
              "#d8576b"
             ],
             [
              0.6666666666666666,
              "#ed7953"
             ],
             [
              0.7777777777777778,
              "#fb9f3a"
             ],
             [
              0.8888888888888888,
              "#fdca26"
             ],
             [
              1,
              "#f0f921"
             ]
            ],
            "type": "surface"
           }
          ],
          "table": [
           {
            "cells": {
             "fill": {
              "color": "#EBF0F8"
             },
             "line": {
              "color": "white"
             }
            },
            "header": {
             "fill": {
              "color": "#C8D4E3"
             },
             "line": {
              "color": "white"
             }
            },
            "type": "table"
           }
          ]
         },
         "layout": {
          "annotationdefaults": {
           "arrowcolor": "#2a3f5f",
           "arrowhead": 0,
           "arrowwidth": 1
          },
          "coloraxis": {
           "colorbar": {
            "outlinewidth": 0,
            "ticks": ""
           }
          },
          "colorscale": {
           "diverging": [
            [
             0,
             "#8e0152"
            ],
            [
             0.1,
             "#c51b7d"
            ],
            [
             0.2,
             "#de77ae"
            ],
            [
             0.3,
             "#f1b6da"
            ],
            [
             0.4,
             "#fde0ef"
            ],
            [
             0.5,
             "#f7f7f7"
            ],
            [
             0.6,
             "#e6f5d0"
            ],
            [
             0.7,
             "#b8e186"
            ],
            [
             0.8,
             "#7fbc41"
            ],
            [
             0.9,
             "#4d9221"
            ],
            [
             1,
             "#276419"
            ]
           ],
           "sequential": [
            [
             0,
             "#0d0887"
            ],
            [
             0.1111111111111111,
             "#46039f"
            ],
            [
             0.2222222222222222,
             "#7201a8"
            ],
            [
             0.3333333333333333,
             "#9c179e"
            ],
            [
             0.4444444444444444,
             "#bd3786"
            ],
            [
             0.5555555555555556,
             "#d8576b"
            ],
            [
             0.6666666666666666,
             "#ed7953"
            ],
            [
             0.7777777777777778,
             "#fb9f3a"
            ],
            [
             0.8888888888888888,
             "#fdca26"
            ],
            [
             1,
             "#f0f921"
            ]
           ],
           "sequentialminus": [
            [
             0,
             "#0d0887"
            ],
            [
             0.1111111111111111,
             "#46039f"
            ],
            [
             0.2222222222222222,
             "#7201a8"
            ],
            [
             0.3333333333333333,
             "#9c179e"
            ],
            [
             0.4444444444444444,
             "#bd3786"
            ],
            [
             0.5555555555555556,
             "#d8576b"
            ],
            [
             0.6666666666666666,
             "#ed7953"
            ],
            [
             0.7777777777777778,
             "#fb9f3a"
            ],
            [
             0.8888888888888888,
             "#fdca26"
            ],
            [
             1,
             "#f0f921"
            ]
           ]
          },
          "colorway": [
           "#636efa",
           "#EF553B",
           "#00cc96",
           "#ab63fa",
           "#FFA15A",
           "#19d3f3",
           "#FF6692",
           "#B6E880",
           "#FF97FF",
           "#FECB52"
          ],
          "font": {
           "color": "#2a3f5f"
          },
          "geo": {
           "bgcolor": "white",
           "lakecolor": "white",
           "landcolor": "#E5ECF6",
           "showlakes": true,
           "showland": true,
           "subunitcolor": "white"
          },
          "hoverlabel": {
           "align": "left"
          },
          "hovermode": "closest",
          "mapbox": {
           "style": "light"
          },
          "paper_bgcolor": "white",
          "plot_bgcolor": "#E5ECF6",
          "polar": {
           "angularaxis": {
            "gridcolor": "white",
            "linecolor": "white",
            "ticks": ""
           },
           "bgcolor": "#E5ECF6",
           "radialaxis": {
            "gridcolor": "white",
            "linecolor": "white",
            "ticks": ""
           }
          },
          "scene": {
           "xaxis": {
            "backgroundcolor": "#E5ECF6",
            "gridcolor": "white",
            "gridwidth": 2,
            "linecolor": "white",
            "showbackground": true,
            "ticks": "",
            "zerolinecolor": "white"
           },
           "yaxis": {
            "backgroundcolor": "#E5ECF6",
            "gridcolor": "white",
            "gridwidth": 2,
            "linecolor": "white",
            "showbackground": true,
            "ticks": "",
            "zerolinecolor": "white"
           },
           "zaxis": {
            "backgroundcolor": "#E5ECF6",
            "gridcolor": "white",
            "gridwidth": 2,
            "linecolor": "white",
            "showbackground": true,
            "ticks": "",
            "zerolinecolor": "white"
           }
          },
          "shapedefaults": {
           "line": {
            "color": "#2a3f5f"
           }
          },
          "ternary": {
           "aaxis": {
            "gridcolor": "white",
            "linecolor": "white",
            "ticks": ""
           },
           "baxis": {
            "gridcolor": "white",
            "linecolor": "white",
            "ticks": ""
           },
           "bgcolor": "#E5ECF6",
           "caxis": {
            "gridcolor": "white",
            "linecolor": "white",
            "ticks": ""
           }
          },
          "title": {
           "x": 0.05
          },
          "xaxis": {
           "automargin": true,
           "gridcolor": "white",
           "linecolor": "white",
           "ticks": "",
           "title": {
            "standoff": 15
           },
           "zerolinecolor": "white",
           "zerolinewidth": 2
          },
          "yaxis": {
           "automargin": true,
           "gridcolor": "white",
           "linecolor": "white",
           "ticks": "",
           "title": {
            "standoff": 15
           },
           "zerolinecolor": "white",
           "zerolinewidth": 2
          }
         }
        },
        "title": {
         "text": "Subcount per video"
        }
       }
      },
      "text/html": [
       "<div>\n",
       "        \n",
       "        \n",
       "            <div id=\"6dc13581-df53-4185-b8ed-6becb8805c19\" class=\"plotly-graph-div\" style=\"height:525px; width:100%;\"></div>\n",
       "            <script type=\"text/javascript\">\n",
       "                require([\"plotly\"], function(Plotly) {\n",
       "                    window.PLOTLYENV=window.PLOTLYENV || {};\n",
       "                    \n",
       "                if (document.getElementById(\"6dc13581-df53-4185-b8ed-6becb8805c19\")) {\n",
       "                    Plotly.newPlot(\n",
       "                        '6dc13581-df53-4185-b8ed-6becb8805c19',\n",
       "                        [{\"marker\": {\"color\": [\"green\", \"green\", \"grey\", \"grey\", \"green\", \"grey\", \"grey\", \"grey\", \"grey\", \"grey\", \"green\", \"grey\", \"grey\", \"grey\", \"grey\", \"grey\", \"grey\", \"grey\", \"grey\", \"grey\", \"grey\", \"grey\", \"grey\", \"grey\", \"grey\", \"grey\", \"grey\", \"grey\", \"grey\", \"grey\", \"grey\", \"green\", \"grey\", \"grey\", \"grey\", \"grey\", \"grey\", \"grey\", \"grey\", \"grey\", \"grey\", \"grey\", \"grey\", \"grey\", \"grey\", \"grey\", \"grey\", \"grey\", \"grey\", \"grey\", \"grey\", \"grey\", \"grey\", \"grey\", \"grey\", \"grey\", \"grey\", \"grey\", \"grey\"]}, \"type\": \"bar\", \"x\": [0, 1, 2, 3, 4, 5, 6, 7, 8, 9, 10, 11, 12, 13, 14, 15, 16, 17, 18, 19, 20, 21, 22, 23, 24, 25, 26, 27, 28, 29, 30, 31, 32, 33, 34, 35, 36, 37, 38, 39, 40, 41, 42, 43, 44, 45, 46, 47, 48, 49, 50, 51, 52, 53, 54, 55, 56, 57, 58], \"y\": [1660000.0, 1910000.0, 161000.0, 45400.0, 927000.0, 288000.0, 44000.0, 47900.0, 489000.0, 2750.0, 927000.0, 41800.0, 16600.0, 912.0, 107000.0, 107000.0, 2030.0, 93400.0, 2280.0, 7440.0, 41800.0, 69100.0, 250.0, 69100.0, 1260.0, 1.0, 1420.0, 69100.0, 69100.0, 15100.0, 93000.0, 1910000.0, 69100.0, 69100.0, 44000.0, 596000.0, 266000.0, 69100.0, 1420.0, 69100.0, 519.0, 14200.0, 1260.0, 14200.0, 8450.0, 13800.0, 13500.0, 69100.0, 45400.0, 69100.0, 19200.0, 288000.0, 25700.0, 149000.0, 28800.0, 69100.0, 18700.0, 33100.0, 178000.0]}],\n",
       "                        {\"template\": {\"data\": {\"bar\": [{\"error_x\": {\"color\": \"#2a3f5f\"}, \"error_y\": {\"color\": \"#2a3f5f\"}, \"marker\": {\"line\": {\"color\": \"#E5ECF6\", \"width\": 0.5}}, \"type\": \"bar\"}], \"barpolar\": [{\"marker\": {\"line\": {\"color\": \"#E5ECF6\", \"width\": 0.5}}, \"type\": \"barpolar\"}], \"carpet\": [{\"aaxis\": {\"endlinecolor\": \"#2a3f5f\", \"gridcolor\": \"white\", \"linecolor\": \"white\", \"minorgridcolor\": \"white\", \"startlinecolor\": \"#2a3f5f\"}, \"baxis\": {\"endlinecolor\": \"#2a3f5f\", \"gridcolor\": \"white\", \"linecolor\": \"white\", \"minorgridcolor\": \"white\", \"startlinecolor\": \"#2a3f5f\"}, \"type\": \"carpet\"}], \"choropleth\": [{\"colorbar\": {\"outlinewidth\": 0, \"ticks\": \"\"}, \"type\": \"choropleth\"}], \"contour\": [{\"colorbar\": {\"outlinewidth\": 0, \"ticks\": \"\"}, \"colorscale\": [[0.0, \"#0d0887\"], [0.1111111111111111, \"#46039f\"], [0.2222222222222222, \"#7201a8\"], [0.3333333333333333, \"#9c179e\"], [0.4444444444444444, \"#bd3786\"], [0.5555555555555556, \"#d8576b\"], [0.6666666666666666, \"#ed7953\"], [0.7777777777777778, \"#fb9f3a\"], [0.8888888888888888, \"#fdca26\"], [1.0, \"#f0f921\"]], \"type\": \"contour\"}], \"contourcarpet\": [{\"colorbar\": {\"outlinewidth\": 0, \"ticks\": \"\"}, \"type\": \"contourcarpet\"}], \"heatmap\": [{\"colorbar\": {\"outlinewidth\": 0, \"ticks\": \"\"}, \"colorscale\": [[0.0, \"#0d0887\"], [0.1111111111111111, \"#46039f\"], [0.2222222222222222, \"#7201a8\"], [0.3333333333333333, \"#9c179e\"], [0.4444444444444444, \"#bd3786\"], [0.5555555555555556, \"#d8576b\"], [0.6666666666666666, \"#ed7953\"], [0.7777777777777778, \"#fb9f3a\"], [0.8888888888888888, \"#fdca26\"], [1.0, \"#f0f921\"]], \"type\": \"heatmap\"}], \"heatmapgl\": [{\"colorbar\": {\"outlinewidth\": 0, \"ticks\": \"\"}, \"colorscale\": [[0.0, \"#0d0887\"], [0.1111111111111111, \"#46039f\"], [0.2222222222222222, \"#7201a8\"], [0.3333333333333333, \"#9c179e\"], [0.4444444444444444, \"#bd3786\"], [0.5555555555555556, \"#d8576b\"], [0.6666666666666666, \"#ed7953\"], [0.7777777777777778, \"#fb9f3a\"], [0.8888888888888888, \"#fdca26\"], [1.0, \"#f0f921\"]], \"type\": \"heatmapgl\"}], \"histogram\": [{\"marker\": {\"colorbar\": {\"outlinewidth\": 0, \"ticks\": \"\"}}, \"type\": \"histogram\"}], \"histogram2d\": [{\"colorbar\": {\"outlinewidth\": 0, \"ticks\": \"\"}, \"colorscale\": [[0.0, \"#0d0887\"], [0.1111111111111111, \"#46039f\"], [0.2222222222222222, \"#7201a8\"], [0.3333333333333333, \"#9c179e\"], [0.4444444444444444, \"#bd3786\"], [0.5555555555555556, \"#d8576b\"], [0.6666666666666666, \"#ed7953\"], [0.7777777777777778, \"#fb9f3a\"], [0.8888888888888888, \"#fdca26\"], [1.0, \"#f0f921\"]], \"type\": \"histogram2d\"}], \"histogram2dcontour\": [{\"colorbar\": {\"outlinewidth\": 0, \"ticks\": \"\"}, \"colorscale\": [[0.0, \"#0d0887\"], [0.1111111111111111, \"#46039f\"], [0.2222222222222222, \"#7201a8\"], [0.3333333333333333, \"#9c179e\"], [0.4444444444444444, \"#bd3786\"], [0.5555555555555556, \"#d8576b\"], [0.6666666666666666, \"#ed7953\"], [0.7777777777777778, \"#fb9f3a\"], [0.8888888888888888, \"#fdca26\"], [1.0, \"#f0f921\"]], \"type\": \"histogram2dcontour\"}], \"mesh3d\": [{\"colorbar\": {\"outlinewidth\": 0, \"ticks\": \"\"}, \"type\": \"mesh3d\"}], \"parcoords\": [{\"line\": {\"colorbar\": {\"outlinewidth\": 0, \"ticks\": \"\"}}, \"type\": \"parcoords\"}], \"pie\": [{\"automargin\": true, \"type\": \"pie\"}], \"scatter\": [{\"marker\": {\"colorbar\": {\"outlinewidth\": 0, \"ticks\": \"\"}}, \"type\": \"scatter\"}], \"scatter3d\": [{\"line\": {\"colorbar\": {\"outlinewidth\": 0, \"ticks\": \"\"}}, \"marker\": {\"colorbar\": {\"outlinewidth\": 0, \"ticks\": \"\"}}, \"type\": \"scatter3d\"}], \"scattercarpet\": [{\"marker\": {\"colorbar\": {\"outlinewidth\": 0, \"ticks\": \"\"}}, \"type\": \"scattercarpet\"}], \"scattergeo\": [{\"marker\": {\"colorbar\": {\"outlinewidth\": 0, \"ticks\": \"\"}}, \"type\": \"scattergeo\"}], \"scattergl\": [{\"marker\": {\"colorbar\": {\"outlinewidth\": 0, \"ticks\": \"\"}}, \"type\": \"scattergl\"}], \"scattermapbox\": [{\"marker\": {\"colorbar\": {\"outlinewidth\": 0, \"ticks\": \"\"}}, \"type\": \"scattermapbox\"}], \"scatterpolar\": [{\"marker\": {\"colorbar\": {\"outlinewidth\": 0, \"ticks\": \"\"}}, \"type\": \"scatterpolar\"}], \"scatterpolargl\": [{\"marker\": {\"colorbar\": {\"outlinewidth\": 0, \"ticks\": \"\"}}, \"type\": \"scatterpolargl\"}], \"scatterternary\": [{\"marker\": {\"colorbar\": {\"outlinewidth\": 0, \"ticks\": \"\"}}, \"type\": \"scatterternary\"}], \"surface\": [{\"colorbar\": {\"outlinewidth\": 0, \"ticks\": \"\"}, \"colorscale\": [[0.0, \"#0d0887\"], [0.1111111111111111, \"#46039f\"], [0.2222222222222222, \"#7201a8\"], [0.3333333333333333, \"#9c179e\"], [0.4444444444444444, \"#bd3786\"], [0.5555555555555556, \"#d8576b\"], [0.6666666666666666, \"#ed7953\"], [0.7777777777777778, \"#fb9f3a\"], [0.8888888888888888, \"#fdca26\"], [1.0, \"#f0f921\"]], \"type\": \"surface\"}], \"table\": [{\"cells\": {\"fill\": {\"color\": \"#EBF0F8\"}, \"line\": {\"color\": \"white\"}}, \"header\": {\"fill\": {\"color\": \"#C8D4E3\"}, \"line\": {\"color\": \"white\"}}, \"type\": \"table\"}]}, \"layout\": {\"annotationdefaults\": {\"arrowcolor\": \"#2a3f5f\", \"arrowhead\": 0, \"arrowwidth\": 1}, \"coloraxis\": {\"colorbar\": {\"outlinewidth\": 0, \"ticks\": \"\"}}, \"colorscale\": {\"diverging\": [[0, \"#8e0152\"], [0.1, \"#c51b7d\"], [0.2, \"#de77ae\"], [0.3, \"#f1b6da\"], [0.4, \"#fde0ef\"], [0.5, \"#f7f7f7\"], [0.6, \"#e6f5d0\"], [0.7, \"#b8e186\"], [0.8, \"#7fbc41\"], [0.9, \"#4d9221\"], [1, \"#276419\"]], \"sequential\": [[0.0, \"#0d0887\"], [0.1111111111111111, \"#46039f\"], [0.2222222222222222, \"#7201a8\"], [0.3333333333333333, \"#9c179e\"], [0.4444444444444444, \"#bd3786\"], [0.5555555555555556, \"#d8576b\"], [0.6666666666666666, \"#ed7953\"], [0.7777777777777778, \"#fb9f3a\"], [0.8888888888888888, \"#fdca26\"], [1.0, \"#f0f921\"]], \"sequentialminus\": [[0.0, \"#0d0887\"], [0.1111111111111111, \"#46039f\"], [0.2222222222222222, \"#7201a8\"], [0.3333333333333333, \"#9c179e\"], [0.4444444444444444, \"#bd3786\"], [0.5555555555555556, \"#d8576b\"], [0.6666666666666666, \"#ed7953\"], [0.7777777777777778, \"#fb9f3a\"], [0.8888888888888888, \"#fdca26\"], [1.0, \"#f0f921\"]]}, \"colorway\": [\"#636efa\", \"#EF553B\", \"#00cc96\", \"#ab63fa\", \"#FFA15A\", \"#19d3f3\", \"#FF6692\", \"#B6E880\", \"#FF97FF\", \"#FECB52\"], \"font\": {\"color\": \"#2a3f5f\"}, \"geo\": {\"bgcolor\": \"white\", \"lakecolor\": \"white\", \"landcolor\": \"#E5ECF6\", \"showlakes\": true, \"showland\": true, \"subunitcolor\": \"white\"}, \"hoverlabel\": {\"align\": \"left\"}, \"hovermode\": \"closest\", \"mapbox\": {\"style\": \"light\"}, \"paper_bgcolor\": \"white\", \"plot_bgcolor\": \"#E5ECF6\", \"polar\": {\"angularaxis\": {\"gridcolor\": \"white\", \"linecolor\": \"white\", \"ticks\": \"\"}, \"bgcolor\": \"#E5ECF6\", \"radialaxis\": {\"gridcolor\": \"white\", \"linecolor\": \"white\", \"ticks\": \"\"}}, \"scene\": {\"xaxis\": {\"backgroundcolor\": \"#E5ECF6\", \"gridcolor\": \"white\", \"gridwidth\": 2, \"linecolor\": \"white\", \"showbackground\": true, \"ticks\": \"\", \"zerolinecolor\": \"white\"}, \"yaxis\": {\"backgroundcolor\": \"#E5ECF6\", \"gridcolor\": \"white\", \"gridwidth\": 2, \"linecolor\": \"white\", \"showbackground\": true, \"ticks\": \"\", \"zerolinecolor\": \"white\"}, \"zaxis\": {\"backgroundcolor\": \"#E5ECF6\", \"gridcolor\": \"white\", \"gridwidth\": 2, \"linecolor\": \"white\", \"showbackground\": true, \"ticks\": \"\", \"zerolinecolor\": \"white\"}}, \"shapedefaults\": {\"line\": {\"color\": \"#2a3f5f\"}}, \"ternary\": {\"aaxis\": {\"gridcolor\": \"white\", \"linecolor\": \"white\", \"ticks\": \"\"}, \"baxis\": {\"gridcolor\": \"white\", \"linecolor\": \"white\", \"ticks\": \"\"}, \"bgcolor\": \"#E5ECF6\", \"caxis\": {\"gridcolor\": \"white\", \"linecolor\": \"white\", \"ticks\": \"\"}}, \"title\": {\"x\": 0.05}, \"xaxis\": {\"automargin\": true, \"gridcolor\": \"white\", \"linecolor\": \"white\", \"ticks\": \"\", \"title\": {\"standoff\": 15}, \"zerolinecolor\": \"white\", \"zerolinewidth\": 2}, \"yaxis\": {\"automargin\": true, \"gridcolor\": \"white\", \"linecolor\": \"white\", \"ticks\": \"\", \"title\": {\"standoff\": 15}, \"zerolinecolor\": \"white\", \"zerolinewidth\": 2}}}, \"title\": {\"text\": \"Subcount per video\"}},\n",
       "                        {\"responsive\": true}\n",
       "                    ).then(function(){\n",
       "                            \n",
       "var gd = document.getElementById('6dc13581-df53-4185-b8ed-6becb8805c19');\n",
       "var x = new MutationObserver(function (mutations, observer) {{\n",
       "        var display = window.getComputedStyle(gd).display;\n",
       "        if (!display || display === 'none') {{\n",
       "            console.log([gd, 'removed!']);\n",
       "            Plotly.purge(gd);\n",
       "            observer.disconnect();\n",
       "        }}\n",
       "}});\n",
       "\n",
       "// Listen for the removal of the full notebook cells\n",
       "var notebookContainer = gd.closest('#notebook-container');\n",
       "if (notebookContainer) {{\n",
       "    x.observe(notebookContainer, {childList: true});\n",
       "}}\n",
       "\n",
       "// Listen for the clearing of the current output cell\n",
       "var outputEl = gd.closest('.output');\n",
       "if (outputEl) {{\n",
       "    x.observe(outputEl, {childList: true});\n",
       "}}\n",
       "\n",
       "                        })\n",
       "                };\n",
       "                });\n",
       "            </script>\n",
       "        </div>"
      ]
     },
     "metadata": {},
     "output_type": "display_data"
    }
   ],
   "source": [
    "plotGraph('Subcount', \"Subcount per video\")"
   ]
  },
  {
   "cell_type": "code",
   "execution_count": 43,
   "metadata": {},
   "outputs": [],
   "source": [
    "# import plotly.graph_objects as go\n",
    "\n",
    "# colors = ['lightslategray'] * len(df1)\n",
    "\n",
    "# for i in df1.index:\n",
    "#     if i in list1:\n",
    "#         colors[i] = 'green'\n",
    "#     else:\n",
    "#         colors[i] = 'crimson'\n",
    "\n",
    "# fig = go.Figure(data=[go.Bar(\n",
    "#     x=[i for i in range(len(df1))],\n",
    "#     y=[i for i in df1.Score],\n",
    "#     marker_color=colors # marker color can be a single color value or an iterable\n",
    "# )])\n",
    "# fig.update_layout(title_text='Score per video')x"
   ]
  }
 ],
 "metadata": {
  "kernelspec": {
   "display_name": "Python 3",
   "language": "python",
   "name": "python3"
  },
  "language_info": {
   "codemirror_mode": {
    "name": "ipython",
    "version": 3
   },
   "file_extension": ".py",
   "mimetype": "text/x-python",
   "name": "python",
   "nbconvert_exporter": "python",
   "pygments_lexer": "ipython3",
   "version": "3.6.9"
  }
 },
 "nbformat": 4,
 "nbformat_minor": 4
}
