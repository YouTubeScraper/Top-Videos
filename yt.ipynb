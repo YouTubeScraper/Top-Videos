{
 "cells": [
  {
   "cell_type": "code",
   "execution_count": 4,
   "metadata": {},
   "outputs": [
    {
     "name": "stdout",
     "output_type": "stream",
     "text": [
      "Requirement already satisfied: pandas in d:\\anaconda\\lib\\site-packages (0.24.2)\n",
      "Requirement already satisfied: python-dateutil>=2.5.0 in d:\\anaconda\\lib\\site-packages (from pandas) (2.8.0)\n",
      "Requirement already satisfied: pytz>=2011k in d:\\anaconda\\lib\\site-packages (from pandas) (2018.9)\n",
      "Requirement already satisfied: numpy>=1.12.0 in d:\\anaconda\\lib\\site-packages (from pandas) (1.16.2)\n",
      "Requirement already satisfied: six>=1.5 in d:\\anaconda\\lib\\site-packages (from python-dateutil>=2.5.0->pandas) (1.12.0)\n",
      "Requirement already satisfied: numpy in d:\\anaconda\\lib\\site-packages (1.16.2)\n",
      "Collecting bs4\n",
      "  Using cached https://files.pythonhosted.org/packages/10/ed/7e8b97591f6f456174139ec089c769f89a94a1a4025fe967691de971f314/bs4-0.0.1.tar.gz\n",
      "Requirement already satisfied: beautifulsoup4 in d:\\anaconda\\lib\\site-packages (from bs4) (4.7.1)\n",
      "Requirement already satisfied: soupsieve>=1.2 in d:\\anaconda\\lib\\site-packages (from beautifulsoup4->bs4) (1.8)\n",
      "Building wheels for collected packages: bs4\n",
      "  Building wheel for bs4 (setup.py): started\n",
      "  Building wheel for bs4 (setup.py): finished with status 'done'\n",
      "  Stored in directory: C:\\Users\\Viraj\\AppData\\Local\\pip\\Cache\\wheels\\a0\\b0\\b2\\4f80b9456b87abedbc0bf2d52235414c3467d8889be38dd472\n",
      "Successfully built bs4\n",
      "Installing collected packages: bs4\n",
      "Successfully installed bs4-0.0.1\n",
      "Collecting datetime\n",
      "  Downloading https://files.pythonhosted.org/packages/73/22/a5297f3a1f92468cc737f8ce7ba6e5f245fcfafeae810ba37bd1039ea01c/DateTime-4.3-py2.py3-none-any.whl (60kB)\n",
      "Requirement already satisfied: pytz in d:\\anaconda\\lib\\site-packages (from datetime) (2018.9)\n",
      "Collecting zope.interface (from datetime)\n",
      "  Downloading https://files.pythonhosted.org/packages/3f/f9/af181babed312b9e21271dbfd7ec0815f822a12aaa2fe472d98e62e5bac3/zope.interface-5.1.0-cp37-cp37m-win_amd64.whl (194kB)\n",
      "Requirement already satisfied: setuptools in d:\\anaconda\\lib\\site-packages (from zope.interface->datetime) (40.8.0)\n",
      "Installing collected packages: zope.interface, datetime\n",
      "Successfully installed datetime-4.3 zope.interface-5.1.0\n",
      "Requirement already satisfied: selenium in d:\\anaconda\\lib\\site-packages (3.141.0)\n",
      "Requirement already satisfied: urllib3 in d:\\anaconda\\lib\\site-packages (from selenium) (1.24.1)\n",
      "Requirement already satisfied: nltk in d:\\anaconda\\lib\\site-packages (3.4)\n",
      "Requirement already satisfied: six in d:\\anaconda\\lib\\site-packages (from nltk) (1.12.0)\n",
      "Requirement already satisfied: singledispatch in d:\\anaconda\\lib\\site-packages (from nltk) (3.4.0.3)\n",
      "Requirement already satisfied: textblob in d:\\anaconda\\lib\\site-packages (0.15.3)\n",
      "Requirement already satisfied: nltk>=3.1 in d:\\anaconda\\lib\\site-packages (from textblob) (3.4)\n",
      "Requirement already satisfied: six in d:\\anaconda\\lib\\site-packages (from nltk>=3.1->textblob) (1.12.0)\n",
      "Requirement already satisfied: singledispatch in d:\\anaconda\\lib\\site-packages (from nltk>=3.1->textblob) (3.4.0.3)\n",
      "Requirement already satisfied: lxml in d:\\anaconda\\lib\\site-packages (4.3.2)\n",
      "Collecting plotly\n",
      "  Downloading https://files.pythonhosted.org/packages/15/90/918bccb0ca60dc6d126d921e2c67126d75949f5da777e6b18c51fb12603d/plotly-4.6.0-py2.py3-none-any.whl (7.1MB)\n",
      "Collecting retrying>=1.3.3 (from plotly)\n",
      "  Downloading https://files.pythonhosted.org/packages/44/ef/beae4b4ef80902f22e3af073397f079c96969c69b2c7d52a57ea9ae61c9d/retrying-1.3.3.tar.gz\n",
      "Requirement already satisfied: six in d:\\anaconda\\lib\\site-packages (from plotly) (1.12.0)\n",
      "Building wheels for collected packages: retrying\n",
      "  Building wheel for retrying (setup.py): started\n",
      "  Building wheel for retrying (setup.py): finished with status 'done'\n",
      "  Stored in directory: C:\\Users\\Viraj\\AppData\\Local\\pip\\Cache\\wheels\\d7\\a9\\33\\acc7b709e2a35caa7d4cae442f6fe6fbf2c43f80823d46460c\n",
      "Successfully built retrying\n",
      "Installing collected packages: retrying, plotly\n",
      "Successfully installed plotly-4.6.0 retrying-1.3.3\n"
     ]
    }
   ],
   "source": [
    "import sys\n",
    "!{sys.executable} -m pip install pandas\n",
    "!{sys.executable} -m pip install numpy\n",
    "!{sys.executable} -m pip install bs4\n",
    "!{sys.executable} -m pip install datetime\n",
    "!{sys.executable} -m pip install selenium\n",
    "!{sys.executable} -m pip install nltk\n",
    "!{sys.executable} -m pip install textblob\n",
    "!{sys.executable} -m pip install lxml\n",
    "!{sys.executable} -m pip install plotly"
   ]
  },
  {
   "cell_type": "code",
   "execution_count": 19,
   "metadata": {},
   "outputs": [
    {
     "name": "stdout",
     "output_type": "stream",
     "text": [
      "Defaulting to user installation because normal site-packages is not writeable\n",
      "Requirement already satisfied: pandas in /home/arjun/.local/lib/python3.6/site-packages (1.0.3)\n",
      "Requirement already satisfied: numpy>=1.13.3 in /home/arjun/.local/lib/python3.6/site-packages (from pandas) (1.18.1)\n",
      "Requirement already satisfied: python-dateutil>=2.6.1 in /usr/lib/python3/dist-packages (from pandas) (2.6.1)\n",
      "Requirement already satisfied: pytz>=2017.2 in /usr/lib/python3/dist-packages (from pandas) (2018.3)\n"
     ]
    }
   ],
   "source": []
  },
  {
   "cell_type": "code",
   "execution_count": 20,
   "metadata": {},
   "outputs": [
    {
     "name": "stdout",
     "output_type": "stream",
     "text": [
      "How many Links would you like to print? 5\n",
      "Enter title: Python\n",
      "Enter description: \n",
      "python \n",
      "['python', '']\n",
      "Scraping search results for the keyword: python  \n",
      "Message: invalid type: null, expected a string at line 1 column 12\n",
      "\n",
      "'Started'\n",
      "name 'v_tag' is not defined\n",
      "name 'v_tag' is not defined\n",
      "name 'v_tag' is not defined\n"
     ]
    },
    {
     "ename": "TypeError",
     "evalue": "Column 'Score' has dtype object, cannot use method 'nlargest' with this dtype",
     "output_type": "error",
     "traceback": [
      "\u001b[0;31m---------------------------------------------------------------------------\u001b[0m",
      "\u001b[0;31mTypeError\u001b[0m                                 Traceback (most recent call last)",
      "\u001b[0;32m<ipython-input-20-1aa60eadafae>\u001b[0m in \u001b[0;36m<module>\u001b[0;34m\u001b[0m\n\u001b[1;32m    274\u001b[0m \u001b[0mn\u001b[0m \u001b[0;34m=\u001b[0m \u001b[0mint\u001b[0m\u001b[0;34m(\u001b[0m\u001b[0minput\u001b[0m\u001b[0;34m(\u001b[0m\u001b[0;34m\"How many Links would you like to print? \"\u001b[0m\u001b[0;34m)\u001b[0m\u001b[0;34m)\u001b[0m\u001b[0;34m\u001b[0m\u001b[0;34m\u001b[0m\u001b[0m\n\u001b[1;32m    275\u001b[0m \u001b[0mdf1\u001b[0m \u001b[0;34m=\u001b[0m \u001b[0msearch\u001b[0m\u001b[0;34m(\u001b[0m\u001b[0;34m)\u001b[0m\u001b[0;34m\u001b[0m\u001b[0;34m\u001b[0m\u001b[0m\n\u001b[0;32m--> 276\u001b[0;31m \u001b[0mdf\u001b[0m \u001b[0;34m=\u001b[0m \u001b[0mdf1\u001b[0m\u001b[0;34m.\u001b[0m\u001b[0mnlargest\u001b[0m\u001b[0;34m(\u001b[0m\u001b[0mn\u001b[0m\u001b[0;34m,\u001b[0m\u001b[0;34m'Score'\u001b[0m\u001b[0;34m)\u001b[0m\u001b[0;34m\u001b[0m\u001b[0;34m\u001b[0m\u001b[0m\n\u001b[0m\u001b[1;32m    277\u001b[0m \u001b[0mprint\u001b[0m\u001b[0;34m(\u001b[0m\u001b[0mdf\u001b[0m\u001b[0;34m)\u001b[0m\u001b[0;34m\u001b[0m\u001b[0;34m\u001b[0m\u001b[0m\n",
      "\u001b[0;32m~/.local/lib/python3.6/site-packages/pandas/core/frame.py\u001b[0m in \u001b[0;36mnlargest\u001b[0;34m(self, n, columns, keep)\u001b[0m\n\u001b[1;32m   5123\u001b[0m         \u001b[0mBrunei\u001b[0m      \u001b[0;36m434000\u001b[0m    \u001b[0;36m12128\u001b[0m      \u001b[0mBN\u001b[0m\u001b[0;34m\u001b[0m\u001b[0;34m\u001b[0m\u001b[0m\n\u001b[1;32m   5124\u001b[0m         \"\"\"\n\u001b[0;32m-> 5125\u001b[0;31m         \u001b[0;32mreturn\u001b[0m \u001b[0malgorithms\u001b[0m\u001b[0;34m.\u001b[0m\u001b[0mSelectNFrame\u001b[0m\u001b[0;34m(\u001b[0m\u001b[0mself\u001b[0m\u001b[0;34m,\u001b[0m \u001b[0mn\u001b[0m\u001b[0;34m=\u001b[0m\u001b[0mn\u001b[0m\u001b[0;34m,\u001b[0m \u001b[0mkeep\u001b[0m\u001b[0;34m=\u001b[0m\u001b[0mkeep\u001b[0m\u001b[0;34m,\u001b[0m \u001b[0mcolumns\u001b[0m\u001b[0;34m=\u001b[0m\u001b[0mcolumns\u001b[0m\u001b[0;34m)\u001b[0m\u001b[0;34m.\u001b[0m\u001b[0mnlargest\u001b[0m\u001b[0;34m(\u001b[0m\u001b[0;34m)\u001b[0m\u001b[0;34m\u001b[0m\u001b[0;34m\u001b[0m\u001b[0m\n\u001b[0m\u001b[1;32m   5126\u001b[0m \u001b[0;34m\u001b[0m\u001b[0m\n\u001b[1;32m   5127\u001b[0m     \u001b[0;32mdef\u001b[0m \u001b[0mnsmallest\u001b[0m\u001b[0;34m(\u001b[0m\u001b[0mself\u001b[0m\u001b[0;34m,\u001b[0m \u001b[0mn\u001b[0m\u001b[0;34m,\u001b[0m \u001b[0mcolumns\u001b[0m\u001b[0;34m,\u001b[0m \u001b[0mkeep\u001b[0m\u001b[0;34m=\u001b[0m\u001b[0;34m\"first\"\u001b[0m\u001b[0;34m)\u001b[0m \u001b[0;34m->\u001b[0m \u001b[0;34m\"DataFrame\"\u001b[0m\u001b[0;34m:\u001b[0m\u001b[0;34m\u001b[0m\u001b[0;34m\u001b[0m\u001b[0m\n",
      "\u001b[0;32m~/.local/lib/python3.6/site-packages/pandas/core/algorithms.py\u001b[0m in \u001b[0;36mnlargest\u001b[0;34m(self)\u001b[0m\n\u001b[1;32m   1081\u001b[0m \u001b[0;34m\u001b[0m\u001b[0m\n\u001b[1;32m   1082\u001b[0m     \u001b[0;32mdef\u001b[0m \u001b[0mnlargest\u001b[0m\u001b[0;34m(\u001b[0m\u001b[0mself\u001b[0m\u001b[0;34m)\u001b[0m\u001b[0;34m:\u001b[0m\u001b[0;34m\u001b[0m\u001b[0;34m\u001b[0m\u001b[0m\n\u001b[0;32m-> 1083\u001b[0;31m         \u001b[0;32mreturn\u001b[0m \u001b[0mself\u001b[0m\u001b[0;34m.\u001b[0m\u001b[0mcompute\u001b[0m\u001b[0;34m(\u001b[0m\u001b[0;34m\"nlargest\"\u001b[0m\u001b[0;34m)\u001b[0m\u001b[0;34m\u001b[0m\u001b[0;34m\u001b[0m\u001b[0m\n\u001b[0m\u001b[1;32m   1084\u001b[0m \u001b[0;34m\u001b[0m\u001b[0m\n\u001b[1;32m   1085\u001b[0m     \u001b[0;32mdef\u001b[0m \u001b[0mnsmallest\u001b[0m\u001b[0;34m(\u001b[0m\u001b[0mself\u001b[0m\u001b[0;34m)\u001b[0m\u001b[0;34m:\u001b[0m\u001b[0;34m\u001b[0m\u001b[0;34m\u001b[0m\u001b[0m\n",
      "\u001b[0;32m~/.local/lib/python3.6/site-packages/pandas/core/algorithms.py\u001b[0m in \u001b[0;36mcompute\u001b[0;34m(self, method)\u001b[0m\n\u001b[1;32m   1198\u001b[0m             \u001b[0;32mif\u001b[0m \u001b[0;32mnot\u001b[0m \u001b[0mself\u001b[0m\u001b[0;34m.\u001b[0m\u001b[0mis_valid_dtype_n_method\u001b[0m\u001b[0;34m(\u001b[0m\u001b[0mdtype\u001b[0m\u001b[0;34m)\u001b[0m\u001b[0;34m:\u001b[0m\u001b[0;34m\u001b[0m\u001b[0;34m\u001b[0m\u001b[0m\n\u001b[1;32m   1199\u001b[0m                 raise TypeError(\n\u001b[0;32m-> 1200\u001b[0;31m                     \u001b[0;34mf\"Column {repr(column)} has dtype {dtype}, \"\u001b[0m\u001b[0;34m\u001b[0m\u001b[0;34m\u001b[0m\u001b[0m\n\u001b[0m\u001b[1;32m   1201\u001b[0m                     \u001b[0;34mf\"cannot use method {repr(method)} with this dtype\"\u001b[0m\u001b[0;34m\u001b[0m\u001b[0;34m\u001b[0m\u001b[0m\n\u001b[1;32m   1202\u001b[0m                 )\n",
      "\u001b[0;31mTypeError\u001b[0m: Column 'Score' has dtype object, cannot use method 'nlargest' with this dtype"
     ]
    }
   ],
   "source": [
    "# \"\"\"\n",
    "# This code was written by Viraj Shetty and Arjun Praveen!\n",
    "# \"\"\"\n",
    "# import pandas as pd\n",
    "# import time\n",
    "# import operator\n",
    "# import bs4 as bs\n",
    "# import datetime\n",
    "# from bs4 import BeautifulSoup\n",
    "# import urllib.request\n",
    "# from urllib.request import urlopen\n",
    "# from selenium import webdriver\n",
    "# from selenium.webdriver.common.by import By\n",
    "# from selenium.webdriver.support import expected_conditions as EC\n",
    "# from selenium.webdriver.support.ui import WebDriverWait\n",
    "# from selenium.webdriver.common.keys import Keys\n",
    "# from selenium.webdriver.firefox.options import Options\n",
    "# from datetime import date\n",
    "# from textblob import TextBlob\n",
    "\n",
    "# \"\"\"\n",
    "# This little piece of code is added to make the webdriver run silently\n",
    "# Generally when you use WebDriver in Selenium it opens a new window\n",
    "# If you have automated some functions you can also see those functions happening live\n",
    "# To avoid it use this option called \"headless\" which does all this in the background\n",
    "\n",
    "# Web Driver object creation\n",
    "# Note: Before importing Selenium Webdriver\n",
    "#     Make sure you have a webdriver application installed in the same directory\n",
    "    \n",
    "#     For Mozzilla\n",
    "#     >https://github.com/mozilla/geckodriver/releases\n",
    "    \n",
    "#     For Chrome\n",
    "#     >https://chromedriver.chromium.org/downloads\n",
    "# \"\"\"\n",
    "# options = Options()\n",
    "# options.headless = True\n",
    "# browser = webdriver.Firefox(options = options)\n",
    "\n",
    "\n",
    "# # This function tokenizes the entered keywords\n",
    "\n",
    "# def tokenizer(l_t, l_d):\n",
    "#     v = TextBlob(l_t)\n",
    "#     w = TextBlob(l_d)\n",
    "#     a = v.noun_phrases\n",
    "#     b = w.noun_phrases\n",
    "#     c = a + b\n",
    "#     d = \"\"\n",
    "#     for i in c:\n",
    "#         d = d + i + \" \"\n",
    "#     print(d)\n",
    "#     return d\n",
    "\n",
    "# # Function for extracting number of days since the video has been uploaded\n",
    "\n",
    "# def number_of_days(v_date):\n",
    "#     today = date.today()\n",
    "#     month = {\n",
    "#              \"Jan\" : 1,\n",
    "#              \"Feb\" : 2,\n",
    "#              \"Mar\" : 3,\n",
    "#              \"Apr\" : 4,\n",
    "#              \"May\" : 5,\n",
    "#              \"Jun\" : 6,\n",
    "#              \"Jul\" : 7,\n",
    "#              \"Aug\" : 8,\n",
    "#              \"Sep\" : 9,\n",
    "#              \"Oct\" : 10,\n",
    "#              \"Nov\" : 11,\n",
    "#              \"Dec\" : 12\n",
    "#             }\n",
    "#     v=v_date.split(\" \")\n",
    "#     v_year = int(v[2])\n",
    "#     v_month = int(month[v[0]])\n",
    "#     v_day = int(v[1])\n",
    "#     v_date = date(v_year,v_month,v_day)\n",
    "#     time = abs(today - v_date)\n",
    "#     return time.days\n",
    "\n",
    "# def search():\n",
    "    \n",
    "#     keyword = input(\"Enter title: \")\n",
    "    \n",
    "#     description = input(\"Enter description: \")  \n",
    "    \n",
    "#     keysearch = tokenizer(keyword, description)\n",
    "#     keysearch_list = keysearch.split(\" \")\n",
    "#     key = []\n",
    "#     for j in keysearch_list:\n",
    "#         if j not in key:\n",
    "#             key.append(j)\n",
    "#     print(key)\n",
    "#     keysearch = \"\"\n",
    "#     for k in key:\n",
    "#         keysearch = keysearch + k + \" \"\n",
    "#     print(\"Scraping search results for the keyword: \" + keysearch)\n",
    "    \n",
    "#     tag_list = keysearch.split(\" \")\n",
    "#     browser = webdriver.Firefox()\n",
    "#     browser.get(f'https://www.youtube.com/results?search_query={keysearch}&sp=EgIQAQ%253D%253D')\n",
    "#     browser.maximize_window()\n",
    "\n",
    "#     \"\"\"\n",
    "#     Please note here you need to use an Adblock to avoid advertisement videos to be a part of your list\n",
    "#     Add the filepath to your .xpi file\n",
    "#     \"\"\"\n",
    "#     extension = \"{your }\" \n",
    "#     #browser.install_addon(extension, temporary = True)\n",
    "\n",
    "#     # Change value of While Loop to scroll more pages\n",
    "#     i=0\n",
    "#     while i<=1:\n",
    "#         html = browser.find_element_by_tag_name('html')\n",
    "#         '''\n",
    "#         The code in the next line takes the page to end. Since in YouTube if you want more\n",
    "#         videos to load, you have to scroll down to the end of the page\n",
    "#         '''\n",
    "#         html.send_keys(Keys.END)\n",
    "#         time.sleep(3)\n",
    "#         i+=1\n",
    "        \n",
    "#     v_l = browser.find_elements_by_xpath('//*[@id=\"video-title\"]')\n",
    "#     link = []\n",
    "#     for i in v_l:\n",
    "#         link.append(i.get_attribute('href'))\n",
    "        \n",
    "#     #print(link) \n",
    "#     wait = WebDriverWait(browser,15)\n",
    "#     df = pd.DataFrame(columns = ['Link','Title','URL','Views','Likes','Dislikes','Subcount','Date','Days','Score','Tags'])\n",
    "#     k=0\n",
    "#     for x in link:\n",
    "#         try:\n",
    "#             i = 0\n",
    "#             browser.get(x)\n",
    "#             time.sleep(3)\n",
    "#             v_link = x\n",
    "#             v_title = wait.until(EC.presence_of_element_located((By.XPATH,'//h1[@class=\"title style-scope ytd-video-primary-info-renderer\"]'))).text\n",
    "#             v_views = wait.until(EC.presence_of_element_located((By.XPATH,'/html/body/ytd-app/div/ytd-page-manager/ytd-watch-flexy/div[4]/div[1]/div/div[5]/div[2]/ytd-video-primary-info-renderer/div/div/div[1]/div[1]/yt-view-count-renderer/span[1]'))).text\n",
    "#             try:    \n",
    "#                 v_views = int(v_views.strip(' views').replace(',', '', 2))\n",
    "#             except:\n",
    "#                 v_views = 1\n",
    "#             v_likes = wait.until(EC.presence_of_element_located((By.CSS_SELECTOR,'ytd-toggle-button-renderer.ytd-menu-renderer:nth-child(1) > a:nth-child(1) > yt-formatted-string:nth-child(2)'))).text\n",
    "#             v_dislikes = wait.until(EC.presence_of_element_located((By.CSS_SELECTOR,'ytd-toggle-button-renderer.style-scope:nth-child(2) > a:nth-child(1) > yt-formatted-string:nth-child(2)'))).text\n",
    "            \n",
    "#             #if (v_likes == 0 & v_dislikes == 0):\n",
    "#                 #v_like_dislike = 0\n",
    "            \n",
    "#             #Likes\n",
    "#             try:\n",
    "#                 if (operator.contains(v_likes,'K')):\n",
    "#                     if(operator.contains(v_likes,'.')):\n",
    "#                         pos = len(v_likes)-v_likes.find('.')-1 #length from the end\n",
    "#                         a1 = v_likes.replace('.', '', 1)\n",
    "#                         num = (int(a1[:len(a1)-1])*1000)/(10**(pos-1))\n",
    "#                         v_likes = num\n",
    "#                     else:\n",
    "#                         v_likes=int(v_likes[ :len(v_likes)-1])*(1000)\n",
    "#                 elif operator.contains(v_likes,'M'):\n",
    "#                     if(operator.contains(v_likes,'.')):\n",
    "#                         pos = len(v_likes)-v_likes.find('.')-1 #length from the end\n",
    "#                         a1 = v_likes.replace('.', '', 1)\n",
    "#                         num = (int(a1[:len(a1)-1])*1000000)/(10**(pos-1))\n",
    "#                         v_likes = num\n",
    "#                     else:\n",
    "#                         v_likes=int(v_likes[ :len(v_likes)-1])*(1000000)\n",
    "#                 else:\n",
    "#                     v_likes = int(v_likes)\n",
    "#             except:\n",
    "#                 v_likes = 1\n",
    "\n",
    "#             #Dislikes\n",
    "#             try:\n",
    "#                 if (operator.contains(v_dislikes,'K')):\n",
    "#                     if(operator.contains(v_dislikes,'.')):\n",
    "#                         pos = len(v_dislikes)-v_dislikes.find('.')-1 #length from the end\n",
    "#                         a1 = v_dislikes.replace('.', '', 1)\n",
    "#                         num = (int(a1[:len(a1)-1])*1000)/(10**(pos-1))\n",
    "#                         v_dislikes = num\n",
    "#                     else:\n",
    "#                         v_dislikes=int(v_dislikes[ :len(v_dislikes)-1])*(1000)\n",
    "#                 elif operator.contains(v_dislikes,'M'):\n",
    "#                     if(operator.contains(v_dislikes,'.')):\n",
    "#                         pos = len(v_dislikes)-v_dislikes.find('.')-1 #length from the end\n",
    "#                         a1 = v_dislikes.replace('.', '', 1)\n",
    "#                         num = (int(a1[:len(a1)-1])*1000000)/(10**(pos-1))\n",
    "#                         v_dislikes = num\n",
    "#                     else:\n",
    "#                         v_dislikes=int(v_dislikes[ :len(v_dislikes)-1])*(1000000)\n",
    "#                 else:\n",
    "#                     v_dislikes = int(v_dislikes)\n",
    "#             except:\n",
    "#                 v_dislikes = 1\n",
    "            \n",
    "#             v_like_dislike = ((v_likes-v_dislikes)/v_likes)\n",
    "            \n",
    "#             v_subcount = wait.until(EC.presence_of_element_located((By.XPATH,'//*[@id=\"owner-sub-count\"]'))).text\n",
    "#             v_subcount = v_subcount.strip(\" subscribers\")\n",
    "#             try:\n",
    "#                 if operator.contains(v_subcount,'M'):\n",
    "#                     if(operator.contains(v_subcount,'.')):\n",
    "#                         pos = len(v_subcount)-v_subcount.find('.')-1 #length from the end\n",
    "#                         a1 = v_subcount.replace('.', '', 1)\n",
    "#                         num = (int(a1[:len(a1)-1])*1000000)/(10**(pos-1))\n",
    "#                         v_subcount = num\n",
    "#                     else:\n",
    "#                         v_subcount=int(v_subcount[ :len(v_subcount)-1])*(1000000)\n",
    "#                 elif operator.contains(v_subcount,'K'):\n",
    "#                     if(operator.contains(v_subcount,'.')):\n",
    "#                         pos = len(v_subcount)-v_subcount.find('.')-1 #length from the end\n",
    "#                         a1 = v_subcount.replace('.', '', 1)\n",
    "#                         num = (int(a1[:len(a1)-1])*1000)/(10**(pos-1))\n",
    "#                         v_subcount = num\n",
    "#                     else:\n",
    "#                         v_subcount = int(v_subcount[ :len(v_subcount)-1])*(1000)\n",
    "#                 else:\n",
    "#                     v_subcount = int(float(v_subcount))\n",
    "#             except:\n",
    "#                 v_subcount = 1\n",
    "#             v_urls = browser.find_elements_by_xpath('//div[@class=\"ytp-cued-thumbnail-overlay-image\"]')\n",
    "#             for i in v_urls:\n",
    "#                 v_url=i.get_attribute('style')[23:-3]\n",
    "#                 break\n",
    "#             v_date = browser.find_element_by_xpath(\"//div[@id='date']\").text\n",
    "#             if(operator.contains(v_date,'Premiered')):\n",
    "#                 v_date = v_date[10:]\n",
    "#             elif(operator.contains(v_date,'Streamed live on')):\n",
    "#                 v_date = v_date[17:]\n",
    "\n",
    "#             v_date = v_date[1:].replace(\",\",\"\",1)\n",
    "#             v_days = number_of_days(v_date)\n",
    "        \n",
    "# #             try:\n",
    "# #                 url = x\n",
    "# #                 html_content = urlopen(url)\n",
    "# #                 soup = BeautifulSoup(html_content,'lxml')\n",
    "# #                 v_tags = [tag[\"content\"] for tag in soup.findAll(\"meta\",property=\"og:video:tag\")]\n",
    "# #             except:\n",
    "# #                 print('Error')\n",
    "# #             co = 0\n",
    "            \n",
    "# #             for tl in tag_list:\n",
    "# #                 for t in v_tags:\n",
    "# #                     if operator.contains(t, tl):\n",
    "# #                         co+=1\n",
    "# #             v_tag = co/(len(tag_list))\n",
    "            \n",
    "#             # Score formula\n",
    "#             try:\n",
    "#                 v_score = (((70*v_views)/700000) + (50*(v_likes/19000)) - (20*(v_dislikes/370)) + (160*v_like_dislike) +(20*(v_views/v_days)/7000)+(30*(v_likes/v_days)/200) + (12 * v_tag))/43\n",
    "#             except:\n",
    "#                 v_days = 1\n",
    "#                 v_likes = 1\n",
    "#                 v_score = (((70*v_views)/700000) + (50*(v_likes/19000)) - (20*(v_dislikes/370)) + (160*v_like_dislike)+(20*(v_views/v_days)/7000)+(30*(v_likes/v_days)/200) + (12 * v_tag))/43\n",
    "            \n",
    "            \n",
    "#             print('{}: {}/{} ,{} , {:.2f}'.format(url,co,len(tag_list),v_tag,v_score))\n",
    "\n",
    "            \n",
    "#             df.loc[len(df)] = [v_link,v_title,v_url,v_views,v_likes,v_dislikes,v_subcount,v_date,v_days,v_score,v_tags]\n",
    "#             k\n",
    "#             k+=1\n",
    "#             print(k)\n",
    "#         #Exception added since some YouTube ads bypass the adblock\n",
    "#         except Exception as e:\n",
    "#             print(e)\n",
    "#             continue\n",
    "#     df = df.sort_values(by='Score', ascending = 0)\n",
    "#     return df\n",
    "#     browser.close()\n",
    "\n",
    "# n = int(input(\"How many Links would you like to print? \"))\n",
    "# df1 = search()\n",
    "# df = df1.nlargest(n,'Score')\n",
    "# print(df)"
   ]
  },
  {
   "cell_type": "code",
   "execution_count": 2,
   "metadata": {
    "scrolled": true
   },
   "outputs": [
    {
     "name": "stdout",
     "output_type": "stream",
     "text": [
      "How many Links would you like to print? 5\n",
      "Enter title: Ronaldo\n",
      "Enter description: Goals\n",
      "ronaldo goals \n",
      "['ronaldo', 'goals', '']\n",
      "Scraping search results for the keyword: ronaldo goals  \n",
      "https://www.youtube.com/watch?v=vUyXa1SOeXQ:  45.40\n",
      "1\n",
      "https://www.youtube.com/watch?v=2sJKHj2YVHc:  70.72\n",
      "2\n",
      "https://www.youtube.com/watch?v=2GSF9N15P2o:  16.23\n",
      "3\n",
      "https://www.youtube.com/watch?v=AnsBxRCRzYY:  46.08\n",
      "4\n",
      "https://www.youtube.com/watch?v=aWlbZw4I1jo:  27.89\n",
      "5\n",
      "https://www.youtube.com/watch?v=5twveLmWhvI:  64.01\n",
      "6\n",
      "https://www.youtube.com/watch?v=pUQErA2SxPU:  78.35\n",
      "7\n",
      "https://www.youtube.com/watch?v=pyu1qknWTBI:  5.37\n",
      "8\n",
      "https://www.youtube.com/watch?v=h84CyqHNBCE:  7.82\n",
      "9\n",
      "https://www.youtube.com/watch?v=de4SZdfryYE:  32.93\n",
      "10\n",
      "https://www.youtube.com/watch?v=sSgamVx9Rl4:  26.10\n",
      "11\n",
      "https://www.youtube.com/watch?v=-RiOqcefvcI:  8.81\n",
      "12\n",
      "https://www.youtube.com/watch?v=iK7QGGJ-cKU:  5.34\n",
      "13\n",
      "https://www.youtube.com/watch?v=PHYh-uyqzV4:  7.32\n",
      "14\n",
      "https://www.youtube.com/watch?v=WvqUCSw01Cw:  52.40\n",
      "15\n",
      "https://www.youtube.com/watch?v=COpah0NLt24:  23.76\n",
      "16\n",
      "https://www.youtube.com/watch?v=vl6mi2k5Pcc:  7.92\n",
      "17\n",
      "https://www.youtube.com/watch?v=AunImole9HI:  39.28\n",
      "18\n",
      "https://www.youtube.com/watch?v=CtYQZ8K67Do:  28.43\n",
      "19\n",
      "https://www.youtube.com/watch?v=dbp91G9EA8U:  54.48\n",
      "20\n",
      "https://www.youtube.com/watch?v=EH6p_9wXq1M:  48.26\n",
      "21\n",
      "https://www.youtube.com/watch?v=zQwPlSFfFMk:  9.07\n",
      "22\n",
      "https://www.youtube.com/watch?v=FjZREFeJ3X8:  5.61\n",
      "23\n",
      "https://www.youtube.com/watch?v=a-1bdLEjwbg:  5.23\n",
      "24\n",
      "https://www.youtube.com/watch?v=yfWs-f0Ku2A:  10.76\n",
      "25\n",
      "https://www.youtube.com/watch?v=t9yqsxvtT-Y:  39.76\n",
      "26\n",
      "https://www.youtube.com/watch?v=JZQjuiTRg-k:  9.38\n",
      "27\n",
      "https://www.youtube.com/watch?v=VpakAQkBiHA:  5.86\n",
      "28\n",
      "https://www.youtube.com/watch?v=GMeLh2vaLf8:  16.13\n",
      "29\n",
      "https://www.youtube.com/watch?v=-8MT7MYqHgc:  10.68\n",
      "30\n",
      "https://www.youtube.com/watch?v=RmBTG6rdVtw:  19.75\n",
      "31\n",
      "https://www.youtube.com/watch?v=yEDfhDfjanw:  15.06\n",
      "32\n",
      "https://www.youtube.com/watch?v=HJCSusNKyc4:  7.70\n",
      "33\n",
      "https://www.youtube.com/watch?v=AiJGpH6WoEQ:  10.26\n",
      "34\n",
      "https://www.youtube.com/watch?v=8Us1zQkI8Ow:  70.35\n",
      "35\n",
      "https://www.youtube.com/watch?v=mjoL8jOsZEQ:  15.14\n",
      "36\n",
      "https://www.youtube.com/watch?v=ap5eEKQ0EnY:  5.16\n",
      "37\n",
      "https://www.youtube.com/watch?v=mKt16yEhBRw:  15.56\n",
      "38\n",
      "https://www.youtube.com/watch?v=fS80e1M_R2A:  7.25\n",
      "39\n",
      "https://www.youtube.com/watch?v=5D7qrxyoVa0:  8.56\n",
      "40\n",
      "https://www.youtube.com/watch?v=pRMup0grywQ:  8.15\n",
      "41\n",
      "https://www.youtube.com/watch?v=xYGK6lxqAqI:  27.42\n",
      "42\n",
      "https://www.youtube.com/watch?v=3IjisgSo3sI:  5.79\n",
      "43\n",
      "https://www.youtube.com/watch?v=X3fBQSIdhyE:  47.68\n",
      "44\n",
      "https://www.youtube.com/watch?v=SVdOcU458Wo:  5.88\n",
      "45\n",
      "https://www.youtube.com/watch?v=NWFZd0DkwOY:  9.21\n",
      "46\n",
      "https://www.youtube.com/watch?v=GQUgjKcTZ0Q:  15.92\n",
      "47\n",
      "https://www.youtube.com/watch?v=ORj4q-LSkwU:  5.92\n",
      "48\n",
      "https://www.youtube.com/watch?v=Dixu0lYfMkQ:  25.05\n",
      "49\n",
      "https://www.youtube.com/watch?v=j6T0r9SXl4g:  5.93\n",
      "50\n",
      "https://www.youtube.com/watch?v=ZXaSa2vEtF8:  15.75\n",
      "51\n",
      "https://www.youtube.com/watch?v=RfT03LUD6wI:  21.23\n",
      "52\n",
      "https://www.youtube.com/watch?v=_Cdg66y-m1E:  6.87\n",
      "53\n",
      "https://www.youtube.com/watch?v=yAW7YRTmK1E:  5.37\n",
      "54\n",
      "https://www.youtube.com/watch?v=UpgnZVGor3U:  18.54\n",
      "55\n",
      "https://www.youtube.com/watch?v=KiUxqa27LPo:  19.17\n",
      "56\n",
      "                                           Link  \\\n",
      "6   https://www.youtube.com/watch?v=pUQErA2SxPU   \n",
      "1   https://www.youtube.com/watch?v=2sJKHj2YVHc   \n",
      "34  https://www.youtube.com/watch?v=8Us1zQkI8Ow   \n",
      "5   https://www.youtube.com/watch?v=5twveLmWhvI   \n",
      "19  https://www.youtube.com/watch?v=dbp91G9EA8U   \n",
      "\n",
      "                                                Title  \\\n",
      "6   Lionel Messi vs Cristiano Ronaldo Best Goals Ever   \n",
      "1   Cristiano Ronaldo ● Top 10 Unimaginable Goals ...   \n",
      "34  New Football Talent: Cristiano Ronaldo JR. (Fo...   \n",
      "5   10 Impossible Goals Scored By Lionel Messi Tha...   \n",
      "19  Cristiano Ronaldo - Taki Taki | Juventus | Ski...   \n",
      "\n",
      "                                                  URL     Views   Likes  \\\n",
      "6   https://i.ytimg.com/vi_webp/pUQErA2SxPU/maxres...    534349   19000   \n",
      "1   https://i.ytimg.com/vi_webp/2sJKHj2YVHc/maxres...  20507427  107000   \n",
      "34  https://i.ytimg.com/vi_webp/8Us1zQkI8Ow/maxres...  19926469  114000   \n",
      "5   https://i.ytimg.com/vi_webp/5twveLmWhvI/maxres...  19419286  249000   \n",
      "19  https://i.ytimg.com/vi_webp/dbp91G9EA8U/maxres...  15858042  120000   \n",
      "\n",
      "    Dislikes  Subcount         Date  Days      Score  \n",
      "6      369.0  3.54e+06   May 3 2020     2  78.346365  \n",
      "1     6400.0  3.45e+06   Sep 1 2016  1342  70.723421  \n",
      "34    7300.0         1  Oct 27 2018   556  70.353521  \n",
      "5    16000.0    441000   Nov 9 2017   908  64.009210  \n",
      "19    9000.0  1.12e+06  Dec 19 2018   503  54.482884  \n"
     ]
    }
   ],
   "source": [
    "\"\"\"\n",
    "This code was written by Viraj Shetty and Arjun Praveen!\n",
    "\"\"\"\n",
    "import pandas as pd\n",
    "import time\n",
    "import operator\n",
    "import bs4 as bs\n",
    "import datetime\n",
    "from bs4 import BeautifulSoup\n",
    "import urllib.request\n",
    "from urllib.request import urlopen\n",
    "from selenium import webdriver\n",
    "from selenium.webdriver.common.by import By\n",
    "from selenium.webdriver.support import expected_conditions as EC\n",
    "from selenium.webdriver.support.ui import WebDriverWait\n",
    "from selenium.webdriver.common.keys import Keys\n",
    "from selenium.webdriver.firefox.options import Options\n",
    "from datetime import date\n",
    "from textblob import TextBlob\n",
    "\n",
    "\"\"\"\n",
    "This little piece of code is added to make the webdriver run silently\n",
    "Generally when you use WebDriver in Selenium it opens a new window\n",
    "If you have automated some functions you can also see those functions happening live\n",
    "To avoid it use this option called \"headless\" which does all this in the background\n",
    "\n",
    "Web Driver object creation\n",
    "Note: Before importing Selenium Webdriver\n",
    "    Make sure you have a webdriver application installed in the same directory\n",
    "    \n",
    "    For Mozzilla\n",
    "    >https://github.com/mozilla/geckodriver/releases\n",
    "    \n",
    "    For Chrome\n",
    "    >https://chromedriver.chromium.org/downloads\n",
    "\"\"\"\n",
    "options = Options()\n",
    "options.headless = True\n",
    "browser = webdriver.Firefox(options = options)\n",
    "\n",
    "\n",
    "# This function tokenizes the entered keywords\n",
    "\n",
    "def tokenizer(l_t, l_d):\n",
    "    v = TextBlob(l_t)\n",
    "    w = TextBlob(l_d)\n",
    "    a = v.noun_phrases\n",
    "    b = w.noun_phrases\n",
    "    c = a + b\n",
    "    d = \"\"\n",
    "    for i in c:\n",
    "        d = d + i + \" \"\n",
    "    print(d)\n",
    "    return d\n",
    "\n",
    "# Function for extracting number of days since the video has been uploaded\n",
    "\n",
    "def number_of_days(v_date):\n",
    "    today = date.today()\n",
    "    month = {\n",
    "             \"Jan\" : 1,\n",
    "             \"Feb\" : 2,\n",
    "             \"Mar\" : 3,\n",
    "             \"Apr\" : 4,\n",
    "             \"May\" : 5,\n",
    "             \"Jun\" : 6,\n",
    "             \"Jul\" : 7,\n",
    "             \"Aug\" : 8,\n",
    "             \"Sep\" : 9,\n",
    "             \"Oct\" : 10,\n",
    "             \"Nov\" : 11,\n",
    "             \"Dec\" : 12\n",
    "            }\n",
    "    v=v_date.split(\" \")\n",
    "    v_year = int(v[2])\n",
    "    v_month = int(month[v[0]])\n",
    "    v_day = int(v[1])\n",
    "    v_date = date(v_year,v_month,v_day)\n",
    "    time = abs(today - v_date)\n",
    "    return time.days\n",
    "\n",
    "def search():\n",
    "    \n",
    "    keyword = input(\"Enter title: \")\n",
    "    \n",
    "    description = input(\"Enter description: \")  \n",
    "    \n",
    "    keysearch = tokenizer(keyword, description)\n",
    "    keysearch_list = keysearch.split(\" \")\n",
    "    key = []\n",
    "    for j in keysearch_list:\n",
    "        if j not in key:\n",
    "            key.append(j)\n",
    "    print(key)\n",
    "    keysearch = \"\"\n",
    "    for k in key:\n",
    "        keysearch = keysearch + k + \" \"\n",
    "    print(\"Scraping search results for the keyword: \" + keysearch)\n",
    "    \n",
    "    tag_list = keysearch.split(\" \")\n",
    "    browser = webdriver.Firefox()\n",
    "    browser.get(f'https://www.youtube.com/results?search_query={keysearch}&sp=EgIQAQ%253D%253D')\n",
    "    browser.maximize_window()\n",
    "\n",
    "    \"\"\"\n",
    "    Please note here you need to use an Adblock to avoid advertisement videos to be a part of your list\n",
    "    Add the filepath to your .xpi file\n",
    "    \"\"\"\n",
    "    extension = \"{your }\" \n",
    "    #browser.install_addon(extension, temporary = True)\n",
    "\n",
    "    # Change value of While Loop to scroll more pages\n",
    "    i=0\n",
    "    while i<=1:\n",
    "        html = browser.find_element_by_tag_name('html')\n",
    "        '''\n",
    "        The code in the next line takes the page to end. Since in YouTube if you want more\n",
    "        videos to load, you have to scroll down to the end of the page\n",
    "        '''\n",
    "        html.send_keys(Keys.END)\n",
    "        time.sleep(3)\n",
    "        i+=1\n",
    "        \n",
    "    v_l = browser.find_elements_by_xpath('//*[@id=\"video-title\"]')\n",
    "    link = []\n",
    "    for i in v_l:\n",
    "        link.append(i.get_attribute('href'))\n",
    "        \n",
    "    #print(link) \n",
    "    wait = WebDriverWait(browser,15)\n",
    "    df = pd.DataFrame(columns = ['Link','Title','URL','Views','Likes','Dislikes','Subcount','Date','Days','Score'])\n",
    "    k=0\n",
    "    for x in link:\n",
    "        try:\n",
    "            i = 0\n",
    "            browser.get(x)\n",
    "            time.sleep(3)\n",
    "            v_link = x\n",
    "            v_title = wait.until(EC.presence_of_element_located((By.XPATH,'//h1[@class=\"title style-scope ytd-video-primary-info-renderer\"]'))).text\n",
    "            v_views = wait.until(EC.presence_of_element_located((By.XPATH,'/html/body/ytd-app/div/ytd-page-manager/ytd-watch-flexy/div[4]/div[1]/div/div[5]/div[2]/ytd-video-primary-info-renderer/div/div/div[1]/div[1]/yt-view-count-renderer/span[1]'))).text\n",
    "            try:    \n",
    "                v_views = int(v_views.strip(' views').replace(',', '', 2))\n",
    "            except:\n",
    "                v_views = 1\n",
    "            v_likes = wait.until(EC.presence_of_element_located((By.CSS_SELECTOR,'ytd-toggle-button-renderer.ytd-menu-renderer:nth-child(1) > a:nth-child(1) > yt-formatted-string:nth-child(2)'))).text\n",
    "            v_dislikes = wait.until(EC.presence_of_element_located((By.CSS_SELECTOR,'ytd-toggle-button-renderer.style-scope:nth-child(2) > a:nth-child(1) > yt-formatted-string:nth-child(2)'))).text\n",
    "            \n",
    "            #if (v_likes == 0 & v_dislikes == 0):\n",
    "                #v_like_dislike = 0\n",
    "            \n",
    "            #Likes\n",
    "            try:\n",
    "                if (operator.contains(v_likes,'K')):\n",
    "                    if(operator.contains(v_likes,'.')):\n",
    "                        pos = len(v_likes)-v_likes.find('.')-1 #length from the end\n",
    "                        a1 = v_likes.replace('.', '', 1)\n",
    "                        num = (int(a1[:len(a1)-1])*1000)/(10**(pos-1))\n",
    "                        v_likes = num\n",
    "                    else:\n",
    "                        v_likes=int(v_likes[ :len(v_likes)-1])*(1000)\n",
    "                elif operator.contains(v_likes,'M'):\n",
    "                    if(operator.contains(v_likes,'.')):\n",
    "                        pos = len(v_likes)-v_likes.find('.')-1 #length from the end\n",
    "                        a1 = v_likes.replace('.', '', 1)\n",
    "                        num = (int(a1[:len(a1)-1])*1000000)/(10**(pos-1))\n",
    "                        v_likes = num\n",
    "                    else:\n",
    "                        v_likes=int(v_likes[ :len(v_likes)-1])*(1000000)\n",
    "                else:\n",
    "                    v_likes = int(v_likes)\n",
    "            except:\n",
    "                v_likes = 1\n",
    "\n",
    "            #Dislikes\n",
    "            try:\n",
    "                if (operator.contains(v_dislikes,'K')):\n",
    "                    if(operator.contains(v_dislikes,'.')):\n",
    "                        pos = len(v_dislikes)-v_dislikes.find('.')-1 #length from the end\n",
    "                        a1 = v_dislikes.replace('.', '', 1)\n",
    "                        num = (int(a1[:len(a1)-1])*1000)/(10**(pos-1))\n",
    "                        v_dislikes = num\n",
    "                    else:\n",
    "                        v_dislikes=int(v_dislikes[ :len(v_dislikes)-1])*(1000)\n",
    "                elif operator.contains(v_dislikes,'M'):\n",
    "                    if(operator.contains(v_dislikes,'.')):\n",
    "                        pos = len(v_dislikes)-v_dislikes.find('.')-1 #length from the end\n",
    "                        a1 = v_dislikes.replace('.', '', 1)\n",
    "                        num = (int(a1[:len(a1)-1])*1000000)/(10**(pos-1))\n",
    "                        v_dislikes = num\n",
    "                    else:\n",
    "                        v_dislikes=int(v_dislikes[ :len(v_dislikes)-1])*(1000000)\n",
    "                else:\n",
    "                    v_dislikes = int(v_dislikes)\n",
    "            except:\n",
    "                v_dislikes = 1\n",
    "            \n",
    "            v_like_dislike = ((v_likes-v_dislikes)/v_likes)\n",
    "            \n",
    "            v_subcount = wait.until(EC.presence_of_element_located((By.XPATH,'//*[@id=\"owner-sub-count\"]'))).text\n",
    "            v_subcount = v_subcount.strip(\" subscribers\")\n",
    "            try:\n",
    "                if operator.contains(v_subcount,'M'):\n",
    "                    if(operator.contains(v_subcount,'.')):\n",
    "                        pos = len(v_subcount)-v_subcount.find('.')-1 #length from the end\n",
    "                        a1 = v_subcount.replace('.', '', 1)\n",
    "                        num = (int(a1[:len(a1)-1])*1000000)/(10**(pos-1))\n",
    "                        v_subcount = num\n",
    "                    else:\n",
    "                        v_subcount=int(v_subcount[ :len(v_subcount)-1])*(1000000)\n",
    "                elif operator.contains(v_subcount,'K'):\n",
    "                    if(operator.contains(v_subcount,'.')):\n",
    "                        pos = len(v_subcount)-v_subcount.find('.')-1 #length from the end\n",
    "                        a1 = v_subcount.replace('.', '', 1)\n",
    "                        num = (int(a1[:len(a1)-1])*1000)/(10**(pos-1))\n",
    "                        v_subcount = num\n",
    "                    else:\n",
    "                        v_subcount = int(v_subcount[ :len(v_subcount)-1])*(1000)\n",
    "                else:\n",
    "                    v_subcount = int(float(v_subcount))\n",
    "            except:\n",
    "                v_subcount = 1\n",
    "            v_urls = browser.find_elements_by_xpath('//div[@class=\"ytp-cued-thumbnail-overlay-image\"]')\n",
    "            for i in v_urls:\n",
    "                v_url=i.get_attribute('style')[23:-3]\n",
    "                break\n",
    "            v_date = browser.find_element_by_xpath(\"//div[@id='date']\").text\n",
    "            if(operator.contains(v_date,'Premiered')):\n",
    "                v_date = v_date[10:]\n",
    "            elif(operator.contains(v_date,'Streamed live on')):\n",
    "                v_date = v_date[17:]\n",
    "\n",
    "            v_date = v_date[1:].replace(\",\",\"\",1)\n",
    "            v_days = number_of_days(v_date)\n",
    "            url = x\n",
    "            co =0\n",
    "#             try:\n",
    "#                 url = x\n",
    "#                 html_content = urlopen(url)\n",
    "#                 soup = BeautifulSoup(html_content,'lxml')\n",
    "#                 v_tags = [tag[\"content\"] for tag in soup.findAll(\"meta\",property=\"og:video:tag\")]\n",
    "#             except:\n",
    "#                 print('Error')\n",
    "#             co = 0\n",
    "            \n",
    "#             for tl in tag_list:\n",
    "#                 for t in v_tags:\n",
    "#                     if operator.contains(t, tl):\n",
    "#                         co+=1\n",
    "#             v_tag = co/(len(tag_list))\n",
    "            \n",
    "            # Score formula\n",
    "            try:\n",
    "                v_score = (((70*v_views)/700000) + (50*(v_likes/19000)) - (20*(v_dislikes/370)) + (160*v_like_dislike) +(20*(v_views/v_days)/7000)+(30*(v_likes/v_days)/200))/31\n",
    "            except:\n",
    "                v_days = 1\n",
    "                v_likes = 1\n",
    "                v_score = (((70*v_views)/700000) + (50*(v_likes/19000)) - (20*(v_dislikes/370)) + (160*v_like_dislike)+(20*(v_views/v_days)/7000)+(30*(v_likes/v_days)/200) )/31\n",
    "            \n",
    "            \n",
    "            print('{}:  {:.2f}'.format(url, v_score))\n",
    "\n",
    "            \n",
    "            df.loc[len(df)] = [v_link,v_title,v_url,v_views,v_likes,v_dislikes,v_subcount,v_date,v_days,v_score]\n",
    "            k\n",
    "            k+=1\n",
    "            print(k)\n",
    "        #Exception added since some YouTube ads bypass the adblock\n",
    "        except Exception as e:\n",
    "            #print(e)\n",
    "            continue\n",
    "    #df = df.sort_values(by='Score', ascending = 0)\n",
    "    return df\n",
    "    browser.close()\n",
    "\n",
    "n = int(input(\"How many Links would you like to print? \"))\n",
    "df1 = search()\n",
    "df = df1.nlargest(n,'Score')\n",
    "print(df)"
   ]
  },
  {
   "cell_type": "code",
   "execution_count": 3,
   "metadata": {
    "scrolled": true
   },
   "outputs": [
    {
     "name": "stdout",
     "output_type": "stream",
     "text": [
      "[5, 14, 20, 19, 34]\n"
     ]
    }
   ],
   "source": [
    "df1\n",
    "df_likes = df1.sort_values(by='Likes',ascending=0)\n",
    "df_l = df_likes.head()\n",
    "list1 = []\n",
    "#This part\n",
    "for row in df_l.index: \n",
    "    list1.append(row)\n",
    "df1\n",
    "print(list1)"
   ]
  },
  {
   "cell_type": "code",
   "execution_count": 44,
   "metadata": {},
   "outputs": [
    {
     "data": {
      "text/html": [
       "<div>\n",
       "<style scoped>\n",
       "    .dataframe tbody tr th:only-of-type {\n",
       "        vertical-align: middle;\n",
       "    }\n",
       "\n",
       "    .dataframe tbody tr th {\n",
       "        vertical-align: top;\n",
       "    }\n",
       "\n",
       "    .dataframe thead th {\n",
       "        text-align: right;\n",
       "    }\n",
       "</style>\n",
       "<table border=\"1\" class=\"dataframe\">\n",
       "  <thead>\n",
       "    <tr style=\"text-align: right;\">\n",
       "      <th></th>\n",
       "      <th>Link</th>\n",
       "      <th>Title</th>\n",
       "      <th>URL</th>\n",
       "      <th>Views</th>\n",
       "      <th>Likes</th>\n",
       "      <th>Dislikes</th>\n",
       "      <th>Subcount</th>\n",
       "      <th>Date</th>\n",
       "      <th>Days</th>\n",
       "      <th>Score</th>\n",
       "    </tr>\n",
       "  </thead>\n",
       "  <tbody>\n",
       "    <tr>\n",
       "      <th>51</th>\n",
       "      <td>https://www.youtube.com/watch?v=5hFd6zGkxLE</td>\n",
       "      <td>THANK YOU, CRISTIANO RONALDO | Real Madrid Off...</td>\n",
       "      <td>https://i.ytimg.com/vi_webp/5hFd6zGkxLE/maxres...</td>\n",
       "      <td>31751603</td>\n",
       "      <td>1.6e+06</td>\n",
       "      <td>42000.0</td>\n",
       "      <td>5.63e+06</td>\n",
       "      <td>Jul 10 2018</td>\n",
       "      <td>664</td>\n",
       "      <td>186.106030</td>\n",
       "    </tr>\n",
       "    <tr>\n",
       "      <th>2</th>\n",
       "      <td>https://www.youtube.com/watch?v=pUQErA2SxPU</td>\n",
       "      <td>Lionel Messi vs Cristiano Ronaldo Best Goals Ever</td>\n",
       "      <td>https://i.ytimg.com/vi_webp/pUQErA2SxPU/maxres...</td>\n",
       "      <td>486319</td>\n",
       "      <td>17000</td>\n",
       "      <td>318.0</td>\n",
       "      <td>3.54e+06</td>\n",
       "      <td>May 3 2020</td>\n",
       "      <td>1</td>\n",
       "      <td>134.602241</td>\n",
       "    </tr>\n",
       "    <tr>\n",
       "      <th>1</th>\n",
       "      <td>https://www.youtube.com/watch?v=2sJKHj2YVHc</td>\n",
       "      <td>Cristiano Ronaldo ● Top 10 Unimaginable Goals ...</td>\n",
       "      <td>https://i.ytimg.com/vi_webp/2sJKHj2YVHc/maxres...</td>\n",
       "      <td>20506128</td>\n",
       "      <td>107000</td>\n",
       "      <td>6400.0</td>\n",
       "      <td>3.45e+06</td>\n",
       "      <td>Sep 1 2016</td>\n",
       "      <td>1341</td>\n",
       "      <td>70.720480</td>\n",
       "    </tr>\n",
       "    <tr>\n",
       "      <th>36</th>\n",
       "      <td>https://www.youtube.com/watch?v=8Us1zQkI8Ow</td>\n",
       "      <td>New Football Talent: Cristiano Ronaldo JR. (Fo...</td>\n",
       "      <td>https://i.ytimg.com/vi_webp/8Us1zQkI8Ow/maxres...</td>\n",
       "      <td>19925259</td>\n",
       "      <td>114000</td>\n",
       "      <td>7300.0</td>\n",
       "      <td>1</td>\n",
       "      <td>Oct 27 2018</td>\n",
       "      <td>555</td>\n",
       "      <td>70.357156</td>\n",
       "    </tr>\n",
       "    <tr>\n",
       "      <th>5</th>\n",
       "      <td>https://www.youtube.com/watch?v=5twveLmWhvI</td>\n",
       "      <td>10 Impossible Goals Scored By Lionel Messi Tha...</td>\n",
       "      <td>https://i.ytimg.com/vi_webp/kgDkGClJAwc/maxres...</td>\n",
       "      <td>19417690</td>\n",
       "      <td>249000</td>\n",
       "      <td>16000.0</td>\n",
       "      <td>441000</td>\n",
       "      <td>Nov 9 2017</td>\n",
       "      <td>907</td>\n",
       "      <td>64.007535</td>\n",
       "    </tr>\n",
       "    <tr>\n",
       "      <th>14</th>\n",
       "      <td>https://www.youtube.com/watch?v=dbp91G9EA8U</td>\n",
       "      <td>Cristiano Ronaldo - Taki Taki | Juventus | Ski...</td>\n",
       "      <td>https://i.ytimg.com/vi_webp/dbp91G9EA8U/maxres...</td>\n",
       "      <td>15856413</td>\n",
       "      <td>120000</td>\n",
       "      <td>9000.0</td>\n",
       "      <td>1.12e+06</td>\n",
       "      <td>Dec 19 2018</td>\n",
       "      <td>502</td>\n",
       "      <td>54.485418</td>\n",
       "    </tr>\n",
       "    <tr>\n",
       "      <th>15</th>\n",
       "      <td>https://www.youtube.com/watch?v=WvqUCSw01Cw</td>\n",
       "      <td>Cristiano Ronaldo UCL Goals That Shocked The W...</td>\n",
       "      <td>https://i.ytimg.com/vi_webp/WvqUCSw01Cw/maxres...</td>\n",
       "      <td>15505635</td>\n",
       "      <td>145000</td>\n",
       "      <td>11000.0</td>\n",
       "      <td>272000</td>\n",
       "      <td>Jan 15 2019</td>\n",
       "      <td>475</td>\n",
       "      <td>52.402141</td>\n",
       "    </tr>\n",
       "    <tr>\n",
       "      <th>32</th>\n",
       "      <td>https://www.youtube.com/watch?v=EH6p_9wXq1M</td>\n",
       "      <td>Cristiano Ronaldo - Taki Taki | Skills &amp; Goals...</td>\n",
       "      <td>https://i.ytimg.com/vi_webp/EH6p_9wXq1M/maxres...</td>\n",
       "      <td>12884037</td>\n",
       "      <td>125000</td>\n",
       "      <td>6900.0</td>\n",
       "      <td>247000</td>\n",
       "      <td>Oct 30 2018</td>\n",
       "      <td>552</td>\n",
       "      <td>48.264550</td>\n",
       "    </tr>\n",
       "    <tr>\n",
       "      <th>38</th>\n",
       "      <td>https://www.youtube.com/watch?v=X3fBQSIdhyE</td>\n",
       "      <td>Cristiano Ronaldo's Dramatic Last Minute Goal!...</td>\n",
       "      <td>https://i.ytimg.com/vi_webp/F5cPdjZTeHo/maxres...</td>\n",
       "      <td>11887785</td>\n",
       "      <td>87000</td>\n",
       "      <td>5600.0</td>\n",
       "      <td>1</td>\n",
       "      <td>Sep 27 2019</td>\n",
       "      <td>220</td>\n",
       "      <td>47.691268</td>\n",
       "    </tr>\n",
       "    <tr>\n",
       "      <th>6</th>\n",
       "      <td>https://www.youtube.com/watch?v=AnsBxRCRzYY</td>\n",
       "      <td>Ronaldo Phenomenon Top 15 Crazy Goals \\ Top 15...</td>\n",
       "      <td>https://i.ytimg.com/vi_webp/F5cPdjZTeHo/maxres...</td>\n",
       "      <td>12836804</td>\n",
       "      <td>56000</td>\n",
       "      <td>4100.0</td>\n",
       "      <td>1.5e+06</td>\n",
       "      <td>Aug 6 2018</td>\n",
       "      <td>637</td>\n",
       "      <td>46.079896</td>\n",
       "    </tr>\n",
       "    <tr>\n",
       "      <th>0</th>\n",
       "      <td>https://www.youtube.com/watch?v=vUyXa1SOeXQ</td>\n",
       "      <td>Top 20 Cristiano Ronaldo Goals That Shocked Th...</td>\n",
       "      <td>https://i.ytimg.com/vi_webp/DXyHcDZwNxs/maxres...</td>\n",
       "      <td>11986434</td>\n",
       "      <td>75000</td>\n",
       "      <td>4300.0</td>\n",
       "      <td>272000</td>\n",
       "      <td>Jan 1 2019</td>\n",
       "      <td>489</td>\n",
       "      <td>45.401512</td>\n",
       "    </tr>\n",
       "    <tr>\n",
       "      <th>52</th>\n",
       "      <td>https://www.youtube.com/watch?v=6Djg6XRyNGQ</td>\n",
       "      <td>Epic Reactions on Cristiano Ronaldo Skills &amp; G...</td>\n",
       "      <td>https://i.ytimg.com/vi/6Djg6XRyNGQ/maxresdefau...</td>\n",
       "      <td>5052327</td>\n",
       "      <td>85000</td>\n",
       "      <td>2600.0</td>\n",
       "      <td>803000</td>\n",
       "      <td>Mar 20 2020</td>\n",
       "      <td>45</td>\n",
       "      <td>43.470911</td>\n",
       "    </tr>\n",
       "    <tr>\n",
       "      <th>19</th>\n",
       "      <td>https://www.youtube.com/watch?v=t9yqsxvtT-Y</td>\n",
       "      <td>20 Unforgettable Goals by Cristiano Ronaldo</td>\n",
       "      <td>https://i.ytimg.com/vi_webp/t9yqsxvtT-Y/maxres...</td>\n",
       "      <td>10083276</td>\n",
       "      <td>103000</td>\n",
       "      <td>7700.0</td>\n",
       "      <td>1.93e+06</td>\n",
       "      <td>Oct 18 2019</td>\n",
       "      <td>199</td>\n",
       "      <td>39.793926</td>\n",
       "    </tr>\n",
       "    <tr>\n",
       "      <th>20</th>\n",
       "      <td>https://www.youtube.com/watch?v=AunImole9HI</td>\n",
       "      <td>Ronaldo Scores Insane Goal With Giant Leap! | ...</td>\n",
       "      <td>https://i.ytimg.com/vi_webp/n6m4xyXYDP4/maxres...</td>\n",
       "      <td>6508063</td>\n",
       "      <td>108000</td>\n",
       "      <td>2300.0</td>\n",
       "      <td>4.32e+06</td>\n",
       "      <td>Dec 18 2019</td>\n",
       "      <td>138</td>\n",
       "      <td>39.336094</td>\n",
       "    </tr>\n",
       "    <tr>\n",
       "      <th>9</th>\n",
       "      <td>https://www.youtube.com/watch?v=de4SZdfryYE</td>\n",
       "      <td>Cristiano Ronaldo Impossible Goals</td>\n",
       "      <td>https://i.ytimg.com/vi_webp/de4SZdfryYE/maxres...</td>\n",
       "      <td>7282435</td>\n",
       "      <td>54000</td>\n",
       "      <td>2600.0</td>\n",
       "      <td>1.21e+06</td>\n",
       "      <td>Oct 9 2019</td>\n",
       "      <td>208</td>\n",
       "      <td>32.938073</td>\n",
       "    </tr>\n",
       "    <tr>\n",
       "      <th>13</th>\n",
       "      <td>https://www.youtube.com/watch?v=CtYQZ8K67Do</td>\n",
       "      <td>Cristiano Ronaldo - Believer 2019 | Skills &amp; G...</td>\n",
       "      <td>https://i.ytimg.com/vi_webp/CtYQZ8K67Do/maxres...</td>\n",
       "      <td>6346676</td>\n",
       "      <td>71000</td>\n",
       "      <td>2800.0</td>\n",
       "      <td>742000</td>\n",
       "      <td>Dec 21 2018</td>\n",
       "      <td>500</td>\n",
       "      <td>28.432749</td>\n",
       "    </tr>\n",
       "    <tr>\n",
       "      <th>4</th>\n",
       "      <td>https://www.youtube.com/watch?v=aWlbZw4I1jo</td>\n",
       "      <td>Cristiano Ronaldo All 39 Goals 2019</td>\n",
       "      <td>https://i.ytimg.com/vi_webp/aWlbZw4I1jo/maxres...</td>\n",
       "      <td>5380042</td>\n",
       "      <td>53000</td>\n",
       "      <td>2600.0</td>\n",
       "      <td>3.45e+06</td>\n",
       "      <td>Dec 24 2019</td>\n",
       "      <td>132</td>\n",
       "      <td>27.927958</td>\n",
       "    </tr>\n",
       "    <tr>\n",
       "      <th>46</th>\n",
       "      <td>https://www.youtube.com/watch?v=xYGK6lxqAqI</td>\n",
       "      <td>TOP 10 Goals Cristiano Ronaldo LaLiga Santander</td>\n",
       "      <td>https://i.ytimg.com/vi_webp/lEzZ7HzmxTM/maxres...</td>\n",
       "      <td>2711280</td>\n",
       "      <td>83000</td>\n",
       "      <td>1500.0</td>\n",
       "      <td>5.41e+06</td>\n",
       "      <td>Feb 24 2020</td>\n",
       "      <td>70</td>\n",
       "      <td>27.551550</td>\n",
       "    </tr>\n",
       "    <tr>\n",
       "      <th>17</th>\n",
       "      <td>https://www.youtube.com/watch?v=sSgamVx9Rl4</td>\n",
       "      <td>TOP 25 GOALS Cristiano Ronaldo in LaLiga Santa...</td>\n",
       "      <td>https://i.ytimg.com/vi_webp/lEzZ7HzmxTM/maxres...</td>\n",
       "      <td>992586</td>\n",
       "      <td>31000</td>\n",
       "      <td>527.0</td>\n",
       "      <td>5.41e+06</td>\n",
       "      <td>Apr 20 2020</td>\n",
       "      <td>14</td>\n",
       "      <td>27.236854</td>\n",
       "    </tr>\n",
       "    <tr>\n",
       "      <th>56</th>\n",
       "      <td>https://www.youtube.com/watch?v=Dixu0lYfMkQ</td>\n",
       "      <td>Cristiano Ronaldo • First 25 Goals for Juventu...</td>\n",
       "      <td>https://i1.ytimg.com/vi/Dixu0lYfMkQ/hqdefault.jpg</td>\n",
       "      <td>5833968</td>\n",
       "      <td>35000</td>\n",
       "      <td>1900.0</td>\n",
       "      <td>45800</td>\n",
       "      <td>Mar 15 2019</td>\n",
       "      <td>416</td>\n",
       "      <td>25.058139</td>\n",
       "    </tr>\n",
       "    <tr>\n",
       "      <th>21</th>\n",
       "      <td>https://www.youtube.com/watch?v=COpah0NLt24</td>\n",
       "      <td>Cristiano Ronaldo | All Premier League Goals |...</td>\n",
       "      <td>https://i1.ytimg.com/vi/COpah0NLt24/hqdefault.jpg</td>\n",
       "      <td>5251643</td>\n",
       "      <td>47000</td>\n",
       "      <td>1800.0</td>\n",
       "      <td>2.8e+06</td>\n",
       "      <td>May 26 2018</td>\n",
       "      <td>709</td>\n",
       "      <td>23.759042</td>\n",
       "    </tr>\n",
       "    <tr>\n",
       "      <th>25</th>\n",
       "      <td>https://www.youtube.com/watch?v=RmBTG6rdVtw</td>\n",
       "      <td>20 Free Kick Goals Only Cristiano Ronaldo Can ...</td>\n",
       "      <td>https://i.ytimg.com/vi_webp/RmBTG6rdVtw/maxres...</td>\n",
       "      <td>4573393</td>\n",
       "      <td>30000</td>\n",
       "      <td>2000.0</td>\n",
       "      <td>3.45e+06</td>\n",
       "      <td>Dec 14 2018</td>\n",
       "      <td>507</td>\n",
       "      <td>19.747113</td>\n",
       "    </tr>\n",
       "    <tr>\n",
       "      <th>3</th>\n",
       "      <td>https://www.youtube.com/watch?v=2GSF9N15P2o</td>\n",
       "      <td>10 Greatest Cristiano Ronaldo Goals Of All Time 🔥</td>\n",
       "      <td>https://i1.ytimg.com/vi/2GSF9N15P2o/hqdefault.jpg</td>\n",
       "      <td>3307861</td>\n",
       "      <td>32000</td>\n",
       "      <td>1600.0</td>\n",
       "      <td>3.45e+06</td>\n",
       "      <td>Jul 28 2018</td>\n",
       "      <td>646</td>\n",
       "      <td>16.211954</td>\n",
       "    </tr>\n",
       "    <tr>\n",
       "      <th>37</th>\n",
       "      <td>https://www.youtube.com/watch?v=GQUgjKcTZ0Q</td>\n",
       "      <td>Heartbreaking &amp; Craziest Reactions on Cristian...</td>\n",
       "      <td>https://i.ytimg.com/vi_webp/qwraf_rhzIU/maxres...</td>\n",
       "      <td>2733791</td>\n",
       "      <td>31000</td>\n",
       "      <td>873.0</td>\n",
       "      <td>803000</td>\n",
       "      <td>Mar 18 2019</td>\n",
       "      <td>413</td>\n",
       "      <td>15.917244</td>\n",
       "    </tr>\n",
       "    <tr>\n",
       "      <th>44</th>\n",
       "      <td>https://www.youtube.com/watch?v=ZXaSa2vEtF8</td>\n",
       "      <td>Ronaldo's Top 10 Goals In The League | Throwba...</td>\n",
       "      <td>https://i.ytimg.com/vi_webp/lEzZ7HzmxTM/maxres...</td>\n",
       "      <td>3022648</td>\n",
       "      <td>25000</td>\n",
       "      <td>1000.0</td>\n",
       "      <td>4.32e+06</td>\n",
       "      <td>Sep 7 2018</td>\n",
       "      <td>605</td>\n",
       "      <td>15.744296</td>\n",
       "    </tr>\n",
       "    <tr>\n",
       "      <th>45</th>\n",
       "      <td>https://www.youtube.com/watch?v=mKt16yEhBRw</td>\n",
       "      <td>EVERY SINGLE Cristiano Ronaldo Juventus Goal! ...</td>\n",
       "      <td>https://i.ytimg.com/vi_webp/mKt16yEhBRw/maxres...</td>\n",
       "      <td>1545147</td>\n",
       "      <td>36000</td>\n",
       "      <td>574.0</td>\n",
       "      <td>2.6e+06</td>\n",
       "      <td>Feb 3 2020</td>\n",
       "      <td>91</td>\n",
       "      <td>15.597655</td>\n",
       "    </tr>\n",
       "    <tr>\n",
       "      <th>53</th>\n",
       "      <td>https://www.youtube.com/watch?v=mjoL8jOsZEQ</td>\n",
       "      <td>Cristiano Ronaldo - Despacito | Juventus | Ski...</td>\n",
       "      <td>https://i.ytimg.com/vi_webp/dZI4270Tolo/maxres...</td>\n",
       "      <td>2713967</td>\n",
       "      <td>33000</td>\n",
       "      <td>1200.0</td>\n",
       "      <td>168000</td>\n",
       "      <td>Sep 28 2018</td>\n",
       "      <td>584</td>\n",
       "      <td>15.139016</td>\n",
       "    </tr>\n",
       "    <tr>\n",
       "      <th>34</th>\n",
       "      <td>https://www.youtube.com/watch?v=yEDfhDfjanw</td>\n",
       "      <td>Cristiano Ronaldo All 28 Goals for Juventus 20...</td>\n",
       "      <td>https://i.ytimg.com/vi_webp/yEDfhDfjanw/maxres...</td>\n",
       "      <td>2593060</td>\n",
       "      <td>28000</td>\n",
       "      <td>1000.0</td>\n",
       "      <td>3.45e+06</td>\n",
       "      <td>May 26 2019</td>\n",
       "      <td>344</td>\n",
       "      <td>15.063491</td>\n",
       "    </tr>\n",
       "    <tr>\n",
       "      <th>41</th>\n",
       "      <td>https://www.youtube.com/watch?v=N40-6OhBUAs</td>\n",
       "      <td>Cristiano Ronaldo ● Believer ft.Imagine Dragon...</td>\n",
       "      <td>https://i1.ytimg.com/vi/N40-6OhBUAs/hqdefault.jpg</td>\n",
       "      <td>1757893</td>\n",
       "      <td>17000</td>\n",
       "      <td>709.0</td>\n",
       "      <td>11000</td>\n",
       "      <td>Dec 30 2017</td>\n",
       "      <td>856</td>\n",
       "      <td>11.108881</td>\n",
       "    </tr>\n",
       "    <tr>\n",
       "      <th>16</th>\n",
       "      <td>https://www.youtube.com/watch?v=-8MT7MYqHgc</td>\n",
       "      <td>Cristiano Ronaldo Goals You Love To See</td>\n",
       "      <td>https://i.ytimg.com/vi_webp/-8MT7MYqHgc/maxres...</td>\n",
       "      <td>375698</td>\n",
       "      <td>6700</td>\n",
       "      <td>183.0</td>\n",
       "      <td>3.45e+06</td>\n",
       "      <td>Apr 19 2020</td>\n",
       "      <td>15</td>\n",
       "      <td>10.951641</td>\n",
       "    </tr>\n",
       "    <tr>\n",
       "      <th>18</th>\n",
       "      <td>https://www.youtube.com/watch?v=yfWs-f0Ku2A</td>\n",
       "      <td>Cristiano Ronaldo - All 62 Free-Kick Goals In ...</td>\n",
       "      <td>https://i.ytimg.com/vi_webp/yfWs-f0Ku2A/maxres...</td>\n",
       "      <td>1286219</td>\n",
       "      <td>23000</td>\n",
       "      <td>612.0</td>\n",
       "      <td>634000</td>\n",
       "      <td>Jun 14 2019</td>\n",
       "      <td>325</td>\n",
       "      <td>10.765566</td>\n",
       "    </tr>\n",
       "    <tr>\n",
       "      <th>35</th>\n",
       "      <td>https://www.youtube.com/watch?v=AiJGpH6WoEQ</td>\n",
       "      <td>Cristiano Ronaldo ● Monster ► Manchester Unite...</td>\n",
       "      <td>https://i.ytimg.com/vi_webp/AiJGpH6WoEQ/maxres...</td>\n",
       "      <td>804535</td>\n",
       "      <td>19000</td>\n",
       "      <td>218.0</td>\n",
       "      <td>1</td>\n",
       "      <td>Jan 1 2020</td>\n",
       "      <td>124</td>\n",
       "      <td>10.269531</td>\n",
       "    </tr>\n",
       "    <tr>\n",
       "      <th>33</th>\n",
       "      <td>https://www.youtube.com/watch?v=ZC_XihZGPEg</td>\n",
       "      <td>Cristiano Ronaldo - Juventus vs Real Madrid - ...</td>\n",
       "      <td>https://i1.ytimg.com/vi/ZC_XihZGPEg/hqdefault.jpg</td>\n",
       "      <td>1300246</td>\n",
       "      <td>8300</td>\n",
       "      <td>247.0</td>\n",
       "      <td>15500</td>\n",
       "      <td>Apr 3 2018</td>\n",
       "      <td>762</td>\n",
       "      <td>9.685906</td>\n",
       "    </tr>\n",
       "    <tr>\n",
       "      <th>49</th>\n",
       "      <td>https://www.youtube.com/watch?v=NWFZd0DkwOY</td>\n",
       "      <td>Cristiano Ronaldo • Hall of Fame • Skills &amp; Go...</td>\n",
       "      <td>https://i.ytimg.com/vi_webp/NWFZd0DkwOY/maxres...</td>\n",
       "      <td>1032138</td>\n",
       "      <td>13000</td>\n",
       "      <td>285.0</td>\n",
       "      <td>742000</td>\n",
       "      <td>May 20 2018</td>\n",
       "      <td>715</td>\n",
       "      <td>9.205256</td>\n",
       "    </tr>\n",
       "    <tr>\n",
       "      <th>24</th>\n",
       "      <td>https://www.youtube.com/watch?v=zQwPlSFfFMk</td>\n",
       "      <td>Ronaldo (Barcelona) - La Liga 1996/97 - 34 goals</td>\n",
       "      <td>https://i1.ytimg.com/vi/zQwPlSFfFMk/hqdefault.jpg</td>\n",
       "      <td>1139474</td>\n",
       "      <td>9200</td>\n",
       "      <td>281.0</td>\n",
       "      <td>57000</td>\n",
       "      <td>Dec 27 2015</td>\n",
       "      <td>1590</td>\n",
       "      <td>9.064428</td>\n",
       "    </tr>\n",
       "    <tr>\n",
       "      <th>11</th>\n",
       "      <td>https://www.youtube.com/watch?v=-RiOqcefvcI</td>\n",
       "      <td>Cristiano Ronaldo 2020 ● Skills &amp; Goals 🇵🇹⚪️⚫️</td>\n",
       "      <td>https://i.ytimg.com/vi_webp/-RiOqcefvcI/maxres...</td>\n",
       "      <td>744611</td>\n",
       "      <td>12000</td>\n",
       "      <td>399.0</td>\n",
       "      <td>594000</td>\n",
       "      <td>Jan 11 2020</td>\n",
       "      <td>114</td>\n",
       "      <td>8.825932</td>\n",
       "    </tr>\n",
       "    <tr>\n",
       "      <th>30</th>\n",
       "      <td>https://www.youtube.com/watch?v=5D7qrxyoVa0</td>\n",
       "      <td>RONALDO | All of his 59 Inter goals 🇧🇷🖤💙</td>\n",
       "      <td>https://i.ytimg.com/vi_webp/5D7qrxyoVa0/maxres...</td>\n",
       "      <td>893069</td>\n",
       "      <td>8700</td>\n",
       "      <td>182.0</td>\n",
       "      <td>614000</td>\n",
       "      <td>Aug 23 2018</td>\n",
       "      <td>620</td>\n",
       "      <td>8.556033</td>\n",
       "    </tr>\n",
       "    <tr>\n",
       "      <th>10</th>\n",
       "      <td>https://www.youtube.com/watch?v=vl6mi2k5Pcc</td>\n",
       "      <td>5 Goals Cristiano Ronaldo Scored with Worst He...</td>\n",
       "      <td>https://i.ytimg.com/vi_webp/vl6mi2k5Pcc/maxres...</td>\n",
       "      <td>907360</td>\n",
       "      <td>7700</td>\n",
       "      <td>459.0</td>\n",
       "      <td>1.12e+06</td>\n",
       "      <td>Mar 6 2019</td>\n",
       "      <td>425</td>\n",
       "      <td>7.918330</td>\n",
       "    </tr>\n",
       "    <tr>\n",
       "      <th>8</th>\n",
       "      <td>https://www.youtube.com/watch?v=h84CyqHNBCE</td>\n",
       "      <td>Cristiano Ronaldo All 450 Goals- Real Madrid w...</td>\n",
       "      <td>https://i1.ytimg.com/vi/h84CyqHNBCE/hqdefault.jpg</td>\n",
       "      <td>654797</td>\n",
       "      <td>9500</td>\n",
       "      <td>187.0</td>\n",
       "      <td>45800</td>\n",
       "      <td>Jul 12 2018</td>\n",
       "      <td>662</td>\n",
       "      <td>7.812927</td>\n",
       "    </tr>\n",
       "    <tr>\n",
       "      <th>29</th>\n",
       "      <td>https://www.youtube.com/watch?v=HJCSusNKyc4</td>\n",
       "      <td>Cristiano Ronaldo vs Lionel Messi • Top 40 Goa...</td>\n",
       "      <td>https://i.ytimg.com/vi_webp/HJCSusNKyc4/maxres...</td>\n",
       "      <td>490642</td>\n",
       "      <td>10000</td>\n",
       "      <td>283.0</td>\n",
       "      <td>73300</td>\n",
       "      <td>Dec 31 2019</td>\n",
       "      <td>125</td>\n",
       "      <td>7.702238</td>\n",
       "    </tr>\n",
       "    <tr>\n",
       "      <th>31</th>\n",
       "      <td>https://www.youtube.com/watch?v=PHYh-uyqzV4</td>\n",
       "      <td>Cristiano Ronaldo ALL 60 GOALS &amp; ASSISTS FOR J...</td>\n",
       "      <td>https://i.ytimg.com/vi_webp/PHYh-uyqzV4/maxres...</td>\n",
       "      <td>439829</td>\n",
       "      <td>6300</td>\n",
       "      <td>190.0</td>\n",
       "      <td>73300</td>\n",
       "      <td>Jan 24 2020</td>\n",
       "      <td>101</td>\n",
       "      <td>7.331121</td>\n",
       "    </tr>\n",
       "    <tr>\n",
       "      <th>43</th>\n",
       "      <td>https://www.youtube.com/watch?v=fS80e1M_R2A</td>\n",
       "      <td>Cristiano Ronaldo 22 ICONIC Goal Celebrations ...</td>\n",
       "      <td>https://i.ytimg.com/vi_webp/fS80e1M_R2A/maxres...</td>\n",
       "      <td>338904</td>\n",
       "      <td>5700</td>\n",
       "      <td>139.0</td>\n",
       "      <td>537000</td>\n",
       "      <td>Feb 28 2020</td>\n",
       "      <td>66</td>\n",
       "      <td>7.261318</td>\n",
       "    </tr>\n",
       "    <tr>\n",
       "      <th>55</th>\n",
       "      <td>https://www.youtube.com/watch?v=_Cdg66y-m1E</td>\n",
       "      <td>CRISTIANO RONALDO Record Breaking • All Goals ...</td>\n",
       "      <td>https://i.ytimg.com/vi_webp/F5cPdjZTeHo/maxres...</td>\n",
       "      <td>335018</td>\n",
       "      <td>4700</td>\n",
       "      <td>139.0</td>\n",
       "      <td>20300</td>\n",
       "      <td>Feb 9 2020</td>\n",
       "      <td>85</td>\n",
       "      <td>6.876775</td>\n",
       "    </tr>\n",
       "    <tr>\n",
       "      <th>48</th>\n",
       "      <td>https://www.youtube.com/watch?v=0iQPNSaIkrg</td>\n",
       "      <td>Cristiano Ronaldo - GOALS &amp; SKILLS - 2019/2020</td>\n",
       "      <td>https://i.ytimg.com/vi_webp/0iQPNSaIkrg/maxres...</td>\n",
       "      <td>143497</td>\n",
       "      <td>5800</td>\n",
       "      <td>62.0</td>\n",
       "      <td>436000</td>\n",
       "      <td>Feb 4 2020</td>\n",
       "      <td>90</td>\n",
       "      <td>6.412042</td>\n",
       "    </tr>\n",
       "    <tr>\n",
       "      <th>42</th>\n",
       "      <td>https://www.youtube.com/watch?v=Nh-lk4vhR0Q</td>\n",
       "      <td>Cristiano Ronaldo - CORONAVIRUS | Skills &amp; Goa...</td>\n",
       "      <td>https://i.ytimg.com/vi_webp/Nh-lk4vhR0Q/maxres...</td>\n",
       "      <td>280481</td>\n",
       "      <td>3200</td>\n",
       "      <td>257.0</td>\n",
       "      <td>46800</td>\n",
       "      <td>Mar 14 2020</td>\n",
       "      <td>51</td>\n",
       "      <td>6.285556</td>\n",
       "    </tr>\n",
       "    <tr>\n",
       "      <th>23</th>\n",
       "      <td>https://www.youtube.com/watch?v=QPs-5E9DUfU</td>\n",
       "      <td>Cristiano Ronaldo ❯ DON'T LET ME DOWN | Best S...</td>\n",
       "      <td>https://i.ytimg.com/vi_webp/QPs-5E9DUfU/maxres...</td>\n",
       "      <td>21076</td>\n",
       "      <td>1400</td>\n",
       "      <td>11.0</td>\n",
       "      <td>199000</td>\n",
       "      <td>Apr 22 2020</td>\n",
       "      <td>12</td>\n",
       "      <td>6.014780</td>\n",
       "    </tr>\n",
       "    <tr>\n",
       "      <th>54</th>\n",
       "      <td>https://www.youtube.com/watch?v=j6T0r9SXl4g</td>\n",
       "      <td>Cristiano Ronaldo 2020 ● Alan Walker - The Spe...</td>\n",
       "      <td>https://i.ytimg.com/vi_webp/j6T0r9SXl4g/maxres...</td>\n",
       "      <td>113610</td>\n",
       "      <td>4300</td>\n",
       "      <td>58.0</td>\n",
       "      <td>742000</td>\n",
       "      <td>Dec 7 2019</td>\n",
       "      <td>149</td>\n",
       "      <td>5.931964</td>\n",
       "    </tr>\n",
       "    <tr>\n",
       "      <th>39</th>\n",
       "      <td>https://www.youtube.com/watch?v=ORj4q-LSkwU</td>\n",
       "      <td>Lionel Messi vs Cristiano Ronaldo ● Skills &amp; G...</td>\n",
       "      <td>https://i.ytimg.com/vi_webp/ORj4q-LSkwU/maxres...</td>\n",
       "      <td>184196</td>\n",
       "      <td>2700</td>\n",
       "      <td>138.0</td>\n",
       "      <td>594000</td>\n",
       "      <td>Feb 27 2020</td>\n",
       "      <td>67</td>\n",
       "      <td>5.928621</td>\n",
       "    </tr>\n",
       "    <tr>\n",
       "      <th>50</th>\n",
       "      <td>https://www.youtube.com/watch?v=SVdOcU458Wo</td>\n",
       "      <td>Cristiano Ronaldo Vs Lionel Messi Career Compa...</td>\n",
       "      <td>https://i.ytimg.com/vi_webp/SVdOcU458Wo/maxres...</td>\n",
       "      <td>444879</td>\n",
       "      <td>6500</td>\n",
       "      <td>588.0</td>\n",
       "      <td>1</td>\n",
       "      <td>Jun 14 2019</td>\n",
       "      <td>325</td>\n",
       "      <td>5.878921</td>\n",
       "    </tr>\n",
       "    <tr>\n",
       "      <th>27</th>\n",
       "      <td>https://www.youtube.com/watch?v=VpakAQkBiHA</td>\n",
       "      <td>Cristiano Ronaldo ● All 700 Goals in Career ● ...</td>\n",
       "      <td>https://i1.ytimg.com/vi/VpakAQkBiHA/hqdefault.jpg</td>\n",
       "      <td>166879</td>\n",
       "      <td>2500</td>\n",
       "      <td>49.0</td>\n",
       "      <td>11200</td>\n",
       "      <td>Oct 14 2019</td>\n",
       "      <td>203</td>\n",
       "      <td>5.860589</td>\n",
       "    </tr>\n",
       "    <tr>\n",
       "      <th>47</th>\n",
       "      <td>https://www.youtube.com/watch?v=3IjisgSo3sI</td>\n",
       "      <td>Cristiano Ronaldo - All 33 Goals &amp; Assists So ...</td>\n",
       "      <td>https://i.ytimg.com/vi/3IjisgSo3sI/maxresdefau...</td>\n",
       "      <td>117317</td>\n",
       "      <td>2700</td>\n",
       "      <td>62.0</td>\n",
       "      <td>111000</td>\n",
       "      <td>Jan 28 2020</td>\n",
       "      <td>97</td>\n",
       "      <td>5.788464</td>\n",
       "    </tr>\n",
       "    <tr>\n",
       "      <th>28</th>\n",
       "      <td>https://www.youtube.com/watch?v=FjZREFeJ3X8</td>\n",
       "      <td>Lionel Messi vs Cristiano Ronaldo ● Top 10 Goa...</td>\n",
       "      <td>https://i.ytimg.com/vi_webp/FjZREFeJ3X8/maxres...</td>\n",
       "      <td>269826</td>\n",
       "      <td>2500</td>\n",
       "      <td>175.0</td>\n",
       "      <td>4200</td>\n",
       "      <td>Jun 6 2017</td>\n",
       "      <td>1063</td>\n",
       "      <td>5.612261</td>\n",
       "    </tr>\n",
       "    <tr>\n",
       "      <th>26</th>\n",
       "      <td>https://www.youtube.com/watch?v=r7Kub7V46A8</td>\n",
       "      <td>Cristiano Ronaldo Top 33 Mind-blowing Penalty ...</td>\n",
       "      <td>https://i.ytimg.com/vi_webp/r7Kub7V46A8/maxres...</td>\n",
       "      <td>205581</td>\n",
       "      <td>1800</td>\n",
       "      <td>128.0</td>\n",
       "      <td>537000</td>\n",
       "      <td>Jan 8 2018</td>\n",
       "      <td>847</td>\n",
       "      <td>5.419693</td>\n",
       "    </tr>\n",
       "    <tr>\n",
       "      <th>7</th>\n",
       "      <td>https://www.youtube.com/watch?v=pyu1qknWTBI</td>\n",
       "      <td>Cristiano Ronaldo All 25 Goals in The Season 2...</td>\n",
       "      <td>https://i.ytimg.com/vi/pyu1qknWTBI/maxresdefau...</td>\n",
       "      <td>27051</td>\n",
       "      <td>692</td>\n",
       "      <td>14.0</td>\n",
       "      <td>46800</td>\n",
       "      <td>Apr 5 2020</td>\n",
       "      <td>29</td>\n",
       "      <td>5.379898</td>\n",
       "    </tr>\n",
       "    <tr>\n",
       "      <th>57</th>\n",
       "      <td>https://www.youtube.com/watch?v=yAW7YRTmK1E</td>\n",
       "      <td>PES 2020 - Cristiano Ronaldo Goals &amp; Skills Co...</td>\n",
       "      <td>https://i.ytimg.com/vi_webp/kkXK_oZIKsg/maxres...</td>\n",
       "      <td>39355</td>\n",
       "      <td>1200</td>\n",
       "      <td>17.0</td>\n",
       "      <td>118000</td>\n",
       "      <td>Jan 16 2020</td>\n",
       "      <td>109</td>\n",
       "      <td>5.373896</td>\n",
       "    </tr>\n",
       "    <tr>\n",
       "      <th>12</th>\n",
       "      <td>https://www.youtube.com/watch?v=iK7QGGJ-cKU</td>\n",
       "      <td>Cristiano Ronaldo ► One And Only ► Grazy Skill...</td>\n",
       "      <td>https://i.ytimg.com/vi/iK7QGGJ-cKU/maxresdefau...</td>\n",
       "      <td>17465</td>\n",
       "      <td>1000</td>\n",
       "      <td>19.0</td>\n",
       "      <td>59000</td>\n",
       "      <td>Mar 30 2020</td>\n",
       "      <td>35</td>\n",
       "      <td>5.355564</td>\n",
       "    </tr>\n",
       "    <tr>\n",
       "      <th>22</th>\n",
       "      <td>https://www.youtube.com/watch?v=a-1bdLEjwbg</td>\n",
       "      <td>Ronaldo Fenomeno • All 104 Goals For Real Madr...</td>\n",
       "      <td>https://i1.ytimg.com/vi/a-1bdLEjwbg/hqdefault.jpg</td>\n",
       "      <td>7051</td>\n",
       "      <td>118</td>\n",
       "      <td>0.0</td>\n",
       "      <td>45800</td>\n",
       "      <td>Mar 26 2020</td>\n",
       "      <td>39</td>\n",
       "      <td>5.225356</td>\n",
       "    </tr>\n",
       "    <tr>\n",
       "      <th>40</th>\n",
       "      <td>https://www.youtube.com/watch?v=ap5eEKQ0EnY</td>\n",
       "      <td>Cristiano Ronaldo - Fight Back 2020 • Skills &amp;...</td>\n",
       "      <td>https://i.ytimg.com/vi_webp/ap5eEKQ0EnY/maxres...</td>\n",
       "      <td>2958</td>\n",
       "      <td>228</td>\n",
       "      <td>3.0</td>\n",
       "      <td>14900</td>\n",
       "      <td>Mar 30 2020</td>\n",
       "      <td>35</td>\n",
       "      <td>5.156354</td>\n",
       "    </tr>\n",
       "  </tbody>\n",
       "</table>\n",
       "</div>"
      ],
      "text/plain": [
       "                                           Link  \\\n",
       "51  https://www.youtube.com/watch?v=5hFd6zGkxLE   \n",
       "2   https://www.youtube.com/watch?v=pUQErA2SxPU   \n",
       "1   https://www.youtube.com/watch?v=2sJKHj2YVHc   \n",
       "36  https://www.youtube.com/watch?v=8Us1zQkI8Ow   \n",
       "5   https://www.youtube.com/watch?v=5twveLmWhvI   \n",
       "14  https://www.youtube.com/watch?v=dbp91G9EA8U   \n",
       "15  https://www.youtube.com/watch?v=WvqUCSw01Cw   \n",
       "32  https://www.youtube.com/watch?v=EH6p_9wXq1M   \n",
       "38  https://www.youtube.com/watch?v=X3fBQSIdhyE   \n",
       "6   https://www.youtube.com/watch?v=AnsBxRCRzYY   \n",
       "0   https://www.youtube.com/watch?v=vUyXa1SOeXQ   \n",
       "52  https://www.youtube.com/watch?v=6Djg6XRyNGQ   \n",
       "19  https://www.youtube.com/watch?v=t9yqsxvtT-Y   \n",
       "20  https://www.youtube.com/watch?v=AunImole9HI   \n",
       "9   https://www.youtube.com/watch?v=de4SZdfryYE   \n",
       "13  https://www.youtube.com/watch?v=CtYQZ8K67Do   \n",
       "4   https://www.youtube.com/watch?v=aWlbZw4I1jo   \n",
       "46  https://www.youtube.com/watch?v=xYGK6lxqAqI   \n",
       "17  https://www.youtube.com/watch?v=sSgamVx9Rl4   \n",
       "56  https://www.youtube.com/watch?v=Dixu0lYfMkQ   \n",
       "21  https://www.youtube.com/watch?v=COpah0NLt24   \n",
       "25  https://www.youtube.com/watch?v=RmBTG6rdVtw   \n",
       "3   https://www.youtube.com/watch?v=2GSF9N15P2o   \n",
       "37  https://www.youtube.com/watch?v=GQUgjKcTZ0Q   \n",
       "44  https://www.youtube.com/watch?v=ZXaSa2vEtF8   \n",
       "45  https://www.youtube.com/watch?v=mKt16yEhBRw   \n",
       "53  https://www.youtube.com/watch?v=mjoL8jOsZEQ   \n",
       "34  https://www.youtube.com/watch?v=yEDfhDfjanw   \n",
       "41  https://www.youtube.com/watch?v=N40-6OhBUAs   \n",
       "16  https://www.youtube.com/watch?v=-8MT7MYqHgc   \n",
       "18  https://www.youtube.com/watch?v=yfWs-f0Ku2A   \n",
       "35  https://www.youtube.com/watch?v=AiJGpH6WoEQ   \n",
       "33  https://www.youtube.com/watch?v=ZC_XihZGPEg   \n",
       "49  https://www.youtube.com/watch?v=NWFZd0DkwOY   \n",
       "24  https://www.youtube.com/watch?v=zQwPlSFfFMk   \n",
       "11  https://www.youtube.com/watch?v=-RiOqcefvcI   \n",
       "30  https://www.youtube.com/watch?v=5D7qrxyoVa0   \n",
       "10  https://www.youtube.com/watch?v=vl6mi2k5Pcc   \n",
       "8   https://www.youtube.com/watch?v=h84CyqHNBCE   \n",
       "29  https://www.youtube.com/watch?v=HJCSusNKyc4   \n",
       "31  https://www.youtube.com/watch?v=PHYh-uyqzV4   \n",
       "43  https://www.youtube.com/watch?v=fS80e1M_R2A   \n",
       "55  https://www.youtube.com/watch?v=_Cdg66y-m1E   \n",
       "48  https://www.youtube.com/watch?v=0iQPNSaIkrg   \n",
       "42  https://www.youtube.com/watch?v=Nh-lk4vhR0Q   \n",
       "23  https://www.youtube.com/watch?v=QPs-5E9DUfU   \n",
       "54  https://www.youtube.com/watch?v=j6T0r9SXl4g   \n",
       "39  https://www.youtube.com/watch?v=ORj4q-LSkwU   \n",
       "50  https://www.youtube.com/watch?v=SVdOcU458Wo   \n",
       "27  https://www.youtube.com/watch?v=VpakAQkBiHA   \n",
       "47  https://www.youtube.com/watch?v=3IjisgSo3sI   \n",
       "28  https://www.youtube.com/watch?v=FjZREFeJ3X8   \n",
       "26  https://www.youtube.com/watch?v=r7Kub7V46A8   \n",
       "7   https://www.youtube.com/watch?v=pyu1qknWTBI   \n",
       "57  https://www.youtube.com/watch?v=yAW7YRTmK1E   \n",
       "12  https://www.youtube.com/watch?v=iK7QGGJ-cKU   \n",
       "22  https://www.youtube.com/watch?v=a-1bdLEjwbg   \n",
       "40  https://www.youtube.com/watch?v=ap5eEKQ0EnY   \n",
       "\n",
       "                                                Title  \\\n",
       "51  THANK YOU, CRISTIANO RONALDO | Real Madrid Off...   \n",
       "2   Lionel Messi vs Cristiano Ronaldo Best Goals Ever   \n",
       "1   Cristiano Ronaldo ● Top 10 Unimaginable Goals ...   \n",
       "36  New Football Talent: Cristiano Ronaldo JR. (Fo...   \n",
       "5   10 Impossible Goals Scored By Lionel Messi Tha...   \n",
       "14  Cristiano Ronaldo - Taki Taki | Juventus | Ski...   \n",
       "15  Cristiano Ronaldo UCL Goals That Shocked The W...   \n",
       "32  Cristiano Ronaldo - Taki Taki | Skills & Goals...   \n",
       "38  Cristiano Ronaldo's Dramatic Last Minute Goal!...   \n",
       "6   Ronaldo Phenomenon Top 15 Crazy Goals \\ Top 15...   \n",
       "0   Top 20 Cristiano Ronaldo Goals That Shocked Th...   \n",
       "52  Epic Reactions on Cristiano Ronaldo Skills & G...   \n",
       "19        20 Unforgettable Goals by Cristiano Ronaldo   \n",
       "20  Ronaldo Scores Insane Goal With Giant Leap! | ...   \n",
       "9                  Cristiano Ronaldo Impossible Goals   \n",
       "13  Cristiano Ronaldo - Believer 2019 | Skills & G...   \n",
       "4                 Cristiano Ronaldo All 39 Goals 2019   \n",
       "46    TOP 10 Goals Cristiano Ronaldo LaLiga Santander   \n",
       "17  TOP 25 GOALS Cristiano Ronaldo in LaLiga Santa...   \n",
       "56  Cristiano Ronaldo • First 25 Goals for Juventu...   \n",
       "21  Cristiano Ronaldo | All Premier League Goals |...   \n",
       "25  20 Free Kick Goals Only Cristiano Ronaldo Can ...   \n",
       "3   10 Greatest Cristiano Ronaldo Goals Of All Time 🔥   \n",
       "37  Heartbreaking & Craziest Reactions on Cristian...   \n",
       "44  Ronaldo's Top 10 Goals In The League | Throwba...   \n",
       "45  EVERY SINGLE Cristiano Ronaldo Juventus Goal! ...   \n",
       "53  Cristiano Ronaldo - Despacito | Juventus | Ski...   \n",
       "34  Cristiano Ronaldo All 28 Goals for Juventus 20...   \n",
       "41  Cristiano Ronaldo ● Believer ft.Imagine Dragon...   \n",
       "16            Cristiano Ronaldo Goals You Love To See   \n",
       "18  Cristiano Ronaldo - All 62 Free-Kick Goals In ...   \n",
       "35  Cristiano Ronaldo ● Monster ► Manchester Unite...   \n",
       "33  Cristiano Ronaldo - Juventus vs Real Madrid - ...   \n",
       "49  Cristiano Ronaldo • Hall of Fame • Skills & Go...   \n",
       "24   Ronaldo (Barcelona) - La Liga 1996/97 - 34 goals   \n",
       "11     Cristiano Ronaldo 2020 ● Skills & Goals 🇵🇹⚪️⚫️   \n",
       "30           RONALDO | All of his 59 Inter goals 🇧🇷🖤💙   \n",
       "10  5 Goals Cristiano Ronaldo Scored with Worst He...   \n",
       "8   Cristiano Ronaldo All 450 Goals- Real Madrid w...   \n",
       "29  Cristiano Ronaldo vs Lionel Messi • Top 40 Goa...   \n",
       "31  Cristiano Ronaldo ALL 60 GOALS & ASSISTS FOR J...   \n",
       "43  Cristiano Ronaldo 22 ICONIC Goal Celebrations ...   \n",
       "55  CRISTIANO RONALDO Record Breaking • All Goals ...   \n",
       "48     Cristiano Ronaldo - GOALS & SKILLS - 2019/2020   \n",
       "42  Cristiano Ronaldo - CORONAVIRUS | Skills & Goa...   \n",
       "23  Cristiano Ronaldo ❯ DON'T LET ME DOWN | Best S...   \n",
       "54  Cristiano Ronaldo 2020 ● Alan Walker - The Spe...   \n",
       "39  Lionel Messi vs Cristiano Ronaldo ● Skills & G...   \n",
       "50  Cristiano Ronaldo Vs Lionel Messi Career Compa...   \n",
       "27  Cristiano Ronaldo ● All 700 Goals in Career ● ...   \n",
       "47  Cristiano Ronaldo - All 33 Goals & Assists So ...   \n",
       "28  Lionel Messi vs Cristiano Ronaldo ● Top 10 Goa...   \n",
       "26  Cristiano Ronaldo Top 33 Mind-blowing Penalty ...   \n",
       "7   Cristiano Ronaldo All 25 Goals in The Season 2...   \n",
       "57  PES 2020 - Cristiano Ronaldo Goals & Skills Co...   \n",
       "12  Cristiano Ronaldo ► One And Only ► Grazy Skill...   \n",
       "22  Ronaldo Fenomeno • All 104 Goals For Real Madr...   \n",
       "40  Cristiano Ronaldo - Fight Back 2020 • Skills &...   \n",
       "\n",
       "                                                  URL     Views    Likes  \\\n",
       "51  https://i.ytimg.com/vi_webp/5hFd6zGkxLE/maxres...  31751603  1.6e+06   \n",
       "2   https://i.ytimg.com/vi_webp/pUQErA2SxPU/maxres...    486319    17000   \n",
       "1   https://i.ytimg.com/vi_webp/2sJKHj2YVHc/maxres...  20506128   107000   \n",
       "36  https://i.ytimg.com/vi_webp/8Us1zQkI8Ow/maxres...  19925259   114000   \n",
       "5   https://i.ytimg.com/vi_webp/kgDkGClJAwc/maxres...  19417690   249000   \n",
       "14  https://i.ytimg.com/vi_webp/dbp91G9EA8U/maxres...  15856413   120000   \n",
       "15  https://i.ytimg.com/vi_webp/WvqUCSw01Cw/maxres...  15505635   145000   \n",
       "32  https://i.ytimg.com/vi_webp/EH6p_9wXq1M/maxres...  12884037   125000   \n",
       "38  https://i.ytimg.com/vi_webp/F5cPdjZTeHo/maxres...  11887785    87000   \n",
       "6   https://i.ytimg.com/vi_webp/F5cPdjZTeHo/maxres...  12836804    56000   \n",
       "0   https://i.ytimg.com/vi_webp/DXyHcDZwNxs/maxres...  11986434    75000   \n",
       "52  https://i.ytimg.com/vi/6Djg6XRyNGQ/maxresdefau...   5052327    85000   \n",
       "19  https://i.ytimg.com/vi_webp/t9yqsxvtT-Y/maxres...  10083276   103000   \n",
       "20  https://i.ytimg.com/vi_webp/n6m4xyXYDP4/maxres...   6508063   108000   \n",
       "9   https://i.ytimg.com/vi_webp/de4SZdfryYE/maxres...   7282435    54000   \n",
       "13  https://i.ytimg.com/vi_webp/CtYQZ8K67Do/maxres...   6346676    71000   \n",
       "4   https://i.ytimg.com/vi_webp/aWlbZw4I1jo/maxres...   5380042    53000   \n",
       "46  https://i.ytimg.com/vi_webp/lEzZ7HzmxTM/maxres...   2711280    83000   \n",
       "17  https://i.ytimg.com/vi_webp/lEzZ7HzmxTM/maxres...    992586    31000   \n",
       "56  https://i1.ytimg.com/vi/Dixu0lYfMkQ/hqdefault.jpg   5833968    35000   \n",
       "21  https://i1.ytimg.com/vi/COpah0NLt24/hqdefault.jpg   5251643    47000   \n",
       "25  https://i.ytimg.com/vi_webp/RmBTG6rdVtw/maxres...   4573393    30000   \n",
       "3   https://i1.ytimg.com/vi/2GSF9N15P2o/hqdefault.jpg   3307861    32000   \n",
       "37  https://i.ytimg.com/vi_webp/qwraf_rhzIU/maxres...   2733791    31000   \n",
       "44  https://i.ytimg.com/vi_webp/lEzZ7HzmxTM/maxres...   3022648    25000   \n",
       "45  https://i.ytimg.com/vi_webp/mKt16yEhBRw/maxres...   1545147    36000   \n",
       "53  https://i.ytimg.com/vi_webp/dZI4270Tolo/maxres...   2713967    33000   \n",
       "34  https://i.ytimg.com/vi_webp/yEDfhDfjanw/maxres...   2593060    28000   \n",
       "41  https://i1.ytimg.com/vi/N40-6OhBUAs/hqdefault.jpg   1757893    17000   \n",
       "16  https://i.ytimg.com/vi_webp/-8MT7MYqHgc/maxres...    375698     6700   \n",
       "18  https://i.ytimg.com/vi_webp/yfWs-f0Ku2A/maxres...   1286219    23000   \n",
       "35  https://i.ytimg.com/vi_webp/AiJGpH6WoEQ/maxres...    804535    19000   \n",
       "33  https://i1.ytimg.com/vi/ZC_XihZGPEg/hqdefault.jpg   1300246     8300   \n",
       "49  https://i.ytimg.com/vi_webp/NWFZd0DkwOY/maxres...   1032138    13000   \n",
       "24  https://i1.ytimg.com/vi/zQwPlSFfFMk/hqdefault.jpg   1139474     9200   \n",
       "11  https://i.ytimg.com/vi_webp/-RiOqcefvcI/maxres...    744611    12000   \n",
       "30  https://i.ytimg.com/vi_webp/5D7qrxyoVa0/maxres...    893069     8700   \n",
       "10  https://i.ytimg.com/vi_webp/vl6mi2k5Pcc/maxres...    907360     7700   \n",
       "8   https://i1.ytimg.com/vi/h84CyqHNBCE/hqdefault.jpg    654797     9500   \n",
       "29  https://i.ytimg.com/vi_webp/HJCSusNKyc4/maxres...    490642    10000   \n",
       "31  https://i.ytimg.com/vi_webp/PHYh-uyqzV4/maxres...    439829     6300   \n",
       "43  https://i.ytimg.com/vi_webp/fS80e1M_R2A/maxres...    338904     5700   \n",
       "55  https://i.ytimg.com/vi_webp/F5cPdjZTeHo/maxres...    335018     4700   \n",
       "48  https://i.ytimg.com/vi_webp/0iQPNSaIkrg/maxres...    143497     5800   \n",
       "42  https://i.ytimg.com/vi_webp/Nh-lk4vhR0Q/maxres...    280481     3200   \n",
       "23  https://i.ytimg.com/vi_webp/QPs-5E9DUfU/maxres...     21076     1400   \n",
       "54  https://i.ytimg.com/vi_webp/j6T0r9SXl4g/maxres...    113610     4300   \n",
       "39  https://i.ytimg.com/vi_webp/ORj4q-LSkwU/maxres...    184196     2700   \n",
       "50  https://i.ytimg.com/vi_webp/SVdOcU458Wo/maxres...    444879     6500   \n",
       "27  https://i1.ytimg.com/vi/VpakAQkBiHA/hqdefault.jpg    166879     2500   \n",
       "47  https://i.ytimg.com/vi/3IjisgSo3sI/maxresdefau...    117317     2700   \n",
       "28  https://i.ytimg.com/vi_webp/FjZREFeJ3X8/maxres...    269826     2500   \n",
       "26  https://i.ytimg.com/vi_webp/r7Kub7V46A8/maxres...    205581     1800   \n",
       "7   https://i.ytimg.com/vi/pyu1qknWTBI/maxresdefau...     27051      692   \n",
       "57  https://i.ytimg.com/vi_webp/kkXK_oZIKsg/maxres...     39355     1200   \n",
       "12  https://i.ytimg.com/vi/iK7QGGJ-cKU/maxresdefau...     17465     1000   \n",
       "22  https://i1.ytimg.com/vi/a-1bdLEjwbg/hqdefault.jpg      7051      118   \n",
       "40  https://i.ytimg.com/vi_webp/ap5eEKQ0EnY/maxres...      2958      228   \n",
       "\n",
       "    Dislikes  Subcount         Date  Days       Score  \n",
       "51   42000.0  5.63e+06  Jul 10 2018   664  186.106030  \n",
       "2      318.0  3.54e+06   May 3 2020     1  134.602241  \n",
       "1     6400.0  3.45e+06   Sep 1 2016  1341   70.720480  \n",
       "36    7300.0         1  Oct 27 2018   555   70.357156  \n",
       "5    16000.0    441000   Nov 9 2017   907   64.007535  \n",
       "14    9000.0  1.12e+06  Dec 19 2018   502   54.485418  \n",
       "15   11000.0    272000  Jan 15 2019   475   52.402141  \n",
       "32    6900.0    247000  Oct 30 2018   552   48.264550  \n",
       "38    5600.0         1  Sep 27 2019   220   47.691268  \n",
       "6     4100.0   1.5e+06   Aug 6 2018   637   46.079896  \n",
       "0     4300.0    272000   Jan 1 2019   489   45.401512  \n",
       "52    2600.0    803000  Mar 20 2020    45   43.470911  \n",
       "19    7700.0  1.93e+06  Oct 18 2019   199   39.793926  \n",
       "20    2300.0  4.32e+06  Dec 18 2019   138   39.336094  \n",
       "9     2600.0  1.21e+06   Oct 9 2019   208   32.938073  \n",
       "13    2800.0    742000  Dec 21 2018   500   28.432749  \n",
       "4     2600.0  3.45e+06  Dec 24 2019   132   27.927958  \n",
       "46    1500.0  5.41e+06  Feb 24 2020    70   27.551550  \n",
       "17     527.0  5.41e+06  Apr 20 2020    14   27.236854  \n",
       "56    1900.0     45800  Mar 15 2019   416   25.058139  \n",
       "21    1800.0   2.8e+06  May 26 2018   709   23.759042  \n",
       "25    2000.0  3.45e+06  Dec 14 2018   507   19.747113  \n",
       "3     1600.0  3.45e+06  Jul 28 2018   646   16.211954  \n",
       "37     873.0    803000  Mar 18 2019   413   15.917244  \n",
       "44    1000.0  4.32e+06   Sep 7 2018   605   15.744296  \n",
       "45     574.0   2.6e+06   Feb 3 2020    91   15.597655  \n",
       "53    1200.0    168000  Sep 28 2018   584   15.139016  \n",
       "34    1000.0  3.45e+06  May 26 2019   344   15.063491  \n",
       "41     709.0     11000  Dec 30 2017   856   11.108881  \n",
       "16     183.0  3.45e+06  Apr 19 2020    15   10.951641  \n",
       "18     612.0    634000  Jun 14 2019   325   10.765566  \n",
       "35     218.0         1   Jan 1 2020   124   10.269531  \n",
       "33     247.0     15500   Apr 3 2018   762    9.685906  \n",
       "49     285.0    742000  May 20 2018   715    9.205256  \n",
       "24     281.0     57000  Dec 27 2015  1590    9.064428  \n",
       "11     399.0    594000  Jan 11 2020   114    8.825932  \n",
       "30     182.0    614000  Aug 23 2018   620    8.556033  \n",
       "10     459.0  1.12e+06   Mar 6 2019   425    7.918330  \n",
       "8      187.0     45800  Jul 12 2018   662    7.812927  \n",
       "29     283.0     73300  Dec 31 2019   125    7.702238  \n",
       "31     190.0     73300  Jan 24 2020   101    7.331121  \n",
       "43     139.0    537000  Feb 28 2020    66    7.261318  \n",
       "55     139.0     20300   Feb 9 2020    85    6.876775  \n",
       "48      62.0    436000   Feb 4 2020    90    6.412042  \n",
       "42     257.0     46800  Mar 14 2020    51    6.285556  \n",
       "23      11.0    199000  Apr 22 2020    12    6.014780  \n",
       "54      58.0    742000   Dec 7 2019   149    5.931964  \n",
       "39     138.0    594000  Feb 27 2020    67    5.928621  \n",
       "50     588.0         1  Jun 14 2019   325    5.878921  \n",
       "27      49.0     11200  Oct 14 2019   203    5.860589  \n",
       "47      62.0    111000  Jan 28 2020    97    5.788464  \n",
       "28     175.0      4200   Jun 6 2017  1063    5.612261  \n",
       "26     128.0    537000   Jan 8 2018   847    5.419693  \n",
       "7       14.0     46800   Apr 5 2020    29    5.379898  \n",
       "57      17.0    118000  Jan 16 2020   109    5.373896  \n",
       "12      19.0     59000  Mar 30 2020    35    5.355564  \n",
       "22       0.0     45800  Mar 26 2020    39    5.225356  \n",
       "40       3.0     14900  Mar 30 2020    35    5.156354  "
      ]
     },
     "execution_count": 44,
     "metadata": {},
     "output_type": "execute_result"
    }
   ],
   "source": [
    "df1.sort_values(by='Score',ascending=0)"
   ]
  },
  {
   "cell_type": "code",
   "execution_count": 13,
   "metadata": {
    "scrolled": false
   },
   "outputs": [
    {
     "data": {
      "application/vnd.plotly.v1+json": {
       "config": {
        "plotlyServerURL": "https://plot.ly"
       },
       "data": [
        {
         "marker": {
          "color": [
           "crimson",
           "crimson",
           "crimson",
           "crimson",
           "crimson",
           "green",
           "crimson",
           "crimson",
           "crimson",
           "crimson",
           "crimson",
           "crimson",
           "crimson",
           "crimson",
           "green",
           "crimson",
           "crimson",
           "crimson",
           "crimson",
           "green",
           "green",
           "crimson",
           "crimson",
           "crimson",
           "crimson",
           "crimson",
           "crimson",
           "crimson",
           "crimson",
           "crimson",
           "crimson",
           "crimson",
           "crimson",
           "crimson",
           "green",
           "crimson",
           "crimson",
           "crimson",
           "crimson",
           "crimson",
           "crimson",
           "crimson",
           "crimson",
           "crimson",
           "crimson",
           "crimson",
           "crimson",
           "crimson",
           "crimson",
           "crimson",
           "crimson",
           "crimson",
           "crimson",
           "crimson",
           "crimson",
           "crimson"
          ]
         },
         "type": "bar",
         "x": [
          0,
          1,
          2,
          3,
          4,
          5,
          6,
          7,
          8,
          9,
          10,
          11,
          12,
          13,
          14,
          15,
          16,
          17,
          18,
          19,
          20,
          21,
          22,
          23,
          24,
          25,
          26,
          27,
          28,
          29,
          30,
          31,
          32,
          33,
          34,
          35,
          36,
          37,
          38,
          39,
          40,
          41,
          42,
          43,
          44,
          45,
          46,
          47,
          48,
          49,
          50,
          51,
          52,
          53,
          54,
          55
         ],
         "y": [
          75000,
          107000,
          32000,
          56000,
          53000,
          249000,
          19000,
          694,
          9600,
          54000,
          31000,
          12000,
          1000,
          6300,
          145000,
          47000,
          7700,
          108000,
          71000,
          120000,
          125000,
          9200,
          2500,
          119,
          23000,
          103000,
          11000,
          2500,
          32000,
          6700,
          30000,
          28000,
          10000,
          19000,
          114000,
          33000,
          228,
          36000,
          5700,
          8700,
          11000,
          83000,
          2700,
          87000,
          6500,
          13000,
          31000,
          2700,
          35000,
          4300,
          25000,
          44000,
          4700,
          1200,
          27000,
          47000
         ]
        }
       ],
       "layout": {
        "template": {
         "data": {
          "bar": [
           {
            "error_x": {
             "color": "#2a3f5f"
            },
            "error_y": {
             "color": "#2a3f5f"
            },
            "marker": {
             "line": {
              "color": "#E5ECF6",
              "width": 0.5
             }
            },
            "type": "bar"
           }
          ],
          "barpolar": [
           {
            "marker": {
             "line": {
              "color": "#E5ECF6",
              "width": 0.5
             }
            },
            "type": "barpolar"
           }
          ],
          "carpet": [
           {
            "aaxis": {
             "endlinecolor": "#2a3f5f",
             "gridcolor": "white",
             "linecolor": "white",
             "minorgridcolor": "white",
             "startlinecolor": "#2a3f5f"
            },
            "baxis": {
             "endlinecolor": "#2a3f5f",
             "gridcolor": "white",
             "linecolor": "white",
             "minorgridcolor": "white",
             "startlinecolor": "#2a3f5f"
            },
            "type": "carpet"
           }
          ],
          "choropleth": [
           {
            "colorbar": {
             "outlinewidth": 0,
             "ticks": ""
            },
            "type": "choropleth"
           }
          ],
          "contour": [
           {
            "colorbar": {
             "outlinewidth": 0,
             "ticks": ""
            },
            "colorscale": [
             [
              0,
              "#0d0887"
             ],
             [
              0.1111111111111111,
              "#46039f"
             ],
             [
              0.2222222222222222,
              "#7201a8"
             ],
             [
              0.3333333333333333,
              "#9c179e"
             ],
             [
              0.4444444444444444,
              "#bd3786"
             ],
             [
              0.5555555555555556,
              "#d8576b"
             ],
             [
              0.6666666666666666,
              "#ed7953"
             ],
             [
              0.7777777777777778,
              "#fb9f3a"
             ],
             [
              0.8888888888888888,
              "#fdca26"
             ],
             [
              1,
              "#f0f921"
             ]
            ],
            "type": "contour"
           }
          ],
          "contourcarpet": [
           {
            "colorbar": {
             "outlinewidth": 0,
             "ticks": ""
            },
            "type": "contourcarpet"
           }
          ],
          "heatmap": [
           {
            "colorbar": {
             "outlinewidth": 0,
             "ticks": ""
            },
            "colorscale": [
             [
              0,
              "#0d0887"
             ],
             [
              0.1111111111111111,
              "#46039f"
             ],
             [
              0.2222222222222222,
              "#7201a8"
             ],
             [
              0.3333333333333333,
              "#9c179e"
             ],
             [
              0.4444444444444444,
              "#bd3786"
             ],
             [
              0.5555555555555556,
              "#d8576b"
             ],
             [
              0.6666666666666666,
              "#ed7953"
             ],
             [
              0.7777777777777778,
              "#fb9f3a"
             ],
             [
              0.8888888888888888,
              "#fdca26"
             ],
             [
              1,
              "#f0f921"
             ]
            ],
            "type": "heatmap"
           }
          ],
          "heatmapgl": [
           {
            "colorbar": {
             "outlinewidth": 0,
             "ticks": ""
            },
            "colorscale": [
             [
              0,
              "#0d0887"
             ],
             [
              0.1111111111111111,
              "#46039f"
             ],
             [
              0.2222222222222222,
              "#7201a8"
             ],
             [
              0.3333333333333333,
              "#9c179e"
             ],
             [
              0.4444444444444444,
              "#bd3786"
             ],
             [
              0.5555555555555556,
              "#d8576b"
             ],
             [
              0.6666666666666666,
              "#ed7953"
             ],
             [
              0.7777777777777778,
              "#fb9f3a"
             ],
             [
              0.8888888888888888,
              "#fdca26"
             ],
             [
              1,
              "#f0f921"
             ]
            ],
            "type": "heatmapgl"
           }
          ],
          "histogram": [
           {
            "marker": {
             "colorbar": {
              "outlinewidth": 0,
              "ticks": ""
             }
            },
            "type": "histogram"
           }
          ],
          "histogram2d": [
           {
            "colorbar": {
             "outlinewidth": 0,
             "ticks": ""
            },
            "colorscale": [
             [
              0,
              "#0d0887"
             ],
             [
              0.1111111111111111,
              "#46039f"
             ],
             [
              0.2222222222222222,
              "#7201a8"
             ],
             [
              0.3333333333333333,
              "#9c179e"
             ],
             [
              0.4444444444444444,
              "#bd3786"
             ],
             [
              0.5555555555555556,
              "#d8576b"
             ],
             [
              0.6666666666666666,
              "#ed7953"
             ],
             [
              0.7777777777777778,
              "#fb9f3a"
             ],
             [
              0.8888888888888888,
              "#fdca26"
             ],
             [
              1,
              "#f0f921"
             ]
            ],
            "type": "histogram2d"
           }
          ],
          "histogram2dcontour": [
           {
            "colorbar": {
             "outlinewidth": 0,
             "ticks": ""
            },
            "colorscale": [
             [
              0,
              "#0d0887"
             ],
             [
              0.1111111111111111,
              "#46039f"
             ],
             [
              0.2222222222222222,
              "#7201a8"
             ],
             [
              0.3333333333333333,
              "#9c179e"
             ],
             [
              0.4444444444444444,
              "#bd3786"
             ],
             [
              0.5555555555555556,
              "#d8576b"
             ],
             [
              0.6666666666666666,
              "#ed7953"
             ],
             [
              0.7777777777777778,
              "#fb9f3a"
             ],
             [
              0.8888888888888888,
              "#fdca26"
             ],
             [
              1,
              "#f0f921"
             ]
            ],
            "type": "histogram2dcontour"
           }
          ],
          "mesh3d": [
           {
            "colorbar": {
             "outlinewidth": 0,
             "ticks": ""
            },
            "type": "mesh3d"
           }
          ],
          "parcoords": [
           {
            "line": {
             "colorbar": {
              "outlinewidth": 0,
              "ticks": ""
             }
            },
            "type": "parcoords"
           }
          ],
          "pie": [
           {
            "automargin": true,
            "type": "pie"
           }
          ],
          "scatter": [
           {
            "marker": {
             "colorbar": {
              "outlinewidth": 0,
              "ticks": ""
             }
            },
            "type": "scatter"
           }
          ],
          "scatter3d": [
           {
            "line": {
             "colorbar": {
              "outlinewidth": 0,
              "ticks": ""
             }
            },
            "marker": {
             "colorbar": {
              "outlinewidth": 0,
              "ticks": ""
             }
            },
            "type": "scatter3d"
           }
          ],
          "scattercarpet": [
           {
            "marker": {
             "colorbar": {
              "outlinewidth": 0,
              "ticks": ""
             }
            },
            "type": "scattercarpet"
           }
          ],
          "scattergeo": [
           {
            "marker": {
             "colorbar": {
              "outlinewidth": 0,
              "ticks": ""
             }
            },
            "type": "scattergeo"
           }
          ],
          "scattergl": [
           {
            "marker": {
             "colorbar": {
              "outlinewidth": 0,
              "ticks": ""
             }
            },
            "type": "scattergl"
           }
          ],
          "scattermapbox": [
           {
            "marker": {
             "colorbar": {
              "outlinewidth": 0,
              "ticks": ""
             }
            },
            "type": "scattermapbox"
           }
          ],
          "scatterpolar": [
           {
            "marker": {
             "colorbar": {
              "outlinewidth": 0,
              "ticks": ""
             }
            },
            "type": "scatterpolar"
           }
          ],
          "scatterpolargl": [
           {
            "marker": {
             "colorbar": {
              "outlinewidth": 0,
              "ticks": ""
             }
            },
            "type": "scatterpolargl"
           }
          ],
          "scatterternary": [
           {
            "marker": {
             "colorbar": {
              "outlinewidth": 0,
              "ticks": ""
             }
            },
            "type": "scatterternary"
           }
          ],
          "surface": [
           {
            "colorbar": {
             "outlinewidth": 0,
             "ticks": ""
            },
            "colorscale": [
             [
              0,
              "#0d0887"
             ],
             [
              0.1111111111111111,
              "#46039f"
             ],
             [
              0.2222222222222222,
              "#7201a8"
             ],
             [
              0.3333333333333333,
              "#9c179e"
             ],
             [
              0.4444444444444444,
              "#bd3786"
             ],
             [
              0.5555555555555556,
              "#d8576b"
             ],
             [
              0.6666666666666666,
              "#ed7953"
             ],
             [
              0.7777777777777778,
              "#fb9f3a"
             ],
             [
              0.8888888888888888,
              "#fdca26"
             ],
             [
              1,
              "#f0f921"
             ]
            ],
            "type": "surface"
           }
          ],
          "table": [
           {
            "cells": {
             "fill": {
              "color": "#EBF0F8"
             },
             "line": {
              "color": "white"
             }
            },
            "header": {
             "fill": {
              "color": "#C8D4E3"
             },
             "line": {
              "color": "white"
             }
            },
            "type": "table"
           }
          ]
         },
         "layout": {
          "annotationdefaults": {
           "arrowcolor": "#2a3f5f",
           "arrowhead": 0,
           "arrowwidth": 1
          },
          "coloraxis": {
           "colorbar": {
            "outlinewidth": 0,
            "ticks": ""
           }
          },
          "colorscale": {
           "diverging": [
            [
             0,
             "#8e0152"
            ],
            [
             0.1,
             "#c51b7d"
            ],
            [
             0.2,
             "#de77ae"
            ],
            [
             0.3,
             "#f1b6da"
            ],
            [
             0.4,
             "#fde0ef"
            ],
            [
             0.5,
             "#f7f7f7"
            ],
            [
             0.6,
             "#e6f5d0"
            ],
            [
             0.7,
             "#b8e186"
            ],
            [
             0.8,
             "#7fbc41"
            ],
            [
             0.9,
             "#4d9221"
            ],
            [
             1,
             "#276419"
            ]
           ],
           "sequential": [
            [
             0,
             "#0d0887"
            ],
            [
             0.1111111111111111,
             "#46039f"
            ],
            [
             0.2222222222222222,
             "#7201a8"
            ],
            [
             0.3333333333333333,
             "#9c179e"
            ],
            [
             0.4444444444444444,
             "#bd3786"
            ],
            [
             0.5555555555555556,
             "#d8576b"
            ],
            [
             0.6666666666666666,
             "#ed7953"
            ],
            [
             0.7777777777777778,
             "#fb9f3a"
            ],
            [
             0.8888888888888888,
             "#fdca26"
            ],
            [
             1,
             "#f0f921"
            ]
           ],
           "sequentialminus": [
            [
             0,
             "#0d0887"
            ],
            [
             0.1111111111111111,
             "#46039f"
            ],
            [
             0.2222222222222222,
             "#7201a8"
            ],
            [
             0.3333333333333333,
             "#9c179e"
            ],
            [
             0.4444444444444444,
             "#bd3786"
            ],
            [
             0.5555555555555556,
             "#d8576b"
            ],
            [
             0.6666666666666666,
             "#ed7953"
            ],
            [
             0.7777777777777778,
             "#fb9f3a"
            ],
            [
             0.8888888888888888,
             "#fdca26"
            ],
            [
             1,
             "#f0f921"
            ]
           ]
          },
          "colorway": [
           "#636efa",
           "#EF553B",
           "#00cc96",
           "#ab63fa",
           "#FFA15A",
           "#19d3f3",
           "#FF6692",
           "#B6E880",
           "#FF97FF",
           "#FECB52"
          ],
          "font": {
           "color": "#2a3f5f"
          },
          "geo": {
           "bgcolor": "white",
           "lakecolor": "white",
           "landcolor": "#E5ECF6",
           "showlakes": true,
           "showland": true,
           "subunitcolor": "white"
          },
          "hoverlabel": {
           "align": "left"
          },
          "hovermode": "closest",
          "mapbox": {
           "style": "light"
          },
          "paper_bgcolor": "white",
          "plot_bgcolor": "#E5ECF6",
          "polar": {
           "angularaxis": {
            "gridcolor": "white",
            "linecolor": "white",
            "ticks": ""
           },
           "bgcolor": "#E5ECF6",
           "radialaxis": {
            "gridcolor": "white",
            "linecolor": "white",
            "ticks": ""
           }
          },
          "scene": {
           "xaxis": {
            "backgroundcolor": "#E5ECF6",
            "gridcolor": "white",
            "gridwidth": 2,
            "linecolor": "white",
            "showbackground": true,
            "ticks": "",
            "zerolinecolor": "white"
           },
           "yaxis": {
            "backgroundcolor": "#E5ECF6",
            "gridcolor": "white",
            "gridwidth": 2,
            "linecolor": "white",
            "showbackground": true,
            "ticks": "",
            "zerolinecolor": "white"
           },
           "zaxis": {
            "backgroundcolor": "#E5ECF6",
            "gridcolor": "white",
            "gridwidth": 2,
            "linecolor": "white",
            "showbackground": true,
            "ticks": "",
            "zerolinecolor": "white"
           }
          },
          "shapedefaults": {
           "line": {
            "color": "#2a3f5f"
           }
          },
          "ternary": {
           "aaxis": {
            "gridcolor": "white",
            "linecolor": "white",
            "ticks": ""
           },
           "baxis": {
            "gridcolor": "white",
            "linecolor": "white",
            "ticks": ""
           },
           "bgcolor": "#E5ECF6",
           "caxis": {
            "gridcolor": "white",
            "linecolor": "white",
            "ticks": ""
           }
          },
          "title": {
           "x": 0.05
          },
          "xaxis": {
           "automargin": true,
           "gridcolor": "white",
           "linecolor": "white",
           "ticks": "",
           "title": {
            "standoff": 15
           },
           "zerolinecolor": "white",
           "zerolinewidth": 2
          },
          "yaxis": {
           "automargin": true,
           "gridcolor": "white",
           "linecolor": "white",
           "ticks": "",
           "title": {
            "standoff": 15
           },
           "zerolinecolor": "white",
           "zerolinewidth": 2
          }
         }
        },
        "title": {
         "text": "Likes per video"
        }
       }
      },
      "text/html": [
       "<div>\n",
       "        \n",
       "        \n",
       "            <div id=\"cbb38234-8257-404e-a681-21ea5b85f898\" class=\"plotly-graph-div\" style=\"height:525px; width:100%;\"></div>\n",
       "            <script type=\"text/javascript\">\n",
       "                require([\"plotly\"], function(Plotly) {\n",
       "                    window.PLOTLYENV=window.PLOTLYENV || {};\n",
       "                    \n",
       "                if (document.getElementById(\"cbb38234-8257-404e-a681-21ea5b85f898\")) {\n",
       "                    Plotly.newPlot(\n",
       "                        'cbb38234-8257-404e-a681-21ea5b85f898',\n",
       "                        [{\"marker\": {\"color\": [\"crimson\", \"crimson\", \"crimson\", \"crimson\", \"crimson\", \"green\", \"crimson\", \"crimson\", \"crimson\", \"crimson\", \"crimson\", \"crimson\", \"crimson\", \"crimson\", \"green\", \"crimson\", \"crimson\", \"crimson\", \"crimson\", \"green\", \"green\", \"crimson\", \"crimson\", \"crimson\", \"crimson\", \"crimson\", \"crimson\", \"crimson\", \"crimson\", \"crimson\", \"crimson\", \"crimson\", \"crimson\", \"crimson\", \"green\", \"crimson\", \"crimson\", \"crimson\", \"crimson\", \"crimson\", \"crimson\", \"crimson\", \"crimson\", \"crimson\", \"crimson\", \"crimson\", \"crimson\", \"crimson\", \"crimson\", \"crimson\", \"crimson\", \"crimson\", \"crimson\", \"crimson\", \"crimson\", \"crimson\"]}, \"type\": \"bar\", \"x\": [0, 1, 2, 3, 4, 5, 6, 7, 8, 9, 10, 11, 12, 13, 14, 15, 16, 17, 18, 19, 20, 21, 22, 23, 24, 25, 26, 27, 28, 29, 30, 31, 32, 33, 34, 35, 36, 37, 38, 39, 40, 41, 42, 43, 44, 45, 46, 47, 48, 49, 50, 51, 52, 53, 54, 55], \"y\": [75000, 107000, 32000, 56000, 53000, 249000, 19000, 694, 9600.0, 54000, 31000, 12000, 1000, 6300.0, 145000, 47000, 7700.0, 108000, 71000, 120000, 125000, 9200.0, 2500.0, 119, 23000, 103000, 11000, 2500.0, 32000, 6700.0, 30000, 28000, 10000, 19000, 114000, 33000, 228, 36000, 5700.0, 8700.0, 11000, 83000, 2700.0, 87000, 6500.0, 13000, 31000, 2700.0, 35000, 4300.0, 25000, 44000, 4700.0, 1200.0, 27000, 47000]}],\n",
       "                        {\"template\": {\"data\": {\"bar\": [{\"error_x\": {\"color\": \"#2a3f5f\"}, \"error_y\": {\"color\": \"#2a3f5f\"}, \"marker\": {\"line\": {\"color\": \"#E5ECF6\", \"width\": 0.5}}, \"type\": \"bar\"}], \"barpolar\": [{\"marker\": {\"line\": {\"color\": \"#E5ECF6\", \"width\": 0.5}}, \"type\": \"barpolar\"}], \"carpet\": [{\"aaxis\": {\"endlinecolor\": \"#2a3f5f\", \"gridcolor\": \"white\", \"linecolor\": \"white\", \"minorgridcolor\": \"white\", \"startlinecolor\": \"#2a3f5f\"}, \"baxis\": {\"endlinecolor\": \"#2a3f5f\", \"gridcolor\": \"white\", \"linecolor\": \"white\", \"minorgridcolor\": \"white\", \"startlinecolor\": \"#2a3f5f\"}, \"type\": \"carpet\"}], \"choropleth\": [{\"colorbar\": {\"outlinewidth\": 0, \"ticks\": \"\"}, \"type\": \"choropleth\"}], \"contour\": [{\"colorbar\": {\"outlinewidth\": 0, \"ticks\": \"\"}, \"colorscale\": [[0.0, \"#0d0887\"], [0.1111111111111111, \"#46039f\"], [0.2222222222222222, \"#7201a8\"], [0.3333333333333333, \"#9c179e\"], [0.4444444444444444, \"#bd3786\"], [0.5555555555555556, \"#d8576b\"], [0.6666666666666666, \"#ed7953\"], [0.7777777777777778, \"#fb9f3a\"], [0.8888888888888888, \"#fdca26\"], [1.0, \"#f0f921\"]], \"type\": \"contour\"}], \"contourcarpet\": [{\"colorbar\": {\"outlinewidth\": 0, \"ticks\": \"\"}, \"type\": \"contourcarpet\"}], \"heatmap\": [{\"colorbar\": {\"outlinewidth\": 0, \"ticks\": \"\"}, \"colorscale\": [[0.0, \"#0d0887\"], [0.1111111111111111, \"#46039f\"], [0.2222222222222222, \"#7201a8\"], [0.3333333333333333, \"#9c179e\"], [0.4444444444444444, \"#bd3786\"], [0.5555555555555556, \"#d8576b\"], [0.6666666666666666, \"#ed7953\"], [0.7777777777777778, \"#fb9f3a\"], [0.8888888888888888, \"#fdca26\"], [1.0, \"#f0f921\"]], \"type\": \"heatmap\"}], \"heatmapgl\": [{\"colorbar\": {\"outlinewidth\": 0, \"ticks\": \"\"}, \"colorscale\": [[0.0, \"#0d0887\"], [0.1111111111111111, \"#46039f\"], [0.2222222222222222, \"#7201a8\"], [0.3333333333333333, \"#9c179e\"], [0.4444444444444444, \"#bd3786\"], [0.5555555555555556, \"#d8576b\"], [0.6666666666666666, \"#ed7953\"], [0.7777777777777778, \"#fb9f3a\"], [0.8888888888888888, \"#fdca26\"], [1.0, \"#f0f921\"]], \"type\": \"heatmapgl\"}], \"histogram\": [{\"marker\": {\"colorbar\": {\"outlinewidth\": 0, \"ticks\": \"\"}}, \"type\": \"histogram\"}], \"histogram2d\": [{\"colorbar\": {\"outlinewidth\": 0, \"ticks\": \"\"}, \"colorscale\": [[0.0, \"#0d0887\"], [0.1111111111111111, \"#46039f\"], [0.2222222222222222, \"#7201a8\"], [0.3333333333333333, \"#9c179e\"], [0.4444444444444444, \"#bd3786\"], [0.5555555555555556, \"#d8576b\"], [0.6666666666666666, \"#ed7953\"], [0.7777777777777778, \"#fb9f3a\"], [0.8888888888888888, \"#fdca26\"], [1.0, \"#f0f921\"]], \"type\": \"histogram2d\"}], \"histogram2dcontour\": [{\"colorbar\": {\"outlinewidth\": 0, \"ticks\": \"\"}, \"colorscale\": [[0.0, \"#0d0887\"], [0.1111111111111111, \"#46039f\"], [0.2222222222222222, \"#7201a8\"], [0.3333333333333333, \"#9c179e\"], [0.4444444444444444, \"#bd3786\"], [0.5555555555555556, \"#d8576b\"], [0.6666666666666666, \"#ed7953\"], [0.7777777777777778, \"#fb9f3a\"], [0.8888888888888888, \"#fdca26\"], [1.0, \"#f0f921\"]], \"type\": \"histogram2dcontour\"}], \"mesh3d\": [{\"colorbar\": {\"outlinewidth\": 0, \"ticks\": \"\"}, \"type\": \"mesh3d\"}], \"parcoords\": [{\"line\": {\"colorbar\": {\"outlinewidth\": 0, \"ticks\": \"\"}}, \"type\": \"parcoords\"}], \"pie\": [{\"automargin\": true, \"type\": \"pie\"}], \"scatter\": [{\"marker\": {\"colorbar\": {\"outlinewidth\": 0, \"ticks\": \"\"}}, \"type\": \"scatter\"}], \"scatter3d\": [{\"line\": {\"colorbar\": {\"outlinewidth\": 0, \"ticks\": \"\"}}, \"marker\": {\"colorbar\": {\"outlinewidth\": 0, \"ticks\": \"\"}}, \"type\": \"scatter3d\"}], \"scattercarpet\": [{\"marker\": {\"colorbar\": {\"outlinewidth\": 0, \"ticks\": \"\"}}, \"type\": \"scattercarpet\"}], \"scattergeo\": [{\"marker\": {\"colorbar\": {\"outlinewidth\": 0, \"ticks\": \"\"}}, \"type\": \"scattergeo\"}], \"scattergl\": [{\"marker\": {\"colorbar\": {\"outlinewidth\": 0, \"ticks\": \"\"}}, \"type\": \"scattergl\"}], \"scattermapbox\": [{\"marker\": {\"colorbar\": {\"outlinewidth\": 0, \"ticks\": \"\"}}, \"type\": \"scattermapbox\"}], \"scatterpolar\": [{\"marker\": {\"colorbar\": {\"outlinewidth\": 0, \"ticks\": \"\"}}, \"type\": \"scatterpolar\"}], \"scatterpolargl\": [{\"marker\": {\"colorbar\": {\"outlinewidth\": 0, \"ticks\": \"\"}}, \"type\": \"scatterpolargl\"}], \"scatterternary\": [{\"marker\": {\"colorbar\": {\"outlinewidth\": 0, \"ticks\": \"\"}}, \"type\": \"scatterternary\"}], \"surface\": [{\"colorbar\": {\"outlinewidth\": 0, \"ticks\": \"\"}, \"colorscale\": [[0.0, \"#0d0887\"], [0.1111111111111111, \"#46039f\"], [0.2222222222222222, \"#7201a8\"], [0.3333333333333333, \"#9c179e\"], [0.4444444444444444, \"#bd3786\"], [0.5555555555555556, \"#d8576b\"], [0.6666666666666666, \"#ed7953\"], [0.7777777777777778, \"#fb9f3a\"], [0.8888888888888888, \"#fdca26\"], [1.0, \"#f0f921\"]], \"type\": \"surface\"}], \"table\": [{\"cells\": {\"fill\": {\"color\": \"#EBF0F8\"}, \"line\": {\"color\": \"white\"}}, \"header\": {\"fill\": {\"color\": \"#C8D4E3\"}, \"line\": {\"color\": \"white\"}}, \"type\": \"table\"}]}, \"layout\": {\"annotationdefaults\": {\"arrowcolor\": \"#2a3f5f\", \"arrowhead\": 0, \"arrowwidth\": 1}, \"coloraxis\": {\"colorbar\": {\"outlinewidth\": 0, \"ticks\": \"\"}}, \"colorscale\": {\"diverging\": [[0, \"#8e0152\"], [0.1, \"#c51b7d\"], [0.2, \"#de77ae\"], [0.3, \"#f1b6da\"], [0.4, \"#fde0ef\"], [0.5, \"#f7f7f7\"], [0.6, \"#e6f5d0\"], [0.7, \"#b8e186\"], [0.8, \"#7fbc41\"], [0.9, \"#4d9221\"], [1, \"#276419\"]], \"sequential\": [[0.0, \"#0d0887\"], [0.1111111111111111, \"#46039f\"], [0.2222222222222222, \"#7201a8\"], [0.3333333333333333, \"#9c179e\"], [0.4444444444444444, \"#bd3786\"], [0.5555555555555556, \"#d8576b\"], [0.6666666666666666, \"#ed7953\"], [0.7777777777777778, \"#fb9f3a\"], [0.8888888888888888, \"#fdca26\"], [1.0, \"#f0f921\"]], \"sequentialminus\": [[0.0, \"#0d0887\"], [0.1111111111111111, \"#46039f\"], [0.2222222222222222, \"#7201a8\"], [0.3333333333333333, \"#9c179e\"], [0.4444444444444444, \"#bd3786\"], [0.5555555555555556, \"#d8576b\"], [0.6666666666666666, \"#ed7953\"], [0.7777777777777778, \"#fb9f3a\"], [0.8888888888888888, \"#fdca26\"], [1.0, \"#f0f921\"]]}, \"colorway\": [\"#636efa\", \"#EF553B\", \"#00cc96\", \"#ab63fa\", \"#FFA15A\", \"#19d3f3\", \"#FF6692\", \"#B6E880\", \"#FF97FF\", \"#FECB52\"], \"font\": {\"color\": \"#2a3f5f\"}, \"geo\": {\"bgcolor\": \"white\", \"lakecolor\": \"white\", \"landcolor\": \"#E5ECF6\", \"showlakes\": true, \"showland\": true, \"subunitcolor\": \"white\"}, \"hoverlabel\": {\"align\": \"left\"}, \"hovermode\": \"closest\", \"mapbox\": {\"style\": \"light\"}, \"paper_bgcolor\": \"white\", \"plot_bgcolor\": \"#E5ECF6\", \"polar\": {\"angularaxis\": {\"gridcolor\": \"white\", \"linecolor\": \"white\", \"ticks\": \"\"}, \"bgcolor\": \"#E5ECF6\", \"radialaxis\": {\"gridcolor\": \"white\", \"linecolor\": \"white\", \"ticks\": \"\"}}, \"scene\": {\"xaxis\": {\"backgroundcolor\": \"#E5ECF6\", \"gridcolor\": \"white\", \"gridwidth\": 2, \"linecolor\": \"white\", \"showbackground\": true, \"ticks\": \"\", \"zerolinecolor\": \"white\"}, \"yaxis\": {\"backgroundcolor\": \"#E5ECF6\", \"gridcolor\": \"white\", \"gridwidth\": 2, \"linecolor\": \"white\", \"showbackground\": true, \"ticks\": \"\", \"zerolinecolor\": \"white\"}, \"zaxis\": {\"backgroundcolor\": \"#E5ECF6\", \"gridcolor\": \"white\", \"gridwidth\": 2, \"linecolor\": \"white\", \"showbackground\": true, \"ticks\": \"\", \"zerolinecolor\": \"white\"}}, \"shapedefaults\": {\"line\": {\"color\": \"#2a3f5f\"}}, \"ternary\": {\"aaxis\": {\"gridcolor\": \"white\", \"linecolor\": \"white\", \"ticks\": \"\"}, \"baxis\": {\"gridcolor\": \"white\", \"linecolor\": \"white\", \"ticks\": \"\"}, \"bgcolor\": \"#E5ECF6\", \"caxis\": {\"gridcolor\": \"white\", \"linecolor\": \"white\", \"ticks\": \"\"}}, \"title\": {\"x\": 0.05}, \"xaxis\": {\"automargin\": true, \"gridcolor\": \"white\", \"linecolor\": \"white\", \"ticks\": \"\", \"title\": {\"standoff\": 15}, \"zerolinecolor\": \"white\", \"zerolinewidth\": 2}, \"yaxis\": {\"automargin\": true, \"gridcolor\": \"white\", \"linecolor\": \"white\", \"ticks\": \"\", \"title\": {\"standoff\": 15}, \"zerolinecolor\": \"white\", \"zerolinewidth\": 2}}}, \"title\": {\"text\": \"Likes per video\"}},\n",
       "                        {\"responsive\": true}\n",
       "                    ).then(function(){\n",
       "                            \n",
       "var gd = document.getElementById('cbb38234-8257-404e-a681-21ea5b85f898');\n",
       "var x = new MutationObserver(function (mutations, observer) {{\n",
       "        var display = window.getComputedStyle(gd).display;\n",
       "        if (!display || display === 'none') {{\n",
       "            console.log([gd, 'removed!']);\n",
       "            Plotly.purge(gd);\n",
       "            observer.disconnect();\n",
       "        }}\n",
       "}});\n",
       "\n",
       "// Listen for the removal of the full notebook cells\n",
       "var notebookContainer = gd.closest('#notebook-container');\n",
       "if (notebookContainer) {{\n",
       "    x.observe(notebookContainer, {childList: true});\n",
       "}}\n",
       "\n",
       "// Listen for the clearing of the current output cell\n",
       "var outputEl = gd.closest('.output');\n",
       "if (outputEl) {{\n",
       "    x.observe(outputEl, {childList: true});\n",
       "}}\n",
       "\n",
       "                        })\n",
       "                };\n",
       "                });\n",
       "            </script>\n",
       "        </div>"
      ]
     },
     "metadata": {},
     "output_type": "display_data"
    }
   ],
   "source": [
    "import plotly.graph_objects as go\n",
    "\n",
    "colors = ['lightslategray'] * len(df1)\n",
    "#This part\n",
    "for i in df1.index:\n",
    "    if i in list1:\n",
    "        colors[i] = 'green'\n",
    "    else:\n",
    "        colors[i] = 'crimson'\n",
    "\n",
    "fig = go.Figure(data=[go.Bar(\n",
    "    x=[i for i in range(len(df1))],\n",
    "    y=[i for i in df1.Likes],\n",
    "    marker_color=colors # marker color can be a single color value or an iterable\n",
    ")])\n",
    "fig.update_layout(title_text='Likes per video')"
   ]
  },
  {
   "cell_type": "code",
   "execution_count": 11,
   "metadata": {},
   "outputs": [
    {
     "data": {
      "application/vnd.plotly.v1+json": {
       "config": {
        "plotlyServerURL": "https://plot.ly"
       },
       "data": [
        {
         "marker": {
          "color": [
           "crimson",
           "crimson",
           "crimson",
           "crimson",
           "crimson",
           "green",
           "crimson",
           "crimson",
           "crimson",
           "crimson",
           "crimson",
           "crimson",
           "crimson",
           "crimson",
           "green",
           "crimson",
           "crimson",
           "crimson",
           "crimson",
           "green",
           "green",
           "crimson",
           "crimson",
           "crimson",
           "crimson",
           "crimson",
           "crimson",
           "crimson",
           "crimson",
           "crimson",
           "crimson",
           "crimson",
           "crimson",
           "crimson",
           "green",
           "crimson",
           "crimson",
           "crimson",
           "crimson",
           "crimson",
           "crimson",
           "crimson",
           "crimson",
           "crimson",
           "crimson",
           "crimson",
           "crimson",
           "crimson",
           "crimson",
           "crimson",
           "crimson",
           "crimson",
           "crimson",
           "crimson",
           "crimson",
           "crimson"
          ]
         },
         "type": "bar",
         "x": [
          0,
          1,
          2,
          3,
          4,
          5,
          6,
          7,
          8,
          9,
          10,
          11,
          12,
          13,
          14,
          15,
          16,
          17,
          18,
          19,
          20,
          21,
          22,
          23,
          24,
          25,
          26,
          27,
          28,
          29,
          30,
          31,
          32,
          33,
          34,
          35,
          36,
          37,
          38,
          39,
          40,
          41,
          42,
          43,
          44,
          45,
          46,
          47,
          48,
          49,
          50,
          51,
          52,
          53,
          54,
          55
         ],
         "y": [
          4300,
          6400,
          1600,
          4100,
          2600,
          16000,
          369,
          14,
          187,
          2600,
          528,
          401,
          20,
          191,
          11000,
          1800,
          459,
          2300,
          2800,
          9000,
          6900,
          281,
          175,
          0,
          612,
          7700,
          287,
          49,
          746,
          184,
          2000,
          1000,
          283,
          218,
          7300,
          1200,
          3,
          574,
          139,
          182,
          224,
          1500,
          62,
          5600,
          589,
          285,
          873,
          138,
          1900,
          58,
          1000,
          1900,
          139,
          18,
          1200,
          1200
         ]
        }
       ],
       "layout": {
        "template": {
         "data": {
          "bar": [
           {
            "error_x": {
             "color": "#2a3f5f"
            },
            "error_y": {
             "color": "#2a3f5f"
            },
            "marker": {
             "line": {
              "color": "#E5ECF6",
              "width": 0.5
             }
            },
            "type": "bar"
           }
          ],
          "barpolar": [
           {
            "marker": {
             "line": {
              "color": "#E5ECF6",
              "width": 0.5
             }
            },
            "type": "barpolar"
           }
          ],
          "carpet": [
           {
            "aaxis": {
             "endlinecolor": "#2a3f5f",
             "gridcolor": "white",
             "linecolor": "white",
             "minorgridcolor": "white",
             "startlinecolor": "#2a3f5f"
            },
            "baxis": {
             "endlinecolor": "#2a3f5f",
             "gridcolor": "white",
             "linecolor": "white",
             "minorgridcolor": "white",
             "startlinecolor": "#2a3f5f"
            },
            "type": "carpet"
           }
          ],
          "choropleth": [
           {
            "colorbar": {
             "outlinewidth": 0,
             "ticks": ""
            },
            "type": "choropleth"
           }
          ],
          "contour": [
           {
            "colorbar": {
             "outlinewidth": 0,
             "ticks": ""
            },
            "colorscale": [
             [
              0,
              "#0d0887"
             ],
             [
              0.1111111111111111,
              "#46039f"
             ],
             [
              0.2222222222222222,
              "#7201a8"
             ],
             [
              0.3333333333333333,
              "#9c179e"
             ],
             [
              0.4444444444444444,
              "#bd3786"
             ],
             [
              0.5555555555555556,
              "#d8576b"
             ],
             [
              0.6666666666666666,
              "#ed7953"
             ],
             [
              0.7777777777777778,
              "#fb9f3a"
             ],
             [
              0.8888888888888888,
              "#fdca26"
             ],
             [
              1,
              "#f0f921"
             ]
            ],
            "type": "contour"
           }
          ],
          "contourcarpet": [
           {
            "colorbar": {
             "outlinewidth": 0,
             "ticks": ""
            },
            "type": "contourcarpet"
           }
          ],
          "heatmap": [
           {
            "colorbar": {
             "outlinewidth": 0,
             "ticks": ""
            },
            "colorscale": [
             [
              0,
              "#0d0887"
             ],
             [
              0.1111111111111111,
              "#46039f"
             ],
             [
              0.2222222222222222,
              "#7201a8"
             ],
             [
              0.3333333333333333,
              "#9c179e"
             ],
             [
              0.4444444444444444,
              "#bd3786"
             ],
             [
              0.5555555555555556,
              "#d8576b"
             ],
             [
              0.6666666666666666,
              "#ed7953"
             ],
             [
              0.7777777777777778,
              "#fb9f3a"
             ],
             [
              0.8888888888888888,
              "#fdca26"
             ],
             [
              1,
              "#f0f921"
             ]
            ],
            "type": "heatmap"
           }
          ],
          "heatmapgl": [
           {
            "colorbar": {
             "outlinewidth": 0,
             "ticks": ""
            },
            "colorscale": [
             [
              0,
              "#0d0887"
             ],
             [
              0.1111111111111111,
              "#46039f"
             ],
             [
              0.2222222222222222,
              "#7201a8"
             ],
             [
              0.3333333333333333,
              "#9c179e"
             ],
             [
              0.4444444444444444,
              "#bd3786"
             ],
             [
              0.5555555555555556,
              "#d8576b"
             ],
             [
              0.6666666666666666,
              "#ed7953"
             ],
             [
              0.7777777777777778,
              "#fb9f3a"
             ],
             [
              0.8888888888888888,
              "#fdca26"
             ],
             [
              1,
              "#f0f921"
             ]
            ],
            "type": "heatmapgl"
           }
          ],
          "histogram": [
           {
            "marker": {
             "colorbar": {
              "outlinewidth": 0,
              "ticks": ""
             }
            },
            "type": "histogram"
           }
          ],
          "histogram2d": [
           {
            "colorbar": {
             "outlinewidth": 0,
             "ticks": ""
            },
            "colorscale": [
             [
              0,
              "#0d0887"
             ],
             [
              0.1111111111111111,
              "#46039f"
             ],
             [
              0.2222222222222222,
              "#7201a8"
             ],
             [
              0.3333333333333333,
              "#9c179e"
             ],
             [
              0.4444444444444444,
              "#bd3786"
             ],
             [
              0.5555555555555556,
              "#d8576b"
             ],
             [
              0.6666666666666666,
              "#ed7953"
             ],
             [
              0.7777777777777778,
              "#fb9f3a"
             ],
             [
              0.8888888888888888,
              "#fdca26"
             ],
             [
              1,
              "#f0f921"
             ]
            ],
            "type": "histogram2d"
           }
          ],
          "histogram2dcontour": [
           {
            "colorbar": {
             "outlinewidth": 0,
             "ticks": ""
            },
            "colorscale": [
             [
              0,
              "#0d0887"
             ],
             [
              0.1111111111111111,
              "#46039f"
             ],
             [
              0.2222222222222222,
              "#7201a8"
             ],
             [
              0.3333333333333333,
              "#9c179e"
             ],
             [
              0.4444444444444444,
              "#bd3786"
             ],
             [
              0.5555555555555556,
              "#d8576b"
             ],
             [
              0.6666666666666666,
              "#ed7953"
             ],
             [
              0.7777777777777778,
              "#fb9f3a"
             ],
             [
              0.8888888888888888,
              "#fdca26"
             ],
             [
              1,
              "#f0f921"
             ]
            ],
            "type": "histogram2dcontour"
           }
          ],
          "mesh3d": [
           {
            "colorbar": {
             "outlinewidth": 0,
             "ticks": ""
            },
            "type": "mesh3d"
           }
          ],
          "parcoords": [
           {
            "line": {
             "colorbar": {
              "outlinewidth": 0,
              "ticks": ""
             }
            },
            "type": "parcoords"
           }
          ],
          "pie": [
           {
            "automargin": true,
            "type": "pie"
           }
          ],
          "scatter": [
           {
            "marker": {
             "colorbar": {
              "outlinewidth": 0,
              "ticks": ""
             }
            },
            "type": "scatter"
           }
          ],
          "scatter3d": [
           {
            "line": {
             "colorbar": {
              "outlinewidth": 0,
              "ticks": ""
             }
            },
            "marker": {
             "colorbar": {
              "outlinewidth": 0,
              "ticks": ""
             }
            },
            "type": "scatter3d"
           }
          ],
          "scattercarpet": [
           {
            "marker": {
             "colorbar": {
              "outlinewidth": 0,
              "ticks": ""
             }
            },
            "type": "scattercarpet"
           }
          ],
          "scattergeo": [
           {
            "marker": {
             "colorbar": {
              "outlinewidth": 0,
              "ticks": ""
             }
            },
            "type": "scattergeo"
           }
          ],
          "scattergl": [
           {
            "marker": {
             "colorbar": {
              "outlinewidth": 0,
              "ticks": ""
             }
            },
            "type": "scattergl"
           }
          ],
          "scattermapbox": [
           {
            "marker": {
             "colorbar": {
              "outlinewidth": 0,
              "ticks": ""
             }
            },
            "type": "scattermapbox"
           }
          ],
          "scatterpolar": [
           {
            "marker": {
             "colorbar": {
              "outlinewidth": 0,
              "ticks": ""
             }
            },
            "type": "scatterpolar"
           }
          ],
          "scatterpolargl": [
           {
            "marker": {
             "colorbar": {
              "outlinewidth": 0,
              "ticks": ""
             }
            },
            "type": "scatterpolargl"
           }
          ],
          "scatterternary": [
           {
            "marker": {
             "colorbar": {
              "outlinewidth": 0,
              "ticks": ""
             }
            },
            "type": "scatterternary"
           }
          ],
          "surface": [
           {
            "colorbar": {
             "outlinewidth": 0,
             "ticks": ""
            },
            "colorscale": [
             [
              0,
              "#0d0887"
             ],
             [
              0.1111111111111111,
              "#46039f"
             ],
             [
              0.2222222222222222,
              "#7201a8"
             ],
             [
              0.3333333333333333,
              "#9c179e"
             ],
             [
              0.4444444444444444,
              "#bd3786"
             ],
             [
              0.5555555555555556,
              "#d8576b"
             ],
             [
              0.6666666666666666,
              "#ed7953"
             ],
             [
              0.7777777777777778,
              "#fb9f3a"
             ],
             [
              0.8888888888888888,
              "#fdca26"
             ],
             [
              1,
              "#f0f921"
             ]
            ],
            "type": "surface"
           }
          ],
          "table": [
           {
            "cells": {
             "fill": {
              "color": "#EBF0F8"
             },
             "line": {
              "color": "white"
             }
            },
            "header": {
             "fill": {
              "color": "#C8D4E3"
             },
             "line": {
              "color": "white"
             }
            },
            "type": "table"
           }
          ]
         },
         "layout": {
          "annotationdefaults": {
           "arrowcolor": "#2a3f5f",
           "arrowhead": 0,
           "arrowwidth": 1
          },
          "coloraxis": {
           "colorbar": {
            "outlinewidth": 0,
            "ticks": ""
           }
          },
          "colorscale": {
           "diverging": [
            [
             0,
             "#8e0152"
            ],
            [
             0.1,
             "#c51b7d"
            ],
            [
             0.2,
             "#de77ae"
            ],
            [
             0.3,
             "#f1b6da"
            ],
            [
             0.4,
             "#fde0ef"
            ],
            [
             0.5,
             "#f7f7f7"
            ],
            [
             0.6,
             "#e6f5d0"
            ],
            [
             0.7,
             "#b8e186"
            ],
            [
             0.8,
             "#7fbc41"
            ],
            [
             0.9,
             "#4d9221"
            ],
            [
             1,
             "#276419"
            ]
           ],
           "sequential": [
            [
             0,
             "#0d0887"
            ],
            [
             0.1111111111111111,
             "#46039f"
            ],
            [
             0.2222222222222222,
             "#7201a8"
            ],
            [
             0.3333333333333333,
             "#9c179e"
            ],
            [
             0.4444444444444444,
             "#bd3786"
            ],
            [
             0.5555555555555556,
             "#d8576b"
            ],
            [
             0.6666666666666666,
             "#ed7953"
            ],
            [
             0.7777777777777778,
             "#fb9f3a"
            ],
            [
             0.8888888888888888,
             "#fdca26"
            ],
            [
             1,
             "#f0f921"
            ]
           ],
           "sequentialminus": [
            [
             0,
             "#0d0887"
            ],
            [
             0.1111111111111111,
             "#46039f"
            ],
            [
             0.2222222222222222,
             "#7201a8"
            ],
            [
             0.3333333333333333,
             "#9c179e"
            ],
            [
             0.4444444444444444,
             "#bd3786"
            ],
            [
             0.5555555555555556,
             "#d8576b"
            ],
            [
             0.6666666666666666,
             "#ed7953"
            ],
            [
             0.7777777777777778,
             "#fb9f3a"
            ],
            [
             0.8888888888888888,
             "#fdca26"
            ],
            [
             1,
             "#f0f921"
            ]
           ]
          },
          "colorway": [
           "#636efa",
           "#EF553B",
           "#00cc96",
           "#ab63fa",
           "#FFA15A",
           "#19d3f3",
           "#FF6692",
           "#B6E880",
           "#FF97FF",
           "#FECB52"
          ],
          "font": {
           "color": "#2a3f5f"
          },
          "geo": {
           "bgcolor": "white",
           "lakecolor": "white",
           "landcolor": "#E5ECF6",
           "showlakes": true,
           "showland": true,
           "subunitcolor": "white"
          },
          "hoverlabel": {
           "align": "left"
          },
          "hovermode": "closest",
          "mapbox": {
           "style": "light"
          },
          "paper_bgcolor": "white",
          "plot_bgcolor": "#E5ECF6",
          "polar": {
           "angularaxis": {
            "gridcolor": "white",
            "linecolor": "white",
            "ticks": ""
           },
           "bgcolor": "#E5ECF6",
           "radialaxis": {
            "gridcolor": "white",
            "linecolor": "white",
            "ticks": ""
           }
          },
          "scene": {
           "xaxis": {
            "backgroundcolor": "#E5ECF6",
            "gridcolor": "white",
            "gridwidth": 2,
            "linecolor": "white",
            "showbackground": true,
            "ticks": "",
            "zerolinecolor": "white"
           },
           "yaxis": {
            "backgroundcolor": "#E5ECF6",
            "gridcolor": "white",
            "gridwidth": 2,
            "linecolor": "white",
            "showbackground": true,
            "ticks": "",
            "zerolinecolor": "white"
           },
           "zaxis": {
            "backgroundcolor": "#E5ECF6",
            "gridcolor": "white",
            "gridwidth": 2,
            "linecolor": "white",
            "showbackground": true,
            "ticks": "",
            "zerolinecolor": "white"
           }
          },
          "shapedefaults": {
           "line": {
            "color": "#2a3f5f"
           }
          },
          "ternary": {
           "aaxis": {
            "gridcolor": "white",
            "linecolor": "white",
            "ticks": ""
           },
           "baxis": {
            "gridcolor": "white",
            "linecolor": "white",
            "ticks": ""
           },
           "bgcolor": "#E5ECF6",
           "caxis": {
            "gridcolor": "white",
            "linecolor": "white",
            "ticks": ""
           }
          },
          "title": {
           "x": 0.05
          },
          "xaxis": {
           "automargin": true,
           "gridcolor": "white",
           "linecolor": "white",
           "ticks": "",
           "title": {
            "standoff": 15
           },
           "zerolinecolor": "white",
           "zerolinewidth": 2
          },
          "yaxis": {
           "automargin": true,
           "gridcolor": "white",
           "linecolor": "white",
           "ticks": "",
           "title": {
            "standoff": 15
           },
           "zerolinecolor": "white",
           "zerolinewidth": 2
          }
         }
        },
        "title": {
         "text": "Dislikes per video"
        }
       }
      },
      "text/html": [
       "<div>\n",
       "        \n",
       "        \n",
       "            <div id=\"b78c51f8-3ab1-47a6-a849-72b04ddb55f5\" class=\"plotly-graph-div\" style=\"height:525px; width:100%;\"></div>\n",
       "            <script type=\"text/javascript\">\n",
       "                require([\"plotly\"], function(Plotly) {\n",
       "                    window.PLOTLYENV=window.PLOTLYENV || {};\n",
       "                    \n",
       "                if (document.getElementById(\"b78c51f8-3ab1-47a6-a849-72b04ddb55f5\")) {\n",
       "                    Plotly.newPlot(\n",
       "                        'b78c51f8-3ab1-47a6-a849-72b04ddb55f5',\n",
       "                        [{\"marker\": {\"color\": [\"crimson\", \"crimson\", \"crimson\", \"crimson\", \"crimson\", \"green\", \"crimson\", \"crimson\", \"crimson\", \"crimson\", \"crimson\", \"crimson\", \"crimson\", \"crimson\", \"green\", \"crimson\", \"crimson\", \"crimson\", \"crimson\", \"green\", \"green\", \"crimson\", \"crimson\", \"crimson\", \"crimson\", \"crimson\", \"crimson\", \"crimson\", \"crimson\", \"crimson\", \"crimson\", \"crimson\", \"crimson\", \"crimson\", \"green\", \"crimson\", \"crimson\", \"crimson\", \"crimson\", \"crimson\", \"crimson\", \"crimson\", \"crimson\", \"crimson\", \"crimson\", \"crimson\", \"crimson\", \"crimson\", \"crimson\", \"crimson\", \"crimson\", \"crimson\", \"crimson\", \"crimson\", \"crimson\", \"crimson\"]}, \"type\": \"bar\", \"x\": [0, 1, 2, 3, 4, 5, 6, 7, 8, 9, 10, 11, 12, 13, 14, 15, 16, 17, 18, 19, 20, 21, 22, 23, 24, 25, 26, 27, 28, 29, 30, 31, 32, 33, 34, 35, 36, 37, 38, 39, 40, 41, 42, 43, 44, 45, 46, 47, 48, 49, 50, 51, 52, 53, 54, 55], \"y\": [4300.0, 6400.0, 1600.0, 4100.0, 2600.0, 16000.0, 369.0, 14.0, 187.0, 2600.0, 528.0, 401.0, 20.0, 191.0, 11000.0, 1800.0, 459.0, 2300.0, 2800.0, 9000.0, 6900.0, 281.0, 175.0, 0.0, 612.0, 7700.0, 287.0, 49.0, 746.0, 184.0, 2000.0, 1000.0, 283.0, 218.0, 7300.0, 1200.0, 3.0, 574.0, 139.0, 182.0, 224.0, 1500.0, 62.0, 5600.0, 589.0, 285.0, 873.0, 138.0, 1900.0, 58.0, 1000.0, 1900.0, 139.0, 18.0, 1200.0, 1200.0]}],\n",
       "                        {\"template\": {\"data\": {\"bar\": [{\"error_x\": {\"color\": \"#2a3f5f\"}, \"error_y\": {\"color\": \"#2a3f5f\"}, \"marker\": {\"line\": {\"color\": \"#E5ECF6\", \"width\": 0.5}}, \"type\": \"bar\"}], \"barpolar\": [{\"marker\": {\"line\": {\"color\": \"#E5ECF6\", \"width\": 0.5}}, \"type\": \"barpolar\"}], \"carpet\": [{\"aaxis\": {\"endlinecolor\": \"#2a3f5f\", \"gridcolor\": \"white\", \"linecolor\": \"white\", \"minorgridcolor\": \"white\", \"startlinecolor\": \"#2a3f5f\"}, \"baxis\": {\"endlinecolor\": \"#2a3f5f\", \"gridcolor\": \"white\", \"linecolor\": \"white\", \"minorgridcolor\": \"white\", \"startlinecolor\": \"#2a3f5f\"}, \"type\": \"carpet\"}], \"choropleth\": [{\"colorbar\": {\"outlinewidth\": 0, \"ticks\": \"\"}, \"type\": \"choropleth\"}], \"contour\": [{\"colorbar\": {\"outlinewidth\": 0, \"ticks\": \"\"}, \"colorscale\": [[0.0, \"#0d0887\"], [0.1111111111111111, \"#46039f\"], [0.2222222222222222, \"#7201a8\"], [0.3333333333333333, \"#9c179e\"], [0.4444444444444444, \"#bd3786\"], [0.5555555555555556, \"#d8576b\"], [0.6666666666666666, \"#ed7953\"], [0.7777777777777778, \"#fb9f3a\"], [0.8888888888888888, \"#fdca26\"], [1.0, \"#f0f921\"]], \"type\": \"contour\"}], \"contourcarpet\": [{\"colorbar\": {\"outlinewidth\": 0, \"ticks\": \"\"}, \"type\": \"contourcarpet\"}], \"heatmap\": [{\"colorbar\": {\"outlinewidth\": 0, \"ticks\": \"\"}, \"colorscale\": [[0.0, \"#0d0887\"], [0.1111111111111111, \"#46039f\"], [0.2222222222222222, \"#7201a8\"], [0.3333333333333333, \"#9c179e\"], [0.4444444444444444, \"#bd3786\"], [0.5555555555555556, \"#d8576b\"], [0.6666666666666666, \"#ed7953\"], [0.7777777777777778, \"#fb9f3a\"], [0.8888888888888888, \"#fdca26\"], [1.0, \"#f0f921\"]], \"type\": \"heatmap\"}], \"heatmapgl\": [{\"colorbar\": {\"outlinewidth\": 0, \"ticks\": \"\"}, \"colorscale\": [[0.0, \"#0d0887\"], [0.1111111111111111, \"#46039f\"], [0.2222222222222222, \"#7201a8\"], [0.3333333333333333, \"#9c179e\"], [0.4444444444444444, \"#bd3786\"], [0.5555555555555556, \"#d8576b\"], [0.6666666666666666, \"#ed7953\"], [0.7777777777777778, \"#fb9f3a\"], [0.8888888888888888, \"#fdca26\"], [1.0, \"#f0f921\"]], \"type\": \"heatmapgl\"}], \"histogram\": [{\"marker\": {\"colorbar\": {\"outlinewidth\": 0, \"ticks\": \"\"}}, \"type\": \"histogram\"}], \"histogram2d\": [{\"colorbar\": {\"outlinewidth\": 0, \"ticks\": \"\"}, \"colorscale\": [[0.0, \"#0d0887\"], [0.1111111111111111, \"#46039f\"], [0.2222222222222222, \"#7201a8\"], [0.3333333333333333, \"#9c179e\"], [0.4444444444444444, \"#bd3786\"], [0.5555555555555556, \"#d8576b\"], [0.6666666666666666, \"#ed7953\"], [0.7777777777777778, \"#fb9f3a\"], [0.8888888888888888, \"#fdca26\"], [1.0, \"#f0f921\"]], \"type\": \"histogram2d\"}], \"histogram2dcontour\": [{\"colorbar\": {\"outlinewidth\": 0, \"ticks\": \"\"}, \"colorscale\": [[0.0, \"#0d0887\"], [0.1111111111111111, \"#46039f\"], [0.2222222222222222, \"#7201a8\"], [0.3333333333333333, \"#9c179e\"], [0.4444444444444444, \"#bd3786\"], [0.5555555555555556, \"#d8576b\"], [0.6666666666666666, \"#ed7953\"], [0.7777777777777778, \"#fb9f3a\"], [0.8888888888888888, \"#fdca26\"], [1.0, \"#f0f921\"]], \"type\": \"histogram2dcontour\"}], \"mesh3d\": [{\"colorbar\": {\"outlinewidth\": 0, \"ticks\": \"\"}, \"type\": \"mesh3d\"}], \"parcoords\": [{\"line\": {\"colorbar\": {\"outlinewidth\": 0, \"ticks\": \"\"}}, \"type\": \"parcoords\"}], \"pie\": [{\"automargin\": true, \"type\": \"pie\"}], \"scatter\": [{\"marker\": {\"colorbar\": {\"outlinewidth\": 0, \"ticks\": \"\"}}, \"type\": \"scatter\"}], \"scatter3d\": [{\"line\": {\"colorbar\": {\"outlinewidth\": 0, \"ticks\": \"\"}}, \"marker\": {\"colorbar\": {\"outlinewidth\": 0, \"ticks\": \"\"}}, \"type\": \"scatter3d\"}], \"scattercarpet\": [{\"marker\": {\"colorbar\": {\"outlinewidth\": 0, \"ticks\": \"\"}}, \"type\": \"scattercarpet\"}], \"scattergeo\": [{\"marker\": {\"colorbar\": {\"outlinewidth\": 0, \"ticks\": \"\"}}, \"type\": \"scattergeo\"}], \"scattergl\": [{\"marker\": {\"colorbar\": {\"outlinewidth\": 0, \"ticks\": \"\"}}, \"type\": \"scattergl\"}], \"scattermapbox\": [{\"marker\": {\"colorbar\": {\"outlinewidth\": 0, \"ticks\": \"\"}}, \"type\": \"scattermapbox\"}], \"scatterpolar\": [{\"marker\": {\"colorbar\": {\"outlinewidth\": 0, \"ticks\": \"\"}}, \"type\": \"scatterpolar\"}], \"scatterpolargl\": [{\"marker\": {\"colorbar\": {\"outlinewidth\": 0, \"ticks\": \"\"}}, \"type\": \"scatterpolargl\"}], \"scatterternary\": [{\"marker\": {\"colorbar\": {\"outlinewidth\": 0, \"ticks\": \"\"}}, \"type\": \"scatterternary\"}], \"surface\": [{\"colorbar\": {\"outlinewidth\": 0, \"ticks\": \"\"}, \"colorscale\": [[0.0, \"#0d0887\"], [0.1111111111111111, \"#46039f\"], [0.2222222222222222, \"#7201a8\"], [0.3333333333333333, \"#9c179e\"], [0.4444444444444444, \"#bd3786\"], [0.5555555555555556, \"#d8576b\"], [0.6666666666666666, \"#ed7953\"], [0.7777777777777778, \"#fb9f3a\"], [0.8888888888888888, \"#fdca26\"], [1.0, \"#f0f921\"]], \"type\": \"surface\"}], \"table\": [{\"cells\": {\"fill\": {\"color\": \"#EBF0F8\"}, \"line\": {\"color\": \"white\"}}, \"header\": {\"fill\": {\"color\": \"#C8D4E3\"}, \"line\": {\"color\": \"white\"}}, \"type\": \"table\"}]}, \"layout\": {\"annotationdefaults\": {\"arrowcolor\": \"#2a3f5f\", \"arrowhead\": 0, \"arrowwidth\": 1}, \"coloraxis\": {\"colorbar\": {\"outlinewidth\": 0, \"ticks\": \"\"}}, \"colorscale\": {\"diverging\": [[0, \"#8e0152\"], [0.1, \"#c51b7d\"], [0.2, \"#de77ae\"], [0.3, \"#f1b6da\"], [0.4, \"#fde0ef\"], [0.5, \"#f7f7f7\"], [0.6, \"#e6f5d0\"], [0.7, \"#b8e186\"], [0.8, \"#7fbc41\"], [0.9, \"#4d9221\"], [1, \"#276419\"]], \"sequential\": [[0.0, \"#0d0887\"], [0.1111111111111111, \"#46039f\"], [0.2222222222222222, \"#7201a8\"], [0.3333333333333333, \"#9c179e\"], [0.4444444444444444, \"#bd3786\"], [0.5555555555555556, \"#d8576b\"], [0.6666666666666666, \"#ed7953\"], [0.7777777777777778, \"#fb9f3a\"], [0.8888888888888888, \"#fdca26\"], [1.0, \"#f0f921\"]], \"sequentialminus\": [[0.0, \"#0d0887\"], [0.1111111111111111, \"#46039f\"], [0.2222222222222222, \"#7201a8\"], [0.3333333333333333, \"#9c179e\"], [0.4444444444444444, \"#bd3786\"], [0.5555555555555556, \"#d8576b\"], [0.6666666666666666, \"#ed7953\"], [0.7777777777777778, \"#fb9f3a\"], [0.8888888888888888, \"#fdca26\"], [1.0, \"#f0f921\"]]}, \"colorway\": [\"#636efa\", \"#EF553B\", \"#00cc96\", \"#ab63fa\", \"#FFA15A\", \"#19d3f3\", \"#FF6692\", \"#B6E880\", \"#FF97FF\", \"#FECB52\"], \"font\": {\"color\": \"#2a3f5f\"}, \"geo\": {\"bgcolor\": \"white\", \"lakecolor\": \"white\", \"landcolor\": \"#E5ECF6\", \"showlakes\": true, \"showland\": true, \"subunitcolor\": \"white\"}, \"hoverlabel\": {\"align\": \"left\"}, \"hovermode\": \"closest\", \"mapbox\": {\"style\": \"light\"}, \"paper_bgcolor\": \"white\", \"plot_bgcolor\": \"#E5ECF6\", \"polar\": {\"angularaxis\": {\"gridcolor\": \"white\", \"linecolor\": \"white\", \"ticks\": \"\"}, \"bgcolor\": \"#E5ECF6\", \"radialaxis\": {\"gridcolor\": \"white\", \"linecolor\": \"white\", \"ticks\": \"\"}}, \"scene\": {\"xaxis\": {\"backgroundcolor\": \"#E5ECF6\", \"gridcolor\": \"white\", \"gridwidth\": 2, \"linecolor\": \"white\", \"showbackground\": true, \"ticks\": \"\", \"zerolinecolor\": \"white\"}, \"yaxis\": {\"backgroundcolor\": \"#E5ECF6\", \"gridcolor\": \"white\", \"gridwidth\": 2, \"linecolor\": \"white\", \"showbackground\": true, \"ticks\": \"\", \"zerolinecolor\": \"white\"}, \"zaxis\": {\"backgroundcolor\": \"#E5ECF6\", \"gridcolor\": \"white\", \"gridwidth\": 2, \"linecolor\": \"white\", \"showbackground\": true, \"ticks\": \"\", \"zerolinecolor\": \"white\"}}, \"shapedefaults\": {\"line\": {\"color\": \"#2a3f5f\"}}, \"ternary\": {\"aaxis\": {\"gridcolor\": \"white\", \"linecolor\": \"white\", \"ticks\": \"\"}, \"baxis\": {\"gridcolor\": \"white\", \"linecolor\": \"white\", \"ticks\": \"\"}, \"bgcolor\": \"#E5ECF6\", \"caxis\": {\"gridcolor\": \"white\", \"linecolor\": \"white\", \"ticks\": \"\"}}, \"title\": {\"x\": 0.05}, \"xaxis\": {\"automargin\": true, \"gridcolor\": \"white\", \"linecolor\": \"white\", \"ticks\": \"\", \"title\": {\"standoff\": 15}, \"zerolinecolor\": \"white\", \"zerolinewidth\": 2}, \"yaxis\": {\"automargin\": true, \"gridcolor\": \"white\", \"linecolor\": \"white\", \"ticks\": \"\", \"title\": {\"standoff\": 15}, \"zerolinecolor\": \"white\", \"zerolinewidth\": 2}}}, \"title\": {\"text\": \"Dislikes per video\"}},\n",
       "                        {\"responsive\": true}\n",
       "                    ).then(function(){\n",
       "                            \n",
       "var gd = document.getElementById('b78c51f8-3ab1-47a6-a849-72b04ddb55f5');\n",
       "var x = new MutationObserver(function (mutations, observer) {{\n",
       "        var display = window.getComputedStyle(gd).display;\n",
       "        if (!display || display === 'none') {{\n",
       "            console.log([gd, 'removed!']);\n",
       "            Plotly.purge(gd);\n",
       "            observer.disconnect();\n",
       "        }}\n",
       "}});\n",
       "\n",
       "// Listen for the removal of the full notebook cells\n",
       "var notebookContainer = gd.closest('#notebook-container');\n",
       "if (notebookContainer) {{\n",
       "    x.observe(notebookContainer, {childList: true});\n",
       "}}\n",
       "\n",
       "// Listen for the clearing of the current output cell\n",
       "var outputEl = gd.closest('.output');\n",
       "if (outputEl) {{\n",
       "    x.observe(outputEl, {childList: true});\n",
       "}}\n",
       "\n",
       "                        })\n",
       "                };\n",
       "                });\n",
       "            </script>\n",
       "        </div>"
      ]
     },
     "metadata": {},
     "output_type": "display_data"
    }
   ],
   "source": [
    "import plotly.graph_objects as go\n",
    "\n",
    "colors = ['lightslategray'] * len(df1)\n",
    "\n",
    "for i in df1.index:\n",
    "    if i in list1:\n",
    "        colors[i] = 'green'\n",
    "    else:\n",
    "        colors[i] = 'crimson'\n",
    "\n",
    "fig = go.Figure(data=[go.Bar(\n",
    "    x=[i for i in range(len(df1))],\n",
    "    y=[i for i in df1.Dislikes],\n",
    "    marker_color=colors # marker color can be a single color value or an iterable\n",
    ")])\n",
    "fig.update_layout(title_text='Dislikes per video')"
   ]
  },
  {
   "cell_type": "code",
   "execution_count": 15,
   "metadata": {},
   "outputs": [
    {
     "data": {
      "application/vnd.plotly.v1+json": {
       "config": {
        "plotlyServerURL": "https://plot.ly"
       },
       "data": [
        {
         "marker": {
          "color": [
           "crimson",
           "crimson",
           "crimson",
           "crimson",
           "crimson",
           "green",
           "crimson",
           "crimson",
           "crimson",
           "crimson",
           "crimson",
           "crimson",
           "crimson",
           "crimson",
           "green",
           "crimson",
           "crimson",
           "crimson",
           "crimson",
           "green",
           "green",
           "crimson",
           "crimson",
           "crimson",
           "crimson",
           "crimson",
           "crimson",
           "crimson",
           "crimson",
           "crimson",
           "crimson",
           "crimson",
           "crimson",
           "crimson",
           "green",
           "crimson",
           "crimson",
           "crimson",
           "crimson",
           "crimson",
           "crimson",
           "crimson",
           "crimson",
           "crimson",
           "crimson",
           "crimson",
           "crimson",
           "crimson",
           "crimson",
           "crimson",
           "crimson",
           "crimson",
           "crimson",
           "crimson",
           "crimson",
           "crimson"
          ]
         },
         "type": "bar",
         "x": [
          0,
          1,
          2,
          3,
          4,
          5,
          6,
          7,
          8,
          9,
          10,
          11,
          12,
          13,
          14,
          15,
          16,
          17,
          18,
          19,
          20,
          21,
          22,
          23,
          24,
          25,
          26,
          27,
          28,
          29,
          30,
          31,
          32,
          33,
          34,
          35,
          36,
          37,
          38,
          39,
          40,
          41,
          42,
          43,
          44,
          45,
          46,
          47,
          48,
          49,
          50,
          51,
          52,
          53,
          54,
          55
         ],
         "y": [
          11988884,
          20507427,
          3312187,
          12838146,
          5381311,
          19419286,
          534349,
          27156,
          654933,
          7285335,
          993762,
          745238,
          17508,
          440207,
          15506304,
          5253069,
          907598,
          6508398,
          6347872,
          15858042,
          12884894,
          1139839,
          270017,
          7144,
          1286380,
          10083354,
          679743,
          166954,
          2860638,
          377070,
          4573541,
          2593156,
          491065,
          805744,
          19926469,
          2714090,
          2962,
          1545603,
          339034,
          893514,
          451722,
          2711671,
          117323,
          11892940,
          444997,
          1032280,
          2733924,
          184450,
          5834227,
          113663,
          3024121,
          3470280,
          335127,
          39450,
          3728024,
          3524983
         ]
        }
       ],
       "layout": {
        "template": {
         "data": {
          "bar": [
           {
            "error_x": {
             "color": "#2a3f5f"
            },
            "error_y": {
             "color": "#2a3f5f"
            },
            "marker": {
             "line": {
              "color": "#E5ECF6",
              "width": 0.5
             }
            },
            "type": "bar"
           }
          ],
          "barpolar": [
           {
            "marker": {
             "line": {
              "color": "#E5ECF6",
              "width": 0.5
             }
            },
            "type": "barpolar"
           }
          ],
          "carpet": [
           {
            "aaxis": {
             "endlinecolor": "#2a3f5f",
             "gridcolor": "white",
             "linecolor": "white",
             "minorgridcolor": "white",
             "startlinecolor": "#2a3f5f"
            },
            "baxis": {
             "endlinecolor": "#2a3f5f",
             "gridcolor": "white",
             "linecolor": "white",
             "minorgridcolor": "white",
             "startlinecolor": "#2a3f5f"
            },
            "type": "carpet"
           }
          ],
          "choropleth": [
           {
            "colorbar": {
             "outlinewidth": 0,
             "ticks": ""
            },
            "type": "choropleth"
           }
          ],
          "contour": [
           {
            "colorbar": {
             "outlinewidth": 0,
             "ticks": ""
            },
            "colorscale": [
             [
              0,
              "#0d0887"
             ],
             [
              0.1111111111111111,
              "#46039f"
             ],
             [
              0.2222222222222222,
              "#7201a8"
             ],
             [
              0.3333333333333333,
              "#9c179e"
             ],
             [
              0.4444444444444444,
              "#bd3786"
             ],
             [
              0.5555555555555556,
              "#d8576b"
             ],
             [
              0.6666666666666666,
              "#ed7953"
             ],
             [
              0.7777777777777778,
              "#fb9f3a"
             ],
             [
              0.8888888888888888,
              "#fdca26"
             ],
             [
              1,
              "#f0f921"
             ]
            ],
            "type": "contour"
           }
          ],
          "contourcarpet": [
           {
            "colorbar": {
             "outlinewidth": 0,
             "ticks": ""
            },
            "type": "contourcarpet"
           }
          ],
          "heatmap": [
           {
            "colorbar": {
             "outlinewidth": 0,
             "ticks": ""
            },
            "colorscale": [
             [
              0,
              "#0d0887"
             ],
             [
              0.1111111111111111,
              "#46039f"
             ],
             [
              0.2222222222222222,
              "#7201a8"
             ],
             [
              0.3333333333333333,
              "#9c179e"
             ],
             [
              0.4444444444444444,
              "#bd3786"
             ],
             [
              0.5555555555555556,
              "#d8576b"
             ],
             [
              0.6666666666666666,
              "#ed7953"
             ],
             [
              0.7777777777777778,
              "#fb9f3a"
             ],
             [
              0.8888888888888888,
              "#fdca26"
             ],
             [
              1,
              "#f0f921"
             ]
            ],
            "type": "heatmap"
           }
          ],
          "heatmapgl": [
           {
            "colorbar": {
             "outlinewidth": 0,
             "ticks": ""
            },
            "colorscale": [
             [
              0,
              "#0d0887"
             ],
             [
              0.1111111111111111,
              "#46039f"
             ],
             [
              0.2222222222222222,
              "#7201a8"
             ],
             [
              0.3333333333333333,
              "#9c179e"
             ],
             [
              0.4444444444444444,
              "#bd3786"
             ],
             [
              0.5555555555555556,
              "#d8576b"
             ],
             [
              0.6666666666666666,
              "#ed7953"
             ],
             [
              0.7777777777777778,
              "#fb9f3a"
             ],
             [
              0.8888888888888888,
              "#fdca26"
             ],
             [
              1,
              "#f0f921"
             ]
            ],
            "type": "heatmapgl"
           }
          ],
          "histogram": [
           {
            "marker": {
             "colorbar": {
              "outlinewidth": 0,
              "ticks": ""
             }
            },
            "type": "histogram"
           }
          ],
          "histogram2d": [
           {
            "colorbar": {
             "outlinewidth": 0,
             "ticks": ""
            },
            "colorscale": [
             [
              0,
              "#0d0887"
             ],
             [
              0.1111111111111111,
              "#46039f"
             ],
             [
              0.2222222222222222,
              "#7201a8"
             ],
             [
              0.3333333333333333,
              "#9c179e"
             ],
             [
              0.4444444444444444,
              "#bd3786"
             ],
             [
              0.5555555555555556,
              "#d8576b"
             ],
             [
              0.6666666666666666,
              "#ed7953"
             ],
             [
              0.7777777777777778,
              "#fb9f3a"
             ],
             [
              0.8888888888888888,
              "#fdca26"
             ],
             [
              1,
              "#f0f921"
             ]
            ],
            "type": "histogram2d"
           }
          ],
          "histogram2dcontour": [
           {
            "colorbar": {
             "outlinewidth": 0,
             "ticks": ""
            },
            "colorscale": [
             [
              0,
              "#0d0887"
             ],
             [
              0.1111111111111111,
              "#46039f"
             ],
             [
              0.2222222222222222,
              "#7201a8"
             ],
             [
              0.3333333333333333,
              "#9c179e"
             ],
             [
              0.4444444444444444,
              "#bd3786"
             ],
             [
              0.5555555555555556,
              "#d8576b"
             ],
             [
              0.6666666666666666,
              "#ed7953"
             ],
             [
              0.7777777777777778,
              "#fb9f3a"
             ],
             [
              0.8888888888888888,
              "#fdca26"
             ],
             [
              1,
              "#f0f921"
             ]
            ],
            "type": "histogram2dcontour"
           }
          ],
          "mesh3d": [
           {
            "colorbar": {
             "outlinewidth": 0,
             "ticks": ""
            },
            "type": "mesh3d"
           }
          ],
          "parcoords": [
           {
            "line": {
             "colorbar": {
              "outlinewidth": 0,
              "ticks": ""
             }
            },
            "type": "parcoords"
           }
          ],
          "pie": [
           {
            "automargin": true,
            "type": "pie"
           }
          ],
          "scatter": [
           {
            "marker": {
             "colorbar": {
              "outlinewidth": 0,
              "ticks": ""
             }
            },
            "type": "scatter"
           }
          ],
          "scatter3d": [
           {
            "line": {
             "colorbar": {
              "outlinewidth": 0,
              "ticks": ""
             }
            },
            "marker": {
             "colorbar": {
              "outlinewidth": 0,
              "ticks": ""
             }
            },
            "type": "scatter3d"
           }
          ],
          "scattercarpet": [
           {
            "marker": {
             "colorbar": {
              "outlinewidth": 0,
              "ticks": ""
             }
            },
            "type": "scattercarpet"
           }
          ],
          "scattergeo": [
           {
            "marker": {
             "colorbar": {
              "outlinewidth": 0,
              "ticks": ""
             }
            },
            "type": "scattergeo"
           }
          ],
          "scattergl": [
           {
            "marker": {
             "colorbar": {
              "outlinewidth": 0,
              "ticks": ""
             }
            },
            "type": "scattergl"
           }
          ],
          "scattermapbox": [
           {
            "marker": {
             "colorbar": {
              "outlinewidth": 0,
              "ticks": ""
             }
            },
            "type": "scattermapbox"
           }
          ],
          "scatterpolar": [
           {
            "marker": {
             "colorbar": {
              "outlinewidth": 0,
              "ticks": ""
             }
            },
            "type": "scatterpolar"
           }
          ],
          "scatterpolargl": [
           {
            "marker": {
             "colorbar": {
              "outlinewidth": 0,
              "ticks": ""
             }
            },
            "type": "scatterpolargl"
           }
          ],
          "scatterternary": [
           {
            "marker": {
             "colorbar": {
              "outlinewidth": 0,
              "ticks": ""
             }
            },
            "type": "scatterternary"
           }
          ],
          "surface": [
           {
            "colorbar": {
             "outlinewidth": 0,
             "ticks": ""
            },
            "colorscale": [
             [
              0,
              "#0d0887"
             ],
             [
              0.1111111111111111,
              "#46039f"
             ],
             [
              0.2222222222222222,
              "#7201a8"
             ],
             [
              0.3333333333333333,
              "#9c179e"
             ],
             [
              0.4444444444444444,
              "#bd3786"
             ],
             [
              0.5555555555555556,
              "#d8576b"
             ],
             [
              0.6666666666666666,
              "#ed7953"
             ],
             [
              0.7777777777777778,
              "#fb9f3a"
             ],
             [
              0.8888888888888888,
              "#fdca26"
             ],
             [
              1,
              "#f0f921"
             ]
            ],
            "type": "surface"
           }
          ],
          "table": [
           {
            "cells": {
             "fill": {
              "color": "#EBF0F8"
             },
             "line": {
              "color": "white"
             }
            },
            "header": {
             "fill": {
              "color": "#C8D4E3"
             },
             "line": {
              "color": "white"
             }
            },
            "type": "table"
           }
          ]
         },
         "layout": {
          "annotationdefaults": {
           "arrowcolor": "#2a3f5f",
           "arrowhead": 0,
           "arrowwidth": 1
          },
          "coloraxis": {
           "colorbar": {
            "outlinewidth": 0,
            "ticks": ""
           }
          },
          "colorscale": {
           "diverging": [
            [
             0,
             "#8e0152"
            ],
            [
             0.1,
             "#c51b7d"
            ],
            [
             0.2,
             "#de77ae"
            ],
            [
             0.3,
             "#f1b6da"
            ],
            [
             0.4,
             "#fde0ef"
            ],
            [
             0.5,
             "#f7f7f7"
            ],
            [
             0.6,
             "#e6f5d0"
            ],
            [
             0.7,
             "#b8e186"
            ],
            [
             0.8,
             "#7fbc41"
            ],
            [
             0.9,
             "#4d9221"
            ],
            [
             1,
             "#276419"
            ]
           ],
           "sequential": [
            [
             0,
             "#0d0887"
            ],
            [
             0.1111111111111111,
             "#46039f"
            ],
            [
             0.2222222222222222,
             "#7201a8"
            ],
            [
             0.3333333333333333,
             "#9c179e"
            ],
            [
             0.4444444444444444,
             "#bd3786"
            ],
            [
             0.5555555555555556,
             "#d8576b"
            ],
            [
             0.6666666666666666,
             "#ed7953"
            ],
            [
             0.7777777777777778,
             "#fb9f3a"
            ],
            [
             0.8888888888888888,
             "#fdca26"
            ],
            [
             1,
             "#f0f921"
            ]
           ],
           "sequentialminus": [
            [
             0,
             "#0d0887"
            ],
            [
             0.1111111111111111,
             "#46039f"
            ],
            [
             0.2222222222222222,
             "#7201a8"
            ],
            [
             0.3333333333333333,
             "#9c179e"
            ],
            [
             0.4444444444444444,
             "#bd3786"
            ],
            [
             0.5555555555555556,
             "#d8576b"
            ],
            [
             0.6666666666666666,
             "#ed7953"
            ],
            [
             0.7777777777777778,
             "#fb9f3a"
            ],
            [
             0.8888888888888888,
             "#fdca26"
            ],
            [
             1,
             "#f0f921"
            ]
           ]
          },
          "colorway": [
           "#636efa",
           "#EF553B",
           "#00cc96",
           "#ab63fa",
           "#FFA15A",
           "#19d3f3",
           "#FF6692",
           "#B6E880",
           "#FF97FF",
           "#FECB52"
          ],
          "font": {
           "color": "#2a3f5f"
          },
          "geo": {
           "bgcolor": "white",
           "lakecolor": "white",
           "landcolor": "#E5ECF6",
           "showlakes": true,
           "showland": true,
           "subunitcolor": "white"
          },
          "hoverlabel": {
           "align": "left"
          },
          "hovermode": "closest",
          "mapbox": {
           "style": "light"
          },
          "paper_bgcolor": "white",
          "plot_bgcolor": "#E5ECF6",
          "polar": {
           "angularaxis": {
            "gridcolor": "white",
            "linecolor": "white",
            "ticks": ""
           },
           "bgcolor": "#E5ECF6",
           "radialaxis": {
            "gridcolor": "white",
            "linecolor": "white",
            "ticks": ""
           }
          },
          "scene": {
           "xaxis": {
            "backgroundcolor": "#E5ECF6",
            "gridcolor": "white",
            "gridwidth": 2,
            "linecolor": "white",
            "showbackground": true,
            "ticks": "",
            "zerolinecolor": "white"
           },
           "yaxis": {
            "backgroundcolor": "#E5ECF6",
            "gridcolor": "white",
            "gridwidth": 2,
            "linecolor": "white",
            "showbackground": true,
            "ticks": "",
            "zerolinecolor": "white"
           },
           "zaxis": {
            "backgroundcolor": "#E5ECF6",
            "gridcolor": "white",
            "gridwidth": 2,
            "linecolor": "white",
            "showbackground": true,
            "ticks": "",
            "zerolinecolor": "white"
           }
          },
          "shapedefaults": {
           "line": {
            "color": "#2a3f5f"
           }
          },
          "ternary": {
           "aaxis": {
            "gridcolor": "white",
            "linecolor": "white",
            "ticks": ""
           },
           "baxis": {
            "gridcolor": "white",
            "linecolor": "white",
            "ticks": ""
           },
           "bgcolor": "#E5ECF6",
           "caxis": {
            "gridcolor": "white",
            "linecolor": "white",
            "ticks": ""
           }
          },
          "title": {
           "x": 0.05
          },
          "xaxis": {
           "automargin": true,
           "gridcolor": "white",
           "linecolor": "white",
           "ticks": "",
           "title": {
            "standoff": 15
           },
           "zerolinecolor": "white",
           "zerolinewidth": 2
          },
          "yaxis": {
           "automargin": true,
           "gridcolor": "white",
           "linecolor": "white",
           "ticks": "",
           "title": {
            "standoff": 15
           },
           "zerolinecolor": "white",
           "zerolinewidth": 2
          }
         }
        },
        "title": {
         "text": "Views per video"
        }
       }
      },
      "text/html": [
       "<div>\n",
       "        \n",
       "        \n",
       "            <div id=\"7073d67d-e23a-4c19-b51f-47ac5e7a18c8\" class=\"plotly-graph-div\" style=\"height:525px; width:100%;\"></div>\n",
       "            <script type=\"text/javascript\">\n",
       "                require([\"plotly\"], function(Plotly) {\n",
       "                    window.PLOTLYENV=window.PLOTLYENV || {};\n",
       "                    \n",
       "                if (document.getElementById(\"7073d67d-e23a-4c19-b51f-47ac5e7a18c8\")) {\n",
       "                    Plotly.newPlot(\n",
       "                        '7073d67d-e23a-4c19-b51f-47ac5e7a18c8',\n",
       "                        [{\"marker\": {\"color\": [\"crimson\", \"crimson\", \"crimson\", \"crimson\", \"crimson\", \"green\", \"crimson\", \"crimson\", \"crimson\", \"crimson\", \"crimson\", \"crimson\", \"crimson\", \"crimson\", \"green\", \"crimson\", \"crimson\", \"crimson\", \"crimson\", \"green\", \"green\", \"crimson\", \"crimson\", \"crimson\", \"crimson\", \"crimson\", \"crimson\", \"crimson\", \"crimson\", \"crimson\", \"crimson\", \"crimson\", \"crimson\", \"crimson\", \"green\", \"crimson\", \"crimson\", \"crimson\", \"crimson\", \"crimson\", \"crimson\", \"crimson\", \"crimson\", \"crimson\", \"crimson\", \"crimson\", \"crimson\", \"crimson\", \"crimson\", \"crimson\", \"crimson\", \"crimson\", \"crimson\", \"crimson\", \"crimson\", \"crimson\"]}, \"type\": \"bar\", \"x\": [0, 1, 2, 3, 4, 5, 6, 7, 8, 9, 10, 11, 12, 13, 14, 15, 16, 17, 18, 19, 20, 21, 22, 23, 24, 25, 26, 27, 28, 29, 30, 31, 32, 33, 34, 35, 36, 37, 38, 39, 40, 41, 42, 43, 44, 45, 46, 47, 48, 49, 50, 51, 52, 53, 54, 55], \"y\": [11988884, 20507427, 3312187, 12838146, 5381311, 19419286, 534349, 27156, 654933, 7285335, 993762, 745238, 17508, 440207, 15506304, 5253069, 907598, 6508398, 6347872, 15858042, 12884894, 1139839, 270017, 7144, 1286380, 10083354, 679743, 166954, 2860638, 377070, 4573541, 2593156, 491065, 805744, 19926469, 2714090, 2962, 1545603, 339034, 893514, 451722, 2711671, 117323, 11892940, 444997, 1032280, 2733924, 184450, 5834227, 113663, 3024121, 3470280, 335127, 39450, 3728024, 3524983]}],\n",
       "                        {\"template\": {\"data\": {\"bar\": [{\"error_x\": {\"color\": \"#2a3f5f\"}, \"error_y\": {\"color\": \"#2a3f5f\"}, \"marker\": {\"line\": {\"color\": \"#E5ECF6\", \"width\": 0.5}}, \"type\": \"bar\"}], \"barpolar\": [{\"marker\": {\"line\": {\"color\": \"#E5ECF6\", \"width\": 0.5}}, \"type\": \"barpolar\"}], \"carpet\": [{\"aaxis\": {\"endlinecolor\": \"#2a3f5f\", \"gridcolor\": \"white\", \"linecolor\": \"white\", \"minorgridcolor\": \"white\", \"startlinecolor\": \"#2a3f5f\"}, \"baxis\": {\"endlinecolor\": \"#2a3f5f\", \"gridcolor\": \"white\", \"linecolor\": \"white\", \"minorgridcolor\": \"white\", \"startlinecolor\": \"#2a3f5f\"}, \"type\": \"carpet\"}], \"choropleth\": [{\"colorbar\": {\"outlinewidth\": 0, \"ticks\": \"\"}, \"type\": \"choropleth\"}], \"contour\": [{\"colorbar\": {\"outlinewidth\": 0, \"ticks\": \"\"}, \"colorscale\": [[0.0, \"#0d0887\"], [0.1111111111111111, \"#46039f\"], [0.2222222222222222, \"#7201a8\"], [0.3333333333333333, \"#9c179e\"], [0.4444444444444444, \"#bd3786\"], [0.5555555555555556, \"#d8576b\"], [0.6666666666666666, \"#ed7953\"], [0.7777777777777778, \"#fb9f3a\"], [0.8888888888888888, \"#fdca26\"], [1.0, \"#f0f921\"]], \"type\": \"contour\"}], \"contourcarpet\": [{\"colorbar\": {\"outlinewidth\": 0, \"ticks\": \"\"}, \"type\": \"contourcarpet\"}], \"heatmap\": [{\"colorbar\": {\"outlinewidth\": 0, \"ticks\": \"\"}, \"colorscale\": [[0.0, \"#0d0887\"], [0.1111111111111111, \"#46039f\"], [0.2222222222222222, \"#7201a8\"], [0.3333333333333333, \"#9c179e\"], [0.4444444444444444, \"#bd3786\"], [0.5555555555555556, \"#d8576b\"], [0.6666666666666666, \"#ed7953\"], [0.7777777777777778, \"#fb9f3a\"], [0.8888888888888888, \"#fdca26\"], [1.0, \"#f0f921\"]], \"type\": \"heatmap\"}], \"heatmapgl\": [{\"colorbar\": {\"outlinewidth\": 0, \"ticks\": \"\"}, \"colorscale\": [[0.0, \"#0d0887\"], [0.1111111111111111, \"#46039f\"], [0.2222222222222222, \"#7201a8\"], [0.3333333333333333, \"#9c179e\"], [0.4444444444444444, \"#bd3786\"], [0.5555555555555556, \"#d8576b\"], [0.6666666666666666, \"#ed7953\"], [0.7777777777777778, \"#fb9f3a\"], [0.8888888888888888, \"#fdca26\"], [1.0, \"#f0f921\"]], \"type\": \"heatmapgl\"}], \"histogram\": [{\"marker\": {\"colorbar\": {\"outlinewidth\": 0, \"ticks\": \"\"}}, \"type\": \"histogram\"}], \"histogram2d\": [{\"colorbar\": {\"outlinewidth\": 0, \"ticks\": \"\"}, \"colorscale\": [[0.0, \"#0d0887\"], [0.1111111111111111, \"#46039f\"], [0.2222222222222222, \"#7201a8\"], [0.3333333333333333, \"#9c179e\"], [0.4444444444444444, \"#bd3786\"], [0.5555555555555556, \"#d8576b\"], [0.6666666666666666, \"#ed7953\"], [0.7777777777777778, \"#fb9f3a\"], [0.8888888888888888, \"#fdca26\"], [1.0, \"#f0f921\"]], \"type\": \"histogram2d\"}], \"histogram2dcontour\": [{\"colorbar\": {\"outlinewidth\": 0, \"ticks\": \"\"}, \"colorscale\": [[0.0, \"#0d0887\"], [0.1111111111111111, \"#46039f\"], [0.2222222222222222, \"#7201a8\"], [0.3333333333333333, \"#9c179e\"], [0.4444444444444444, \"#bd3786\"], [0.5555555555555556, \"#d8576b\"], [0.6666666666666666, \"#ed7953\"], [0.7777777777777778, \"#fb9f3a\"], [0.8888888888888888, \"#fdca26\"], [1.0, \"#f0f921\"]], \"type\": \"histogram2dcontour\"}], \"mesh3d\": [{\"colorbar\": {\"outlinewidth\": 0, \"ticks\": \"\"}, \"type\": \"mesh3d\"}], \"parcoords\": [{\"line\": {\"colorbar\": {\"outlinewidth\": 0, \"ticks\": \"\"}}, \"type\": \"parcoords\"}], \"pie\": [{\"automargin\": true, \"type\": \"pie\"}], \"scatter\": [{\"marker\": {\"colorbar\": {\"outlinewidth\": 0, \"ticks\": \"\"}}, \"type\": \"scatter\"}], \"scatter3d\": [{\"line\": {\"colorbar\": {\"outlinewidth\": 0, \"ticks\": \"\"}}, \"marker\": {\"colorbar\": {\"outlinewidth\": 0, \"ticks\": \"\"}}, \"type\": \"scatter3d\"}], \"scattercarpet\": [{\"marker\": {\"colorbar\": {\"outlinewidth\": 0, \"ticks\": \"\"}}, \"type\": \"scattercarpet\"}], \"scattergeo\": [{\"marker\": {\"colorbar\": {\"outlinewidth\": 0, \"ticks\": \"\"}}, \"type\": \"scattergeo\"}], \"scattergl\": [{\"marker\": {\"colorbar\": {\"outlinewidth\": 0, \"ticks\": \"\"}}, \"type\": \"scattergl\"}], \"scattermapbox\": [{\"marker\": {\"colorbar\": {\"outlinewidth\": 0, \"ticks\": \"\"}}, \"type\": \"scattermapbox\"}], \"scatterpolar\": [{\"marker\": {\"colorbar\": {\"outlinewidth\": 0, \"ticks\": \"\"}}, \"type\": \"scatterpolar\"}], \"scatterpolargl\": [{\"marker\": {\"colorbar\": {\"outlinewidth\": 0, \"ticks\": \"\"}}, \"type\": \"scatterpolargl\"}], \"scatterternary\": [{\"marker\": {\"colorbar\": {\"outlinewidth\": 0, \"ticks\": \"\"}}, \"type\": \"scatterternary\"}], \"surface\": [{\"colorbar\": {\"outlinewidth\": 0, \"ticks\": \"\"}, \"colorscale\": [[0.0, \"#0d0887\"], [0.1111111111111111, \"#46039f\"], [0.2222222222222222, \"#7201a8\"], [0.3333333333333333, \"#9c179e\"], [0.4444444444444444, \"#bd3786\"], [0.5555555555555556, \"#d8576b\"], [0.6666666666666666, \"#ed7953\"], [0.7777777777777778, \"#fb9f3a\"], [0.8888888888888888, \"#fdca26\"], [1.0, \"#f0f921\"]], \"type\": \"surface\"}], \"table\": [{\"cells\": {\"fill\": {\"color\": \"#EBF0F8\"}, \"line\": {\"color\": \"white\"}}, \"header\": {\"fill\": {\"color\": \"#C8D4E3\"}, \"line\": {\"color\": \"white\"}}, \"type\": \"table\"}]}, \"layout\": {\"annotationdefaults\": {\"arrowcolor\": \"#2a3f5f\", \"arrowhead\": 0, \"arrowwidth\": 1}, \"coloraxis\": {\"colorbar\": {\"outlinewidth\": 0, \"ticks\": \"\"}}, \"colorscale\": {\"diverging\": [[0, \"#8e0152\"], [0.1, \"#c51b7d\"], [0.2, \"#de77ae\"], [0.3, \"#f1b6da\"], [0.4, \"#fde0ef\"], [0.5, \"#f7f7f7\"], [0.6, \"#e6f5d0\"], [0.7, \"#b8e186\"], [0.8, \"#7fbc41\"], [0.9, \"#4d9221\"], [1, \"#276419\"]], \"sequential\": [[0.0, \"#0d0887\"], [0.1111111111111111, \"#46039f\"], [0.2222222222222222, \"#7201a8\"], [0.3333333333333333, \"#9c179e\"], [0.4444444444444444, \"#bd3786\"], [0.5555555555555556, \"#d8576b\"], [0.6666666666666666, \"#ed7953\"], [0.7777777777777778, \"#fb9f3a\"], [0.8888888888888888, \"#fdca26\"], [1.0, \"#f0f921\"]], \"sequentialminus\": [[0.0, \"#0d0887\"], [0.1111111111111111, \"#46039f\"], [0.2222222222222222, \"#7201a8\"], [0.3333333333333333, \"#9c179e\"], [0.4444444444444444, \"#bd3786\"], [0.5555555555555556, \"#d8576b\"], [0.6666666666666666, \"#ed7953\"], [0.7777777777777778, \"#fb9f3a\"], [0.8888888888888888, \"#fdca26\"], [1.0, \"#f0f921\"]]}, \"colorway\": [\"#636efa\", \"#EF553B\", \"#00cc96\", \"#ab63fa\", \"#FFA15A\", \"#19d3f3\", \"#FF6692\", \"#B6E880\", \"#FF97FF\", \"#FECB52\"], \"font\": {\"color\": \"#2a3f5f\"}, \"geo\": {\"bgcolor\": \"white\", \"lakecolor\": \"white\", \"landcolor\": \"#E5ECF6\", \"showlakes\": true, \"showland\": true, \"subunitcolor\": \"white\"}, \"hoverlabel\": {\"align\": \"left\"}, \"hovermode\": \"closest\", \"mapbox\": {\"style\": \"light\"}, \"paper_bgcolor\": \"white\", \"plot_bgcolor\": \"#E5ECF6\", \"polar\": {\"angularaxis\": {\"gridcolor\": \"white\", \"linecolor\": \"white\", \"ticks\": \"\"}, \"bgcolor\": \"#E5ECF6\", \"radialaxis\": {\"gridcolor\": \"white\", \"linecolor\": \"white\", \"ticks\": \"\"}}, \"scene\": {\"xaxis\": {\"backgroundcolor\": \"#E5ECF6\", \"gridcolor\": \"white\", \"gridwidth\": 2, \"linecolor\": \"white\", \"showbackground\": true, \"ticks\": \"\", \"zerolinecolor\": \"white\"}, \"yaxis\": {\"backgroundcolor\": \"#E5ECF6\", \"gridcolor\": \"white\", \"gridwidth\": 2, \"linecolor\": \"white\", \"showbackground\": true, \"ticks\": \"\", \"zerolinecolor\": \"white\"}, \"zaxis\": {\"backgroundcolor\": \"#E5ECF6\", \"gridcolor\": \"white\", \"gridwidth\": 2, \"linecolor\": \"white\", \"showbackground\": true, \"ticks\": \"\", \"zerolinecolor\": \"white\"}}, \"shapedefaults\": {\"line\": {\"color\": \"#2a3f5f\"}}, \"ternary\": {\"aaxis\": {\"gridcolor\": \"white\", \"linecolor\": \"white\", \"ticks\": \"\"}, \"baxis\": {\"gridcolor\": \"white\", \"linecolor\": \"white\", \"ticks\": \"\"}, \"bgcolor\": \"#E5ECF6\", \"caxis\": {\"gridcolor\": \"white\", \"linecolor\": \"white\", \"ticks\": \"\"}}, \"title\": {\"x\": 0.05}, \"xaxis\": {\"automargin\": true, \"gridcolor\": \"white\", \"linecolor\": \"white\", \"ticks\": \"\", \"title\": {\"standoff\": 15}, \"zerolinecolor\": \"white\", \"zerolinewidth\": 2}, \"yaxis\": {\"automargin\": true, \"gridcolor\": \"white\", \"linecolor\": \"white\", \"ticks\": \"\", \"title\": {\"standoff\": 15}, \"zerolinecolor\": \"white\", \"zerolinewidth\": 2}}}, \"title\": {\"text\": \"Views per video\"}},\n",
       "                        {\"responsive\": true}\n",
       "                    ).then(function(){\n",
       "                            \n",
       "var gd = document.getElementById('7073d67d-e23a-4c19-b51f-47ac5e7a18c8');\n",
       "var x = new MutationObserver(function (mutations, observer) {{\n",
       "        var display = window.getComputedStyle(gd).display;\n",
       "        if (!display || display === 'none') {{\n",
       "            console.log([gd, 'removed!']);\n",
       "            Plotly.purge(gd);\n",
       "            observer.disconnect();\n",
       "        }}\n",
       "}});\n",
       "\n",
       "// Listen for the removal of the full notebook cells\n",
       "var notebookContainer = gd.closest('#notebook-container');\n",
       "if (notebookContainer) {{\n",
       "    x.observe(notebookContainer, {childList: true});\n",
       "}}\n",
       "\n",
       "// Listen for the clearing of the current output cell\n",
       "var outputEl = gd.closest('.output');\n",
       "if (outputEl) {{\n",
       "    x.observe(outputEl, {childList: true});\n",
       "}}\n",
       "\n",
       "                        })\n",
       "                };\n",
       "                });\n",
       "            </script>\n",
       "        </div>"
      ]
     },
     "metadata": {},
     "output_type": "display_data"
    }
   ],
   "source": [
    "import plotly.graph_objects as go\n",
    "\n",
    "colors = ['lightslategray'] * len(df1)\n",
    "\n",
    "for i in df1.index:\n",
    "    if i in list1:\n",
    "        colors[i] = 'green'\n",
    "    else:\n",
    "        colors[i] = 'crimson'\n",
    "\n",
    "fig = go.Figure(data=[go.Bar(\n",
    "    x=[i for i in range(len(df1))],\n",
    "    y=[i for i in df1.Views],\n",
    "    marker_color=colors # marker color can be a single color value or an iterable\n",
    ")])\n",
    "fig.update_layout(title_text='Views per video')"
   ]
  },
  {
   "cell_type": "code",
   "execution_count": 18,
   "metadata": {},
   "outputs": [
    {
     "data": {
      "application/vnd.plotly.v1+json": {
       "config": {
        "plotlyServerURL": "https://plot.ly"
       },
       "data": [
        {
         "marker": {
          "color": [
           "crimson",
           "crimson",
           "crimson",
           "crimson",
           "crimson",
           "green",
           "crimson",
           "crimson",
           "crimson",
           "crimson",
           "crimson",
           "crimson",
           "crimson",
           "crimson",
           "green",
           "crimson",
           "crimson",
           "crimson",
           "crimson",
           "green",
           "green",
           "crimson",
           "crimson",
           "crimson",
           "crimson",
           "crimson",
           "crimson",
           "crimson",
           "crimson",
           "crimson",
           "crimson",
           "crimson",
           "crimson",
           "crimson",
           "green",
           "crimson",
           "crimson",
           "crimson",
           "crimson",
           "crimson",
           "crimson",
           "crimson",
           "crimson",
           "crimson",
           "crimson",
           "crimson",
           "crimson",
           "crimson",
           "crimson",
           "crimson",
           "crimson",
           "crimson",
           "crimson",
           "crimson",
           "crimson",
           "crimson"
          ]
         },
         "type": "bar",
         "x": [
          0,
          1,
          2,
          3,
          4,
          5,
          6,
          7,
          8,
          9,
          10,
          11,
          12,
          13,
          14,
          15,
          16,
          17,
          18,
          19,
          20,
          21,
          22,
          23,
          24,
          25,
          26,
          27,
          28,
          29,
          30,
          31,
          32,
          33,
          34,
          35,
          36,
          37,
          38,
          39,
          40,
          41,
          42,
          43,
          44,
          45,
          46,
          47,
          48,
          49,
          50,
          51,
          52,
          53,
          54,
          55
         ],
         "y": [
          272000,
          3450000,
          3450000,
          1500000,
          3450000,
          441000,
          3540000,
          46900,
          45800,
          1210000,
          5410000,
          594000,
          59000,
          73300,
          272000,
          2810000,
          1120000,
          4320000,
          742000,
          1120000,
          247000,
          57000,
          4200,
          45800,
          634000,
          1930000,
          20500,
          11200,
          1920000,
          3450000,
          3450000,
          3450000,
          73300,
          1,
          1,
          168000,
          14900,
          2600000,
          537000,
          614000,
          742000,
          5410000,
          111000,
          1,
          1,
          742000,
          803000,
          594000,
          45800,
          742000,
          4320000,
          46900,
          20300,
          118000,
          17500,
          318000
         ]
        }
       ],
       "layout": {
        "template": {
         "data": {
          "bar": [
           {
            "error_x": {
             "color": "#2a3f5f"
            },
            "error_y": {
             "color": "#2a3f5f"
            },
            "marker": {
             "line": {
              "color": "#E5ECF6",
              "width": 0.5
             }
            },
            "type": "bar"
           }
          ],
          "barpolar": [
           {
            "marker": {
             "line": {
              "color": "#E5ECF6",
              "width": 0.5
             }
            },
            "type": "barpolar"
           }
          ],
          "carpet": [
           {
            "aaxis": {
             "endlinecolor": "#2a3f5f",
             "gridcolor": "white",
             "linecolor": "white",
             "minorgridcolor": "white",
             "startlinecolor": "#2a3f5f"
            },
            "baxis": {
             "endlinecolor": "#2a3f5f",
             "gridcolor": "white",
             "linecolor": "white",
             "minorgridcolor": "white",
             "startlinecolor": "#2a3f5f"
            },
            "type": "carpet"
           }
          ],
          "choropleth": [
           {
            "colorbar": {
             "outlinewidth": 0,
             "ticks": ""
            },
            "type": "choropleth"
           }
          ],
          "contour": [
           {
            "colorbar": {
             "outlinewidth": 0,
             "ticks": ""
            },
            "colorscale": [
             [
              0,
              "#0d0887"
             ],
             [
              0.1111111111111111,
              "#46039f"
             ],
             [
              0.2222222222222222,
              "#7201a8"
             ],
             [
              0.3333333333333333,
              "#9c179e"
             ],
             [
              0.4444444444444444,
              "#bd3786"
             ],
             [
              0.5555555555555556,
              "#d8576b"
             ],
             [
              0.6666666666666666,
              "#ed7953"
             ],
             [
              0.7777777777777778,
              "#fb9f3a"
             ],
             [
              0.8888888888888888,
              "#fdca26"
             ],
             [
              1,
              "#f0f921"
             ]
            ],
            "type": "contour"
           }
          ],
          "contourcarpet": [
           {
            "colorbar": {
             "outlinewidth": 0,
             "ticks": ""
            },
            "type": "contourcarpet"
           }
          ],
          "heatmap": [
           {
            "colorbar": {
             "outlinewidth": 0,
             "ticks": ""
            },
            "colorscale": [
             [
              0,
              "#0d0887"
             ],
             [
              0.1111111111111111,
              "#46039f"
             ],
             [
              0.2222222222222222,
              "#7201a8"
             ],
             [
              0.3333333333333333,
              "#9c179e"
             ],
             [
              0.4444444444444444,
              "#bd3786"
             ],
             [
              0.5555555555555556,
              "#d8576b"
             ],
             [
              0.6666666666666666,
              "#ed7953"
             ],
             [
              0.7777777777777778,
              "#fb9f3a"
             ],
             [
              0.8888888888888888,
              "#fdca26"
             ],
             [
              1,
              "#f0f921"
             ]
            ],
            "type": "heatmap"
           }
          ],
          "heatmapgl": [
           {
            "colorbar": {
             "outlinewidth": 0,
             "ticks": ""
            },
            "colorscale": [
             [
              0,
              "#0d0887"
             ],
             [
              0.1111111111111111,
              "#46039f"
             ],
             [
              0.2222222222222222,
              "#7201a8"
             ],
             [
              0.3333333333333333,
              "#9c179e"
             ],
             [
              0.4444444444444444,
              "#bd3786"
             ],
             [
              0.5555555555555556,
              "#d8576b"
             ],
             [
              0.6666666666666666,
              "#ed7953"
             ],
             [
              0.7777777777777778,
              "#fb9f3a"
             ],
             [
              0.8888888888888888,
              "#fdca26"
             ],
             [
              1,
              "#f0f921"
             ]
            ],
            "type": "heatmapgl"
           }
          ],
          "histogram": [
           {
            "marker": {
             "colorbar": {
              "outlinewidth": 0,
              "ticks": ""
             }
            },
            "type": "histogram"
           }
          ],
          "histogram2d": [
           {
            "colorbar": {
             "outlinewidth": 0,
             "ticks": ""
            },
            "colorscale": [
             [
              0,
              "#0d0887"
             ],
             [
              0.1111111111111111,
              "#46039f"
             ],
             [
              0.2222222222222222,
              "#7201a8"
             ],
             [
              0.3333333333333333,
              "#9c179e"
             ],
             [
              0.4444444444444444,
              "#bd3786"
             ],
             [
              0.5555555555555556,
              "#d8576b"
             ],
             [
              0.6666666666666666,
              "#ed7953"
             ],
             [
              0.7777777777777778,
              "#fb9f3a"
             ],
             [
              0.8888888888888888,
              "#fdca26"
             ],
             [
              1,
              "#f0f921"
             ]
            ],
            "type": "histogram2d"
           }
          ],
          "histogram2dcontour": [
           {
            "colorbar": {
             "outlinewidth": 0,
             "ticks": ""
            },
            "colorscale": [
             [
              0,
              "#0d0887"
             ],
             [
              0.1111111111111111,
              "#46039f"
             ],
             [
              0.2222222222222222,
              "#7201a8"
             ],
             [
              0.3333333333333333,
              "#9c179e"
             ],
             [
              0.4444444444444444,
              "#bd3786"
             ],
             [
              0.5555555555555556,
              "#d8576b"
             ],
             [
              0.6666666666666666,
              "#ed7953"
             ],
             [
              0.7777777777777778,
              "#fb9f3a"
             ],
             [
              0.8888888888888888,
              "#fdca26"
             ],
             [
              1,
              "#f0f921"
             ]
            ],
            "type": "histogram2dcontour"
           }
          ],
          "mesh3d": [
           {
            "colorbar": {
             "outlinewidth": 0,
             "ticks": ""
            },
            "type": "mesh3d"
           }
          ],
          "parcoords": [
           {
            "line": {
             "colorbar": {
              "outlinewidth": 0,
              "ticks": ""
             }
            },
            "type": "parcoords"
           }
          ],
          "pie": [
           {
            "automargin": true,
            "type": "pie"
           }
          ],
          "scatter": [
           {
            "marker": {
             "colorbar": {
              "outlinewidth": 0,
              "ticks": ""
             }
            },
            "type": "scatter"
           }
          ],
          "scatter3d": [
           {
            "line": {
             "colorbar": {
              "outlinewidth": 0,
              "ticks": ""
             }
            },
            "marker": {
             "colorbar": {
              "outlinewidth": 0,
              "ticks": ""
             }
            },
            "type": "scatter3d"
           }
          ],
          "scattercarpet": [
           {
            "marker": {
             "colorbar": {
              "outlinewidth": 0,
              "ticks": ""
             }
            },
            "type": "scattercarpet"
           }
          ],
          "scattergeo": [
           {
            "marker": {
             "colorbar": {
              "outlinewidth": 0,
              "ticks": ""
             }
            },
            "type": "scattergeo"
           }
          ],
          "scattergl": [
           {
            "marker": {
             "colorbar": {
              "outlinewidth": 0,
              "ticks": ""
             }
            },
            "type": "scattergl"
           }
          ],
          "scattermapbox": [
           {
            "marker": {
             "colorbar": {
              "outlinewidth": 0,
              "ticks": ""
             }
            },
            "type": "scattermapbox"
           }
          ],
          "scatterpolar": [
           {
            "marker": {
             "colorbar": {
              "outlinewidth": 0,
              "ticks": ""
             }
            },
            "type": "scatterpolar"
           }
          ],
          "scatterpolargl": [
           {
            "marker": {
             "colorbar": {
              "outlinewidth": 0,
              "ticks": ""
             }
            },
            "type": "scatterpolargl"
           }
          ],
          "scatterternary": [
           {
            "marker": {
             "colorbar": {
              "outlinewidth": 0,
              "ticks": ""
             }
            },
            "type": "scatterternary"
           }
          ],
          "surface": [
           {
            "colorbar": {
             "outlinewidth": 0,
             "ticks": ""
            },
            "colorscale": [
             [
              0,
              "#0d0887"
             ],
             [
              0.1111111111111111,
              "#46039f"
             ],
             [
              0.2222222222222222,
              "#7201a8"
             ],
             [
              0.3333333333333333,
              "#9c179e"
             ],
             [
              0.4444444444444444,
              "#bd3786"
             ],
             [
              0.5555555555555556,
              "#d8576b"
             ],
             [
              0.6666666666666666,
              "#ed7953"
             ],
             [
              0.7777777777777778,
              "#fb9f3a"
             ],
             [
              0.8888888888888888,
              "#fdca26"
             ],
             [
              1,
              "#f0f921"
             ]
            ],
            "type": "surface"
           }
          ],
          "table": [
           {
            "cells": {
             "fill": {
              "color": "#EBF0F8"
             },
             "line": {
              "color": "white"
             }
            },
            "header": {
             "fill": {
              "color": "#C8D4E3"
             },
             "line": {
              "color": "white"
             }
            },
            "type": "table"
           }
          ]
         },
         "layout": {
          "annotationdefaults": {
           "arrowcolor": "#2a3f5f",
           "arrowhead": 0,
           "arrowwidth": 1
          },
          "coloraxis": {
           "colorbar": {
            "outlinewidth": 0,
            "ticks": ""
           }
          },
          "colorscale": {
           "diverging": [
            [
             0,
             "#8e0152"
            ],
            [
             0.1,
             "#c51b7d"
            ],
            [
             0.2,
             "#de77ae"
            ],
            [
             0.3,
             "#f1b6da"
            ],
            [
             0.4,
             "#fde0ef"
            ],
            [
             0.5,
             "#f7f7f7"
            ],
            [
             0.6,
             "#e6f5d0"
            ],
            [
             0.7,
             "#b8e186"
            ],
            [
             0.8,
             "#7fbc41"
            ],
            [
             0.9,
             "#4d9221"
            ],
            [
             1,
             "#276419"
            ]
           ],
           "sequential": [
            [
             0,
             "#0d0887"
            ],
            [
             0.1111111111111111,
             "#46039f"
            ],
            [
             0.2222222222222222,
             "#7201a8"
            ],
            [
             0.3333333333333333,
             "#9c179e"
            ],
            [
             0.4444444444444444,
             "#bd3786"
            ],
            [
             0.5555555555555556,
             "#d8576b"
            ],
            [
             0.6666666666666666,
             "#ed7953"
            ],
            [
             0.7777777777777778,
             "#fb9f3a"
            ],
            [
             0.8888888888888888,
             "#fdca26"
            ],
            [
             1,
             "#f0f921"
            ]
           ],
           "sequentialminus": [
            [
             0,
             "#0d0887"
            ],
            [
             0.1111111111111111,
             "#46039f"
            ],
            [
             0.2222222222222222,
             "#7201a8"
            ],
            [
             0.3333333333333333,
             "#9c179e"
            ],
            [
             0.4444444444444444,
             "#bd3786"
            ],
            [
             0.5555555555555556,
             "#d8576b"
            ],
            [
             0.6666666666666666,
             "#ed7953"
            ],
            [
             0.7777777777777778,
             "#fb9f3a"
            ],
            [
             0.8888888888888888,
             "#fdca26"
            ],
            [
             1,
             "#f0f921"
            ]
           ]
          },
          "colorway": [
           "#636efa",
           "#EF553B",
           "#00cc96",
           "#ab63fa",
           "#FFA15A",
           "#19d3f3",
           "#FF6692",
           "#B6E880",
           "#FF97FF",
           "#FECB52"
          ],
          "font": {
           "color": "#2a3f5f"
          },
          "geo": {
           "bgcolor": "white",
           "lakecolor": "white",
           "landcolor": "#E5ECF6",
           "showlakes": true,
           "showland": true,
           "subunitcolor": "white"
          },
          "hoverlabel": {
           "align": "left"
          },
          "hovermode": "closest",
          "mapbox": {
           "style": "light"
          },
          "paper_bgcolor": "white",
          "plot_bgcolor": "#E5ECF6",
          "polar": {
           "angularaxis": {
            "gridcolor": "white",
            "linecolor": "white",
            "ticks": ""
           },
           "bgcolor": "#E5ECF6",
           "radialaxis": {
            "gridcolor": "white",
            "linecolor": "white",
            "ticks": ""
           }
          },
          "scene": {
           "xaxis": {
            "backgroundcolor": "#E5ECF6",
            "gridcolor": "white",
            "gridwidth": 2,
            "linecolor": "white",
            "showbackground": true,
            "ticks": "",
            "zerolinecolor": "white"
           },
           "yaxis": {
            "backgroundcolor": "#E5ECF6",
            "gridcolor": "white",
            "gridwidth": 2,
            "linecolor": "white",
            "showbackground": true,
            "ticks": "",
            "zerolinecolor": "white"
           },
           "zaxis": {
            "backgroundcolor": "#E5ECF6",
            "gridcolor": "white",
            "gridwidth": 2,
            "linecolor": "white",
            "showbackground": true,
            "ticks": "",
            "zerolinecolor": "white"
           }
          },
          "shapedefaults": {
           "line": {
            "color": "#2a3f5f"
           }
          },
          "ternary": {
           "aaxis": {
            "gridcolor": "white",
            "linecolor": "white",
            "ticks": ""
           },
           "baxis": {
            "gridcolor": "white",
            "linecolor": "white",
            "ticks": ""
           },
           "bgcolor": "#E5ECF6",
           "caxis": {
            "gridcolor": "white",
            "linecolor": "white",
            "ticks": ""
           }
          },
          "title": {
           "x": 0.05
          },
          "xaxis": {
           "automargin": true,
           "gridcolor": "white",
           "linecolor": "white",
           "ticks": "",
           "title": {
            "standoff": 15
           },
           "zerolinecolor": "white",
           "zerolinewidth": 2
          },
          "yaxis": {
           "automargin": true,
           "gridcolor": "white",
           "linecolor": "white",
           "ticks": "",
           "title": {
            "standoff": 15
           },
           "zerolinecolor": "white",
           "zerolinewidth": 2
          }
         }
        },
        "title": {
         "text": "Subcount per video"
        }
       }
      },
      "text/html": [
       "<div>\n",
       "        \n",
       "        \n",
       "            <div id=\"02e80a3b-5ee3-4fd1-8a28-ba26802f6b90\" class=\"plotly-graph-div\" style=\"height:525px; width:100%;\"></div>\n",
       "            <script type=\"text/javascript\">\n",
       "                require([\"plotly\"], function(Plotly) {\n",
       "                    window.PLOTLYENV=window.PLOTLYENV || {};\n",
       "                    \n",
       "                if (document.getElementById(\"02e80a3b-5ee3-4fd1-8a28-ba26802f6b90\")) {\n",
       "                    Plotly.newPlot(\n",
       "                        '02e80a3b-5ee3-4fd1-8a28-ba26802f6b90',\n",
       "                        [{\"marker\": {\"color\": [\"crimson\", \"crimson\", \"crimson\", \"crimson\", \"crimson\", \"green\", \"crimson\", \"crimson\", \"crimson\", \"crimson\", \"crimson\", \"crimson\", \"crimson\", \"crimson\", \"green\", \"crimson\", \"crimson\", \"crimson\", \"crimson\", \"green\", \"green\", \"crimson\", \"crimson\", \"crimson\", \"crimson\", \"crimson\", \"crimson\", \"crimson\", \"crimson\", \"crimson\", \"crimson\", \"crimson\", \"crimson\", \"crimson\", \"green\", \"crimson\", \"crimson\", \"crimson\", \"crimson\", \"crimson\", \"crimson\", \"crimson\", \"crimson\", \"crimson\", \"crimson\", \"crimson\", \"crimson\", \"crimson\", \"crimson\", \"crimson\", \"crimson\", \"crimson\", \"crimson\", \"crimson\", \"crimson\", \"crimson\"]}, \"type\": \"bar\", \"x\": [0, 1, 2, 3, 4, 5, 6, 7, 8, 9, 10, 11, 12, 13, 14, 15, 16, 17, 18, 19, 20, 21, 22, 23, 24, 25, 26, 27, 28, 29, 30, 31, 32, 33, 34, 35, 36, 37, 38, 39, 40, 41, 42, 43, 44, 45, 46, 47, 48, 49, 50, 51, 52, 53, 54, 55], \"y\": [272000, 3450000.0, 3450000.0, 1500000.0, 3450000.0, 441000, 3540000.0, 46900.0, 45800.0, 1210000.0, 5410000.0, 594000, 59000, 73300.0, 272000, 2810000.0, 1120000.0, 4320000.0, 742000, 1120000.0, 247000, 57000, 4200.0, 45800.0, 634000, 1930000.0, 20500.0, 11200.0, 1920000.0, 3450000.0, 3450000.0, 3450000.0, 73300.0, 1, 1, 168000, 14900.0, 2600000.0, 537000, 614000, 742000, 5410000.0, 111000, 1, 1, 742000, 803000, 594000, 45800.0, 742000, 4320000.0, 46900.0, 20300.0, 118000, 17500.0, 318000]}],\n",
       "                        {\"template\": {\"data\": {\"bar\": [{\"error_x\": {\"color\": \"#2a3f5f\"}, \"error_y\": {\"color\": \"#2a3f5f\"}, \"marker\": {\"line\": {\"color\": \"#E5ECF6\", \"width\": 0.5}}, \"type\": \"bar\"}], \"barpolar\": [{\"marker\": {\"line\": {\"color\": \"#E5ECF6\", \"width\": 0.5}}, \"type\": \"barpolar\"}], \"carpet\": [{\"aaxis\": {\"endlinecolor\": \"#2a3f5f\", \"gridcolor\": \"white\", \"linecolor\": \"white\", \"minorgridcolor\": \"white\", \"startlinecolor\": \"#2a3f5f\"}, \"baxis\": {\"endlinecolor\": \"#2a3f5f\", \"gridcolor\": \"white\", \"linecolor\": \"white\", \"minorgridcolor\": \"white\", \"startlinecolor\": \"#2a3f5f\"}, \"type\": \"carpet\"}], \"choropleth\": [{\"colorbar\": {\"outlinewidth\": 0, \"ticks\": \"\"}, \"type\": \"choropleth\"}], \"contour\": [{\"colorbar\": {\"outlinewidth\": 0, \"ticks\": \"\"}, \"colorscale\": [[0.0, \"#0d0887\"], [0.1111111111111111, \"#46039f\"], [0.2222222222222222, \"#7201a8\"], [0.3333333333333333, \"#9c179e\"], [0.4444444444444444, \"#bd3786\"], [0.5555555555555556, \"#d8576b\"], [0.6666666666666666, \"#ed7953\"], [0.7777777777777778, \"#fb9f3a\"], [0.8888888888888888, \"#fdca26\"], [1.0, \"#f0f921\"]], \"type\": \"contour\"}], \"contourcarpet\": [{\"colorbar\": {\"outlinewidth\": 0, \"ticks\": \"\"}, \"type\": \"contourcarpet\"}], \"heatmap\": [{\"colorbar\": {\"outlinewidth\": 0, \"ticks\": \"\"}, \"colorscale\": [[0.0, \"#0d0887\"], [0.1111111111111111, \"#46039f\"], [0.2222222222222222, \"#7201a8\"], [0.3333333333333333, \"#9c179e\"], [0.4444444444444444, \"#bd3786\"], [0.5555555555555556, \"#d8576b\"], [0.6666666666666666, \"#ed7953\"], [0.7777777777777778, \"#fb9f3a\"], [0.8888888888888888, \"#fdca26\"], [1.0, \"#f0f921\"]], \"type\": \"heatmap\"}], \"heatmapgl\": [{\"colorbar\": {\"outlinewidth\": 0, \"ticks\": \"\"}, \"colorscale\": [[0.0, \"#0d0887\"], [0.1111111111111111, \"#46039f\"], [0.2222222222222222, \"#7201a8\"], [0.3333333333333333, \"#9c179e\"], [0.4444444444444444, \"#bd3786\"], [0.5555555555555556, \"#d8576b\"], [0.6666666666666666, \"#ed7953\"], [0.7777777777777778, \"#fb9f3a\"], [0.8888888888888888, \"#fdca26\"], [1.0, \"#f0f921\"]], \"type\": \"heatmapgl\"}], \"histogram\": [{\"marker\": {\"colorbar\": {\"outlinewidth\": 0, \"ticks\": \"\"}}, \"type\": \"histogram\"}], \"histogram2d\": [{\"colorbar\": {\"outlinewidth\": 0, \"ticks\": \"\"}, \"colorscale\": [[0.0, \"#0d0887\"], [0.1111111111111111, \"#46039f\"], [0.2222222222222222, \"#7201a8\"], [0.3333333333333333, \"#9c179e\"], [0.4444444444444444, \"#bd3786\"], [0.5555555555555556, \"#d8576b\"], [0.6666666666666666, \"#ed7953\"], [0.7777777777777778, \"#fb9f3a\"], [0.8888888888888888, \"#fdca26\"], [1.0, \"#f0f921\"]], \"type\": \"histogram2d\"}], \"histogram2dcontour\": [{\"colorbar\": {\"outlinewidth\": 0, \"ticks\": \"\"}, \"colorscale\": [[0.0, \"#0d0887\"], [0.1111111111111111, \"#46039f\"], [0.2222222222222222, \"#7201a8\"], [0.3333333333333333, \"#9c179e\"], [0.4444444444444444, \"#bd3786\"], [0.5555555555555556, \"#d8576b\"], [0.6666666666666666, \"#ed7953\"], [0.7777777777777778, \"#fb9f3a\"], [0.8888888888888888, \"#fdca26\"], [1.0, \"#f0f921\"]], \"type\": \"histogram2dcontour\"}], \"mesh3d\": [{\"colorbar\": {\"outlinewidth\": 0, \"ticks\": \"\"}, \"type\": \"mesh3d\"}], \"parcoords\": [{\"line\": {\"colorbar\": {\"outlinewidth\": 0, \"ticks\": \"\"}}, \"type\": \"parcoords\"}], \"pie\": [{\"automargin\": true, \"type\": \"pie\"}], \"scatter\": [{\"marker\": {\"colorbar\": {\"outlinewidth\": 0, \"ticks\": \"\"}}, \"type\": \"scatter\"}], \"scatter3d\": [{\"line\": {\"colorbar\": {\"outlinewidth\": 0, \"ticks\": \"\"}}, \"marker\": {\"colorbar\": {\"outlinewidth\": 0, \"ticks\": \"\"}}, \"type\": \"scatter3d\"}], \"scattercarpet\": [{\"marker\": {\"colorbar\": {\"outlinewidth\": 0, \"ticks\": \"\"}}, \"type\": \"scattercarpet\"}], \"scattergeo\": [{\"marker\": {\"colorbar\": {\"outlinewidth\": 0, \"ticks\": \"\"}}, \"type\": \"scattergeo\"}], \"scattergl\": [{\"marker\": {\"colorbar\": {\"outlinewidth\": 0, \"ticks\": \"\"}}, \"type\": \"scattergl\"}], \"scattermapbox\": [{\"marker\": {\"colorbar\": {\"outlinewidth\": 0, \"ticks\": \"\"}}, \"type\": \"scattermapbox\"}], \"scatterpolar\": [{\"marker\": {\"colorbar\": {\"outlinewidth\": 0, \"ticks\": \"\"}}, \"type\": \"scatterpolar\"}], \"scatterpolargl\": [{\"marker\": {\"colorbar\": {\"outlinewidth\": 0, \"ticks\": \"\"}}, \"type\": \"scatterpolargl\"}], \"scatterternary\": [{\"marker\": {\"colorbar\": {\"outlinewidth\": 0, \"ticks\": \"\"}}, \"type\": \"scatterternary\"}], \"surface\": [{\"colorbar\": {\"outlinewidth\": 0, \"ticks\": \"\"}, \"colorscale\": [[0.0, \"#0d0887\"], [0.1111111111111111, \"#46039f\"], [0.2222222222222222, \"#7201a8\"], [0.3333333333333333, \"#9c179e\"], [0.4444444444444444, \"#bd3786\"], [0.5555555555555556, \"#d8576b\"], [0.6666666666666666, \"#ed7953\"], [0.7777777777777778, \"#fb9f3a\"], [0.8888888888888888, \"#fdca26\"], [1.0, \"#f0f921\"]], \"type\": \"surface\"}], \"table\": [{\"cells\": {\"fill\": {\"color\": \"#EBF0F8\"}, \"line\": {\"color\": \"white\"}}, \"header\": {\"fill\": {\"color\": \"#C8D4E3\"}, \"line\": {\"color\": \"white\"}}, \"type\": \"table\"}]}, \"layout\": {\"annotationdefaults\": {\"arrowcolor\": \"#2a3f5f\", \"arrowhead\": 0, \"arrowwidth\": 1}, \"coloraxis\": {\"colorbar\": {\"outlinewidth\": 0, \"ticks\": \"\"}}, \"colorscale\": {\"diverging\": [[0, \"#8e0152\"], [0.1, \"#c51b7d\"], [0.2, \"#de77ae\"], [0.3, \"#f1b6da\"], [0.4, \"#fde0ef\"], [0.5, \"#f7f7f7\"], [0.6, \"#e6f5d0\"], [0.7, \"#b8e186\"], [0.8, \"#7fbc41\"], [0.9, \"#4d9221\"], [1, \"#276419\"]], \"sequential\": [[0.0, \"#0d0887\"], [0.1111111111111111, \"#46039f\"], [0.2222222222222222, \"#7201a8\"], [0.3333333333333333, \"#9c179e\"], [0.4444444444444444, \"#bd3786\"], [0.5555555555555556, \"#d8576b\"], [0.6666666666666666, \"#ed7953\"], [0.7777777777777778, \"#fb9f3a\"], [0.8888888888888888, \"#fdca26\"], [1.0, \"#f0f921\"]], \"sequentialminus\": [[0.0, \"#0d0887\"], [0.1111111111111111, \"#46039f\"], [0.2222222222222222, \"#7201a8\"], [0.3333333333333333, \"#9c179e\"], [0.4444444444444444, \"#bd3786\"], [0.5555555555555556, \"#d8576b\"], [0.6666666666666666, \"#ed7953\"], [0.7777777777777778, \"#fb9f3a\"], [0.8888888888888888, \"#fdca26\"], [1.0, \"#f0f921\"]]}, \"colorway\": [\"#636efa\", \"#EF553B\", \"#00cc96\", \"#ab63fa\", \"#FFA15A\", \"#19d3f3\", \"#FF6692\", \"#B6E880\", \"#FF97FF\", \"#FECB52\"], \"font\": {\"color\": \"#2a3f5f\"}, \"geo\": {\"bgcolor\": \"white\", \"lakecolor\": \"white\", \"landcolor\": \"#E5ECF6\", \"showlakes\": true, \"showland\": true, \"subunitcolor\": \"white\"}, \"hoverlabel\": {\"align\": \"left\"}, \"hovermode\": \"closest\", \"mapbox\": {\"style\": \"light\"}, \"paper_bgcolor\": \"white\", \"plot_bgcolor\": \"#E5ECF6\", \"polar\": {\"angularaxis\": {\"gridcolor\": \"white\", \"linecolor\": \"white\", \"ticks\": \"\"}, \"bgcolor\": \"#E5ECF6\", \"radialaxis\": {\"gridcolor\": \"white\", \"linecolor\": \"white\", \"ticks\": \"\"}}, \"scene\": {\"xaxis\": {\"backgroundcolor\": \"#E5ECF6\", \"gridcolor\": \"white\", \"gridwidth\": 2, \"linecolor\": \"white\", \"showbackground\": true, \"ticks\": \"\", \"zerolinecolor\": \"white\"}, \"yaxis\": {\"backgroundcolor\": \"#E5ECF6\", \"gridcolor\": \"white\", \"gridwidth\": 2, \"linecolor\": \"white\", \"showbackground\": true, \"ticks\": \"\", \"zerolinecolor\": \"white\"}, \"zaxis\": {\"backgroundcolor\": \"#E5ECF6\", \"gridcolor\": \"white\", \"gridwidth\": 2, \"linecolor\": \"white\", \"showbackground\": true, \"ticks\": \"\", \"zerolinecolor\": \"white\"}}, \"shapedefaults\": {\"line\": {\"color\": \"#2a3f5f\"}}, \"ternary\": {\"aaxis\": {\"gridcolor\": \"white\", \"linecolor\": \"white\", \"ticks\": \"\"}, \"baxis\": {\"gridcolor\": \"white\", \"linecolor\": \"white\", \"ticks\": \"\"}, \"bgcolor\": \"#E5ECF6\", \"caxis\": {\"gridcolor\": \"white\", \"linecolor\": \"white\", \"ticks\": \"\"}}, \"title\": {\"x\": 0.05}, \"xaxis\": {\"automargin\": true, \"gridcolor\": \"white\", \"linecolor\": \"white\", \"ticks\": \"\", \"title\": {\"standoff\": 15}, \"zerolinecolor\": \"white\", \"zerolinewidth\": 2}, \"yaxis\": {\"automargin\": true, \"gridcolor\": \"white\", \"linecolor\": \"white\", \"ticks\": \"\", \"title\": {\"standoff\": 15}, \"zerolinecolor\": \"white\", \"zerolinewidth\": 2}}}, \"title\": {\"text\": \"Subcount per video\"}},\n",
       "                        {\"responsive\": true}\n",
       "                    ).then(function(){\n",
       "                            \n",
       "var gd = document.getElementById('02e80a3b-5ee3-4fd1-8a28-ba26802f6b90');\n",
       "var x = new MutationObserver(function (mutations, observer) {{\n",
       "        var display = window.getComputedStyle(gd).display;\n",
       "        if (!display || display === 'none') {{\n",
       "            console.log([gd, 'removed!']);\n",
       "            Plotly.purge(gd);\n",
       "            observer.disconnect();\n",
       "        }}\n",
       "}});\n",
       "\n",
       "// Listen for the removal of the full notebook cells\n",
       "var notebookContainer = gd.closest('#notebook-container');\n",
       "if (notebookContainer) {{\n",
       "    x.observe(notebookContainer, {childList: true});\n",
       "}}\n",
       "\n",
       "// Listen for the clearing of the current output cell\n",
       "var outputEl = gd.closest('.output');\n",
       "if (outputEl) {{\n",
       "    x.observe(outputEl, {childList: true});\n",
       "}}\n",
       "\n",
       "                        })\n",
       "                };\n",
       "                });\n",
       "            </script>\n",
       "        </div>"
      ]
     },
     "metadata": {},
     "output_type": "display_data"
    }
   ],
   "source": [
    "import plotly.graph_objects as go\n",
    "\n",
    "colors = ['lightslategray'] * len(df1)\n",
    "\n",
    "for i in df1.index:\n",
    "    if i in list1:\n",
    "        colors[i] = 'green'\n",
    "    else:\n",
    "        colors[i] = 'crimson'\n",
    "\n",
    "fig = go.Figure(data=[go.Bar(\n",
    "    x=[i for i in range(len(df1))],\n",
    "    y=[i for i in df1.Subcount],\n",
    "    marker_color=colors # marker color can be a single color value or an iterable\n",
    ")])\n",
    "fig.update_layout(title_text='Subcount per video')"
   ]
  },
  {
   "cell_type": "code",
   "execution_count": 17,
   "metadata": {},
   "outputs": [
    {
     "data": {
      "application/vnd.plotly.v1+json": {
       "config": {
        "plotlyServerURL": "https://plot.ly"
       },
       "data": [
        {
         "marker": {
          "color": [
           "crimson",
           "crimson",
           "crimson",
           "crimson",
           "crimson",
           "green",
           "crimson",
           "crimson",
           "crimson",
           "crimson",
           "crimson",
           "crimson",
           "crimson",
           "crimson",
           "green",
           "crimson",
           "crimson",
           "crimson",
           "crimson",
           "green",
           "green",
           "crimson",
           "crimson",
           "crimson",
           "crimson",
           "crimson",
           "crimson",
           "crimson",
           "crimson",
           "crimson",
           "crimson",
           "crimson",
           "crimson",
           "crimson",
           "green",
           "crimson",
           "crimson",
           "crimson",
           "crimson",
           "crimson",
           "crimson",
           "crimson",
           "crimson",
           "crimson",
           "crimson",
           "crimson",
           "crimson",
           "crimson",
           "crimson",
           "crimson",
           "crimson",
           "crimson",
           "crimson",
           "crimson",
           "crimson",
           "crimson"
          ]
         },
         "type": "bar",
         "x": [
          0,
          1,
          2,
          3,
          4,
          5,
          6,
          7,
          8,
          9,
          10,
          11,
          12,
          13,
          14,
          15,
          16,
          17,
          18,
          19,
          20,
          21,
          22,
          23,
          24,
          25,
          26,
          27,
          28,
          29,
          30,
          31,
          32,
          33,
          34,
          35,
          36,
          37,
          38,
          39,
          40,
          41,
          42,
          43,
          44,
          45,
          46,
          47,
          48,
          49,
          50,
          51,
          52,
          53,
          54,
          55
         ],
         "y": [
          45.40375058435013,
          70.72342133695084,
          16.225424744385027,
          46.080841121151124,
          27.89007862370131,
          64.00920961036881,
          78.34636451350696,
          5.374638033579057,
          7.823419600612659,
          32.92725687761936,
          26.096046630243805,
          8.814445443638284,
          5.343789946531542,
          7.323224631192662,
          52.39500493780247,
          23.76241425107494,
          7.918481572373578,
          39.27888315254743,
          28.43312037963122,
          54.48288376765386,
          48.26158582161412,
          9.065567756117618,
          5.612861420021595,
          5.225293342226534,
          10.763961644398378,
          39.758340793545216,
          9.382173659361305,
          5.860200817110215,
          16.12830408464828,
          10.68209779748725,
          19.745416584474803,
          15.060670832572123,
          7.6979682210362546,
          10.263607498607024,
          70.35352105902327,
          15.138233092170273,
          5.155285614355563,
          15.561766106733545,
          7.248615032336792,
          8.557211849112557,
          8.146892663981697,
          27.422231850903,
          5.785976981306966,
          47.67885384880637,
          5.876113634751641,
          9.205423423504177,
          15.915351491647629,
          5.923190589470925,
          25.054955577680214,
          5.930768526692738,
          15.748181763555868,
          21.228221064669285,
          6.869908207726485,
          5.367450345964777,
          18.540018171228848,
          19.16759169122834
         ]
        }
       ],
       "layout": {
        "template": {
         "data": {
          "bar": [
           {
            "error_x": {
             "color": "#2a3f5f"
            },
            "error_y": {
             "color": "#2a3f5f"
            },
            "marker": {
             "line": {
              "color": "#E5ECF6",
              "width": 0.5
             }
            },
            "type": "bar"
           }
          ],
          "barpolar": [
           {
            "marker": {
             "line": {
              "color": "#E5ECF6",
              "width": 0.5
             }
            },
            "type": "barpolar"
           }
          ],
          "carpet": [
           {
            "aaxis": {
             "endlinecolor": "#2a3f5f",
             "gridcolor": "white",
             "linecolor": "white",
             "minorgridcolor": "white",
             "startlinecolor": "#2a3f5f"
            },
            "baxis": {
             "endlinecolor": "#2a3f5f",
             "gridcolor": "white",
             "linecolor": "white",
             "minorgridcolor": "white",
             "startlinecolor": "#2a3f5f"
            },
            "type": "carpet"
           }
          ],
          "choropleth": [
           {
            "colorbar": {
             "outlinewidth": 0,
             "ticks": ""
            },
            "type": "choropleth"
           }
          ],
          "contour": [
           {
            "colorbar": {
             "outlinewidth": 0,
             "ticks": ""
            },
            "colorscale": [
             [
              0,
              "#0d0887"
             ],
             [
              0.1111111111111111,
              "#46039f"
             ],
             [
              0.2222222222222222,
              "#7201a8"
             ],
             [
              0.3333333333333333,
              "#9c179e"
             ],
             [
              0.4444444444444444,
              "#bd3786"
             ],
             [
              0.5555555555555556,
              "#d8576b"
             ],
             [
              0.6666666666666666,
              "#ed7953"
             ],
             [
              0.7777777777777778,
              "#fb9f3a"
             ],
             [
              0.8888888888888888,
              "#fdca26"
             ],
             [
              1,
              "#f0f921"
             ]
            ],
            "type": "contour"
           }
          ],
          "contourcarpet": [
           {
            "colorbar": {
             "outlinewidth": 0,
             "ticks": ""
            },
            "type": "contourcarpet"
           }
          ],
          "heatmap": [
           {
            "colorbar": {
             "outlinewidth": 0,
             "ticks": ""
            },
            "colorscale": [
             [
              0,
              "#0d0887"
             ],
             [
              0.1111111111111111,
              "#46039f"
             ],
             [
              0.2222222222222222,
              "#7201a8"
             ],
             [
              0.3333333333333333,
              "#9c179e"
             ],
             [
              0.4444444444444444,
              "#bd3786"
             ],
             [
              0.5555555555555556,
              "#d8576b"
             ],
             [
              0.6666666666666666,
              "#ed7953"
             ],
             [
              0.7777777777777778,
              "#fb9f3a"
             ],
             [
              0.8888888888888888,
              "#fdca26"
             ],
             [
              1,
              "#f0f921"
             ]
            ],
            "type": "heatmap"
           }
          ],
          "heatmapgl": [
           {
            "colorbar": {
             "outlinewidth": 0,
             "ticks": ""
            },
            "colorscale": [
             [
              0,
              "#0d0887"
             ],
             [
              0.1111111111111111,
              "#46039f"
             ],
             [
              0.2222222222222222,
              "#7201a8"
             ],
             [
              0.3333333333333333,
              "#9c179e"
             ],
             [
              0.4444444444444444,
              "#bd3786"
             ],
             [
              0.5555555555555556,
              "#d8576b"
             ],
             [
              0.6666666666666666,
              "#ed7953"
             ],
             [
              0.7777777777777778,
              "#fb9f3a"
             ],
             [
              0.8888888888888888,
              "#fdca26"
             ],
             [
              1,
              "#f0f921"
             ]
            ],
            "type": "heatmapgl"
           }
          ],
          "histogram": [
           {
            "marker": {
             "colorbar": {
              "outlinewidth": 0,
              "ticks": ""
             }
            },
            "type": "histogram"
           }
          ],
          "histogram2d": [
           {
            "colorbar": {
             "outlinewidth": 0,
             "ticks": ""
            },
            "colorscale": [
             [
              0,
              "#0d0887"
             ],
             [
              0.1111111111111111,
              "#46039f"
             ],
             [
              0.2222222222222222,
              "#7201a8"
             ],
             [
              0.3333333333333333,
              "#9c179e"
             ],
             [
              0.4444444444444444,
              "#bd3786"
             ],
             [
              0.5555555555555556,
              "#d8576b"
             ],
             [
              0.6666666666666666,
              "#ed7953"
             ],
             [
              0.7777777777777778,
              "#fb9f3a"
             ],
             [
              0.8888888888888888,
              "#fdca26"
             ],
             [
              1,
              "#f0f921"
             ]
            ],
            "type": "histogram2d"
           }
          ],
          "histogram2dcontour": [
           {
            "colorbar": {
             "outlinewidth": 0,
             "ticks": ""
            },
            "colorscale": [
             [
              0,
              "#0d0887"
             ],
             [
              0.1111111111111111,
              "#46039f"
             ],
             [
              0.2222222222222222,
              "#7201a8"
             ],
             [
              0.3333333333333333,
              "#9c179e"
             ],
             [
              0.4444444444444444,
              "#bd3786"
             ],
             [
              0.5555555555555556,
              "#d8576b"
             ],
             [
              0.6666666666666666,
              "#ed7953"
             ],
             [
              0.7777777777777778,
              "#fb9f3a"
             ],
             [
              0.8888888888888888,
              "#fdca26"
             ],
             [
              1,
              "#f0f921"
             ]
            ],
            "type": "histogram2dcontour"
           }
          ],
          "mesh3d": [
           {
            "colorbar": {
             "outlinewidth": 0,
             "ticks": ""
            },
            "type": "mesh3d"
           }
          ],
          "parcoords": [
           {
            "line": {
             "colorbar": {
              "outlinewidth": 0,
              "ticks": ""
             }
            },
            "type": "parcoords"
           }
          ],
          "pie": [
           {
            "automargin": true,
            "type": "pie"
           }
          ],
          "scatter": [
           {
            "marker": {
             "colorbar": {
              "outlinewidth": 0,
              "ticks": ""
             }
            },
            "type": "scatter"
           }
          ],
          "scatter3d": [
           {
            "line": {
             "colorbar": {
              "outlinewidth": 0,
              "ticks": ""
             }
            },
            "marker": {
             "colorbar": {
              "outlinewidth": 0,
              "ticks": ""
             }
            },
            "type": "scatter3d"
           }
          ],
          "scattercarpet": [
           {
            "marker": {
             "colorbar": {
              "outlinewidth": 0,
              "ticks": ""
             }
            },
            "type": "scattercarpet"
           }
          ],
          "scattergeo": [
           {
            "marker": {
             "colorbar": {
              "outlinewidth": 0,
              "ticks": ""
             }
            },
            "type": "scattergeo"
           }
          ],
          "scattergl": [
           {
            "marker": {
             "colorbar": {
              "outlinewidth": 0,
              "ticks": ""
             }
            },
            "type": "scattergl"
           }
          ],
          "scattermapbox": [
           {
            "marker": {
             "colorbar": {
              "outlinewidth": 0,
              "ticks": ""
             }
            },
            "type": "scattermapbox"
           }
          ],
          "scatterpolar": [
           {
            "marker": {
             "colorbar": {
              "outlinewidth": 0,
              "ticks": ""
             }
            },
            "type": "scatterpolar"
           }
          ],
          "scatterpolargl": [
           {
            "marker": {
             "colorbar": {
              "outlinewidth": 0,
              "ticks": ""
             }
            },
            "type": "scatterpolargl"
           }
          ],
          "scatterternary": [
           {
            "marker": {
             "colorbar": {
              "outlinewidth": 0,
              "ticks": ""
             }
            },
            "type": "scatterternary"
           }
          ],
          "surface": [
           {
            "colorbar": {
             "outlinewidth": 0,
             "ticks": ""
            },
            "colorscale": [
             [
              0,
              "#0d0887"
             ],
             [
              0.1111111111111111,
              "#46039f"
             ],
             [
              0.2222222222222222,
              "#7201a8"
             ],
             [
              0.3333333333333333,
              "#9c179e"
             ],
             [
              0.4444444444444444,
              "#bd3786"
             ],
             [
              0.5555555555555556,
              "#d8576b"
             ],
             [
              0.6666666666666666,
              "#ed7953"
             ],
             [
              0.7777777777777778,
              "#fb9f3a"
             ],
             [
              0.8888888888888888,
              "#fdca26"
             ],
             [
              1,
              "#f0f921"
             ]
            ],
            "type": "surface"
           }
          ],
          "table": [
           {
            "cells": {
             "fill": {
              "color": "#EBF0F8"
             },
             "line": {
              "color": "white"
             }
            },
            "header": {
             "fill": {
              "color": "#C8D4E3"
             },
             "line": {
              "color": "white"
             }
            },
            "type": "table"
           }
          ]
         },
         "layout": {
          "annotationdefaults": {
           "arrowcolor": "#2a3f5f",
           "arrowhead": 0,
           "arrowwidth": 1
          },
          "coloraxis": {
           "colorbar": {
            "outlinewidth": 0,
            "ticks": ""
           }
          },
          "colorscale": {
           "diverging": [
            [
             0,
             "#8e0152"
            ],
            [
             0.1,
             "#c51b7d"
            ],
            [
             0.2,
             "#de77ae"
            ],
            [
             0.3,
             "#f1b6da"
            ],
            [
             0.4,
             "#fde0ef"
            ],
            [
             0.5,
             "#f7f7f7"
            ],
            [
             0.6,
             "#e6f5d0"
            ],
            [
             0.7,
             "#b8e186"
            ],
            [
             0.8,
             "#7fbc41"
            ],
            [
             0.9,
             "#4d9221"
            ],
            [
             1,
             "#276419"
            ]
           ],
           "sequential": [
            [
             0,
             "#0d0887"
            ],
            [
             0.1111111111111111,
             "#46039f"
            ],
            [
             0.2222222222222222,
             "#7201a8"
            ],
            [
             0.3333333333333333,
             "#9c179e"
            ],
            [
             0.4444444444444444,
             "#bd3786"
            ],
            [
             0.5555555555555556,
             "#d8576b"
            ],
            [
             0.6666666666666666,
             "#ed7953"
            ],
            [
             0.7777777777777778,
             "#fb9f3a"
            ],
            [
             0.8888888888888888,
             "#fdca26"
            ],
            [
             1,
             "#f0f921"
            ]
           ],
           "sequentialminus": [
            [
             0,
             "#0d0887"
            ],
            [
             0.1111111111111111,
             "#46039f"
            ],
            [
             0.2222222222222222,
             "#7201a8"
            ],
            [
             0.3333333333333333,
             "#9c179e"
            ],
            [
             0.4444444444444444,
             "#bd3786"
            ],
            [
             0.5555555555555556,
             "#d8576b"
            ],
            [
             0.6666666666666666,
             "#ed7953"
            ],
            [
             0.7777777777777778,
             "#fb9f3a"
            ],
            [
             0.8888888888888888,
             "#fdca26"
            ],
            [
             1,
             "#f0f921"
            ]
           ]
          },
          "colorway": [
           "#636efa",
           "#EF553B",
           "#00cc96",
           "#ab63fa",
           "#FFA15A",
           "#19d3f3",
           "#FF6692",
           "#B6E880",
           "#FF97FF",
           "#FECB52"
          ],
          "font": {
           "color": "#2a3f5f"
          },
          "geo": {
           "bgcolor": "white",
           "lakecolor": "white",
           "landcolor": "#E5ECF6",
           "showlakes": true,
           "showland": true,
           "subunitcolor": "white"
          },
          "hoverlabel": {
           "align": "left"
          },
          "hovermode": "closest",
          "mapbox": {
           "style": "light"
          },
          "paper_bgcolor": "white",
          "plot_bgcolor": "#E5ECF6",
          "polar": {
           "angularaxis": {
            "gridcolor": "white",
            "linecolor": "white",
            "ticks": ""
           },
           "bgcolor": "#E5ECF6",
           "radialaxis": {
            "gridcolor": "white",
            "linecolor": "white",
            "ticks": ""
           }
          },
          "scene": {
           "xaxis": {
            "backgroundcolor": "#E5ECF6",
            "gridcolor": "white",
            "gridwidth": 2,
            "linecolor": "white",
            "showbackground": true,
            "ticks": "",
            "zerolinecolor": "white"
           },
           "yaxis": {
            "backgroundcolor": "#E5ECF6",
            "gridcolor": "white",
            "gridwidth": 2,
            "linecolor": "white",
            "showbackground": true,
            "ticks": "",
            "zerolinecolor": "white"
           },
           "zaxis": {
            "backgroundcolor": "#E5ECF6",
            "gridcolor": "white",
            "gridwidth": 2,
            "linecolor": "white",
            "showbackground": true,
            "ticks": "",
            "zerolinecolor": "white"
           }
          },
          "shapedefaults": {
           "line": {
            "color": "#2a3f5f"
           }
          },
          "ternary": {
           "aaxis": {
            "gridcolor": "white",
            "linecolor": "white",
            "ticks": ""
           },
           "baxis": {
            "gridcolor": "white",
            "linecolor": "white",
            "ticks": ""
           },
           "bgcolor": "#E5ECF6",
           "caxis": {
            "gridcolor": "white",
            "linecolor": "white",
            "ticks": ""
           }
          },
          "title": {
           "x": 0.05
          },
          "xaxis": {
           "automargin": true,
           "gridcolor": "white",
           "linecolor": "white",
           "ticks": "",
           "title": {
            "standoff": 15
           },
           "zerolinecolor": "white",
           "zerolinewidth": 2
          },
          "yaxis": {
           "automargin": true,
           "gridcolor": "white",
           "linecolor": "white",
           "ticks": "",
           "title": {
            "standoff": 15
           },
           "zerolinecolor": "white",
           "zerolinewidth": 2
          }
         }
        },
        "title": {
         "text": "Score per video"
        }
       }
      },
      "text/html": [
       "<div>\n",
       "        \n",
       "        \n",
       "            <div id=\"e9a0c89d-ac46-4da2-af8c-d77bacbe0fc3\" class=\"plotly-graph-div\" style=\"height:525px; width:100%;\"></div>\n",
       "            <script type=\"text/javascript\">\n",
       "                require([\"plotly\"], function(Plotly) {\n",
       "                    window.PLOTLYENV=window.PLOTLYENV || {};\n",
       "                    \n",
       "                if (document.getElementById(\"e9a0c89d-ac46-4da2-af8c-d77bacbe0fc3\")) {\n",
       "                    Plotly.newPlot(\n",
       "                        'e9a0c89d-ac46-4da2-af8c-d77bacbe0fc3',\n",
       "                        [{\"marker\": {\"color\": [\"crimson\", \"crimson\", \"crimson\", \"crimson\", \"crimson\", \"green\", \"crimson\", \"crimson\", \"crimson\", \"crimson\", \"crimson\", \"crimson\", \"crimson\", \"crimson\", \"green\", \"crimson\", \"crimson\", \"crimson\", \"crimson\", \"green\", \"green\", \"crimson\", \"crimson\", \"crimson\", \"crimson\", \"crimson\", \"crimson\", \"crimson\", \"crimson\", \"crimson\", \"crimson\", \"crimson\", \"crimson\", \"crimson\", \"green\", \"crimson\", \"crimson\", \"crimson\", \"crimson\", \"crimson\", \"crimson\", \"crimson\", \"crimson\", \"crimson\", \"crimson\", \"crimson\", \"crimson\", \"crimson\", \"crimson\", \"crimson\", \"crimson\", \"crimson\", \"crimson\", \"crimson\", \"crimson\", \"crimson\"]}, \"type\": \"bar\", \"x\": [0, 1, 2, 3, 4, 5, 6, 7, 8, 9, 10, 11, 12, 13, 14, 15, 16, 17, 18, 19, 20, 21, 22, 23, 24, 25, 26, 27, 28, 29, 30, 31, 32, 33, 34, 35, 36, 37, 38, 39, 40, 41, 42, 43, 44, 45, 46, 47, 48, 49, 50, 51, 52, 53, 54, 55], \"y\": [45.40375058435013, 70.72342133695084, 16.225424744385027, 46.080841121151124, 27.89007862370131, 64.00920961036881, 78.34636451350696, 5.374638033579057, 7.823419600612659, 32.92725687761936, 26.096046630243805, 8.814445443638284, 5.343789946531542, 7.323224631192662, 52.39500493780247, 23.76241425107494, 7.918481572373578, 39.27888315254743, 28.43312037963122, 54.48288376765386, 48.26158582161412, 9.065567756117618, 5.612861420021595, 5.225293342226534, 10.763961644398378, 39.758340793545216, 9.382173659361305, 5.860200817110215, 16.12830408464828, 10.68209779748725, 19.745416584474803, 15.060670832572123, 7.6979682210362546, 10.263607498607024, 70.35352105902327, 15.138233092170273, 5.155285614355563, 15.561766106733545, 7.248615032336792, 8.557211849112557, 8.146892663981697, 27.422231850903, 5.785976981306966, 47.67885384880637, 5.876113634751641, 9.205423423504177, 15.915351491647629, 5.923190589470925, 25.054955577680214, 5.930768526692738, 15.748181763555868, 21.228221064669285, 6.869908207726485, 5.367450345964777, 18.540018171228848, 19.16759169122834]}],\n",
       "                        {\"template\": {\"data\": {\"bar\": [{\"error_x\": {\"color\": \"#2a3f5f\"}, \"error_y\": {\"color\": \"#2a3f5f\"}, \"marker\": {\"line\": {\"color\": \"#E5ECF6\", \"width\": 0.5}}, \"type\": \"bar\"}], \"barpolar\": [{\"marker\": {\"line\": {\"color\": \"#E5ECF6\", \"width\": 0.5}}, \"type\": \"barpolar\"}], \"carpet\": [{\"aaxis\": {\"endlinecolor\": \"#2a3f5f\", \"gridcolor\": \"white\", \"linecolor\": \"white\", \"minorgridcolor\": \"white\", \"startlinecolor\": \"#2a3f5f\"}, \"baxis\": {\"endlinecolor\": \"#2a3f5f\", \"gridcolor\": \"white\", \"linecolor\": \"white\", \"minorgridcolor\": \"white\", \"startlinecolor\": \"#2a3f5f\"}, \"type\": \"carpet\"}], \"choropleth\": [{\"colorbar\": {\"outlinewidth\": 0, \"ticks\": \"\"}, \"type\": \"choropleth\"}], \"contour\": [{\"colorbar\": {\"outlinewidth\": 0, \"ticks\": \"\"}, \"colorscale\": [[0.0, \"#0d0887\"], [0.1111111111111111, \"#46039f\"], [0.2222222222222222, \"#7201a8\"], [0.3333333333333333, \"#9c179e\"], [0.4444444444444444, \"#bd3786\"], [0.5555555555555556, \"#d8576b\"], [0.6666666666666666, \"#ed7953\"], [0.7777777777777778, \"#fb9f3a\"], [0.8888888888888888, \"#fdca26\"], [1.0, \"#f0f921\"]], \"type\": \"contour\"}], \"contourcarpet\": [{\"colorbar\": {\"outlinewidth\": 0, \"ticks\": \"\"}, \"type\": \"contourcarpet\"}], \"heatmap\": [{\"colorbar\": {\"outlinewidth\": 0, \"ticks\": \"\"}, \"colorscale\": [[0.0, \"#0d0887\"], [0.1111111111111111, \"#46039f\"], [0.2222222222222222, \"#7201a8\"], [0.3333333333333333, \"#9c179e\"], [0.4444444444444444, \"#bd3786\"], [0.5555555555555556, \"#d8576b\"], [0.6666666666666666, \"#ed7953\"], [0.7777777777777778, \"#fb9f3a\"], [0.8888888888888888, \"#fdca26\"], [1.0, \"#f0f921\"]], \"type\": \"heatmap\"}], \"heatmapgl\": [{\"colorbar\": {\"outlinewidth\": 0, \"ticks\": \"\"}, \"colorscale\": [[0.0, \"#0d0887\"], [0.1111111111111111, \"#46039f\"], [0.2222222222222222, \"#7201a8\"], [0.3333333333333333, \"#9c179e\"], [0.4444444444444444, \"#bd3786\"], [0.5555555555555556, \"#d8576b\"], [0.6666666666666666, \"#ed7953\"], [0.7777777777777778, \"#fb9f3a\"], [0.8888888888888888, \"#fdca26\"], [1.0, \"#f0f921\"]], \"type\": \"heatmapgl\"}], \"histogram\": [{\"marker\": {\"colorbar\": {\"outlinewidth\": 0, \"ticks\": \"\"}}, \"type\": \"histogram\"}], \"histogram2d\": [{\"colorbar\": {\"outlinewidth\": 0, \"ticks\": \"\"}, \"colorscale\": [[0.0, \"#0d0887\"], [0.1111111111111111, \"#46039f\"], [0.2222222222222222, \"#7201a8\"], [0.3333333333333333, \"#9c179e\"], [0.4444444444444444, \"#bd3786\"], [0.5555555555555556, \"#d8576b\"], [0.6666666666666666, \"#ed7953\"], [0.7777777777777778, \"#fb9f3a\"], [0.8888888888888888, \"#fdca26\"], [1.0, \"#f0f921\"]], \"type\": \"histogram2d\"}], \"histogram2dcontour\": [{\"colorbar\": {\"outlinewidth\": 0, \"ticks\": \"\"}, \"colorscale\": [[0.0, \"#0d0887\"], [0.1111111111111111, \"#46039f\"], [0.2222222222222222, \"#7201a8\"], [0.3333333333333333, \"#9c179e\"], [0.4444444444444444, \"#bd3786\"], [0.5555555555555556, \"#d8576b\"], [0.6666666666666666, \"#ed7953\"], [0.7777777777777778, \"#fb9f3a\"], [0.8888888888888888, \"#fdca26\"], [1.0, \"#f0f921\"]], \"type\": \"histogram2dcontour\"}], \"mesh3d\": [{\"colorbar\": {\"outlinewidth\": 0, \"ticks\": \"\"}, \"type\": \"mesh3d\"}], \"parcoords\": [{\"line\": {\"colorbar\": {\"outlinewidth\": 0, \"ticks\": \"\"}}, \"type\": \"parcoords\"}], \"pie\": [{\"automargin\": true, \"type\": \"pie\"}], \"scatter\": [{\"marker\": {\"colorbar\": {\"outlinewidth\": 0, \"ticks\": \"\"}}, \"type\": \"scatter\"}], \"scatter3d\": [{\"line\": {\"colorbar\": {\"outlinewidth\": 0, \"ticks\": \"\"}}, \"marker\": {\"colorbar\": {\"outlinewidth\": 0, \"ticks\": \"\"}}, \"type\": \"scatter3d\"}], \"scattercarpet\": [{\"marker\": {\"colorbar\": {\"outlinewidth\": 0, \"ticks\": \"\"}}, \"type\": \"scattercarpet\"}], \"scattergeo\": [{\"marker\": {\"colorbar\": {\"outlinewidth\": 0, \"ticks\": \"\"}}, \"type\": \"scattergeo\"}], \"scattergl\": [{\"marker\": {\"colorbar\": {\"outlinewidth\": 0, \"ticks\": \"\"}}, \"type\": \"scattergl\"}], \"scattermapbox\": [{\"marker\": {\"colorbar\": {\"outlinewidth\": 0, \"ticks\": \"\"}}, \"type\": \"scattermapbox\"}], \"scatterpolar\": [{\"marker\": {\"colorbar\": {\"outlinewidth\": 0, \"ticks\": \"\"}}, \"type\": \"scatterpolar\"}], \"scatterpolargl\": [{\"marker\": {\"colorbar\": {\"outlinewidth\": 0, \"ticks\": \"\"}}, \"type\": \"scatterpolargl\"}], \"scatterternary\": [{\"marker\": {\"colorbar\": {\"outlinewidth\": 0, \"ticks\": \"\"}}, \"type\": \"scatterternary\"}], \"surface\": [{\"colorbar\": {\"outlinewidth\": 0, \"ticks\": \"\"}, \"colorscale\": [[0.0, \"#0d0887\"], [0.1111111111111111, \"#46039f\"], [0.2222222222222222, \"#7201a8\"], [0.3333333333333333, \"#9c179e\"], [0.4444444444444444, \"#bd3786\"], [0.5555555555555556, \"#d8576b\"], [0.6666666666666666, \"#ed7953\"], [0.7777777777777778, \"#fb9f3a\"], [0.8888888888888888, \"#fdca26\"], [1.0, \"#f0f921\"]], \"type\": \"surface\"}], \"table\": [{\"cells\": {\"fill\": {\"color\": \"#EBF0F8\"}, \"line\": {\"color\": \"white\"}}, \"header\": {\"fill\": {\"color\": \"#C8D4E3\"}, \"line\": {\"color\": \"white\"}}, \"type\": \"table\"}]}, \"layout\": {\"annotationdefaults\": {\"arrowcolor\": \"#2a3f5f\", \"arrowhead\": 0, \"arrowwidth\": 1}, \"coloraxis\": {\"colorbar\": {\"outlinewidth\": 0, \"ticks\": \"\"}}, \"colorscale\": {\"diverging\": [[0, \"#8e0152\"], [0.1, \"#c51b7d\"], [0.2, \"#de77ae\"], [0.3, \"#f1b6da\"], [0.4, \"#fde0ef\"], [0.5, \"#f7f7f7\"], [0.6, \"#e6f5d0\"], [0.7, \"#b8e186\"], [0.8, \"#7fbc41\"], [0.9, \"#4d9221\"], [1, \"#276419\"]], \"sequential\": [[0.0, \"#0d0887\"], [0.1111111111111111, \"#46039f\"], [0.2222222222222222, \"#7201a8\"], [0.3333333333333333, \"#9c179e\"], [0.4444444444444444, \"#bd3786\"], [0.5555555555555556, \"#d8576b\"], [0.6666666666666666, \"#ed7953\"], [0.7777777777777778, \"#fb9f3a\"], [0.8888888888888888, \"#fdca26\"], [1.0, \"#f0f921\"]], \"sequentialminus\": [[0.0, \"#0d0887\"], [0.1111111111111111, \"#46039f\"], [0.2222222222222222, \"#7201a8\"], [0.3333333333333333, \"#9c179e\"], [0.4444444444444444, \"#bd3786\"], [0.5555555555555556, \"#d8576b\"], [0.6666666666666666, \"#ed7953\"], [0.7777777777777778, \"#fb9f3a\"], [0.8888888888888888, \"#fdca26\"], [1.0, \"#f0f921\"]]}, \"colorway\": [\"#636efa\", \"#EF553B\", \"#00cc96\", \"#ab63fa\", \"#FFA15A\", \"#19d3f3\", \"#FF6692\", \"#B6E880\", \"#FF97FF\", \"#FECB52\"], \"font\": {\"color\": \"#2a3f5f\"}, \"geo\": {\"bgcolor\": \"white\", \"lakecolor\": \"white\", \"landcolor\": \"#E5ECF6\", \"showlakes\": true, \"showland\": true, \"subunitcolor\": \"white\"}, \"hoverlabel\": {\"align\": \"left\"}, \"hovermode\": \"closest\", \"mapbox\": {\"style\": \"light\"}, \"paper_bgcolor\": \"white\", \"plot_bgcolor\": \"#E5ECF6\", \"polar\": {\"angularaxis\": {\"gridcolor\": \"white\", \"linecolor\": \"white\", \"ticks\": \"\"}, \"bgcolor\": \"#E5ECF6\", \"radialaxis\": {\"gridcolor\": \"white\", \"linecolor\": \"white\", \"ticks\": \"\"}}, \"scene\": {\"xaxis\": {\"backgroundcolor\": \"#E5ECF6\", \"gridcolor\": \"white\", \"gridwidth\": 2, \"linecolor\": \"white\", \"showbackground\": true, \"ticks\": \"\", \"zerolinecolor\": \"white\"}, \"yaxis\": {\"backgroundcolor\": \"#E5ECF6\", \"gridcolor\": \"white\", \"gridwidth\": 2, \"linecolor\": \"white\", \"showbackground\": true, \"ticks\": \"\", \"zerolinecolor\": \"white\"}, \"zaxis\": {\"backgroundcolor\": \"#E5ECF6\", \"gridcolor\": \"white\", \"gridwidth\": 2, \"linecolor\": \"white\", \"showbackground\": true, \"ticks\": \"\", \"zerolinecolor\": \"white\"}}, \"shapedefaults\": {\"line\": {\"color\": \"#2a3f5f\"}}, \"ternary\": {\"aaxis\": {\"gridcolor\": \"white\", \"linecolor\": \"white\", \"ticks\": \"\"}, \"baxis\": {\"gridcolor\": \"white\", \"linecolor\": \"white\", \"ticks\": \"\"}, \"bgcolor\": \"#E5ECF6\", \"caxis\": {\"gridcolor\": \"white\", \"linecolor\": \"white\", \"ticks\": \"\"}}, \"title\": {\"x\": 0.05}, \"xaxis\": {\"automargin\": true, \"gridcolor\": \"white\", \"linecolor\": \"white\", \"ticks\": \"\", \"title\": {\"standoff\": 15}, \"zerolinecolor\": \"white\", \"zerolinewidth\": 2}, \"yaxis\": {\"automargin\": true, \"gridcolor\": \"white\", \"linecolor\": \"white\", \"ticks\": \"\", \"title\": {\"standoff\": 15}, \"zerolinecolor\": \"white\", \"zerolinewidth\": 2}}}, \"title\": {\"text\": \"Score per video\"}},\n",
       "                        {\"responsive\": true}\n",
       "                    ).then(function(){\n",
       "                            \n",
       "var gd = document.getElementById('e9a0c89d-ac46-4da2-af8c-d77bacbe0fc3');\n",
       "var x = new MutationObserver(function (mutations, observer) {{\n",
       "        var display = window.getComputedStyle(gd).display;\n",
       "        if (!display || display === 'none') {{\n",
       "            console.log([gd, 'removed!']);\n",
       "            Plotly.purge(gd);\n",
       "            observer.disconnect();\n",
       "        }}\n",
       "}});\n",
       "\n",
       "// Listen for the removal of the full notebook cells\n",
       "var notebookContainer = gd.closest('#notebook-container');\n",
       "if (notebookContainer) {{\n",
       "    x.observe(notebookContainer, {childList: true});\n",
       "}}\n",
       "\n",
       "// Listen for the clearing of the current output cell\n",
       "var outputEl = gd.closest('.output');\n",
       "if (outputEl) {{\n",
       "    x.observe(outputEl, {childList: true});\n",
       "}}\n",
       "\n",
       "                        })\n",
       "                };\n",
       "                });\n",
       "            </script>\n",
       "        </div>"
      ]
     },
     "metadata": {},
     "output_type": "display_data"
    }
   ],
   "source": [
    "import plotly.graph_objects as go\n",
    "\n",
    "colors = ['lightslategray'] * len(df1)\n",
    "\n",
    "for i in df1.index:\n",
    "    if i in list1:\n",
    "        colors[i] = 'green'\n",
    "    else:\n",
    "        colors[i] = 'crimson'\n",
    "\n",
    "fig = go.Figure(data=[go.Bar(\n",
    "    x=[i for i in range(len(df1))],\n",
    "    y=[i for i in df1.Score],\n",
    "    marker_color=colors # marker color can be a single color value or an iterable\n",
    ")])\n",
    "fig.update_layout(title_text='Score per video')"
   ]
  }
 ],
 "metadata": {
  "kernelspec": {
   "display_name": "Python 3",
   "language": "python",
   "name": "python3"
  },
  "language_info": {
   "codemirror_mode": {
    "name": "ipython",
    "version": 3
   },
   "file_extension": ".py",
   "mimetype": "text/x-python",
   "name": "python",
   "nbconvert_exporter": "python",
   "pygments_lexer": "ipython3",
   "version": "3.7.3"
  }
 },
 "nbformat": 4,
 "nbformat_minor": 4
}
