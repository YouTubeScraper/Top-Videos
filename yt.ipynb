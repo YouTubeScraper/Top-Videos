{
 "cells": [
  {
   "cell_type": "code",
   "execution_count": 27,
   "metadata": {},
   "outputs": [
    {
     "name": "stdout",
     "output_type": "stream",
     "text": [
      "Defaulting to user installation because normal site-packages is not writeable\n",
      "Requirement already satisfied: pandas in /home/arjun/.local/lib/python3.6/site-packages (1.0.3)\n",
      "Requirement already satisfied: python-dateutil>=2.6.1 in /usr/lib/python3/dist-packages (from pandas) (2.6.1)\n",
      "Requirement already satisfied: numpy>=1.13.3 in /home/arjun/.local/lib/python3.6/site-packages (from pandas) (1.18.1)\n",
      "Requirement already satisfied: pytz>=2017.2 in /usr/lib/python3/dist-packages (from pandas) (2018.3)\n",
      "Defaulting to user installation because normal site-packages is not writeable\n",
      "Requirement already satisfied: numpy in /home/arjun/.local/lib/python3.6/site-packages (1.18.1)\n",
      "Defaulting to user installation because normal site-packages is not writeable\n",
      "Requirement already satisfied: bs4 in /home/arjun/.local/lib/python3.6/site-packages (0.0.1)\n",
      "Requirement already satisfied: beautifulsoup4 in /home/arjun/.local/lib/python3.6/site-packages (from bs4) (4.9.0)\n",
      "Requirement already satisfied: soupsieve>1.2 in /home/arjun/.local/lib/python3.6/site-packages (from beautifulsoup4->bs4) (2.0)\n",
      "Defaulting to user installation because normal site-packages is not writeable\n",
      "Requirement already satisfied: datetime in /home/arjun/.local/lib/python3.6/site-packages (4.3)\n",
      "Requirement already satisfied: zope.interface in /usr/lib/python3/dist-packages (from datetime) (4.3.2)\n",
      "Requirement already satisfied: pytz in /usr/lib/python3/dist-packages (from datetime) (2018.3)\n",
      "Defaulting to user installation because normal site-packages is not writeable\n",
      "Requirement already satisfied: selenium in /home/arjun/.local/lib/python3.6/site-packages (3.141.0)\n",
      "Requirement already satisfied: urllib3 in /usr/lib/python3/dist-packages (from selenium) (1.22)\n",
      "Defaulting to user installation because normal site-packages is not writeable\n",
      "Requirement already satisfied: nltk in /home/arjun/.local/lib/python3.6/site-packages (3.5)\n",
      "Requirement already satisfied: regex in /home/arjun/.local/lib/python3.6/site-packages (from nltk) (2020.4.4)\n",
      "Requirement already satisfied: click in /usr/lib/python3/dist-packages (from nltk) (6.7)\n",
      "Requirement already satisfied: joblib in /home/arjun/.local/lib/python3.6/site-packages (from nltk) (0.14.1)\n",
      "Requirement already satisfied: tqdm in /home/arjun/.local/lib/python3.6/site-packages (from nltk) (4.46.0)\n",
      "Defaulting to user installation because normal site-packages is not writeable\n",
      "Requirement already satisfied: textblob in /home/arjun/.local/lib/python3.6/site-packages (0.15.3)\n",
      "Requirement already satisfied: nltk>=3.1 in /home/arjun/.local/lib/python3.6/site-packages (from textblob) (3.5)\n",
      "Requirement already satisfied: tqdm in /home/arjun/.local/lib/python3.6/site-packages (from nltk>=3.1->textblob) (4.46.0)\n",
      "Requirement already satisfied: click in /usr/lib/python3/dist-packages (from nltk>=3.1->textblob) (6.7)\n",
      "Requirement already satisfied: joblib in /home/arjun/.local/lib/python3.6/site-packages (from nltk>=3.1->textblob) (0.14.1)\n",
      "Requirement already satisfied: regex in /home/arjun/.local/lib/python3.6/site-packages (from nltk>=3.1->textblob) (2020.4.4)\n",
      "Defaulting to user installation because normal site-packages is not writeable\n",
      "Requirement already satisfied: lxml in /home/arjun/.local/lib/python3.6/site-packages (4.5.0)\n",
      "Defaulting to user installation because normal site-packages is not writeable\n",
      "Collecting plotly\n",
      "  Downloading plotly-4.6.0-py2.py3-none-any.whl (7.1 MB)\n",
      "\u001b[K     |████████████████████████████████| 7.1 MB 2.4 MB/s eta 0:00:01\n",
      "\u001b[?25hRequirement already satisfied: six in /home/arjun/.local/lib/python3.6/site-packages (from plotly) (1.14.0)\n",
      "Collecting retrying>=1.3.3\n",
      "  Downloading retrying-1.3.3.tar.gz (10 kB)\n",
      "Building wheels for collected packages: retrying\n",
      "  Building wheel for retrying (setup.py) ... \u001b[?25ldone\n",
      "\u001b[?25h  Created wheel for retrying: filename=retrying-1.3.3-py3-none-any.whl size=9530 sha256=de38bbfbcbe55b5031ad0575077adec56dbd19078155d3f413bf126794032634\n",
      "  Stored in directory: /home/arjun/.cache/pip/wheels/ac/cb/8a/b27bf6323e2f4c462dcbf77d70b7c5e7868a7fbe12871770cf\n",
      "Successfully built retrying\n",
      "Installing collected packages: retrying, plotly\n",
      "Successfully installed plotly-4.6.0 retrying-1.3.3\n"
     ]
    }
   ],
   "source": [
    "import sys\n",
    "!{sys.executable} -m pip install pandas\n",
    "!{sys.executable} -m pip install numpy\n",
    "!{sys.executable} -m pip install bs4\n",
    "!{sys.executable} -m pip install datetime\n",
    "!{sys.executable} -m pip install selenium\n",
    "!{sys.executable} -m pip install nltk\n",
    "!{sys.executable} -m pip install textblob\n",
    "!{sys.executable} -m pip install lxml\n",
    "!{sys.executable} -m pip install plotly"
   ]
  },
  {
   "cell_type": "code",
   "execution_count": 19,
   "metadata": {},
   "outputs": [
    {
     "name": "stdout",
     "output_type": "stream",
     "text": [
      "Defaulting to user installation because normal site-packages is not writeable\n",
      "Requirement already satisfied: pandas in /home/arjun/.local/lib/python3.6/site-packages (1.0.3)\n",
      "Requirement already satisfied: numpy>=1.13.3 in /home/arjun/.local/lib/python3.6/site-packages (from pandas) (1.18.1)\n",
      "Requirement already satisfied: python-dateutil>=2.6.1 in /usr/lib/python3/dist-packages (from pandas) (2.6.1)\n",
      "Requirement already satisfied: pytz>=2017.2 in /usr/lib/python3/dist-packages (from pandas) (2018.3)\n"
     ]
    }
   ],
   "source": []
  },
  {
   "cell_type": "code",
   "execution_count": 20,
   "metadata": {},
   "outputs": [
    {
     "name": "stdout",
     "output_type": "stream",
     "text": [
      "How many Links would you like to print? 5\n",
      "Enter title: Python\n",
      "Enter description: \n",
      "python \n",
      "['python', '']\n",
      "Scraping search results for the keyword: python  \n",
      "Message: invalid type: null, expected a string at line 1 column 12\n",
      "\n",
      "'Started'\n",
      "name 'v_tag' is not defined\n",
      "name 'v_tag' is not defined\n",
      "name 'v_tag' is not defined\n"
     ]
    },
    {
     "ename": "TypeError",
     "evalue": "Column 'Score' has dtype object, cannot use method 'nlargest' with this dtype",
     "output_type": "error",
     "traceback": [
      "\u001b[0;31m---------------------------------------------------------------------------\u001b[0m",
      "\u001b[0;31mTypeError\u001b[0m                                 Traceback (most recent call last)",
      "\u001b[0;32m<ipython-input-20-1aa60eadafae>\u001b[0m in \u001b[0;36m<module>\u001b[0;34m\u001b[0m\n\u001b[1;32m    274\u001b[0m \u001b[0mn\u001b[0m \u001b[0;34m=\u001b[0m \u001b[0mint\u001b[0m\u001b[0;34m(\u001b[0m\u001b[0minput\u001b[0m\u001b[0;34m(\u001b[0m\u001b[0;34m\"How many Links would you like to print? \"\u001b[0m\u001b[0;34m)\u001b[0m\u001b[0;34m)\u001b[0m\u001b[0;34m\u001b[0m\u001b[0;34m\u001b[0m\u001b[0m\n\u001b[1;32m    275\u001b[0m \u001b[0mdf1\u001b[0m \u001b[0;34m=\u001b[0m \u001b[0msearch\u001b[0m\u001b[0;34m(\u001b[0m\u001b[0;34m)\u001b[0m\u001b[0;34m\u001b[0m\u001b[0;34m\u001b[0m\u001b[0m\n\u001b[0;32m--> 276\u001b[0;31m \u001b[0mdf\u001b[0m \u001b[0;34m=\u001b[0m \u001b[0mdf1\u001b[0m\u001b[0;34m.\u001b[0m\u001b[0mnlargest\u001b[0m\u001b[0;34m(\u001b[0m\u001b[0mn\u001b[0m\u001b[0;34m,\u001b[0m\u001b[0;34m'Score'\u001b[0m\u001b[0;34m)\u001b[0m\u001b[0;34m\u001b[0m\u001b[0;34m\u001b[0m\u001b[0m\n\u001b[0m\u001b[1;32m    277\u001b[0m \u001b[0mprint\u001b[0m\u001b[0;34m(\u001b[0m\u001b[0mdf\u001b[0m\u001b[0;34m)\u001b[0m\u001b[0;34m\u001b[0m\u001b[0;34m\u001b[0m\u001b[0m\n",
      "\u001b[0;32m~/.local/lib/python3.6/site-packages/pandas/core/frame.py\u001b[0m in \u001b[0;36mnlargest\u001b[0;34m(self, n, columns, keep)\u001b[0m\n\u001b[1;32m   5123\u001b[0m         \u001b[0mBrunei\u001b[0m      \u001b[0;36m434000\u001b[0m    \u001b[0;36m12128\u001b[0m      \u001b[0mBN\u001b[0m\u001b[0;34m\u001b[0m\u001b[0;34m\u001b[0m\u001b[0m\n\u001b[1;32m   5124\u001b[0m         \"\"\"\n\u001b[0;32m-> 5125\u001b[0;31m         \u001b[0;32mreturn\u001b[0m \u001b[0malgorithms\u001b[0m\u001b[0;34m.\u001b[0m\u001b[0mSelectNFrame\u001b[0m\u001b[0;34m(\u001b[0m\u001b[0mself\u001b[0m\u001b[0;34m,\u001b[0m \u001b[0mn\u001b[0m\u001b[0;34m=\u001b[0m\u001b[0mn\u001b[0m\u001b[0;34m,\u001b[0m \u001b[0mkeep\u001b[0m\u001b[0;34m=\u001b[0m\u001b[0mkeep\u001b[0m\u001b[0;34m,\u001b[0m \u001b[0mcolumns\u001b[0m\u001b[0;34m=\u001b[0m\u001b[0mcolumns\u001b[0m\u001b[0;34m)\u001b[0m\u001b[0;34m.\u001b[0m\u001b[0mnlargest\u001b[0m\u001b[0;34m(\u001b[0m\u001b[0;34m)\u001b[0m\u001b[0;34m\u001b[0m\u001b[0;34m\u001b[0m\u001b[0m\n\u001b[0m\u001b[1;32m   5126\u001b[0m \u001b[0;34m\u001b[0m\u001b[0m\n\u001b[1;32m   5127\u001b[0m     \u001b[0;32mdef\u001b[0m \u001b[0mnsmallest\u001b[0m\u001b[0;34m(\u001b[0m\u001b[0mself\u001b[0m\u001b[0;34m,\u001b[0m \u001b[0mn\u001b[0m\u001b[0;34m,\u001b[0m \u001b[0mcolumns\u001b[0m\u001b[0;34m,\u001b[0m \u001b[0mkeep\u001b[0m\u001b[0;34m=\u001b[0m\u001b[0;34m\"first\"\u001b[0m\u001b[0;34m)\u001b[0m \u001b[0;34m->\u001b[0m \u001b[0;34m\"DataFrame\"\u001b[0m\u001b[0;34m:\u001b[0m\u001b[0;34m\u001b[0m\u001b[0;34m\u001b[0m\u001b[0m\n",
      "\u001b[0;32m~/.local/lib/python3.6/site-packages/pandas/core/algorithms.py\u001b[0m in \u001b[0;36mnlargest\u001b[0;34m(self)\u001b[0m\n\u001b[1;32m   1081\u001b[0m \u001b[0;34m\u001b[0m\u001b[0m\n\u001b[1;32m   1082\u001b[0m     \u001b[0;32mdef\u001b[0m \u001b[0mnlargest\u001b[0m\u001b[0;34m(\u001b[0m\u001b[0mself\u001b[0m\u001b[0;34m)\u001b[0m\u001b[0;34m:\u001b[0m\u001b[0;34m\u001b[0m\u001b[0;34m\u001b[0m\u001b[0m\n\u001b[0;32m-> 1083\u001b[0;31m         \u001b[0;32mreturn\u001b[0m \u001b[0mself\u001b[0m\u001b[0;34m.\u001b[0m\u001b[0mcompute\u001b[0m\u001b[0;34m(\u001b[0m\u001b[0;34m\"nlargest\"\u001b[0m\u001b[0;34m)\u001b[0m\u001b[0;34m\u001b[0m\u001b[0;34m\u001b[0m\u001b[0m\n\u001b[0m\u001b[1;32m   1084\u001b[0m \u001b[0;34m\u001b[0m\u001b[0m\n\u001b[1;32m   1085\u001b[0m     \u001b[0;32mdef\u001b[0m \u001b[0mnsmallest\u001b[0m\u001b[0;34m(\u001b[0m\u001b[0mself\u001b[0m\u001b[0;34m)\u001b[0m\u001b[0;34m:\u001b[0m\u001b[0;34m\u001b[0m\u001b[0;34m\u001b[0m\u001b[0m\n",
      "\u001b[0;32m~/.local/lib/python3.6/site-packages/pandas/core/algorithms.py\u001b[0m in \u001b[0;36mcompute\u001b[0;34m(self, method)\u001b[0m\n\u001b[1;32m   1198\u001b[0m             \u001b[0;32mif\u001b[0m \u001b[0;32mnot\u001b[0m \u001b[0mself\u001b[0m\u001b[0;34m.\u001b[0m\u001b[0mis_valid_dtype_n_method\u001b[0m\u001b[0;34m(\u001b[0m\u001b[0mdtype\u001b[0m\u001b[0;34m)\u001b[0m\u001b[0;34m:\u001b[0m\u001b[0;34m\u001b[0m\u001b[0;34m\u001b[0m\u001b[0m\n\u001b[1;32m   1199\u001b[0m                 raise TypeError(\n\u001b[0;32m-> 1200\u001b[0;31m                     \u001b[0;34mf\"Column {repr(column)} has dtype {dtype}, \"\u001b[0m\u001b[0;34m\u001b[0m\u001b[0;34m\u001b[0m\u001b[0m\n\u001b[0m\u001b[1;32m   1201\u001b[0m                     \u001b[0;34mf\"cannot use method {repr(method)} with this dtype\"\u001b[0m\u001b[0;34m\u001b[0m\u001b[0;34m\u001b[0m\u001b[0m\n\u001b[1;32m   1202\u001b[0m                 )\n",
      "\u001b[0;31mTypeError\u001b[0m: Column 'Score' has dtype object, cannot use method 'nlargest' with this dtype"
     ]
    }
   ],
   "source": [
    "# \"\"\"\n",
    "# This code was written by Viraj Shetty and Arjun Praveen!\n",
    "# \"\"\"\n",
    "# import pandas as pd\n",
    "# import time\n",
    "# import operator\n",
    "# import bs4 as bs\n",
    "# import datetime\n",
    "# from bs4 import BeautifulSoup\n",
    "# import urllib.request\n",
    "# from urllib.request import urlopen\n",
    "# from selenium import webdriver\n",
    "# from selenium.webdriver.common.by import By\n",
    "# from selenium.webdriver.support import expected_conditions as EC\n",
    "# from selenium.webdriver.support.ui import WebDriverWait\n",
    "# from selenium.webdriver.common.keys import Keys\n",
    "# from selenium.webdriver.firefox.options import Options\n",
    "# from datetime import date\n",
    "# from textblob import TextBlob\n",
    "\n",
    "# \"\"\"\n",
    "# This little piece of code is added to make the webdriver run silently\n",
    "# Generally when you use WebDriver in Selenium it opens a new window\n",
    "# If you have automated some functions you can also see those functions happening live\n",
    "# To avoid it use this option called \"headless\" which does all this in the background\n",
    "\n",
    "# Web Driver object creation\n",
    "# Note: Before importing Selenium Webdriver\n",
    "#     Make sure you have a webdriver application installed in the same directory\n",
    "    \n",
    "#     For Mozzilla\n",
    "#     >https://github.com/mozilla/geckodriver/releases\n",
    "    \n",
    "#     For Chrome\n",
    "#     >https://chromedriver.chromium.org/downloads\n",
    "# \"\"\"\n",
    "# options = Options()\n",
    "# options.headless = True\n",
    "# browser = webdriver.Firefox(options = options)\n",
    "\n",
    "\n",
    "# # This function tokenizes the entered keywords\n",
    "\n",
    "# def tokenizer(l_t, l_d):\n",
    "#     v = TextBlob(l_t)\n",
    "#     w = TextBlob(l_d)\n",
    "#     a = v.noun_phrases\n",
    "#     b = w.noun_phrases\n",
    "#     c = a + b\n",
    "#     d = \"\"\n",
    "#     for i in c:\n",
    "#         d = d + i + \" \"\n",
    "#     print(d)\n",
    "#     return d\n",
    "\n",
    "# # Function for extracting number of days since the video has been uploaded\n",
    "\n",
    "# def number_of_days(v_date):\n",
    "#     today = date.today()\n",
    "#     month = {\n",
    "#              \"Jan\" : 1,\n",
    "#              \"Feb\" : 2,\n",
    "#              \"Mar\" : 3,\n",
    "#              \"Apr\" : 4,\n",
    "#              \"May\" : 5,\n",
    "#              \"Jun\" : 6,\n",
    "#              \"Jul\" : 7,\n",
    "#              \"Aug\" : 8,\n",
    "#              \"Sep\" : 9,\n",
    "#              \"Oct\" : 10,\n",
    "#              \"Nov\" : 11,\n",
    "#              \"Dec\" : 12\n",
    "#             }\n",
    "#     v=v_date.split(\" \")\n",
    "#     v_year = int(v[2])\n",
    "#     v_month = int(month[v[0]])\n",
    "#     v_day = int(v[1])\n",
    "#     v_date = date(v_year,v_month,v_day)\n",
    "#     time = abs(today - v_date)\n",
    "#     return time.days\n",
    "\n",
    "# def search():\n",
    "    \n",
    "#     keyword = input(\"Enter title: \")\n",
    "    \n",
    "#     description = input(\"Enter description: \")  \n",
    "    \n",
    "#     keysearch = tokenizer(keyword, description)\n",
    "#     keysearch_list = keysearch.split(\" \")\n",
    "#     key = []\n",
    "#     for j in keysearch_list:\n",
    "#         if j not in key:\n",
    "#             key.append(j)\n",
    "#     print(key)\n",
    "#     keysearch = \"\"\n",
    "#     for k in key:\n",
    "#         keysearch = keysearch + k + \" \"\n",
    "#     print(\"Scraping search results for the keyword: \" + keysearch)\n",
    "    \n",
    "#     tag_list = keysearch.split(\" \")\n",
    "#     browser = webdriver.Firefox()\n",
    "#     browser.get(f'https://www.youtube.com/results?search_query={keysearch}&sp=EgIQAQ%253D%253D')\n",
    "#     browser.maximize_window()\n",
    "\n",
    "#     \"\"\"\n",
    "#     Please note here you need to use an Adblock to avoid advertisement videos to be a part of your list\n",
    "#     Add the filepath to your .xpi file\n",
    "#     \"\"\"\n",
    "#     extension = \"{your }\" \n",
    "#     #browser.install_addon(extension, temporary = True)\n",
    "\n",
    "#     # Change value of While Loop to scroll more pages\n",
    "#     i=0\n",
    "#     while i<=1:\n",
    "#         html = browser.find_element_by_tag_name('html')\n",
    "#         '''\n",
    "#         The code in the next line takes the page to end. Since in YouTube if you want more\n",
    "#         videos to load, you have to scroll down to the end of the page\n",
    "#         '''\n",
    "#         html.send_keys(Keys.END)\n",
    "#         time.sleep(3)\n",
    "#         i+=1\n",
    "        \n",
    "#     v_l = browser.find_elements_by_xpath('//*[@id=\"video-title\"]')\n",
    "#     link = []\n",
    "#     for i in v_l:\n",
    "#         link.append(i.get_attribute('href'))\n",
    "        \n",
    "#     #print(link) \n",
    "#     wait = WebDriverWait(browser,15)\n",
    "#     df = pd.DataFrame(columns = ['Link','Title','URL','Views','Likes','Dislikes','Subcount','Date','Days','Score','Tags'])\n",
    "#     k=0\n",
    "#     for x in link:\n",
    "#         try:\n",
    "#             i = 0\n",
    "#             browser.get(x)\n",
    "#             time.sleep(3)\n",
    "#             v_link = x\n",
    "#             v_title = wait.until(EC.presence_of_element_located((By.XPATH,'//h1[@class=\"title style-scope ytd-video-primary-info-renderer\"]'))).text\n",
    "#             v_views = wait.until(EC.presence_of_element_located((By.XPATH,'/html/body/ytd-app/div/ytd-page-manager/ytd-watch-flexy/div[4]/div[1]/div/div[5]/div[2]/ytd-video-primary-info-renderer/div/div/div[1]/div[1]/yt-view-count-renderer/span[1]'))).text\n",
    "#             try:    \n",
    "#                 v_views = int(v_views.strip(' views').replace(',', '', 2))\n",
    "#             except:\n",
    "#                 v_views = 1\n",
    "#             v_likes = wait.until(EC.presence_of_element_located((By.CSS_SELECTOR,'ytd-toggle-button-renderer.ytd-menu-renderer:nth-child(1) > a:nth-child(1) > yt-formatted-string:nth-child(2)'))).text\n",
    "#             v_dislikes = wait.until(EC.presence_of_element_located((By.CSS_SELECTOR,'ytd-toggle-button-renderer.style-scope:nth-child(2) > a:nth-child(1) > yt-formatted-string:nth-child(2)'))).text\n",
    "            \n",
    "#             #if (v_likes == 0 & v_dislikes == 0):\n",
    "#                 #v_like_dislike = 0\n",
    "            \n",
    "#             #Likes\n",
    "#             try:\n",
    "#                 if (operator.contains(v_likes,'K')):\n",
    "#                     if(operator.contains(v_likes,'.')):\n",
    "#                         pos = len(v_likes)-v_likes.find('.')-1 #length from the end\n",
    "#                         a1 = v_likes.replace('.', '', 1)\n",
    "#                         num = (int(a1[:len(a1)-1])*1000)/(10**(pos-1))\n",
    "#                         v_likes = num\n",
    "#                     else:\n",
    "#                         v_likes=int(v_likes[ :len(v_likes)-1])*(1000)\n",
    "#                 elif operator.contains(v_likes,'M'):\n",
    "#                     if(operator.contains(v_likes,'.')):\n",
    "#                         pos = len(v_likes)-v_likes.find('.')-1 #length from the end\n",
    "#                         a1 = v_likes.replace('.', '', 1)\n",
    "#                         num = (int(a1[:len(a1)-1])*1000000)/(10**(pos-1))\n",
    "#                         v_likes = num\n",
    "#                     else:\n",
    "#                         v_likes=int(v_likes[ :len(v_likes)-1])*(1000000)\n",
    "#                 else:\n",
    "#                     v_likes = int(v_likes)\n",
    "#             except:\n",
    "#                 v_likes = 1\n",
    "\n",
    "#             #Dislikes\n",
    "#             try:\n",
    "#                 if (operator.contains(v_dislikes,'K')):\n",
    "#                     if(operator.contains(v_dislikes,'.')):\n",
    "#                         pos = len(v_dislikes)-v_dislikes.find('.')-1 #length from the end\n",
    "#                         a1 = v_dislikes.replace('.', '', 1)\n",
    "#                         num = (int(a1[:len(a1)-1])*1000)/(10**(pos-1))\n",
    "#                         v_dislikes = num\n",
    "#                     else:\n",
    "#                         v_dislikes=int(v_dislikes[ :len(v_dislikes)-1])*(1000)\n",
    "#                 elif operator.contains(v_dislikes,'M'):\n",
    "#                     if(operator.contains(v_dislikes,'.')):\n",
    "#                         pos = len(v_dislikes)-v_dislikes.find('.')-1 #length from the end\n",
    "#                         a1 = v_dislikes.replace('.', '', 1)\n",
    "#                         num = (int(a1[:len(a1)-1])*1000000)/(10**(pos-1))\n",
    "#                         v_dislikes = num\n",
    "#                     else:\n",
    "#                         v_dislikes=int(v_dislikes[ :len(v_dislikes)-1])*(1000000)\n",
    "#                 else:\n",
    "#                     v_dislikes = int(v_dislikes)\n",
    "#             except:\n",
    "#                 v_dislikes = 1\n",
    "            \n",
    "#             v_like_dislike = ((v_likes-v_dislikes)/v_likes)\n",
    "            \n",
    "#             v_subcount = wait.until(EC.presence_of_element_located((By.XPATH,'//*[@id=\"owner-sub-count\"]'))).text\n",
    "#             v_subcount = v_subcount.strip(\" subscribers\")\n",
    "#             try:\n",
    "#                 if operator.contains(v_subcount,'M'):\n",
    "#                     if(operator.contains(v_subcount,'.')):\n",
    "#                         pos = len(v_subcount)-v_subcount.find('.')-1 #length from the end\n",
    "#                         a1 = v_subcount.replace('.', '', 1)\n",
    "#                         num = (int(a1[:len(a1)-1])*1000000)/(10**(pos-1))\n",
    "#                         v_subcount = num\n",
    "#                     else:\n",
    "#                         v_subcount=int(v_subcount[ :len(v_subcount)-1])*(1000000)\n",
    "#                 elif operator.contains(v_subcount,'K'):\n",
    "#                     if(operator.contains(v_subcount,'.')):\n",
    "#                         pos = len(v_subcount)-v_subcount.find('.')-1 #length from the end\n",
    "#                         a1 = v_subcount.replace('.', '', 1)\n",
    "#                         num = (int(a1[:len(a1)-1])*1000)/(10**(pos-1))\n",
    "#                         v_subcount = num\n",
    "#                     else:\n",
    "#                         v_subcount = int(v_subcount[ :len(v_subcount)-1])*(1000)\n",
    "#                 else:\n",
    "#                     v_subcount = int(float(v_subcount))\n",
    "#             except:\n",
    "#                 v_subcount = 1\n",
    "#             v_urls = browser.find_elements_by_xpath('//div[@class=\"ytp-cued-thumbnail-overlay-image\"]')\n",
    "#             for i in v_urls:\n",
    "#                 v_url=i.get_attribute('style')[23:-3]\n",
    "#                 break\n",
    "#             v_date = browser.find_element_by_xpath(\"//div[@id='date']\").text\n",
    "#             if(operator.contains(v_date,'Premiered')):\n",
    "#                 v_date = v_date[10:]\n",
    "#             elif(operator.contains(v_date,'Streamed live on')):\n",
    "#                 v_date = v_date[17:]\n",
    "\n",
    "#             v_date = v_date[1:].replace(\",\",\"\",1)\n",
    "#             v_days = number_of_days(v_date)\n",
    "        \n",
    "# #             try:\n",
    "# #                 url = x\n",
    "# #                 html_content = urlopen(url)\n",
    "# #                 soup = BeautifulSoup(html_content,'lxml')\n",
    "# #                 v_tags = [tag[\"content\"] for tag in soup.findAll(\"meta\",property=\"og:video:tag\")]\n",
    "# #             except:\n",
    "# #                 print('Error')\n",
    "# #             co = 0\n",
    "            \n",
    "# #             for tl in tag_list:\n",
    "# #                 for t in v_tags:\n",
    "# #                     if operator.contains(t, tl):\n",
    "# #                         co+=1\n",
    "# #             v_tag = co/(len(tag_list))\n",
    "            \n",
    "#             # Score formula\n",
    "#             try:\n",
    "#                 v_score = (((70*v_views)/700000) + (50*(v_likes/19000)) - (20*(v_dislikes/370)) + (160*v_like_dislike) +(20*(v_views/v_days)/7000)+(30*(v_likes/v_days)/200) + (12 * v_tag))/43\n",
    "#             except:\n",
    "#                 v_days = 1\n",
    "#                 v_likes = 1\n",
    "#                 v_score = (((70*v_views)/700000) + (50*(v_likes/19000)) - (20*(v_dislikes/370)) + (160*v_like_dislike)+(20*(v_views/v_days)/7000)+(30*(v_likes/v_days)/200) + (12 * v_tag))/43\n",
    "            \n",
    "            \n",
    "#             print('{}: {}/{} ,{} , {:.2f}'.format(url,co,len(tag_list),v_tag,v_score))\n",
    "\n",
    "            \n",
    "#             df.loc[len(df)] = [v_link,v_title,v_url,v_views,v_likes,v_dislikes,v_subcount,v_date,v_days,v_score,v_tags]\n",
    "#             k\n",
    "#             k+=1\n",
    "#             print(k)\n",
    "#         #Exception added since some YouTube ads bypass the adblock\n",
    "#         except Exception as e:\n",
    "#             print(e)\n",
    "#             continue\n",
    "#     df = df.sort_values(by='Score', ascending = 0)\n",
    "#     return df\n",
    "#     browser.close()\n",
    "\n",
    "# n = int(input(\"How many Links would you like to print? \"))\n",
    "# df1 = search()\n",
    "# df = df1.nlargest(n,'Score')\n",
    "# print(df)"
   ]
  },
  {
   "cell_type": "code",
   "execution_count": 24,
   "metadata": {},
   "outputs": [
    {
     "name": "stdout",
     "output_type": "stream",
     "text": [
      "How many Links would you like to print? 5\n",
      "Enter title: Python\n",
      "Enter description: \n",
      "python \n",
      "['python', '']\n",
      "Scraping search results for the keyword: python  \n",
      "Message: invalid type: null, expected a string at line 1 column 12\n",
      "\n",
      "https://www.youtube.com/watch?v=_uQrJ0TkZlc:  62.85\n",
      "1\n",
      "https://www.youtube.com/watch?v=rfscVS0vtbw:  75.69\n",
      "2\n",
      "https://www.youtube.com/watch?v=WGJJIrtnfpk:  10.09\n",
      "3\n",
      "'Streamed'\n",
      "https://www.youtube.com/watch?v=4F2m91eKmts:  14.76\n",
      "4\n",
      "https://www.youtube.com/watch?v=kLZuut1fYzQ:  16.24\n",
      "5\n",
      "https://www.youtube.com/watch?v=pJ3IPRqiD2M:  16.15\n",
      "6\n",
      "https://www.youtube.com/watch?v=eTyI-M50Hu4:  6.33\n",
      "7\n",
      "https://www.youtube.com/watch?v=ihk_Xglr164:  8.04\n",
      "8\n",
      "https://www.youtube.com/watch?v=OnDr4J2UXSA:  7.95\n",
      "9\n",
      "https://www.youtube.com/watch?v=Y8Tko2YC5hA:  8.49\n",
      "10\n",
      "https://www.youtube.com/watch?v=r-uOLxNrNk8:  7.11\n",
      "11\n",
      "https://www.youtube.com/watch?v=Km2UZ5bQTvQ:  3.95\n",
      "12\n",
      "https://www.youtube.com/watch?v=J0Aq44Pze-w:  5.41\n",
      "13\n",
      "https://www.youtube.com/watch?v=edvg4eHi_Mw:  6.98\n",
      "14\n",
      "https://www.youtube.com/watch?v=6V8VLmfvTVw:  5.66\n",
      "15\n",
      "https://www.youtube.com/watch?v=8DvywoWv6fI:  11.90\n",
      "16\n",
      "invalid literal for int() with base 10: 'ago'\n",
      "https://www.youtube.com/watch?v=JgKN3BuvC3E:  99.57\n",
      "17\n",
      "https://www.youtube.com/watch?v=52PaXG6NcS8:  5.81\n",
      "18\n",
      "https://www.youtube.com/watch?v=5tcs2qXP3Pg:  7.50\n",
      "19\n",
      "'Streamed'\n",
      "https://www.youtube.com/watch?v=rbasThWVb-c:  19.82\n",
      "20\n",
      "https://www.youtube.com/watch?v=PXz2nFNuNJU:  5.91\n",
      "21\n",
      "https://www.youtube.com/watch?v=XGf2GcyHPhc:  8.00\n",
      "22\n",
      "https://www.youtube.com/watch?v=BHh654_7Cmw:  5.59\n",
      "23\n",
      "https://www.youtube.com/watch?v=iE7BpqtfgYA:  40.62\n",
      "24\n",
      "https://www.youtube.com/watch?v=SrSl6T1My00:  5.41\n",
      "25\n",
      "https://www.youtube.com/watch?v=DWgzHbglNIo:  11.28\n",
      "26\n",
      "https://www.youtube.com/watch?v=RjMbCUpvIgw:  5.98\n",
      "27\n",
      "https://www.youtube.com/watch?v=C-gEQdGVXbk:  7.95\n",
      "28\n",
      "https://www.youtube.com/watch?v=G_UYXzGuqvM:  8.41\n",
      "29\n",
      "https://www.youtube.com/watch?v=d2GBO_QjRlo:  7.69\n",
      "30\n",
      "https://www.youtube.com/watch?v=LhIMJniL-no:  5.68\n",
      "31\n",
      "https://www.youtube.com/watch?v=7UeRnuGo-pg:  6.71\n",
      "32\n",
      "https://www.youtube.com/watch?v=wwbAD1XZ9Sk:  6.04\n",
      "33\n",
      "https://www.youtube.com/watch?v=g8nQ90Hk328:  6.42\n",
      "34\n",
      "https://www.youtube.com/watch?v=4JF6Uh0Xyrs:  16.38\n",
      "35\n",
      "https://www.youtube.com/watch?v=fUXNRIRmo-c:  5.50\n",
      "36\n",
      "https://www.youtube.com/watch?v=1Kcco6koC34:  5.36\n",
      "37\n",
      "https://www.youtube.com/watch?v=mNdbcHECGN4:  6.18\n",
      "38\n",
      "https://www.youtube.com/watch?v=Wkqzl3S2RSk:  6.91\n",
      "39\n",
      "https://www.youtube.com/watch?v=SSu00IRRraY:  6.59\n",
      "40\n",
      "                                           Link  \\\n",
      "16  https://www.youtube.com/watch?v=JgKN3BuvC3E   \n",
      "1   https://www.youtube.com/watch?v=rfscVS0vtbw   \n",
      "0   https://www.youtube.com/watch?v=_uQrJ0TkZlc   \n",
      "23  https://www.youtube.com/watch?v=iE7BpqtfgYA   \n",
      "19  https://www.youtube.com/watch?v=rbasThWVb-c   \n",
      "\n",
      "                                                Title  \\\n",
      "16     Python, Honey Badger & Jackal Fight Each Other   \n",
      "1   Learn Python - Full Course for Beginners [Tuto...   \n",
      "0   Python Tutorial for Beginners [Full Course] Le...   \n",
      "23  Python is too aggressive - Big Cat Can't Escap...   \n",
      "19  Creating a Snake game with Python in under 5 m...   \n",
      "\n",
      "                                                  URL     Views   Likes  \\\n",
      "16  https://i.ytimg.com/vi_webp/JgKN3BuvC3E/maxres...  24316080  104000   \n",
      "1   https://i.ytimg.com/vi_webp/rfscVS0vtbw/maxres...  13930413  329000   \n",
      "0   https://i.ytimg.com/vi_webp/_uQrJ0TkZlc/maxres...   9487486  304000   \n",
      "23  https://i.ytimg.com/vi_webp/iE7BpqtfgYA/maxres...  14711587   39000   \n",
      "19  https://i.ytimg.com/vi_webp/rbasThWVb-c/maxres...   2263897  116000   \n",
      "\n",
      "    Dislikes   Subcount         Date  Days      Score  \n",
      "16    6500.0    57300.0   Dec 9 2019   146  99.569129  \n",
      "1     3800.0  1910000.0  Jul 11 2018   662  75.685381  \n",
      "0     2300.0  1020000.0  Feb 18 2019   440  62.853457  \n",
      "23   11000.0        1.0  Jul 18 2019   290  40.618762  \n",
      "19    1800.0   314000.0  Jun 10 2017  1058  19.820407  \n"
     ]
    }
   ],
   "source": [
    "\"\"\"\n",
    "This code was written by Viraj Shetty and Arjun Praveen!\n",
    "\"\"\"\n",
    "import pandas as pd\n",
    "import time\n",
    "import operator\n",
    "import bs4 as bs\n",
    "import datetime\n",
    "from bs4 import BeautifulSoup\n",
    "import urllib.request\n",
    "from urllib.request import urlopen\n",
    "from selenium import webdriver\n",
    "from selenium.webdriver.common.by import By\n",
    "from selenium.webdriver.support import expected_conditions as EC\n",
    "from selenium.webdriver.support.ui import WebDriverWait\n",
    "from selenium.webdriver.common.keys import Keys\n",
    "from selenium.webdriver.firefox.options import Options\n",
    "from datetime import date\n",
    "from textblob import TextBlob\n",
    "\n",
    "\"\"\"\n",
    "This little piece of code is added to make the webdriver run silently\n",
    "Generally when you use WebDriver in Selenium it opens a new window\n",
    "If you have automated some functions you can also see those functions happening live\n",
    "To avoid it use this option called \"headless\" which does all this in the background\n",
    "\n",
    "Web Driver object creation\n",
    "Note: Before importing Selenium Webdriver\n",
    "    Make sure you have a webdriver application installed in the same directory\n",
    "    \n",
    "    For Mozzilla\n",
    "    >https://github.com/mozilla/geckodriver/releases\n",
    "    \n",
    "    For Chrome\n",
    "    >https://chromedriver.chromium.org/downloads\n",
    "\"\"\"\n",
    "options = Options()\n",
    "options.headless = True\n",
    "browser = webdriver.Firefox(options = options)\n",
    "\n",
    "\n",
    "# This function tokenizes the entered keywords\n",
    "\n",
    "def tokenizer(l_t, l_d):\n",
    "    v = TextBlob(l_t)\n",
    "    w = TextBlob(l_d)\n",
    "    a = v.noun_phrases\n",
    "    b = w.noun_phrases\n",
    "    c = a + b\n",
    "    d = \"\"\n",
    "    for i in c:\n",
    "        d = d + i + \" \"\n",
    "    print(d)\n",
    "    return d\n",
    "\n",
    "# Function for extracting number of days since the video has been uploaded\n",
    "\n",
    "def number_of_days(v_date):\n",
    "    today = date.today()\n",
    "    month = {\n",
    "             \"Jan\" : 1,\n",
    "             \"Feb\" : 2,\n",
    "             \"Mar\" : 3,\n",
    "             \"Apr\" : 4,\n",
    "             \"May\" : 5,\n",
    "             \"Jun\" : 6,\n",
    "             \"Jul\" : 7,\n",
    "             \"Aug\" : 8,\n",
    "             \"Sep\" : 9,\n",
    "             \"Oct\" : 10,\n",
    "             \"Nov\" : 11,\n",
    "             \"Dec\" : 12\n",
    "            }\n",
    "    v=v_date.split(\" \")\n",
    "    v_year = int(v[2])\n",
    "    v_month = int(month[v[0]])\n",
    "    v_day = int(v[1])\n",
    "    v_date = date(v_year,v_month,v_day)\n",
    "    time = abs(today - v_date)\n",
    "    return time.days\n",
    "\n",
    "def search():\n",
    "    \n",
    "    keyword = input(\"Enter title: \")\n",
    "    \n",
    "    description = input(\"Enter description: \")  \n",
    "    \n",
    "    keysearch = tokenizer(keyword, description)\n",
    "    keysearch_list = keysearch.split(\" \")\n",
    "    key = []\n",
    "    for j in keysearch_list:\n",
    "        if j not in key:\n",
    "            key.append(j)\n",
    "    print(key)\n",
    "    keysearch = \"\"\n",
    "    for k in key:\n",
    "        keysearch = keysearch + k + \" \"\n",
    "    print(\"Scraping search results for the keyword: \" + keysearch)\n",
    "    \n",
    "    tag_list = keysearch.split(\" \")\n",
    "    browser = webdriver.Firefox()\n",
    "    browser.get(f'https://www.youtube.com/results?search_query={keysearch}&sp=EgIQAQ%253D%253D')\n",
    "    browser.maximize_window()\n",
    "\n",
    "    \"\"\"\n",
    "    Please note here you need to use an Adblock to avoid advertisement videos to be a part of your list\n",
    "    Add the filepath to your .xpi file\n",
    "    \"\"\"\n",
    "    extension = \"{your }\" \n",
    "    #browser.install_addon(extension, temporary = True)\n",
    "\n",
    "    # Change value of While Loop to scroll more pages\n",
    "    i=0\n",
    "    while i<=1:\n",
    "        html = browser.find_element_by_tag_name('html')\n",
    "        '''\n",
    "        The code in the next line takes the page to end. Since in YouTube if you want more\n",
    "        videos to load, you have to scroll down to the end of the page\n",
    "        '''\n",
    "        html.send_keys(Keys.END)\n",
    "        time.sleep(3)\n",
    "        i+=1\n",
    "        \n",
    "    v_l = browser.find_elements_by_xpath('//*[@id=\"video-title\"]')\n",
    "    link = []\n",
    "    for i in v_l:\n",
    "        link.append(i.get_attribute('href'))\n",
    "        \n",
    "    #print(link) \n",
    "    wait = WebDriverWait(browser,15)\n",
    "    df = pd.DataFrame(columns = ['Link','Title','URL','Views','Likes','Dislikes','Subcount','Date','Days','Score'])\n",
    "    k=0\n",
    "    for x in link:\n",
    "        try:\n",
    "            i = 0\n",
    "            browser.get(x)\n",
    "            time.sleep(3)\n",
    "            v_link = x\n",
    "            v_title = wait.until(EC.presence_of_element_located((By.XPATH,'//h1[@class=\"title style-scope ytd-video-primary-info-renderer\"]'))).text\n",
    "            v_views = wait.until(EC.presence_of_element_located((By.XPATH,'/html/body/ytd-app/div/ytd-page-manager/ytd-watch-flexy/div[4]/div[1]/div/div[5]/div[2]/ytd-video-primary-info-renderer/div/div/div[1]/div[1]/yt-view-count-renderer/span[1]'))).text\n",
    "            try:    \n",
    "                v_views = int(v_views.strip(' views').replace(',', '', 2))\n",
    "            except:\n",
    "                v_views = 1\n",
    "            v_likes = wait.until(EC.presence_of_element_located((By.CSS_SELECTOR,'ytd-toggle-button-renderer.ytd-menu-renderer:nth-child(1) > a:nth-child(1) > yt-formatted-string:nth-child(2)'))).text\n",
    "            v_dislikes = wait.until(EC.presence_of_element_located((By.CSS_SELECTOR,'ytd-toggle-button-renderer.style-scope:nth-child(2) > a:nth-child(1) > yt-formatted-string:nth-child(2)'))).text\n",
    "            \n",
    "            #if (v_likes == 0 & v_dislikes == 0):\n",
    "                #v_like_dislike = 0\n",
    "            \n",
    "            #Likes\n",
    "            try:\n",
    "                if (operator.contains(v_likes,'K')):\n",
    "                    if(operator.contains(v_likes,'.')):\n",
    "                        pos = len(v_likes)-v_likes.find('.')-1 #length from the end\n",
    "                        a1 = v_likes.replace('.', '', 1)\n",
    "                        num = (int(a1[:len(a1)-1])*1000)/(10**(pos-1))\n",
    "                        v_likes = num\n",
    "                    else:\n",
    "                        v_likes=int(v_likes[ :len(v_likes)-1])*(1000)\n",
    "                elif operator.contains(v_likes,'M'):\n",
    "                    if(operator.contains(v_likes,'.')):\n",
    "                        pos = len(v_likes)-v_likes.find('.')-1 #length from the end\n",
    "                        a1 = v_likes.replace('.', '', 1)\n",
    "                        num = (int(a1[:len(a1)-1])*1000000)/(10**(pos-1))\n",
    "                        v_likes = num\n",
    "                    else:\n",
    "                        v_likes=int(v_likes[ :len(v_likes)-1])*(1000000)\n",
    "                else:\n",
    "                    v_likes = int(v_likes)\n",
    "            except:\n",
    "                v_likes = 1\n",
    "\n",
    "            #Dislikes\n",
    "            try:\n",
    "                if (operator.contains(v_dislikes,'K')):\n",
    "                    if(operator.contains(v_dislikes,'.')):\n",
    "                        pos = len(v_dislikes)-v_dislikes.find('.')-1 #length from the end\n",
    "                        a1 = v_dislikes.replace('.', '', 1)\n",
    "                        num = (int(a1[:len(a1)-1])*1000)/(10**(pos-1))\n",
    "                        v_dislikes = num\n",
    "                    else:\n",
    "                        v_dislikes=int(v_dislikes[ :len(v_dislikes)-1])*(1000)\n",
    "                elif operator.contains(v_dislikes,'M'):\n",
    "                    if(operator.contains(v_dislikes,'.')):\n",
    "                        pos = len(v_dislikes)-v_dislikes.find('.')-1 #length from the end\n",
    "                        a1 = v_dislikes.replace('.', '', 1)\n",
    "                        num = (int(a1[:len(a1)-1])*1000000)/(10**(pos-1))\n",
    "                        v_dislikes = num\n",
    "                    else:\n",
    "                        v_dislikes=int(v_dislikes[ :len(v_dislikes)-1])*(1000000)\n",
    "                else:\n",
    "                    v_dislikes = int(v_dislikes)\n",
    "            except:\n",
    "                v_dislikes = 1\n",
    "            \n",
    "            v_like_dislike = ((v_likes-v_dislikes)/v_likes)\n",
    "            \n",
    "            v_subcount = wait.until(EC.presence_of_element_located((By.XPATH,'//*[@id=\"owner-sub-count\"]'))).text\n",
    "            v_subcount = v_subcount.strip(\" subscribers\")\n",
    "            try:\n",
    "                if operator.contains(v_subcount,'M'):\n",
    "                    if(operator.contains(v_subcount,'.')):\n",
    "                        pos = len(v_subcount)-v_subcount.find('.')-1 #length from the end\n",
    "                        a1 = v_subcount.replace('.', '', 1)\n",
    "                        num = (int(a1[:len(a1)-1])*1000000)/(10**(pos-1))\n",
    "                        v_subcount = num\n",
    "                    else:\n",
    "                        v_subcount=int(v_subcount[ :len(v_subcount)-1])*(1000000)\n",
    "                elif operator.contains(v_subcount,'K'):\n",
    "                    if(operator.contains(v_subcount,'.')):\n",
    "                        pos = len(v_subcount)-v_subcount.find('.')-1 #length from the end\n",
    "                        a1 = v_subcount.replace('.', '', 1)\n",
    "                        num = (int(a1[:len(a1)-1])*1000)/(10**(pos-1))\n",
    "                        v_subcount = num\n",
    "                    else:\n",
    "                        v_subcount = int(v_subcount[ :len(v_subcount)-1])*(1000)\n",
    "                else:\n",
    "                    v_subcount = int(float(v_subcount))\n",
    "            except:\n",
    "                v_subcount = 1\n",
    "            v_urls = browser.find_elements_by_xpath('//div[@class=\"ytp-cued-thumbnail-overlay-image\"]')\n",
    "            for i in v_urls:\n",
    "                v_url=i.get_attribute('style')[23:-3]\n",
    "                break\n",
    "            v_date = browser.find_element_by_xpath(\"//div[@id='date']\").text\n",
    "            if(operator.contains(v_date,'Premiered')):\n",
    "                v_date = v_date[10:]\n",
    "            elif(operator.contains(v_date,'Streamed live on')):\n",
    "                v_date = v_date[17:]\n",
    "\n",
    "            v_date = v_date[1:].replace(\",\",\"\",1)\n",
    "            v_days = number_of_days(v_date)\n",
    "            url = x\n",
    "            co =0\n",
    "#             try:\n",
    "#                 url = x\n",
    "#                 html_content = urlopen(url)\n",
    "#                 soup = BeautifulSoup(html_content,'lxml')\n",
    "#                 v_tags = [tag[\"content\"] for tag in soup.findAll(\"meta\",property=\"og:video:tag\")]\n",
    "#             except:\n",
    "#                 print('Error')\n",
    "#             co = 0\n",
    "            \n",
    "#             for tl in tag_list:\n",
    "#                 for t in v_tags:\n",
    "#                     if operator.contains(t, tl):\n",
    "#                         co+=1\n",
    "#             v_tag = co/(len(tag_list))\n",
    "            \n",
    "            # Score formula\n",
    "            try:\n",
    "                v_score = (((70*v_views)/700000) + (50*(v_likes/19000)) - (20*(v_dislikes/370)) + (160*v_like_dislike) +(20*(v_views/v_days)/7000)+(30*(v_likes/v_days)/200))/31\n",
    "            except:\n",
    "                v_days = 1\n",
    "                v_likes = 1\n",
    "                v_score = (((70*v_views)/700000) + (50*(v_likes/19000)) - (20*(v_dislikes/370)) + (160*v_like_dislike)+(20*(v_views/v_days)/7000)+(30*(v_likes/v_days)/200) )/31\n",
    "            \n",
    "            \n",
    "            print('{}:  {:.2f}'.format(url, v_score))\n",
    "\n",
    "            \n",
    "            df.loc[len(df)] = [v_link,v_title,v_url,v_views,v_likes,v_dislikes,v_subcount,v_date,v_days,v_score]\n",
    "            k\n",
    "            k+=1\n",
    "            print(k)\n",
    "        #Exception added since some YouTube ads bypass the adblock\n",
    "        except Exception as e:\n",
    "            #print(e)\n",
    "            continue\n",
    "    df = df.sort_values(by='Score', ascending = 0)\n",
    "    return df\n",
    "    browser.close()\n",
    "\n",
    "n = int(input(\"How many Links would you like to print? \"))\n",
    "df1 = search()\n",
    "df = df1.nlargest(n,'Score')\n",
    "print(df)"
   ]
  },
  {
   "cell_type": "code",
   "execution_count": 26,
   "metadata": {},
   "outputs": [
    {
     "data": {
      "text/html": [
       "<div>\n",
       "<style scoped>\n",
       "    .dataframe tbody tr th:only-of-type {\n",
       "        vertical-align: middle;\n",
       "    }\n",
       "\n",
       "    .dataframe tbody tr th {\n",
       "        vertical-align: top;\n",
       "    }\n",
       "\n",
       "    .dataframe thead th {\n",
       "        text-align: right;\n",
       "    }\n",
       "</style>\n",
       "<table border=\"1\" class=\"dataframe\">\n",
       "  <thead>\n",
       "    <tr style=\"text-align: right;\">\n",
       "      <th></th>\n",
       "      <th>Link</th>\n",
       "      <th>Title</th>\n",
       "      <th>URL</th>\n",
       "      <th>Views</th>\n",
       "      <th>Likes</th>\n",
       "      <th>Dislikes</th>\n",
       "      <th>Subcount</th>\n",
       "      <th>Date</th>\n",
       "      <th>Days</th>\n",
       "      <th>Score</th>\n",
       "    </tr>\n",
       "  </thead>\n",
       "  <tbody>\n",
       "    <tr>\n",
       "      <th>16</th>\n",
       "      <td>https://www.youtube.com/watch?v=JgKN3BuvC3E</td>\n",
       "      <td>Python, Honey Badger &amp; Jackal Fight Each Other</td>\n",
       "      <td>https://i.ytimg.com/vi_webp/JgKN3BuvC3E/maxres...</td>\n",
       "      <td>24316080</td>\n",
       "      <td>104000</td>\n",
       "      <td>6500.0</td>\n",
       "      <td>57300.0</td>\n",
       "      <td>Dec 9 2019</td>\n",
       "      <td>146</td>\n",
       "      <td>99.569129</td>\n",
       "    </tr>\n",
       "    <tr>\n",
       "      <th>1</th>\n",
       "      <td>https://www.youtube.com/watch?v=rfscVS0vtbw</td>\n",
       "      <td>Learn Python - Full Course for Beginners [Tuto...</td>\n",
       "      <td>https://i.ytimg.com/vi_webp/rfscVS0vtbw/maxres...</td>\n",
       "      <td>13930413</td>\n",
       "      <td>329000</td>\n",
       "      <td>3800.0</td>\n",
       "      <td>1910000.0</td>\n",
       "      <td>Jul 11 2018</td>\n",
       "      <td>662</td>\n",
       "      <td>75.685381</td>\n",
       "    </tr>\n",
       "    <tr>\n",
       "      <th>0</th>\n",
       "      <td>https://www.youtube.com/watch?v=_uQrJ0TkZlc</td>\n",
       "      <td>Python Tutorial for Beginners [Full Course] Le...</td>\n",
       "      <td>https://i.ytimg.com/vi_webp/_uQrJ0TkZlc/maxres...</td>\n",
       "      <td>9487486</td>\n",
       "      <td>304000</td>\n",
       "      <td>2300.0</td>\n",
       "      <td>1020000.0</td>\n",
       "      <td>Feb 18 2019</td>\n",
       "      <td>440</td>\n",
       "      <td>62.853457</td>\n",
       "    </tr>\n",
       "    <tr>\n",
       "      <th>23</th>\n",
       "      <td>https://www.youtube.com/watch?v=iE7BpqtfgYA</td>\n",
       "      <td>Python is too aggressive - Big Cat Can't Escap...</td>\n",
       "      <td>https://i.ytimg.com/vi_webp/iE7BpqtfgYA/maxres...</td>\n",
       "      <td>14711587</td>\n",
       "      <td>39000</td>\n",
       "      <td>11000.0</td>\n",
       "      <td>1.0</td>\n",
       "      <td>Jul 18 2019</td>\n",
       "      <td>290</td>\n",
       "      <td>40.618762</td>\n",
       "    </tr>\n",
       "    <tr>\n",
       "      <th>19</th>\n",
       "      <td>https://www.youtube.com/watch?v=rbasThWVb-c</td>\n",
       "      <td>Creating a Snake game with Python in under 5 m...</td>\n",
       "      <td>https://i.ytimg.com/vi_webp/rbasThWVb-c/maxres...</td>\n",
       "      <td>2263897</td>\n",
       "      <td>116000</td>\n",
       "      <td>1800.0</td>\n",
       "      <td>314000.0</td>\n",
       "      <td>Jun 10 2017</td>\n",
       "      <td>1058</td>\n",
       "      <td>19.820407</td>\n",
       "    </tr>\n",
       "    <tr>\n",
       "      <th>34</th>\n",
       "      <td>https://www.youtube.com/watch?v=4JF6Uh0Xyrs</td>\n",
       "      <td>Python, Anaconda FIGHT over LIVE Squirrel -- E...</td>\n",
       "      <td>https://i.ytimg.com/vi_webp/4JF6Uh0Xyrs/maxres...</td>\n",
       "      <td>7306599</td>\n",
       "      <td>32000</td>\n",
       "      <td>9200.0</td>\n",
       "      <td>452000.0</td>\n",
       "      <td>Jun 1 2019</td>\n",
       "      <td>337</td>\n",
       "      <td>16.379453</td>\n",
       "    </tr>\n",
       "    <tr>\n",
       "      <th>4</th>\n",
       "      <td>https://www.youtube.com/watch?v=kLZuut1fYzQ</td>\n",
       "      <td>What Can You Do with Python? - The 3 Main Appl...</td>\n",
       "      <td>https://i.ytimg.com/vi_webp/kLZuut1fYzQ/maxres...</td>\n",
       "      <td>2131678</td>\n",
       "      <td>61000</td>\n",
       "      <td>926.0</td>\n",
       "      <td>1320000.0</td>\n",
       "      <td>Jun 22 2018</td>\n",
       "      <td>681</td>\n",
       "      <td>16.244865</td>\n",
       "    </tr>\n",
       "    <tr>\n",
       "      <th>5</th>\n",
       "      <td>https://www.youtube.com/watch?v=pJ3IPRqiD2M</td>\n",
       "      <td>Python Course | Python Tutorial for Beginners ...</td>\n",
       "      <td>https://i.ytimg.com/vi_webp/pJ3IPRqiD2M/maxres...</td>\n",
       "      <td>1801860</td>\n",
       "      <td>65000</td>\n",
       "      <td>1200.0</td>\n",
       "      <td>488000.0</td>\n",
       "      <td>Aug 16 2019</td>\n",
       "      <td>261</td>\n",
       "      <td>16.145195</td>\n",
       "    </tr>\n",
       "    <tr>\n",
       "      <th>3</th>\n",
       "      <td>https://www.youtube.com/watch?v=4F2m91eKmts</td>\n",
       "      <td>Python Tutorial for Beginners - Full Course in...</td>\n",
       "      <td>https://i.ytimg.com/vi_webp/4F2m91eKmts/maxres...</td>\n",
       "      <td>972074</td>\n",
       "      <td>63000</td>\n",
       "      <td>1000.0</td>\n",
       "      <td>570000.0</td>\n",
       "      <td>Dec 21 2019</td>\n",
       "      <td>134</td>\n",
       "      <td>14.762969</td>\n",
       "    </tr>\n",
       "    <tr>\n",
       "      <th>15</th>\n",
       "      <td>https://www.youtube.com/watch?v=8DvywoWv6fI</td>\n",
       "      <td>Python for Everybody - Full Course with Dr. Chuck</td>\n",
       "      <td>https://i.ytimg.com/vi_webp/8DvywoWv6fI/maxres...</td>\n",
       "      <td>1094740</td>\n",
       "      <td>36000</td>\n",
       "      <td>317.0</td>\n",
       "      <td>1910000.0</td>\n",
       "      <td>May 2 2019</td>\n",
       "      <td>367</td>\n",
       "      <td>11.900110</td>\n",
       "    </tr>\n",
       "    <tr>\n",
       "      <th>25</th>\n",
       "      <td>https://www.youtube.com/watch?v=DWgzHbglNIo</td>\n",
       "      <td>#3 Python Tutorial for Beginners | Getting Sta...</td>\n",
       "      <td>https://i.ytimg.com/vi_webp/DWgzHbglNIo/maxres...</td>\n",
       "      <td>1232368</td>\n",
       "      <td>29000</td>\n",
       "      <td>361.0</td>\n",
       "      <td>925000.0</td>\n",
       "      <td>Jul 2 2018</td>\n",
       "      <td>671</td>\n",
       "      <td>11.283151</td>\n",
       "    </tr>\n",
       "    <tr>\n",
       "      <th>2</th>\n",
       "      <td>https://www.youtube.com/watch?v=WGJJIrtnfpk</td>\n",
       "      <td>Python Full Course - Learn Python in 12 Hours ...</td>\n",
       "      <td>https://i.ytimg.com/vi_webp/WGJJIrtnfpk/maxres...</td>\n",
       "      <td>887068</td>\n",
       "      <td>20000</td>\n",
       "      <td>394.0</td>\n",
       "      <td>1660000.0</td>\n",
       "      <td>Dec 1 2019</td>\n",
       "      <td>154</td>\n",
       "      <td>10.091202</td>\n",
       "    </tr>\n",
       "    <tr>\n",
       "      <th>9</th>\n",
       "      <td>https://www.youtube.com/watch?v=Y8Tko2YC5hA</td>\n",
       "      <td>What is Python and Why You Must Learn It in [2...</td>\n",
       "      <td>https://i.ytimg.com/vi_webp/Y8Tko2YC5hA/maxres...</td>\n",
       "      <td>582708</td>\n",
       "      <td>20000</td>\n",
       "      <td>258.0</td>\n",
       "      <td>1020000.0</td>\n",
       "      <td>Oct 22 2018</td>\n",
       "      <td>559</td>\n",
       "      <td>8.491532</td>\n",
       "    </tr>\n",
       "    <tr>\n",
       "      <th>28</th>\n",
       "      <td>https://www.youtube.com/watch?v=G_UYXzGuqvM</td>\n",
       "      <td>Python Sudoku Solver - Computerphile</td>\n",
       "      <td>https://i.ytimg.com/vi/G_UYXzGuqvM/maxresdefau...</td>\n",
       "      <td>456727</td>\n",
       "      <td>12000</td>\n",
       "      <td>219.0</td>\n",
       "      <td>1650000.0</td>\n",
       "      <td>Feb 12 2020</td>\n",
       "      <td>81</td>\n",
       "      <td>8.413753</td>\n",
       "    </tr>\n",
       "    <tr>\n",
       "      <th>7</th>\n",
       "      <td>https://www.youtube.com/watch?v=ihk_Xglr164</td>\n",
       "      <td>Python Tutorial In Hindi 🔥</td>\n",
       "      <td>https://i1.ytimg.com/vi/ihk_Xglr164/hqdefault.jpg</td>\n",
       "      <td>609779</td>\n",
       "      <td>20000</td>\n",
       "      <td>663.0</td>\n",
       "      <td>287000.0</td>\n",
       "      <td>Jul 27 2019</td>\n",
       "      <td>281</td>\n",
       "      <td>8.043351</td>\n",
       "    </tr>\n",
       "    <tr>\n",
       "      <th>21</th>\n",
       "      <td>https://www.youtube.com/watch?v=XGf2GcyHPhc</td>\n",
       "      <td>Learn Python by Building Five Games - Full Course</td>\n",
       "      <td>https://i.ytimg.com/vi_webp/XGf2GcyHPhc/maxres...</td>\n",
       "      <td>430346</td>\n",
       "      <td>13000</td>\n",
       "      <td>106.0</td>\n",
       "      <td>1910000.0</td>\n",
       "      <td>Nov 6 2019</td>\n",
       "      <td>179</td>\n",
       "      <td>7.999151</td>\n",
       "    </tr>\n",
       "    <tr>\n",
       "      <th>8</th>\n",
       "      <td>https://www.youtube.com/watch?v=OnDr4J2UXSA</td>\n",
       "      <td>Introduction to For Loops in Python (Python Tu...</td>\n",
       "      <td>https://i.ytimg.com/vi_webp/OnDr4J2UXSA/maxres...</td>\n",
       "      <td>682391</td>\n",
       "      <td>9300</td>\n",
       "      <td>143.0</td>\n",
       "      <td>1320000.0</td>\n",
       "      <td>Jan 15 2018</td>\n",
       "      <td>839</td>\n",
       "      <td>7.951915</td>\n",
       "    </tr>\n",
       "    <tr>\n",
       "      <th>27</th>\n",
       "      <td>https://www.youtube.com/watch?v=C-gEQdGVXbk</td>\n",
       "      <td>10 Python Tips and Tricks For Writing Better Code</td>\n",
       "      <td>https://i.ytimg.com/vi_webp/C-gEQdGVXbk/maxres...</td>\n",
       "      <td>485004</td>\n",
       "      <td>15000</td>\n",
       "      <td>164.0</td>\n",
       "      <td>512000.0</td>\n",
       "      <td>Mar 25 2019</td>\n",
       "      <td>405</td>\n",
       "      <td>7.946354</td>\n",
       "    </tr>\n",
       "    <tr>\n",
       "      <th>29</th>\n",
       "      <td>https://www.youtube.com/watch?v=d2GBO_QjRlo</td>\n",
       "      <td>Building a simple Instagram bot with Python tu...</td>\n",
       "      <td>https://i.ytimg.com/vi_webp/d2GBO_QjRlo/maxres...</td>\n",
       "      <td>410355</td>\n",
       "      <td>14000</td>\n",
       "      <td>296.0</td>\n",
       "      <td>142000.0</td>\n",
       "      <td>Nov 21 2019</td>\n",
       "      <td>164</td>\n",
       "      <td>7.691893</td>\n",
       "    </tr>\n",
       "    <tr>\n",
       "      <th>18</th>\n",
       "      <td>https://www.youtube.com/watch?v=5tcs2qXP3Pg</td>\n",
       "      <td>5 Python tricks that will improve your life</td>\n",
       "      <td>https://i1.ytimg.com/vi/5tcs2qXP3Pg/hqdefault.jpg</td>\n",
       "      <td>283351</td>\n",
       "      <td>12000</td>\n",
       "      <td>224.0</td>\n",
       "      <td>142000.0</td>\n",
       "      <td>Jan 30 2020</td>\n",
       "      <td>94</td>\n",
       "      <td>7.502603</td>\n",
       "    </tr>\n",
       "    <tr>\n",
       "      <th>10</th>\n",
       "      <td>https://www.youtube.com/watch?v=r-uOLxNrNk8</td>\n",
       "      <td>Data Analysis with Python - Full Course for Be...</td>\n",
       "      <td>https://i.ytimg.com/vi_webp/r-uOLxNrNk8/maxres...</td>\n",
       "      <td>93895</td>\n",
       "      <td>3600</td>\n",
       "      <td>35.0</td>\n",
       "      <td>1910000.0</td>\n",
       "      <td>Apr 15 2020</td>\n",
       "      <td>18</td>\n",
       "      <td>7.107087</td>\n",
       "    </tr>\n",
       "    <tr>\n",
       "      <th>13</th>\n",
       "      <td>https://www.youtube.com/watch?v=edvg4eHi_Mw</td>\n",
       "      <td>Python for Data Science | Data Science with Py...</td>\n",
       "      <td>https://i.ytimg.com/vi_webp/edvg4eHi_Mw/maxres...</td>\n",
       "      <td>233907</td>\n",
       "      <td>8600</td>\n",
       "      <td>103.0</td>\n",
       "      <td>133000.0</td>\n",
       "      <td>Jan 14 2020</td>\n",
       "      <td>110</td>\n",
       "      <td>6.978749</td>\n",
       "    </tr>\n",
       "    <tr>\n",
       "      <th>38</th>\n",
       "      <td>https://www.youtube.com/watch?v=Wkqzl3S2RSk</td>\n",
       "      <td>7-Year-Old’s Bestie Is A 15ft Python | BEAST B...</td>\n",
       "      <td>https://i.ytimg.com/vi_webp/Wkqzl3S2RSk/maxres...</td>\n",
       "      <td>362213</td>\n",
       "      <td>7900</td>\n",
       "      <td>316.0</td>\n",
       "      <td>1850000.0</td>\n",
       "      <td>Jan 16 2020</td>\n",
       "      <td>108</td>\n",
       "      <td>6.905944</td>\n",
       "    </tr>\n",
       "    <tr>\n",
       "      <th>31</th>\n",
       "      <td>https://www.youtube.com/watch?v=7UeRnuGo-pg</td>\n",
       "      <td>Python - 2019 Action plan to learn it - Step b...</td>\n",
       "      <td>https://i.ytimg.com/vi_webp/7UeRnuGo-pg/maxres...</td>\n",
       "      <td>597733</td>\n",
       "      <td>13000</td>\n",
       "      <td>803.0</td>\n",
       "      <td>499000.0</td>\n",
       "      <td>Dec 13 2018</td>\n",
       "      <td>507</td>\n",
       "      <td>6.706773</td>\n",
       "    </tr>\n",
       "    <tr>\n",
       "      <th>39</th>\n",
       "      <td>https://www.youtube.com/watch?v=SSu00IRRraY</td>\n",
       "      <td>Predicting Stock Prices - Learn Python for Dat...</td>\n",
       "      <td>https://i1.ytimg.com/vi/SSu00IRRraY/hqdefault.jpg</td>\n",
       "      <td>721931</td>\n",
       "      <td>10000</td>\n",
       "      <td>815.0</td>\n",
       "      <td>703000.0</td>\n",
       "      <td>Oct 28 2016</td>\n",
       "      <td>1283</td>\n",
       "      <td>6.586828</td>\n",
       "    </tr>\n",
       "    <tr>\n",
       "      <th>33</th>\n",
       "      <td>https://www.youtube.com/watch?v=g8nQ90Hk328</td>\n",
       "      <td>Logging in Python || Learn Python Programming ...</td>\n",
       "      <td>https://i.ytimg.com/vi_webp/g8nQ90Hk328/maxres...</td>\n",
       "      <td>252042</td>\n",
       "      <td>7600</td>\n",
       "      <td>107.0</td>\n",
       "      <td>536000.0</td>\n",
       "      <td>Jul 15 2017</td>\n",
       "      <td>1023</td>\n",
       "      <td>6.418906</td>\n",
       "    </tr>\n",
       "    <tr>\n",
       "      <th>6</th>\n",
       "      <td>https://www.youtube.com/watch?v=eTyI-M50Hu4</td>\n",
       "      <td>Python Tutorial in Hindi | Learn Python in Hin...</td>\n",
       "      <td>https://i.ytimg.com/vi_webp/eTyI-M50Hu4/maxres...</td>\n",
       "      <td>116372</td>\n",
       "      <td>4100</td>\n",
       "      <td>51.0</td>\n",
       "      <td>133000.0</td>\n",
       "      <td>Mar 13 2020</td>\n",
       "      <td>51</td>\n",
       "      <td>6.330901</td>\n",
       "    </tr>\n",
       "    <tr>\n",
       "      <th>37</th>\n",
       "      <td>https://www.youtube.com/watch?v=mNdbcHECGN4</td>\n",
       "      <td>Python for Data Science | Data Science With Py...</td>\n",
       "      <td>https://i1.ytimg.com/vi/mNdbcHECGN4/hqdefault.jpg</td>\n",
       "      <td>250052</td>\n",
       "      <td>4800</td>\n",
       "      <td>123.0</td>\n",
       "      <td>488000.0</td>\n",
       "      <td>Jul 6 2019</td>\n",
       "      <td>302</td>\n",
       "      <td>6.181868</td>\n",
       "    </tr>\n",
       "    <tr>\n",
       "      <th>32</th>\n",
       "      <td>https://www.youtube.com/watch?v=wwbAD1XZ9Sk</td>\n",
       "      <td>Attack of the Giant Pythons in Florida - Natio...</td>\n",
       "      <td>https://i.ytimg.com/vi_webp/wwbAD1XZ9Sk/maxres...</td>\n",
       "      <td>726921</td>\n",
       "      <td>1700</td>\n",
       "      <td>350.0</td>\n",
       "      <td>3990.0</td>\n",
       "      <td>Dec 26 2016</td>\n",
       "      <td>1224</td>\n",
       "      <td>6.039060</td>\n",
       "    </tr>\n",
       "    <tr>\n",
       "      <th>26</th>\n",
       "      <td>https://www.youtube.com/watch?v=RjMbCUpvIgw</td>\n",
       "      <td>Datetime Module (Dates and Times) || Python Tu...</td>\n",
       "      <td>https://i.ytimg.com/vi_webp/RjMbCUpvIgw/maxres...</td>\n",
       "      <td>177935</td>\n",
       "      <td>4500</td>\n",
       "      <td>59.0</td>\n",
       "      <td>536000.0</td>\n",
       "      <td>Apr 10 2017</td>\n",
       "      <td>1119</td>\n",
       "      <td>5.980844</td>\n",
       "    </tr>\n",
       "    <tr>\n",
       "      <th>20</th>\n",
       "      <td>https://www.youtube.com/watch?v=PXz2nFNuNJU</td>\n",
       "      <td>I Automated The Chrome Dinosaur Game Using Pyt...</td>\n",
       "      <td>https://i1.ytimg.com/vi/PXz2nFNuNJU/hqdefault.jpg</td>\n",
       "      <td>8750</td>\n",
       "      <td>1</td>\n",
       "      <td>15.0</td>\n",
       "      <td>287000.0</td>\n",
       "      <td>May 3 2020</td>\n",
       "      <td>1</td>\n",
       "      <td>5.910220</td>\n",
       "    </tr>\n",
       "    <tr>\n",
       "      <th>17</th>\n",
       "      <td>https://www.youtube.com/watch?v=52PaXG6NcS8</td>\n",
       "      <td>python live class</td>\n",
       "      <td>https://i1.ytimg.com/vi/52PaXG6NcS8/hqdefault.jpg</td>\n",
       "      <td>9141</td>\n",
       "      <td>168</td>\n",
       "      <td>7.0</td>\n",
       "      <td>7930.0</td>\n",
       "      <td>May 1 2020</td>\n",
       "      <td>2</td>\n",
       "      <td>5.805475</td>\n",
       "    </tr>\n",
       "    <tr>\n",
       "      <th>30</th>\n",
       "      <td>https://www.youtube.com/watch?v=LhIMJniL-no</td>\n",
       "      <td>python live class</td>\n",
       "      <td>https://i1.ytimg.com/vi/LhIMJniL-no/hqdefault.jpg</td>\n",
       "      <td>16954</td>\n",
       "      <td>383</td>\n",
       "      <td>9.0</td>\n",
       "      <td>7930.0</td>\n",
       "      <td>Apr 27 2020</td>\n",
       "      <td>6</td>\n",
       "      <td>5.680818</td>\n",
       "    </tr>\n",
       "    <tr>\n",
       "      <th>14</th>\n",
       "      <td>https://www.youtube.com/watch?v=6V8VLmfvTVw</td>\n",
       "      <td>Reticulated Python Lays Eggs In Closed Jewellery</td>\n",
       "      <td>https://i1.ytimg.com/vi/6V8VLmfvTVw/hqdefault.jpg</td>\n",
       "      <td>7411</td>\n",
       "      <td>1</td>\n",
       "      <td>3.0</td>\n",
       "      <td>1340000.0</td>\n",
       "      <td>May 3 2020</td>\n",
       "      <td>1</td>\n",
       "      <td>5.664196</td>\n",
       "    </tr>\n",
       "    <tr>\n",
       "      <th>22</th>\n",
       "      <td>https://www.youtube.com/watch?v=BHh654_7Cmw</td>\n",
       "      <td>Python for absolute beginners 2019 - TIC TAC T...</td>\n",
       "      <td>https://i.ytimg.com/vi_webp/BHh654_7Cmw/maxres...</td>\n",
       "      <td>135730</td>\n",
       "      <td>3300</td>\n",
       "      <td>108.0</td>\n",
       "      <td>570000.0</td>\n",
       "      <td>Mar 2 2019</td>\n",
       "      <td>428</td>\n",
       "      <td>5.588569</td>\n",
       "    </tr>\n",
       "    <tr>\n",
       "      <th>35</th>\n",
       "      <td>https://www.youtube.com/watch?v=fUXNRIRmo-c</td>\n",
       "      <td>How I Learned Python in Just 10 Days</td>\n",
       "      <td>https://i.ytimg.com/vi_webp/fUXNRIRmo-c/maxres...</td>\n",
       "      <td>122256</td>\n",
       "      <td>4100</td>\n",
       "      <td>173.0</td>\n",
       "      <td>140000.0</td>\n",
       "      <td>Aug 16 2019</td>\n",
       "      <td>261</td>\n",
       "      <td>5.503456</td>\n",
       "    </tr>\n",
       "    <tr>\n",
       "      <th>12</th>\n",
       "      <td>https://www.youtube.com/watch?v=J0Aq44Pze-w</td>\n",
       "      <td>The Story of Python, by Its Creator, Guido van...</td>\n",
       "      <td>https://i1.ytimg.com/vi/J0Aq44Pze-w/hqdefault.jpg</td>\n",
       "      <td>57697</td>\n",
       "      <td>1200</td>\n",
       "      <td>10.0</td>\n",
       "      <td>53600.0</td>\n",
       "      <td>Feb 25 2019</td>\n",
       "      <td>433</td>\n",
       "      <td>5.414521</td>\n",
       "    </tr>\n",
       "    <tr>\n",
       "      <th>24</th>\n",
       "      <td>https://www.youtube.com/watch?v=SrSl6T1My00</td>\n",
       "      <td>5 Beginner Python Projects - Just for You!</td>\n",
       "      <td>https://i.ytimg.com/vi/SrSl6T1My00/maxresdefau...</td>\n",
       "      <td>29495</td>\n",
       "      <td>1300</td>\n",
       "      <td>23.0</td>\n",
       "      <td>161000.0</td>\n",
       "      <td>Mar 13 2020</td>\n",
       "      <td>51</td>\n",
       "      <td>5.412015</td>\n",
       "    </tr>\n",
       "    <tr>\n",
       "      <th>36</th>\n",
       "      <td>https://www.youtube.com/watch?v=1Kcco6koC34</td>\n",
       "      <td>Automate Multiple Sheet Excel Reporting - Pyth...</td>\n",
       "      <td>https://i.ytimg.com/vi_webp/1Kcco6koC34/maxres...</td>\n",
       "      <td>38807</td>\n",
       "      <td>1300</td>\n",
       "      <td>13.0</td>\n",
       "      <td>15000.0</td>\n",
       "      <td>Aug 28 2019</td>\n",
       "      <td>249</td>\n",
       "      <td>5.362177</td>\n",
       "    </tr>\n",
       "    <tr>\n",
       "      <th>11</th>\n",
       "      <td>https://www.youtube.com/watch?v=Km2UZ5bQTvQ</td>\n",
       "      <td>Family's Dog is Missing, finds 20-FOOT-LONG PY...</td>\n",
       "      <td>https://i.ytimg.com/vi_webp/Km2UZ5bQTvQ/maxres...</td>\n",
       "      <td>747466</td>\n",
       "      <td>4900</td>\n",
       "      <td>1500.0</td>\n",
       "      <td>452000.0</td>\n",
       "      <td>Sep 8 2018</td>\n",
       "      <td>603</td>\n",
       "      <td>3.946491</td>\n",
       "    </tr>\n",
       "  </tbody>\n",
       "</table>\n",
       "</div>"
      ],
      "text/plain": [
       "                                           Link  \\\n",
       "16  https://www.youtube.com/watch?v=JgKN3BuvC3E   \n",
       "1   https://www.youtube.com/watch?v=rfscVS0vtbw   \n",
       "0   https://www.youtube.com/watch?v=_uQrJ0TkZlc   \n",
       "23  https://www.youtube.com/watch?v=iE7BpqtfgYA   \n",
       "19  https://www.youtube.com/watch?v=rbasThWVb-c   \n",
       "34  https://www.youtube.com/watch?v=4JF6Uh0Xyrs   \n",
       "4   https://www.youtube.com/watch?v=kLZuut1fYzQ   \n",
       "5   https://www.youtube.com/watch?v=pJ3IPRqiD2M   \n",
       "3   https://www.youtube.com/watch?v=4F2m91eKmts   \n",
       "15  https://www.youtube.com/watch?v=8DvywoWv6fI   \n",
       "25  https://www.youtube.com/watch?v=DWgzHbglNIo   \n",
       "2   https://www.youtube.com/watch?v=WGJJIrtnfpk   \n",
       "9   https://www.youtube.com/watch?v=Y8Tko2YC5hA   \n",
       "28  https://www.youtube.com/watch?v=G_UYXzGuqvM   \n",
       "7   https://www.youtube.com/watch?v=ihk_Xglr164   \n",
       "21  https://www.youtube.com/watch?v=XGf2GcyHPhc   \n",
       "8   https://www.youtube.com/watch?v=OnDr4J2UXSA   \n",
       "27  https://www.youtube.com/watch?v=C-gEQdGVXbk   \n",
       "29  https://www.youtube.com/watch?v=d2GBO_QjRlo   \n",
       "18  https://www.youtube.com/watch?v=5tcs2qXP3Pg   \n",
       "10  https://www.youtube.com/watch?v=r-uOLxNrNk8   \n",
       "13  https://www.youtube.com/watch?v=edvg4eHi_Mw   \n",
       "38  https://www.youtube.com/watch?v=Wkqzl3S2RSk   \n",
       "31  https://www.youtube.com/watch?v=7UeRnuGo-pg   \n",
       "39  https://www.youtube.com/watch?v=SSu00IRRraY   \n",
       "33  https://www.youtube.com/watch?v=g8nQ90Hk328   \n",
       "6   https://www.youtube.com/watch?v=eTyI-M50Hu4   \n",
       "37  https://www.youtube.com/watch?v=mNdbcHECGN4   \n",
       "32  https://www.youtube.com/watch?v=wwbAD1XZ9Sk   \n",
       "26  https://www.youtube.com/watch?v=RjMbCUpvIgw   \n",
       "20  https://www.youtube.com/watch?v=PXz2nFNuNJU   \n",
       "17  https://www.youtube.com/watch?v=52PaXG6NcS8   \n",
       "30  https://www.youtube.com/watch?v=LhIMJniL-no   \n",
       "14  https://www.youtube.com/watch?v=6V8VLmfvTVw   \n",
       "22  https://www.youtube.com/watch?v=BHh654_7Cmw   \n",
       "35  https://www.youtube.com/watch?v=fUXNRIRmo-c   \n",
       "12  https://www.youtube.com/watch?v=J0Aq44Pze-w   \n",
       "24  https://www.youtube.com/watch?v=SrSl6T1My00   \n",
       "36  https://www.youtube.com/watch?v=1Kcco6koC34   \n",
       "11  https://www.youtube.com/watch?v=Km2UZ5bQTvQ   \n",
       "\n",
       "                                                Title  \\\n",
       "16     Python, Honey Badger & Jackal Fight Each Other   \n",
       "1   Learn Python - Full Course for Beginners [Tuto...   \n",
       "0   Python Tutorial for Beginners [Full Course] Le...   \n",
       "23  Python is too aggressive - Big Cat Can't Escap...   \n",
       "19  Creating a Snake game with Python in under 5 m...   \n",
       "34  Python, Anaconda FIGHT over LIVE Squirrel -- E...   \n",
       "4   What Can You Do with Python? - The 3 Main Appl...   \n",
       "5   Python Course | Python Tutorial for Beginners ...   \n",
       "3   Python Tutorial for Beginners - Full Course in...   \n",
       "15  Python for Everybody - Full Course with Dr. Chuck   \n",
       "25  #3 Python Tutorial for Beginners | Getting Sta...   \n",
       "2   Python Full Course - Learn Python in 12 Hours ...   \n",
       "9   What is Python and Why You Must Learn It in [2...   \n",
       "28               Python Sudoku Solver - Computerphile   \n",
       "7                          Python Tutorial In Hindi 🔥   \n",
       "21  Learn Python by Building Five Games - Full Course   \n",
       "8   Introduction to For Loops in Python (Python Tu...   \n",
       "27  10 Python Tips and Tricks For Writing Better Code   \n",
       "29  Building a simple Instagram bot with Python tu...   \n",
       "18        5 Python tricks that will improve your life   \n",
       "10  Data Analysis with Python - Full Course for Be...   \n",
       "13  Python for Data Science | Data Science with Py...   \n",
       "38  7-Year-Old’s Bestie Is A 15ft Python | BEAST B...   \n",
       "31  Python - 2019 Action plan to learn it - Step b...   \n",
       "39  Predicting Stock Prices - Learn Python for Dat...   \n",
       "33  Logging in Python || Learn Python Programming ...   \n",
       "6   Python Tutorial in Hindi | Learn Python in Hin...   \n",
       "37  Python for Data Science | Data Science With Py...   \n",
       "32  Attack of the Giant Pythons in Florida - Natio...   \n",
       "26  Datetime Module (Dates and Times) || Python Tu...   \n",
       "20  I Automated The Chrome Dinosaur Game Using Pyt...   \n",
       "17                                  python live class   \n",
       "30                                  python live class   \n",
       "14   Reticulated Python Lays Eggs In Closed Jewellery   \n",
       "22  Python for absolute beginners 2019 - TIC TAC T...   \n",
       "35               How I Learned Python in Just 10 Days   \n",
       "12  The Story of Python, by Its Creator, Guido van...   \n",
       "24         5 Beginner Python Projects - Just for You!   \n",
       "36  Automate Multiple Sheet Excel Reporting - Pyth...   \n",
       "11  Family's Dog is Missing, finds 20-FOOT-LONG PY...   \n",
       "\n",
       "                                                  URL     Views   Likes  \\\n",
       "16  https://i.ytimg.com/vi_webp/JgKN3BuvC3E/maxres...  24316080  104000   \n",
       "1   https://i.ytimg.com/vi_webp/rfscVS0vtbw/maxres...  13930413  329000   \n",
       "0   https://i.ytimg.com/vi_webp/_uQrJ0TkZlc/maxres...   9487486  304000   \n",
       "23  https://i.ytimg.com/vi_webp/iE7BpqtfgYA/maxres...  14711587   39000   \n",
       "19  https://i.ytimg.com/vi_webp/rbasThWVb-c/maxres...   2263897  116000   \n",
       "34  https://i.ytimg.com/vi_webp/4JF6Uh0Xyrs/maxres...   7306599   32000   \n",
       "4   https://i.ytimg.com/vi_webp/kLZuut1fYzQ/maxres...   2131678   61000   \n",
       "5   https://i.ytimg.com/vi_webp/pJ3IPRqiD2M/maxres...   1801860   65000   \n",
       "3   https://i.ytimg.com/vi_webp/4F2m91eKmts/maxres...    972074   63000   \n",
       "15  https://i.ytimg.com/vi_webp/8DvywoWv6fI/maxres...   1094740   36000   \n",
       "25  https://i.ytimg.com/vi_webp/DWgzHbglNIo/maxres...   1232368   29000   \n",
       "2   https://i.ytimg.com/vi_webp/WGJJIrtnfpk/maxres...    887068   20000   \n",
       "9   https://i.ytimg.com/vi_webp/Y8Tko2YC5hA/maxres...    582708   20000   \n",
       "28  https://i.ytimg.com/vi/G_UYXzGuqvM/maxresdefau...    456727   12000   \n",
       "7   https://i1.ytimg.com/vi/ihk_Xglr164/hqdefault.jpg    609779   20000   \n",
       "21  https://i.ytimg.com/vi_webp/XGf2GcyHPhc/maxres...    430346   13000   \n",
       "8   https://i.ytimg.com/vi_webp/OnDr4J2UXSA/maxres...    682391    9300   \n",
       "27  https://i.ytimg.com/vi_webp/C-gEQdGVXbk/maxres...    485004   15000   \n",
       "29  https://i.ytimg.com/vi_webp/d2GBO_QjRlo/maxres...    410355   14000   \n",
       "18  https://i1.ytimg.com/vi/5tcs2qXP3Pg/hqdefault.jpg    283351   12000   \n",
       "10  https://i.ytimg.com/vi_webp/r-uOLxNrNk8/maxres...     93895    3600   \n",
       "13  https://i.ytimg.com/vi_webp/edvg4eHi_Mw/maxres...    233907    8600   \n",
       "38  https://i.ytimg.com/vi_webp/Wkqzl3S2RSk/maxres...    362213    7900   \n",
       "31  https://i.ytimg.com/vi_webp/7UeRnuGo-pg/maxres...    597733   13000   \n",
       "39  https://i1.ytimg.com/vi/SSu00IRRraY/hqdefault.jpg    721931   10000   \n",
       "33  https://i.ytimg.com/vi_webp/g8nQ90Hk328/maxres...    252042    7600   \n",
       "6   https://i.ytimg.com/vi_webp/eTyI-M50Hu4/maxres...    116372    4100   \n",
       "37  https://i1.ytimg.com/vi/mNdbcHECGN4/hqdefault.jpg    250052    4800   \n",
       "32  https://i.ytimg.com/vi_webp/wwbAD1XZ9Sk/maxres...    726921    1700   \n",
       "26  https://i.ytimg.com/vi_webp/RjMbCUpvIgw/maxres...    177935    4500   \n",
       "20  https://i1.ytimg.com/vi/PXz2nFNuNJU/hqdefault.jpg      8750       1   \n",
       "17  https://i1.ytimg.com/vi/52PaXG6NcS8/hqdefault.jpg      9141     168   \n",
       "30  https://i1.ytimg.com/vi/LhIMJniL-no/hqdefault.jpg     16954     383   \n",
       "14  https://i1.ytimg.com/vi/6V8VLmfvTVw/hqdefault.jpg      7411       1   \n",
       "22  https://i.ytimg.com/vi_webp/BHh654_7Cmw/maxres...    135730    3300   \n",
       "35  https://i.ytimg.com/vi_webp/fUXNRIRmo-c/maxres...    122256    4100   \n",
       "12  https://i1.ytimg.com/vi/J0Aq44Pze-w/hqdefault.jpg     57697    1200   \n",
       "24  https://i.ytimg.com/vi/SrSl6T1My00/maxresdefau...     29495    1300   \n",
       "36  https://i.ytimg.com/vi_webp/1Kcco6koC34/maxres...     38807    1300   \n",
       "11  https://i.ytimg.com/vi_webp/Km2UZ5bQTvQ/maxres...    747466    4900   \n",
       "\n",
       "    Dislikes   Subcount         Date  Days      Score  \n",
       "16    6500.0    57300.0   Dec 9 2019   146  99.569129  \n",
       "1     3800.0  1910000.0  Jul 11 2018   662  75.685381  \n",
       "0     2300.0  1020000.0  Feb 18 2019   440  62.853457  \n",
       "23   11000.0        1.0  Jul 18 2019   290  40.618762  \n",
       "19    1800.0   314000.0  Jun 10 2017  1058  19.820407  \n",
       "34    9200.0   452000.0   Jun 1 2019   337  16.379453  \n",
       "4      926.0  1320000.0  Jun 22 2018   681  16.244865  \n",
       "5     1200.0   488000.0  Aug 16 2019   261  16.145195  \n",
       "3     1000.0   570000.0  Dec 21 2019   134  14.762969  \n",
       "15     317.0  1910000.0   May 2 2019   367  11.900110  \n",
       "25     361.0   925000.0   Jul 2 2018   671  11.283151  \n",
       "2      394.0  1660000.0   Dec 1 2019   154  10.091202  \n",
       "9      258.0  1020000.0  Oct 22 2018   559   8.491532  \n",
       "28     219.0  1650000.0  Feb 12 2020    81   8.413753  \n",
       "7      663.0   287000.0  Jul 27 2019   281   8.043351  \n",
       "21     106.0  1910000.0   Nov 6 2019   179   7.999151  \n",
       "8      143.0  1320000.0  Jan 15 2018   839   7.951915  \n",
       "27     164.0   512000.0  Mar 25 2019   405   7.946354  \n",
       "29     296.0   142000.0  Nov 21 2019   164   7.691893  \n",
       "18     224.0   142000.0  Jan 30 2020    94   7.502603  \n",
       "10      35.0  1910000.0  Apr 15 2020    18   7.107087  \n",
       "13     103.0   133000.0  Jan 14 2020   110   6.978749  \n",
       "38     316.0  1850000.0  Jan 16 2020   108   6.905944  \n",
       "31     803.0   499000.0  Dec 13 2018   507   6.706773  \n",
       "39     815.0   703000.0  Oct 28 2016  1283   6.586828  \n",
       "33     107.0   536000.0  Jul 15 2017  1023   6.418906  \n",
       "6       51.0   133000.0  Mar 13 2020    51   6.330901  \n",
       "37     123.0   488000.0   Jul 6 2019   302   6.181868  \n",
       "32     350.0     3990.0  Dec 26 2016  1224   6.039060  \n",
       "26      59.0   536000.0  Apr 10 2017  1119   5.980844  \n",
       "20      15.0   287000.0   May 3 2020     1   5.910220  \n",
       "17       7.0     7930.0   May 1 2020     2   5.805475  \n",
       "30       9.0     7930.0  Apr 27 2020     6   5.680818  \n",
       "14       3.0  1340000.0   May 3 2020     1   5.664196  \n",
       "22     108.0   570000.0   Mar 2 2019   428   5.588569  \n",
       "35     173.0   140000.0  Aug 16 2019   261   5.503456  \n",
       "12      10.0    53600.0  Feb 25 2019   433   5.414521  \n",
       "24      23.0   161000.0  Mar 13 2020    51   5.412015  \n",
       "36      13.0    15000.0  Aug 28 2019   249   5.362177  \n",
       "11    1500.0   452000.0   Sep 8 2018   603   3.946491  "
      ]
     },
     "execution_count": 26,
     "metadata": {},
     "output_type": "execute_result"
    }
   ],
   "source": [
    "df1"
   ]
  },
  {
   "cell_type": "code",
   "execution_count": 41,
   "metadata": {},
   "outputs": [
    {
     "data": {
      "application/vnd.plotly.v1+json": {
       "config": {
        "plotlyServerURL": "https://plot.ly"
       },
       "data": [
        {
         "marker": {
          "color": [
           "lightslategray",
           "crimson",
           "lightslategray",
           "lightslategray",
           "lightslategray"
          ]
         },
         "type": "bar",
         "x": [
          0,
          1,
          2,
          3,
          4,
          5,
          6,
          7,
          8,
          9,
          10,
          11,
          12,
          13,
          14,
          15,
          16,
          17,
          18,
          19,
          20,
          21,
          22,
          23,
          24,
          25,
          26,
          27,
          28,
          29,
          30,
          31,
          32,
          33,
          34,
          35,
          36,
          37,
          38,
          39
         ],
         "y": [
          104000,
          329000,
          304000,
          39000,
          116000,
          32000,
          61000,
          65000,
          63000,
          36000,
          29000,
          20000,
          20000,
          12000,
          20000,
          13000,
          9300,
          15000,
          14000,
          12000,
          3600,
          8600,
          7900,
          13000,
          10000,
          7600,
          4100,
          4800,
          1700,
          4500,
          1,
          168,
          383,
          1,
          3300,
          4100,
          1200,
          1300,
          1300,
          4900
         ]
        }
       ],
       "layout": {
        "template": {
         "data": {
          "bar": [
           {
            "error_x": {
             "color": "#2a3f5f"
            },
            "error_y": {
             "color": "#2a3f5f"
            },
            "marker": {
             "line": {
              "color": "#E5ECF6",
              "width": 0.5
             }
            },
            "type": "bar"
           }
          ],
          "barpolar": [
           {
            "marker": {
             "line": {
              "color": "#E5ECF6",
              "width": 0.5
             }
            },
            "type": "barpolar"
           }
          ],
          "carpet": [
           {
            "aaxis": {
             "endlinecolor": "#2a3f5f",
             "gridcolor": "white",
             "linecolor": "white",
             "minorgridcolor": "white",
             "startlinecolor": "#2a3f5f"
            },
            "baxis": {
             "endlinecolor": "#2a3f5f",
             "gridcolor": "white",
             "linecolor": "white",
             "minorgridcolor": "white",
             "startlinecolor": "#2a3f5f"
            },
            "type": "carpet"
           }
          ],
          "choropleth": [
           {
            "colorbar": {
             "outlinewidth": 0,
             "ticks": ""
            },
            "type": "choropleth"
           }
          ],
          "contour": [
           {
            "colorbar": {
             "outlinewidth": 0,
             "ticks": ""
            },
            "colorscale": [
             [
              0,
              "#0d0887"
             ],
             [
              0.1111111111111111,
              "#46039f"
             ],
             [
              0.2222222222222222,
              "#7201a8"
             ],
             [
              0.3333333333333333,
              "#9c179e"
             ],
             [
              0.4444444444444444,
              "#bd3786"
             ],
             [
              0.5555555555555556,
              "#d8576b"
             ],
             [
              0.6666666666666666,
              "#ed7953"
             ],
             [
              0.7777777777777778,
              "#fb9f3a"
             ],
             [
              0.8888888888888888,
              "#fdca26"
             ],
             [
              1,
              "#f0f921"
             ]
            ],
            "type": "contour"
           }
          ],
          "contourcarpet": [
           {
            "colorbar": {
             "outlinewidth": 0,
             "ticks": ""
            },
            "type": "contourcarpet"
           }
          ],
          "heatmap": [
           {
            "colorbar": {
             "outlinewidth": 0,
             "ticks": ""
            },
            "colorscale": [
             [
              0,
              "#0d0887"
             ],
             [
              0.1111111111111111,
              "#46039f"
             ],
             [
              0.2222222222222222,
              "#7201a8"
             ],
             [
              0.3333333333333333,
              "#9c179e"
             ],
             [
              0.4444444444444444,
              "#bd3786"
             ],
             [
              0.5555555555555556,
              "#d8576b"
             ],
             [
              0.6666666666666666,
              "#ed7953"
             ],
             [
              0.7777777777777778,
              "#fb9f3a"
             ],
             [
              0.8888888888888888,
              "#fdca26"
             ],
             [
              1,
              "#f0f921"
             ]
            ],
            "type": "heatmap"
           }
          ],
          "heatmapgl": [
           {
            "colorbar": {
             "outlinewidth": 0,
             "ticks": ""
            },
            "colorscale": [
             [
              0,
              "#0d0887"
             ],
             [
              0.1111111111111111,
              "#46039f"
             ],
             [
              0.2222222222222222,
              "#7201a8"
             ],
             [
              0.3333333333333333,
              "#9c179e"
             ],
             [
              0.4444444444444444,
              "#bd3786"
             ],
             [
              0.5555555555555556,
              "#d8576b"
             ],
             [
              0.6666666666666666,
              "#ed7953"
             ],
             [
              0.7777777777777778,
              "#fb9f3a"
             ],
             [
              0.8888888888888888,
              "#fdca26"
             ],
             [
              1,
              "#f0f921"
             ]
            ],
            "type": "heatmapgl"
           }
          ],
          "histogram": [
           {
            "marker": {
             "colorbar": {
              "outlinewidth": 0,
              "ticks": ""
             }
            },
            "type": "histogram"
           }
          ],
          "histogram2d": [
           {
            "colorbar": {
             "outlinewidth": 0,
             "ticks": ""
            },
            "colorscale": [
             [
              0,
              "#0d0887"
             ],
             [
              0.1111111111111111,
              "#46039f"
             ],
             [
              0.2222222222222222,
              "#7201a8"
             ],
             [
              0.3333333333333333,
              "#9c179e"
             ],
             [
              0.4444444444444444,
              "#bd3786"
             ],
             [
              0.5555555555555556,
              "#d8576b"
             ],
             [
              0.6666666666666666,
              "#ed7953"
             ],
             [
              0.7777777777777778,
              "#fb9f3a"
             ],
             [
              0.8888888888888888,
              "#fdca26"
             ],
             [
              1,
              "#f0f921"
             ]
            ],
            "type": "histogram2d"
           }
          ],
          "histogram2dcontour": [
           {
            "colorbar": {
             "outlinewidth": 0,
             "ticks": ""
            },
            "colorscale": [
             [
              0,
              "#0d0887"
             ],
             [
              0.1111111111111111,
              "#46039f"
             ],
             [
              0.2222222222222222,
              "#7201a8"
             ],
             [
              0.3333333333333333,
              "#9c179e"
             ],
             [
              0.4444444444444444,
              "#bd3786"
             ],
             [
              0.5555555555555556,
              "#d8576b"
             ],
             [
              0.6666666666666666,
              "#ed7953"
             ],
             [
              0.7777777777777778,
              "#fb9f3a"
             ],
             [
              0.8888888888888888,
              "#fdca26"
             ],
             [
              1,
              "#f0f921"
             ]
            ],
            "type": "histogram2dcontour"
           }
          ],
          "mesh3d": [
           {
            "colorbar": {
             "outlinewidth": 0,
             "ticks": ""
            },
            "type": "mesh3d"
           }
          ],
          "parcoords": [
           {
            "line": {
             "colorbar": {
              "outlinewidth": 0,
              "ticks": ""
             }
            },
            "type": "parcoords"
           }
          ],
          "pie": [
           {
            "automargin": true,
            "type": "pie"
           }
          ],
          "scatter": [
           {
            "marker": {
             "colorbar": {
              "outlinewidth": 0,
              "ticks": ""
             }
            },
            "type": "scatter"
           }
          ],
          "scatter3d": [
           {
            "line": {
             "colorbar": {
              "outlinewidth": 0,
              "ticks": ""
             }
            },
            "marker": {
             "colorbar": {
              "outlinewidth": 0,
              "ticks": ""
             }
            },
            "type": "scatter3d"
           }
          ],
          "scattercarpet": [
           {
            "marker": {
             "colorbar": {
              "outlinewidth": 0,
              "ticks": ""
             }
            },
            "type": "scattercarpet"
           }
          ],
          "scattergeo": [
           {
            "marker": {
             "colorbar": {
              "outlinewidth": 0,
              "ticks": ""
             }
            },
            "type": "scattergeo"
           }
          ],
          "scattergl": [
           {
            "marker": {
             "colorbar": {
              "outlinewidth": 0,
              "ticks": ""
             }
            },
            "type": "scattergl"
           }
          ],
          "scattermapbox": [
           {
            "marker": {
             "colorbar": {
              "outlinewidth": 0,
              "ticks": ""
             }
            },
            "type": "scattermapbox"
           }
          ],
          "scatterpolar": [
           {
            "marker": {
             "colorbar": {
              "outlinewidth": 0,
              "ticks": ""
             }
            },
            "type": "scatterpolar"
           }
          ],
          "scatterpolargl": [
           {
            "marker": {
             "colorbar": {
              "outlinewidth": 0,
              "ticks": ""
             }
            },
            "type": "scatterpolargl"
           }
          ],
          "scatterternary": [
           {
            "marker": {
             "colorbar": {
              "outlinewidth": 0,
              "ticks": ""
             }
            },
            "type": "scatterternary"
           }
          ],
          "surface": [
           {
            "colorbar": {
             "outlinewidth": 0,
             "ticks": ""
            },
            "colorscale": [
             [
              0,
              "#0d0887"
             ],
             [
              0.1111111111111111,
              "#46039f"
             ],
             [
              0.2222222222222222,
              "#7201a8"
             ],
             [
              0.3333333333333333,
              "#9c179e"
             ],
             [
              0.4444444444444444,
              "#bd3786"
             ],
             [
              0.5555555555555556,
              "#d8576b"
             ],
             [
              0.6666666666666666,
              "#ed7953"
             ],
             [
              0.7777777777777778,
              "#fb9f3a"
             ],
             [
              0.8888888888888888,
              "#fdca26"
             ],
             [
              1,
              "#f0f921"
             ]
            ],
            "type": "surface"
           }
          ],
          "table": [
           {
            "cells": {
             "fill": {
              "color": "#EBF0F8"
             },
             "line": {
              "color": "white"
             }
            },
            "header": {
             "fill": {
              "color": "#C8D4E3"
             },
             "line": {
              "color": "white"
             }
            },
            "type": "table"
           }
          ]
         },
         "layout": {
          "annotationdefaults": {
           "arrowcolor": "#2a3f5f",
           "arrowhead": 0,
           "arrowwidth": 1
          },
          "coloraxis": {
           "colorbar": {
            "outlinewidth": 0,
            "ticks": ""
           }
          },
          "colorscale": {
           "diverging": [
            [
             0,
             "#8e0152"
            ],
            [
             0.1,
             "#c51b7d"
            ],
            [
             0.2,
             "#de77ae"
            ],
            [
             0.3,
             "#f1b6da"
            ],
            [
             0.4,
             "#fde0ef"
            ],
            [
             0.5,
             "#f7f7f7"
            ],
            [
             0.6,
             "#e6f5d0"
            ],
            [
             0.7,
             "#b8e186"
            ],
            [
             0.8,
             "#7fbc41"
            ],
            [
             0.9,
             "#4d9221"
            ],
            [
             1,
             "#276419"
            ]
           ],
           "sequential": [
            [
             0,
             "#0d0887"
            ],
            [
             0.1111111111111111,
             "#46039f"
            ],
            [
             0.2222222222222222,
             "#7201a8"
            ],
            [
             0.3333333333333333,
             "#9c179e"
            ],
            [
             0.4444444444444444,
             "#bd3786"
            ],
            [
             0.5555555555555556,
             "#d8576b"
            ],
            [
             0.6666666666666666,
             "#ed7953"
            ],
            [
             0.7777777777777778,
             "#fb9f3a"
            ],
            [
             0.8888888888888888,
             "#fdca26"
            ],
            [
             1,
             "#f0f921"
            ]
           ],
           "sequentialminus": [
            [
             0,
             "#0d0887"
            ],
            [
             0.1111111111111111,
             "#46039f"
            ],
            [
             0.2222222222222222,
             "#7201a8"
            ],
            [
             0.3333333333333333,
             "#9c179e"
            ],
            [
             0.4444444444444444,
             "#bd3786"
            ],
            [
             0.5555555555555556,
             "#d8576b"
            ],
            [
             0.6666666666666666,
             "#ed7953"
            ],
            [
             0.7777777777777778,
             "#fb9f3a"
            ],
            [
             0.8888888888888888,
             "#fdca26"
            ],
            [
             1,
             "#f0f921"
            ]
           ]
          },
          "colorway": [
           "#636efa",
           "#EF553B",
           "#00cc96",
           "#ab63fa",
           "#FFA15A",
           "#19d3f3",
           "#FF6692",
           "#B6E880",
           "#FF97FF",
           "#FECB52"
          ],
          "font": {
           "color": "#2a3f5f"
          },
          "geo": {
           "bgcolor": "white",
           "lakecolor": "white",
           "landcolor": "#E5ECF6",
           "showlakes": true,
           "showland": true,
           "subunitcolor": "white"
          },
          "hoverlabel": {
           "align": "left"
          },
          "hovermode": "closest",
          "mapbox": {
           "style": "light"
          },
          "paper_bgcolor": "white",
          "plot_bgcolor": "#E5ECF6",
          "polar": {
           "angularaxis": {
            "gridcolor": "white",
            "linecolor": "white",
            "ticks": ""
           },
           "bgcolor": "#E5ECF6",
           "radialaxis": {
            "gridcolor": "white",
            "linecolor": "white",
            "ticks": ""
           }
          },
          "scene": {
           "xaxis": {
            "backgroundcolor": "#E5ECF6",
            "gridcolor": "white",
            "gridwidth": 2,
            "linecolor": "white",
            "showbackground": true,
            "ticks": "",
            "zerolinecolor": "white"
           },
           "yaxis": {
            "backgroundcolor": "#E5ECF6",
            "gridcolor": "white",
            "gridwidth": 2,
            "linecolor": "white",
            "showbackground": true,
            "ticks": "",
            "zerolinecolor": "white"
           },
           "zaxis": {
            "backgroundcolor": "#E5ECF6",
            "gridcolor": "white",
            "gridwidth": 2,
            "linecolor": "white",
            "showbackground": true,
            "ticks": "",
            "zerolinecolor": "white"
           }
          },
          "shapedefaults": {
           "line": {
            "color": "#2a3f5f"
           }
          },
          "ternary": {
           "aaxis": {
            "gridcolor": "white",
            "linecolor": "white",
            "ticks": ""
           },
           "baxis": {
            "gridcolor": "white",
            "linecolor": "white",
            "ticks": ""
           },
           "bgcolor": "#E5ECF6",
           "caxis": {
            "gridcolor": "white",
            "linecolor": "white",
            "ticks": ""
           }
          },
          "title": {
           "x": 0.05
          },
          "xaxis": {
           "automargin": true,
           "gridcolor": "white",
           "linecolor": "white",
           "ticks": "",
           "title": {
            "standoff": 15
           },
           "zerolinecolor": "white",
           "zerolinewidth": 2
          },
          "yaxis": {
           "automargin": true,
           "gridcolor": "white",
           "linecolor": "white",
           "ticks": "",
           "title": {
            "standoff": 15
           },
           "zerolinecolor": "white",
           "zerolinewidth": 2
          }
         }
        },
        "title": {
         "text": "Likes per video"
        }
       }
      },
      "text/html": [
       "<div>\n",
       "        \n",
       "        \n",
       "            <div id=\"0bc5ac87-252a-49f0-a772-0cc0ba50b892\" class=\"plotly-graph-div\" style=\"height:525px; width:100%;\"></div>\n",
       "            <script type=\"text/javascript\">\n",
       "                require([\"plotly\"], function(Plotly) {\n",
       "                    window.PLOTLYENV=window.PLOTLYENV || {};\n",
       "                    \n",
       "                if (document.getElementById(\"0bc5ac87-252a-49f0-a772-0cc0ba50b892\")) {\n",
       "                    Plotly.newPlot(\n",
       "                        '0bc5ac87-252a-49f0-a772-0cc0ba50b892',\n",
       "                        [{\"marker\": {\"color\": [\"lightslategray\", \"crimson\", \"lightslategray\", \"lightslategray\", \"lightslategray\"]}, \"type\": \"bar\", \"x\": [0, 1, 2, 3, 4, 5, 6, 7, 8, 9, 10, 11, 12, 13, 14, 15, 16, 17, 18, 19, 20, 21, 22, 23, 24, 25, 26, 27, 28, 29, 30, 31, 32, 33, 34, 35, 36, 37, 38, 39], \"y\": [104000, 329000, 304000, 39000, 116000, 32000, 61000, 65000, 63000, 36000, 29000, 20000, 20000, 12000, 20000, 13000, 9300.0, 15000, 14000, 12000, 3600.0, 8600.0, 7900.0, 13000, 10000, 7600.0, 4100.0, 4800.0, 1700.0, 4500.0, 1, 168, 383, 1, 3300.0, 4100.0, 1200.0, 1300.0, 1300.0, 4900.0]}],\n",
       "                        {\"template\": {\"data\": {\"bar\": [{\"error_x\": {\"color\": \"#2a3f5f\"}, \"error_y\": {\"color\": \"#2a3f5f\"}, \"marker\": {\"line\": {\"color\": \"#E5ECF6\", \"width\": 0.5}}, \"type\": \"bar\"}], \"barpolar\": [{\"marker\": {\"line\": {\"color\": \"#E5ECF6\", \"width\": 0.5}}, \"type\": \"barpolar\"}], \"carpet\": [{\"aaxis\": {\"endlinecolor\": \"#2a3f5f\", \"gridcolor\": \"white\", \"linecolor\": \"white\", \"minorgridcolor\": \"white\", \"startlinecolor\": \"#2a3f5f\"}, \"baxis\": {\"endlinecolor\": \"#2a3f5f\", \"gridcolor\": \"white\", \"linecolor\": \"white\", \"minorgridcolor\": \"white\", \"startlinecolor\": \"#2a3f5f\"}, \"type\": \"carpet\"}], \"choropleth\": [{\"colorbar\": {\"outlinewidth\": 0, \"ticks\": \"\"}, \"type\": \"choropleth\"}], \"contour\": [{\"colorbar\": {\"outlinewidth\": 0, \"ticks\": \"\"}, \"colorscale\": [[0.0, \"#0d0887\"], [0.1111111111111111, \"#46039f\"], [0.2222222222222222, \"#7201a8\"], [0.3333333333333333, \"#9c179e\"], [0.4444444444444444, \"#bd3786\"], [0.5555555555555556, \"#d8576b\"], [0.6666666666666666, \"#ed7953\"], [0.7777777777777778, \"#fb9f3a\"], [0.8888888888888888, \"#fdca26\"], [1.0, \"#f0f921\"]], \"type\": \"contour\"}], \"contourcarpet\": [{\"colorbar\": {\"outlinewidth\": 0, \"ticks\": \"\"}, \"type\": \"contourcarpet\"}], \"heatmap\": [{\"colorbar\": {\"outlinewidth\": 0, \"ticks\": \"\"}, \"colorscale\": [[0.0, \"#0d0887\"], [0.1111111111111111, \"#46039f\"], [0.2222222222222222, \"#7201a8\"], [0.3333333333333333, \"#9c179e\"], [0.4444444444444444, \"#bd3786\"], [0.5555555555555556, \"#d8576b\"], [0.6666666666666666, \"#ed7953\"], [0.7777777777777778, \"#fb9f3a\"], [0.8888888888888888, \"#fdca26\"], [1.0, \"#f0f921\"]], \"type\": \"heatmap\"}], \"heatmapgl\": [{\"colorbar\": {\"outlinewidth\": 0, \"ticks\": \"\"}, \"colorscale\": [[0.0, \"#0d0887\"], [0.1111111111111111, \"#46039f\"], [0.2222222222222222, \"#7201a8\"], [0.3333333333333333, \"#9c179e\"], [0.4444444444444444, \"#bd3786\"], [0.5555555555555556, \"#d8576b\"], [0.6666666666666666, \"#ed7953\"], [0.7777777777777778, \"#fb9f3a\"], [0.8888888888888888, \"#fdca26\"], [1.0, \"#f0f921\"]], \"type\": \"heatmapgl\"}], \"histogram\": [{\"marker\": {\"colorbar\": {\"outlinewidth\": 0, \"ticks\": \"\"}}, \"type\": \"histogram\"}], \"histogram2d\": [{\"colorbar\": {\"outlinewidth\": 0, \"ticks\": \"\"}, \"colorscale\": [[0.0, \"#0d0887\"], [0.1111111111111111, \"#46039f\"], [0.2222222222222222, \"#7201a8\"], [0.3333333333333333, \"#9c179e\"], [0.4444444444444444, \"#bd3786\"], [0.5555555555555556, \"#d8576b\"], [0.6666666666666666, \"#ed7953\"], [0.7777777777777778, \"#fb9f3a\"], [0.8888888888888888, \"#fdca26\"], [1.0, \"#f0f921\"]], \"type\": \"histogram2d\"}], \"histogram2dcontour\": [{\"colorbar\": {\"outlinewidth\": 0, \"ticks\": \"\"}, \"colorscale\": [[0.0, \"#0d0887\"], [0.1111111111111111, \"#46039f\"], [0.2222222222222222, \"#7201a8\"], [0.3333333333333333, \"#9c179e\"], [0.4444444444444444, \"#bd3786\"], [0.5555555555555556, \"#d8576b\"], [0.6666666666666666, \"#ed7953\"], [0.7777777777777778, \"#fb9f3a\"], [0.8888888888888888, \"#fdca26\"], [1.0, \"#f0f921\"]], \"type\": \"histogram2dcontour\"}], \"mesh3d\": [{\"colorbar\": {\"outlinewidth\": 0, \"ticks\": \"\"}, \"type\": \"mesh3d\"}], \"parcoords\": [{\"line\": {\"colorbar\": {\"outlinewidth\": 0, \"ticks\": \"\"}}, \"type\": \"parcoords\"}], \"pie\": [{\"automargin\": true, \"type\": \"pie\"}], \"scatter\": [{\"marker\": {\"colorbar\": {\"outlinewidth\": 0, \"ticks\": \"\"}}, \"type\": \"scatter\"}], \"scatter3d\": [{\"line\": {\"colorbar\": {\"outlinewidth\": 0, \"ticks\": \"\"}}, \"marker\": {\"colorbar\": {\"outlinewidth\": 0, \"ticks\": \"\"}}, \"type\": \"scatter3d\"}], \"scattercarpet\": [{\"marker\": {\"colorbar\": {\"outlinewidth\": 0, \"ticks\": \"\"}}, \"type\": \"scattercarpet\"}], \"scattergeo\": [{\"marker\": {\"colorbar\": {\"outlinewidth\": 0, \"ticks\": \"\"}}, \"type\": \"scattergeo\"}], \"scattergl\": [{\"marker\": {\"colorbar\": {\"outlinewidth\": 0, \"ticks\": \"\"}}, \"type\": \"scattergl\"}], \"scattermapbox\": [{\"marker\": {\"colorbar\": {\"outlinewidth\": 0, \"ticks\": \"\"}}, \"type\": \"scattermapbox\"}], \"scatterpolar\": [{\"marker\": {\"colorbar\": {\"outlinewidth\": 0, \"ticks\": \"\"}}, \"type\": \"scatterpolar\"}], \"scatterpolargl\": [{\"marker\": {\"colorbar\": {\"outlinewidth\": 0, \"ticks\": \"\"}}, \"type\": \"scatterpolargl\"}], \"scatterternary\": [{\"marker\": {\"colorbar\": {\"outlinewidth\": 0, \"ticks\": \"\"}}, \"type\": \"scatterternary\"}], \"surface\": [{\"colorbar\": {\"outlinewidth\": 0, \"ticks\": \"\"}, \"colorscale\": [[0.0, \"#0d0887\"], [0.1111111111111111, \"#46039f\"], [0.2222222222222222, \"#7201a8\"], [0.3333333333333333, \"#9c179e\"], [0.4444444444444444, \"#bd3786\"], [0.5555555555555556, \"#d8576b\"], [0.6666666666666666, \"#ed7953\"], [0.7777777777777778, \"#fb9f3a\"], [0.8888888888888888, \"#fdca26\"], [1.0, \"#f0f921\"]], \"type\": \"surface\"}], \"table\": [{\"cells\": {\"fill\": {\"color\": \"#EBF0F8\"}, \"line\": {\"color\": \"white\"}}, \"header\": {\"fill\": {\"color\": \"#C8D4E3\"}, \"line\": {\"color\": \"white\"}}, \"type\": \"table\"}]}, \"layout\": {\"annotationdefaults\": {\"arrowcolor\": \"#2a3f5f\", \"arrowhead\": 0, \"arrowwidth\": 1}, \"coloraxis\": {\"colorbar\": {\"outlinewidth\": 0, \"ticks\": \"\"}}, \"colorscale\": {\"diverging\": [[0, \"#8e0152\"], [0.1, \"#c51b7d\"], [0.2, \"#de77ae\"], [0.3, \"#f1b6da\"], [0.4, \"#fde0ef\"], [0.5, \"#f7f7f7\"], [0.6, \"#e6f5d0\"], [0.7, \"#b8e186\"], [0.8, \"#7fbc41\"], [0.9, \"#4d9221\"], [1, \"#276419\"]], \"sequential\": [[0.0, \"#0d0887\"], [0.1111111111111111, \"#46039f\"], [0.2222222222222222, \"#7201a8\"], [0.3333333333333333, \"#9c179e\"], [0.4444444444444444, \"#bd3786\"], [0.5555555555555556, \"#d8576b\"], [0.6666666666666666, \"#ed7953\"], [0.7777777777777778, \"#fb9f3a\"], [0.8888888888888888, \"#fdca26\"], [1.0, \"#f0f921\"]], \"sequentialminus\": [[0.0, \"#0d0887\"], [0.1111111111111111, \"#46039f\"], [0.2222222222222222, \"#7201a8\"], [0.3333333333333333, \"#9c179e\"], [0.4444444444444444, \"#bd3786\"], [0.5555555555555556, \"#d8576b\"], [0.6666666666666666, \"#ed7953\"], [0.7777777777777778, \"#fb9f3a\"], [0.8888888888888888, \"#fdca26\"], [1.0, \"#f0f921\"]]}, \"colorway\": [\"#636efa\", \"#EF553B\", \"#00cc96\", \"#ab63fa\", \"#FFA15A\", \"#19d3f3\", \"#FF6692\", \"#B6E880\", \"#FF97FF\", \"#FECB52\"], \"font\": {\"color\": \"#2a3f5f\"}, \"geo\": {\"bgcolor\": \"white\", \"lakecolor\": \"white\", \"landcolor\": \"#E5ECF6\", \"showlakes\": true, \"showland\": true, \"subunitcolor\": \"white\"}, \"hoverlabel\": {\"align\": \"left\"}, \"hovermode\": \"closest\", \"mapbox\": {\"style\": \"light\"}, \"paper_bgcolor\": \"white\", \"plot_bgcolor\": \"#E5ECF6\", \"polar\": {\"angularaxis\": {\"gridcolor\": \"white\", \"linecolor\": \"white\", \"ticks\": \"\"}, \"bgcolor\": \"#E5ECF6\", \"radialaxis\": {\"gridcolor\": \"white\", \"linecolor\": \"white\", \"ticks\": \"\"}}, \"scene\": {\"xaxis\": {\"backgroundcolor\": \"#E5ECF6\", \"gridcolor\": \"white\", \"gridwidth\": 2, \"linecolor\": \"white\", \"showbackground\": true, \"ticks\": \"\", \"zerolinecolor\": \"white\"}, \"yaxis\": {\"backgroundcolor\": \"#E5ECF6\", \"gridcolor\": \"white\", \"gridwidth\": 2, \"linecolor\": \"white\", \"showbackground\": true, \"ticks\": \"\", \"zerolinecolor\": \"white\"}, \"zaxis\": {\"backgroundcolor\": \"#E5ECF6\", \"gridcolor\": \"white\", \"gridwidth\": 2, \"linecolor\": \"white\", \"showbackground\": true, \"ticks\": \"\", \"zerolinecolor\": \"white\"}}, \"shapedefaults\": {\"line\": {\"color\": \"#2a3f5f\"}}, \"ternary\": {\"aaxis\": {\"gridcolor\": \"white\", \"linecolor\": \"white\", \"ticks\": \"\"}, \"baxis\": {\"gridcolor\": \"white\", \"linecolor\": \"white\", \"ticks\": \"\"}, \"bgcolor\": \"#E5ECF6\", \"caxis\": {\"gridcolor\": \"white\", \"linecolor\": \"white\", \"ticks\": \"\"}}, \"title\": {\"x\": 0.05}, \"xaxis\": {\"automargin\": true, \"gridcolor\": \"white\", \"linecolor\": \"white\", \"ticks\": \"\", \"title\": {\"standoff\": 15}, \"zerolinecolor\": \"white\", \"zerolinewidth\": 2}, \"yaxis\": {\"automargin\": true, \"gridcolor\": \"white\", \"linecolor\": \"white\", \"ticks\": \"\", \"title\": {\"standoff\": 15}, \"zerolinecolor\": \"white\", \"zerolinewidth\": 2}}}, \"title\": {\"text\": \"Likes per video\"}},\n",
       "                        {\"responsive\": true}\n",
       "                    ).then(function(){\n",
       "                            \n",
       "var gd = document.getElementById('0bc5ac87-252a-49f0-a772-0cc0ba50b892');\n",
       "var x = new MutationObserver(function (mutations, observer) {{\n",
       "        var display = window.getComputedStyle(gd).display;\n",
       "        if (!display || display === 'none') {{\n",
       "            console.log([gd, 'removed!']);\n",
       "            Plotly.purge(gd);\n",
       "            observer.disconnect();\n",
       "        }}\n",
       "}});\n",
       "\n",
       "// Listen for the removal of the full notebook cells\n",
       "var notebookContainer = gd.closest('#notebook-container');\n",
       "if (notebookContainer) {{\n",
       "    x.observe(notebookContainer, {childList: true});\n",
       "}}\n",
       "\n",
       "// Listen for the clearing of the current output cell\n",
       "var outputEl = gd.closest('.output');\n",
       "if (outputEl) {{\n",
       "    x.observe(outputEl, {childList: true});\n",
       "}}\n",
       "\n",
       "                        })\n",
       "                };\n",
       "                });\n",
       "            </script>\n",
       "        </div>"
      ]
     },
     "metadata": {},
     "output_type": "display_data"
    }
   ],
   "source": [
    "import plotly.graph_objects as go\n",
    "\n",
    "colors = ['lightslategray',] * 5\n",
    "\n",
    "for i in range(len):\n",
    "    colors[i] = 'crimson'\n",
    "\n",
    "fig = go.Figure(data=[go.Bar(\n",
    "    x=[i for i in range(len(df1))],\n",
    "    y=[i for i in df1.Likes],\n",
    "    marker_color=colors # marker color can be a single color value or an iterable\n",
    ")])\n",
    "fig.update_layout(title_text='Likes per video')\n",
    "\n",
    "\n",
    "\n"
   ]
  },
  {
   "cell_type": "code",
   "execution_count": 34,
   "metadata": {},
   "outputs": [
    {
     "data": {
      "text/plain": [
       "[104000,\n",
       " 329000,\n",
       " 304000,\n",
       " 39000,\n",
       " 116000,\n",
       " 32000,\n",
       " 61000,\n",
       " 65000,\n",
       " 63000,\n",
       " 36000,\n",
       " 29000,\n",
       " 20000,\n",
       " 20000,\n",
       " 12000,\n",
       " 20000,\n",
       " 13000,\n",
       " 9300.0,\n",
       " 15000,\n",
       " 14000,\n",
       " 12000,\n",
       " 3600.0,\n",
       " 8600.0,\n",
       " 7900.0,\n",
       " 13000,\n",
       " 10000,\n",
       " 7600.0,\n",
       " 4100.0,\n",
       " 4800.0,\n",
       " 1700.0,\n",
       " 4500.0,\n",
       " 1,\n",
       " 168,\n",
       " 383,\n",
       " 1,\n",
       " 3300.0,\n",
       " 4100.0,\n",
       " 1200.0,\n",
       " 1300.0,\n",
       " 1300.0,\n",
       " 4900.0]"
      ]
     },
     "execution_count": 34,
     "metadata": {},
     "output_type": "execute_result"
    }
   ],
   "source": [
    "a = [x for x in range(len(df1))]\n",
    "\n",
    "b = [x for x in df1.Likes]\n",
    "b"
   ]
  }
 ],
 "metadata": {
  "kernelspec": {
   "display_name": "Python 3",
   "language": "python",
   "name": "python3"
  },
  "language_info": {
   "codemirror_mode": {
    "name": "ipython",
    "version": 3
   },
   "file_extension": ".py",
   "mimetype": "text/x-python",
   "name": "python",
   "nbconvert_exporter": "python",
   "pygments_lexer": "ipython3",
   "version": "3.6.9"
  }
 },
 "nbformat": 4,
 "nbformat_minor": 4
}
